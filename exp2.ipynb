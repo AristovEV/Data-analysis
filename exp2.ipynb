{
 "cells": [
  {
   "cell_type": "markdown",
   "metadata": {},
   "source": [
    "# Исследование надёжности заёмщиков\n",
    "\n",
    "Заказчик — кредитный отдел банка. Нужно разобраться, влияет ли семейное положение и количество детей клиента на факт погашения кредита в срок. Входные данные от банка — статистика о платёжеспособности клиентов.\n",
    "\n",
    "Результаты исследования будут учтены при построении модели **кредитного скоринга** — специальной системы, которая оценивает способность потенциального заёмщика вернуть кредит банку."
   ]
  },
  {
   "cell_type": "markdown",
   "metadata": {},
   "source": [
    "<div class=\"alert alert-success\" style=\"border-radius: 15px; box-shadow: 4px 4px 4px; border: 1px solid \">\n",
    "<b> Комментарий ревьюера</b>\n",
    "    \n",
    "Правильно делаешь, что добавляешь краткое описание задачи. Это поможет быстро вспомнить, о чем проект, если ты к нему вернешься спустя какое-то время.\n",
    "</div>"
   ]
  },
  {
   "cell_type": "markdown",
   "metadata": {},
   "source": [
    "## Шаг 1. Откройте файл с данными и изучите общую информацию"
   ]
  },
  {
   "cell_type": "code",
   "execution_count": 1,
   "metadata": {},
   "outputs": [
    {
     "name": "stdout",
     "output_type": "stream",
     "text": [
      "<class 'pandas.core.frame.DataFrame'>\n",
      "RangeIndex: 21525 entries, 0 to 21524\n",
      "Data columns (total 12 columns):\n",
      "children            21525 non-null int64\n",
      "days_employed       19351 non-null float64\n",
      "dob_years           21525 non-null int64\n",
      "education           21525 non-null object\n",
      "education_id        21525 non-null int64\n",
      "family_status       21525 non-null object\n",
      "family_status_id    21525 non-null int64\n",
      "gender              21525 non-null object\n",
      "income_type         21525 non-null object\n",
      "debt                21525 non-null int64\n",
      "total_income        19351 non-null float64\n",
      "purpose             21525 non-null object\n",
      "dtypes: float64(2), int64(5), object(5)\n",
      "memory usage: 2.0+ MB\n"
     ]
    },
    {
     "data": {
      "text/html": [
       "<style  type=\"text/css\" >\n",
       "    #T_7e6c94ca_d9d5_11eb_a743_02420a391726row0_col0 {\n",
       "            background-color:  #3b4cc0;\n",
       "            color:  #f1f1f1;\n",
       "        }    #T_7e6c94ca_d9d5_11eb_a743_02420a391726row1_col0 {\n",
       "            background-color:  #b40426;\n",
       "            color:  #f1f1f1;\n",
       "        }    #T_7e6c94ca_d9d5_11eb_a743_02420a391726row2_col0 {\n",
       "            background-color:  #3b4cc0;\n",
       "            color:  #f1f1f1;\n",
       "        }    #T_7e6c94ca_d9d5_11eb_a743_02420a391726row3_col0 {\n",
       "            background-color:  #3b4cc0;\n",
       "            color:  #f1f1f1;\n",
       "        }    #T_7e6c94ca_d9d5_11eb_a743_02420a391726row4_col0 {\n",
       "            background-color:  #3b4cc0;\n",
       "            color:  #f1f1f1;\n",
       "        }    #T_7e6c94ca_d9d5_11eb_a743_02420a391726row5_col0 {\n",
       "            background-color:  #3b4cc0;\n",
       "            color:  #f1f1f1;\n",
       "        }    #T_7e6c94ca_d9d5_11eb_a743_02420a391726row6_col0 {\n",
       "            background-color:  #3b4cc0;\n",
       "            color:  #f1f1f1;\n",
       "        }    #T_7e6c94ca_d9d5_11eb_a743_02420a391726row7_col0 {\n",
       "            background-color:  #3b4cc0;\n",
       "            color:  #f1f1f1;\n",
       "        }    #T_7e6c94ca_d9d5_11eb_a743_02420a391726row8_col0 {\n",
       "            background-color:  #3b4cc0;\n",
       "            color:  #f1f1f1;\n",
       "        }    #T_7e6c94ca_d9d5_11eb_a743_02420a391726row9_col0 {\n",
       "            background-color:  #3b4cc0;\n",
       "            color:  #f1f1f1;\n",
       "        }    #T_7e6c94ca_d9d5_11eb_a743_02420a391726row10_col0 {\n",
       "            background-color:  #b40426;\n",
       "            color:  #f1f1f1;\n",
       "        }    #T_7e6c94ca_d9d5_11eb_a743_02420a391726row11_col0 {\n",
       "            background-color:  #3b4cc0;\n",
       "            color:  #f1f1f1;\n",
       "        }</style><table id=\"T_7e6c94ca_d9d5_11eb_a743_02420a391726\" ><thead>    <tr>        <th class=\"blank level0\" ></th>        <th class=\"col_heading level0 col0\" >0</th>    </tr></thead><tbody>\n",
       "                <tr>\n",
       "                        <th id=\"T_7e6c94ca_d9d5_11eb_a743_02420a391726level0_row0\" class=\"row_heading level0 row0\" >children</th>\n",
       "                        <td id=\"T_7e6c94ca_d9d5_11eb_a743_02420a391726row0_col0\" class=\"data row0 col0\" >0</td>\n",
       "            </tr>\n",
       "            <tr>\n",
       "                        <th id=\"T_7e6c94ca_d9d5_11eb_a743_02420a391726level0_row1\" class=\"row_heading level0 row1\" >days_employed</th>\n",
       "                        <td id=\"T_7e6c94ca_d9d5_11eb_a743_02420a391726row1_col0\" class=\"data row1 col0\" >10</td>\n",
       "            </tr>\n",
       "            <tr>\n",
       "                        <th id=\"T_7e6c94ca_d9d5_11eb_a743_02420a391726level0_row2\" class=\"row_heading level0 row2\" >dob_years</th>\n",
       "                        <td id=\"T_7e6c94ca_d9d5_11eb_a743_02420a391726row2_col0\" class=\"data row2 col0\" >0</td>\n",
       "            </tr>\n",
       "            <tr>\n",
       "                        <th id=\"T_7e6c94ca_d9d5_11eb_a743_02420a391726level0_row3\" class=\"row_heading level0 row3\" >education</th>\n",
       "                        <td id=\"T_7e6c94ca_d9d5_11eb_a743_02420a391726row3_col0\" class=\"data row3 col0\" >0</td>\n",
       "            </tr>\n",
       "            <tr>\n",
       "                        <th id=\"T_7e6c94ca_d9d5_11eb_a743_02420a391726level0_row4\" class=\"row_heading level0 row4\" >education_id</th>\n",
       "                        <td id=\"T_7e6c94ca_d9d5_11eb_a743_02420a391726row4_col0\" class=\"data row4 col0\" >0</td>\n",
       "            </tr>\n",
       "            <tr>\n",
       "                        <th id=\"T_7e6c94ca_d9d5_11eb_a743_02420a391726level0_row5\" class=\"row_heading level0 row5\" >family_status</th>\n",
       "                        <td id=\"T_7e6c94ca_d9d5_11eb_a743_02420a391726row5_col0\" class=\"data row5 col0\" >0</td>\n",
       "            </tr>\n",
       "            <tr>\n",
       "                        <th id=\"T_7e6c94ca_d9d5_11eb_a743_02420a391726level0_row6\" class=\"row_heading level0 row6\" >family_status_id</th>\n",
       "                        <td id=\"T_7e6c94ca_d9d5_11eb_a743_02420a391726row6_col0\" class=\"data row6 col0\" >0</td>\n",
       "            </tr>\n",
       "            <tr>\n",
       "                        <th id=\"T_7e6c94ca_d9d5_11eb_a743_02420a391726level0_row7\" class=\"row_heading level0 row7\" >gender</th>\n",
       "                        <td id=\"T_7e6c94ca_d9d5_11eb_a743_02420a391726row7_col0\" class=\"data row7 col0\" >0</td>\n",
       "            </tr>\n",
       "            <tr>\n",
       "                        <th id=\"T_7e6c94ca_d9d5_11eb_a743_02420a391726level0_row8\" class=\"row_heading level0 row8\" >income_type</th>\n",
       "                        <td id=\"T_7e6c94ca_d9d5_11eb_a743_02420a391726row8_col0\" class=\"data row8 col0\" >0</td>\n",
       "            </tr>\n",
       "            <tr>\n",
       "                        <th id=\"T_7e6c94ca_d9d5_11eb_a743_02420a391726level0_row9\" class=\"row_heading level0 row9\" >debt</th>\n",
       "                        <td id=\"T_7e6c94ca_d9d5_11eb_a743_02420a391726row9_col0\" class=\"data row9 col0\" >0</td>\n",
       "            </tr>\n",
       "            <tr>\n",
       "                        <th id=\"T_7e6c94ca_d9d5_11eb_a743_02420a391726level0_row10\" class=\"row_heading level0 row10\" >total_income</th>\n",
       "                        <td id=\"T_7e6c94ca_d9d5_11eb_a743_02420a391726row10_col0\" class=\"data row10 col0\" >10</td>\n",
       "            </tr>\n",
       "            <tr>\n",
       "                        <th id=\"T_7e6c94ca_d9d5_11eb_a743_02420a391726level0_row11\" class=\"row_heading level0 row11\" >purpose</th>\n",
       "                        <td id=\"T_7e6c94ca_d9d5_11eb_a743_02420a391726row11_col0\" class=\"data row11 col0\" >0</td>\n",
       "            </tr>\n",
       "    </tbody></table>"
      ],
      "text/plain": [
       "<pandas.io.formats.style.Styler at 0x7f72d03ef910>"
      ]
     },
     "execution_count": 1,
     "metadata": {},
     "output_type": "execute_result"
    }
   ],
   "source": [
    "import pandas as pd\n",
    "try:\n",
    "    data=pd.read_csv('/datasets/data.csv')\n",
    "except:\n",
    "    data=pd.read_csv('data.csv')\n",
    "data.info()\n",
    "pd.DataFrame(round(data.isna().mean()*100)).style.background_gradient('coolwarm')"
   ]
  },
  {
   "cell_type": "markdown",
   "metadata": {},
   "source": [
    "**Вывод**\n"
   ]
  },
  {
   "cell_type": "markdown",
   "metadata": {},
   "source": [
    "Выгрузили данные, и прочитали их, для наглядности определили процент пропусков.\n",
    "\n",
    "Имеются пропущенные значения в столбцах days_employed и total_income, отрицательные значения, а также запись разного регистра в столбце education и family_status\n",
    "\n",
    "<div class=\"alert alert-info\"><font color='red'>\n",
    "    <h2> Комментарий </h2>\n",
    "\n",
    "    Огромные значения стажа мошгли появиться при ошибочном выборе формата даты(год,месяц,день вместо день,месяц,год) , опечатка, перевод знчений в unixtime.\n",
    "    \n",
    "    \n",
    "    \n",
    "         \n",
    "\n",
    "\n"
   ]
  },
  {
   "cell_type": "markdown",
   "metadata": {},
   "source": [
    "## Шаг 2. Предобработка данных"
   ]
  },
  {
   "cell_type": "markdown",
   "metadata": {},
   "source": [
    "### Обработка пропусков"
   ]
  },
  {
   "cell_type": "code",
   "execution_count": 2,
   "metadata": {},
   "outputs": [],
   "source": [
    "data['education']=data['education'].str.lower()\n",
    "data['family_status']=data['family_status'].str.lower()\n",
    "\n",
    "\n",
    "\n",
    "def non_nan(df, value, category):\n",
    "    \n",
    "    for row in data[category].unique():\n",
    "        df.loc[(data[value].isna())&(df[category]==row),value]= \\\n",
    "        df.loc[data[category]==row, value].median()\n",
    "    return df\n"
   ]
  },
  {
   "cell_type": "code",
   "execution_count": null,
   "metadata": {},
   "outputs": [],
   "source": []
  },
  {
   "cell_type": "code",
   "execution_count": 3,
   "metadata": {},
   "outputs": [],
   "source": [
    "total_non = non_nan(data,'total_income','income_type')\n",
    "\n",
    "emploe_non = non_nan(data,'days_employed','dob_years')\n"
   ]
  },
  {
   "cell_type": "code",
   "execution_count": 4,
   "metadata": {},
   "outputs": [
    {
     "data": {
      "text/html": [
       "<div>\n",
       "<style scoped>\n",
       "    .dataframe tbody tr th:only-of-type {\n",
       "        vertical-align: middle;\n",
       "    }\n",
       "\n",
       "    .dataframe tbody tr th {\n",
       "        vertical-align: top;\n",
       "    }\n",
       "\n",
       "    .dataframe thead th {\n",
       "        text-align: right;\n",
       "    }\n",
       "</style>\n",
       "<table border=\"1\" class=\"dataframe\">\n",
       "  <thead>\n",
       "    <tr style=\"text-align: right;\">\n",
       "      <th>education</th>\n",
       "      <th>высшее</th>\n",
       "      <th>начальное</th>\n",
       "      <th>неоконченное высшее</th>\n",
       "      <th>среднее</th>\n",
       "      <th>ученая степень</th>\n",
       "    </tr>\n",
       "    <tr>\n",
       "      <th>income_type</th>\n",
       "      <th></th>\n",
       "      <th></th>\n",
       "      <th></th>\n",
       "      <th></th>\n",
       "      <th></th>\n",
       "    </tr>\n",
       "  </thead>\n",
       "  <tbody>\n",
       "    <tr>\n",
       "      <td>безработный</td>\n",
       "      <td>202722.511368</td>\n",
       "      <td>NaN</td>\n",
       "      <td>NaN</td>\n",
       "      <td>59956.991984</td>\n",
       "      <td>NaN</td>\n",
       "    </tr>\n",
       "    <tr>\n",
       "      <td>в декрете</td>\n",
       "      <td>NaN</td>\n",
       "      <td>NaN</td>\n",
       "      <td>NaN</td>\n",
       "      <td>53829.130729</td>\n",
       "      <td>NaN</td>\n",
       "    </tr>\n",
       "    <tr>\n",
       "      <td>госслужащий</td>\n",
       "      <td>157982.545567</td>\n",
       "      <td>150447.935283</td>\n",
       "      <td>156266.846399</td>\n",
       "      <td>144351.310834</td>\n",
       "      <td>111392.231107</td>\n",
       "    </tr>\n",
       "    <tr>\n",
       "      <td>компаньон</td>\n",
       "      <td>190976.633414</td>\n",
       "      <td>150100.960964</td>\n",
       "      <td>172357.950966</td>\n",
       "      <td>167766.595389</td>\n",
       "      <td>NaN</td>\n",
       "    </tr>\n",
       "    <tr>\n",
       "      <td>пенсионер</td>\n",
       "      <td>135866.925526</td>\n",
       "      <td>107398.699119</td>\n",
       "      <td>118514.486412</td>\n",
       "      <td>118514.486412</td>\n",
       "      <td>177088.845999</td>\n",
       "    </tr>\n",
       "    <tr>\n",
       "      <td>предприниматель</td>\n",
       "      <td>499163.144947</td>\n",
       "      <td>NaN</td>\n",
       "      <td>NaN</td>\n",
       "      <td>NaN</td>\n",
       "      <td>NaN</td>\n",
       "    </tr>\n",
       "    <tr>\n",
       "      <td>сотрудник</td>\n",
       "      <td>155103.948747</td>\n",
       "      <td>131629.331952</td>\n",
       "      <td>144499.678153</td>\n",
       "      <td>142594.396847</td>\n",
       "      <td>198570.757322</td>\n",
       "    </tr>\n",
       "    <tr>\n",
       "      <td>студент</td>\n",
       "      <td>98201.625314</td>\n",
       "      <td>NaN</td>\n",
       "      <td>NaN</td>\n",
       "      <td>NaN</td>\n",
       "      <td>NaN</td>\n",
       "    </tr>\n",
       "  </tbody>\n",
       "</table>\n",
       "</div>"
      ],
      "text/plain": [
       "education               высшее      начальное  неоконченное высшее  \\\n",
       "income_type                                                          \n",
       "безработный      202722.511368            NaN                  NaN   \n",
       "в декрете                  NaN            NaN                  NaN   \n",
       "госслужащий      157982.545567  150447.935283        156266.846399   \n",
       "компаньон        190976.633414  150100.960964        172357.950966   \n",
       "пенсионер        135866.925526  107398.699119        118514.486412   \n",
       "предприниматель  499163.144947            NaN                  NaN   \n",
       "сотрудник        155103.948747  131629.331952        144499.678153   \n",
       "студент           98201.625314            NaN                  NaN   \n",
       "\n",
       "education              среднее  ученая степень  \n",
       "income_type                                     \n",
       "безработный       59956.991984             NaN  \n",
       "в декрете         53829.130729             NaN  \n",
       "госслужащий      144351.310834   111392.231107  \n",
       "компаньон        167766.595389             NaN  \n",
       "пенсионер        118514.486412   177088.845999  \n",
       "предприниматель            NaN             NaN  \n",
       "сотрудник        142594.396847   198570.757322  \n",
       "студент                    NaN             NaN  "
      ]
     },
     "execution_count": 4,
     "metadata": {},
     "output_type": "execute_result"
    }
   ],
   "source": [
    "\n",
    "data.pivot_table(index='income_type', columns='education', values='total_income', aggfunc='median')"
   ]
  },
  {
   "cell_type": "code",
   "execution_count": 6,
   "metadata": {},
   "outputs": [
    {
     "data": {
      "text/html": [
       "<div>\n",
       "<style scoped>\n",
       "    .dataframe tbody tr th:only-of-type {\n",
       "        vertical-align: middle;\n",
       "    }\n",
       "\n",
       "    .dataframe tbody tr th {\n",
       "        vertical-align: top;\n",
       "    }\n",
       "\n",
       "    .dataframe thead th {\n",
       "        text-align: right;\n",
       "    }\n",
       "</style>\n",
       "<table border=\"1\" class=\"dataframe\">\n",
       "  <thead>\n",
       "    <tr style=\"text-align: right;\">\n",
       "      <th></th>\n",
       "      <th></th>\n",
       "      <th>total_income</th>\n",
       "    </tr>\n",
       "    <tr>\n",
       "      <th>income_type</th>\n",
       "      <th>education</th>\n",
       "      <th></th>\n",
       "    </tr>\n",
       "  </thead>\n",
       "  <tbody>\n",
       "    <tr>\n",
       "      <td rowspan=\"2\" valign=\"top\">безработный</td>\n",
       "      <td>высшее</td>\n",
       "      <td>202722.511368</td>\n",
       "    </tr>\n",
       "    <tr>\n",
       "      <td>среднее</td>\n",
       "      <td>59956.991984</td>\n",
       "    </tr>\n",
       "    <tr>\n",
       "      <td>в декрете</td>\n",
       "      <td>среднее</td>\n",
       "      <td>53829.130729</td>\n",
       "    </tr>\n",
       "    <tr>\n",
       "      <td rowspan=\"5\" valign=\"top\">госслужащий</td>\n",
       "      <td>высшее</td>\n",
       "      <td>157982.545567</td>\n",
       "    </tr>\n",
       "    <tr>\n",
       "      <td>начальное</td>\n",
       "      <td>150447.935283</td>\n",
       "    </tr>\n",
       "    <tr>\n",
       "      <td>неоконченное высшее</td>\n",
       "      <td>156266.846399</td>\n",
       "    </tr>\n",
       "    <tr>\n",
       "      <td>среднее</td>\n",
       "      <td>144351.310834</td>\n",
       "    </tr>\n",
       "    <tr>\n",
       "      <td>ученая степень</td>\n",
       "      <td>111392.231107</td>\n",
       "    </tr>\n",
       "    <tr>\n",
       "      <td rowspan=\"4\" valign=\"top\">компаньон</td>\n",
       "      <td>высшее</td>\n",
       "      <td>190976.633414</td>\n",
       "    </tr>\n",
       "    <tr>\n",
       "      <td>начальное</td>\n",
       "      <td>150100.960964</td>\n",
       "    </tr>\n",
       "    <tr>\n",
       "      <td>неоконченное высшее</td>\n",
       "      <td>172357.950966</td>\n",
       "    </tr>\n",
       "    <tr>\n",
       "      <td>среднее</td>\n",
       "      <td>167766.595389</td>\n",
       "    </tr>\n",
       "    <tr>\n",
       "      <td rowspan=\"5\" valign=\"top\">пенсионер</td>\n",
       "      <td>высшее</td>\n",
       "      <td>135866.925526</td>\n",
       "    </tr>\n",
       "    <tr>\n",
       "      <td>начальное</td>\n",
       "      <td>107398.699119</td>\n",
       "    </tr>\n",
       "    <tr>\n",
       "      <td>неоконченное высшее</td>\n",
       "      <td>118514.486412</td>\n",
       "    </tr>\n",
       "    <tr>\n",
       "      <td>среднее</td>\n",
       "      <td>118514.486412</td>\n",
       "    </tr>\n",
       "    <tr>\n",
       "      <td>ученая степень</td>\n",
       "      <td>177088.845999</td>\n",
       "    </tr>\n",
       "    <tr>\n",
       "      <td>предприниматель</td>\n",
       "      <td>высшее</td>\n",
       "      <td>499163.144947</td>\n",
       "    </tr>\n",
       "    <tr>\n",
       "      <td rowspan=\"5\" valign=\"top\">сотрудник</td>\n",
       "      <td>высшее</td>\n",
       "      <td>155103.948747</td>\n",
       "    </tr>\n",
       "    <tr>\n",
       "      <td>начальное</td>\n",
       "      <td>131629.331952</td>\n",
       "    </tr>\n",
       "    <tr>\n",
       "      <td>неоконченное высшее</td>\n",
       "      <td>144499.678153</td>\n",
       "    </tr>\n",
       "    <tr>\n",
       "      <td>среднее</td>\n",
       "      <td>142594.396847</td>\n",
       "    </tr>\n",
       "    <tr>\n",
       "      <td>ученая степень</td>\n",
       "      <td>198570.757322</td>\n",
       "    </tr>\n",
       "    <tr>\n",
       "      <td>студент</td>\n",
       "      <td>высшее</td>\n",
       "      <td>98201.625314</td>\n",
       "    </tr>\n",
       "  </tbody>\n",
       "</table>\n",
       "</div>"
      ],
      "text/plain": [
       "                                      total_income\n",
       "income_type     education                         \n",
       "безработный     высшее               202722.511368\n",
       "                среднее               59956.991984\n",
       "в декрете       среднее               53829.130729\n",
       "госслужащий     высшее               157982.545567\n",
       "                начальное            150447.935283\n",
       "                неоконченное высшее  156266.846399\n",
       "                среднее              144351.310834\n",
       "                ученая степень       111392.231107\n",
       "компаньон       высшее               190976.633414\n",
       "                начальное            150100.960964\n",
       "                неоконченное высшее  172357.950966\n",
       "                среднее              167766.595389\n",
       "пенсионер       высшее               135866.925526\n",
       "                начальное            107398.699119\n",
       "                неоконченное высшее  118514.486412\n",
       "                среднее              118514.486412\n",
       "                ученая степень       177088.845999\n",
       "предприниматель высшее               499163.144947\n",
       "сотрудник       высшее               155103.948747\n",
       "                начальное            131629.331952\n",
       "                неоконченное высшее  144499.678153\n",
       "                среднее              142594.396847\n",
       "                ученая степень       198570.757322\n",
       "студент         высшее                98201.625314"
      ]
     },
     "execution_count": 6,
     "metadata": {},
     "output_type": "execute_result"
    }
   ],
   "source": [
    "\n",
    "\n",
    "# То же самое.\n",
    "data.groupby(['income_type', 'education']).agg({'total_income':'median'})"
   ]
  },
  {
   "cell_type": "code",
   "execution_count": 7,
   "metadata": {},
   "outputs": [
    {
     "data": {
      "text/html": [
       "<div>\n",
       "<style scoped>\n",
       "    .dataframe tbody tr th:only-of-type {\n",
       "        vertical-align: middle;\n",
       "    }\n",
       "\n",
       "    .dataframe tbody tr th {\n",
       "        vertical-align: top;\n",
       "    }\n",
       "\n",
       "    .dataframe thead th {\n",
       "        text-align: right;\n",
       "    }\n",
       "</style>\n",
       "<table border=\"1\" class=\"dataframe\">\n",
       "  <thead>\n",
       "    <tr style=\"text-align: right;\">\n",
       "      <th></th>\n",
       "      <th>education</th>\n",
       "      <th>высшее</th>\n",
       "      <th>начальное</th>\n",
       "      <th>неоконченное высшее</th>\n",
       "      <th>среднее</th>\n",
       "      <th>ученая степень</th>\n",
       "    </tr>\n",
       "    <tr>\n",
       "      <th>income_type</th>\n",
       "      <th>gender</th>\n",
       "      <th></th>\n",
       "      <th></th>\n",
       "      <th></th>\n",
       "      <th></th>\n",
       "      <th></th>\n",
       "    </tr>\n",
       "  </thead>\n",
       "  <tbody>\n",
       "    <tr>\n",
       "      <td rowspan=\"2\" valign=\"top\">безработный</td>\n",
       "      <td>F</td>\n",
       "      <td>202722.511368</td>\n",
       "      <td>NaN</td>\n",
       "      <td>NaN</td>\n",
       "      <td>NaN</td>\n",
       "      <td>NaN</td>\n",
       "    </tr>\n",
       "    <tr>\n",
       "      <td>M</td>\n",
       "      <td>NaN</td>\n",
       "      <td>NaN</td>\n",
       "      <td>NaN</td>\n",
       "      <td>59956.991984</td>\n",
       "      <td>NaN</td>\n",
       "    </tr>\n",
       "    <tr>\n",
       "      <td>в декрете</td>\n",
       "      <td>F</td>\n",
       "      <td>NaN</td>\n",
       "      <td>NaN</td>\n",
       "      <td>NaN</td>\n",
       "      <td>53829.130729</td>\n",
       "      <td>NaN</td>\n",
       "    </tr>\n",
       "    <tr>\n",
       "      <td rowspan=\"2\" valign=\"top\">госслужащий</td>\n",
       "      <td>F</td>\n",
       "      <td>150447.935283</td>\n",
       "      <td>128107.169292</td>\n",
       "      <td>150447.935283</td>\n",
       "      <td>135073.137857</td>\n",
       "      <td>111392.231107</td>\n",
       "    </tr>\n",
       "    <tr>\n",
       "      <td>M</td>\n",
       "      <td>204717.884325</td>\n",
       "      <td>190966.659534</td>\n",
       "      <td>166424.838494</td>\n",
       "      <td>160213.467715</td>\n",
       "      <td>NaN</td>\n",
       "    </tr>\n",
       "    <tr>\n",
       "      <td rowspan=\"3\" valign=\"top\">компаньон</td>\n",
       "      <td>F</td>\n",
       "      <td>174369.537430</td>\n",
       "      <td>152336.943284</td>\n",
       "      <td>172357.950966</td>\n",
       "      <td>155725.928731</td>\n",
       "      <td>NaN</td>\n",
       "    </tr>\n",
       "    <tr>\n",
       "      <td>M</td>\n",
       "      <td>217768.009290</td>\n",
       "      <td>150100.960964</td>\n",
       "      <td>179370.487646</td>\n",
       "      <td>172357.950966</td>\n",
       "      <td>NaN</td>\n",
       "    </tr>\n",
       "    <tr>\n",
       "      <td>XNA</td>\n",
       "      <td>NaN</td>\n",
       "      <td>NaN</td>\n",
       "      <td>203905.157261</td>\n",
       "      <td>NaN</td>\n",
       "      <td>NaN</td>\n",
       "    </tr>\n",
       "    <tr>\n",
       "      <td rowspan=\"2\" valign=\"top\">пенсионер</td>\n",
       "      <td>F</td>\n",
       "      <td>132086.122711</td>\n",
       "      <td>102598.653164</td>\n",
       "      <td>118514.486412</td>\n",
       "      <td>118514.486412</td>\n",
       "      <td>255425.196556</td>\n",
       "    </tr>\n",
       "    <tr>\n",
       "      <td>M</td>\n",
       "      <td>150246.754511</td>\n",
       "      <td>114068.787524</td>\n",
       "      <td>124667.471301</td>\n",
       "      <td>118514.486412</td>\n",
       "      <td>98752.495442</td>\n",
       "    </tr>\n",
       "    <tr>\n",
       "      <td rowspan=\"2\" valign=\"top\">предприниматель</td>\n",
       "      <td>F</td>\n",
       "      <td>499163.144947</td>\n",
       "      <td>NaN</td>\n",
       "      <td>NaN</td>\n",
       "      <td>NaN</td>\n",
       "      <td>NaN</td>\n",
       "    </tr>\n",
       "    <tr>\n",
       "      <td>M</td>\n",
       "      <td>499163.144947</td>\n",
       "      <td>NaN</td>\n",
       "      <td>NaN</td>\n",
       "      <td>NaN</td>\n",
       "      <td>NaN</td>\n",
       "    </tr>\n",
       "    <tr>\n",
       "      <td rowspan=\"2\" valign=\"top\">сотрудник</td>\n",
       "      <td>F</td>\n",
       "      <td>144146.551473</td>\n",
       "      <td>124397.467932</td>\n",
       "      <td>142594.396847</td>\n",
       "      <td>132635.207938</td>\n",
       "      <td>NaN</td>\n",
       "    </tr>\n",
       "    <tr>\n",
       "      <td>M</td>\n",
       "      <td>179564.658485</td>\n",
       "      <td>142594.396847</td>\n",
       "      <td>175068.921286</td>\n",
       "      <td>147530.985003</td>\n",
       "      <td>198570.757322</td>\n",
       "    </tr>\n",
       "    <tr>\n",
       "      <td>студент</td>\n",
       "      <td>M</td>\n",
       "      <td>98201.625314</td>\n",
       "      <td>NaN</td>\n",
       "      <td>NaN</td>\n",
       "      <td>NaN</td>\n",
       "      <td>NaN</td>\n",
       "    </tr>\n",
       "  </tbody>\n",
       "</table>\n",
       "</div>"
      ],
      "text/plain": [
       "education                      высшее      начальное  неоконченное высшее  \\\n",
       "income_type     gender                                                      \n",
       "безработный     F       202722.511368            NaN                  NaN   \n",
       "                M                 NaN            NaN                  NaN   \n",
       "в декрете       F                 NaN            NaN                  NaN   \n",
       "госслужащий     F       150447.935283  128107.169292        150447.935283   \n",
       "                M       204717.884325  190966.659534        166424.838494   \n",
       "компаньон       F       174369.537430  152336.943284        172357.950966   \n",
       "                M       217768.009290  150100.960964        179370.487646   \n",
       "                XNA               NaN            NaN        203905.157261   \n",
       "пенсионер       F       132086.122711  102598.653164        118514.486412   \n",
       "                M       150246.754511  114068.787524        124667.471301   \n",
       "предприниматель F       499163.144947            NaN                  NaN   \n",
       "                M       499163.144947            NaN                  NaN   \n",
       "сотрудник       F       144146.551473  124397.467932        142594.396847   \n",
       "                M       179564.658485  142594.396847        175068.921286   \n",
       "студент         M        98201.625314            NaN                  NaN   \n",
       "\n",
       "education                     среднее  ученая степень  \n",
       "income_type     gender                                 \n",
       "безработный     F                 NaN             NaN  \n",
       "                M        59956.991984             NaN  \n",
       "в декрете       F        53829.130729             NaN  \n",
       "госслужащий     F       135073.137857   111392.231107  \n",
       "                M       160213.467715             NaN  \n",
       "компаньон       F       155725.928731             NaN  \n",
       "                M       172357.950966             NaN  \n",
       "                XNA               NaN             NaN  \n",
       "пенсионер       F       118514.486412   255425.196556  \n",
       "                M       118514.486412    98752.495442  \n",
       "предприниматель F                 NaN             NaN  \n",
       "                M                 NaN             NaN  \n",
       "сотрудник       F       132635.207938             NaN  \n",
       "                M       147530.985003   198570.757322  \n",
       "студент         M                 NaN             NaN  "
      ]
     },
     "execution_count": 7,
     "metadata": {},
     "output_type": "execute_result"
    }
   ],
   "source": [
    "\n",
    "data.pivot_table(index=['income_type', 'gender'], columns='education', values='total_income', aggfunc='median')"
   ]
  },
  {
   "cell_type": "code",
   "execution_count": 8,
   "metadata": {},
   "outputs": [
    {
     "data": {
      "text/plain": [
       "98201.62531401133"
      ]
     },
     "execution_count": 8,
     "metadata": {},
     "output_type": "execute_result"
    }
   ],
   "source": [
    "\n",
    "\n",
    "qq = data.pivot_table(index=['income_type', 'gender'], columns='education', values='total_income', aggfunc='median')\n",
    "\n",
    "# Доступ к полям.\n",
    "qq.loc[('студент', 'M')]['высшее']"
   ]
  },
  {
   "cell_type": "code",
   "execution_count": 9,
   "metadata": {},
   "outputs": [
    {
     "name": "stdout",
     "output_type": "stream",
     "text": [
      "98201.62531401133\n"
     ]
    }
   ],
   "source": [
    "\n",
    "def super_fillna_func(income_type, gender, education):\n",
    "    '''\n",
    "    Находит в таблице qq нужную медиану.\n",
    "    '''\n",
    "    try:\n",
    "        return qq.loc[(income_type, gender)][education]\n",
    "    except:\n",
    "        return 'Не найдено'\n",
    "    \n",
    "print(super_fillna_func('студент', 'M','высшее') ) "
   ]
  },
  {
   "cell_type": "code",
   "execution_count": 10,
   "metadata": {},
   "outputs": [
    {
     "name": "stdout",
     "output_type": "stream",
     "text": [
      "Не найдено\n"
     ]
    }
   ],
   "source": [
    "\n",
    "\n",
    "print(super_fillna_func('ревьюер', 'F','высшее') )"
   ]
  },
  {
   "cell_type": "code",
   "execution_count": 12,
   "metadata": {},
   "outputs": [
    {
     "data": {
      "text/plain": [
       "0        144146.551473\n",
       "1        132635.207938\n",
       "2        147530.985003\n",
       "3        147530.985003\n",
       "4        118514.486412\n",
       "             ...      \n",
       "21520    155725.928731\n",
       "21521    118514.486412\n",
       "21522    147530.985003\n",
       "21523    147530.985003\n",
       "21524    132635.207938\n",
       "Length: 21525, dtype: float64"
      ]
     },
     "execution_count": 12,
     "metadata": {},
     "output_type": "execute_result"
    }
   ],
   "source": [
    "\n",
    "# Так сработает apply.\n",
    "data.apply(lambda row: super_fillna_func(row['income_type'], row['gender'], row['education']), axis=1)"
   ]
  },
  {
   "cell_type": "code",
   "execution_count": null,
   "metadata": {},
   "outputs": [],
   "source": [
    "\n",
    "# Вот так применяем к таблице.\n",
    "\n",
    "# Запишем в новый столбец.\n",
    "data['new_income'] = data.apply(lambda row: super_fillna_func(row['income_type'], row['gender'], row['education']), axis=1)\n",
    "\n",
    "# Пандас сам заменит пропуски значениями из нового столбца в той же строке.\n",
    "data['total_income'] = data['total_income'].fillna(data['new_income'])"
   ]
  },
  {
   "cell_type": "code",
   "execution_count": null,
   "metadata": {},
   "outputs": [],
   "source": [
    "\n",
    "\n",
    "# А вот так мы столбец создадим, но сохранять не будем. Замену произведем в воздухе:\n",
    "data['total_income'] = data['total_income'].fillna(data.apply(lambda row: super_fillna_func(row['income_type'], row['gender'], row['education']), axis=1))"
   ]
  },
  {
   "cell_type": "code",
   "execution_count": null,
   "metadata": {},
   "outputs": [],
   "source": [
    "\n",
    "\n",
    "data['total_income'] = data.groupby(['income_type','gender', 'education'])['total_income'].apply(lambda x: x.fillna(x.median()))\n",
    "   \n",
    "# Оно же, но без лямбды:\n",
    "data['total_income'] = data['total_income'].fillna(data.groupby(['income_type','gender', 'education'])['total_income'].transform('median'))"
   ]
  },
  {
   "cell_type": "code",
   "execution_count": 4,
   "metadata": {},
   "outputs": [
    {
     "data": {
      "text/html": [
       "<style  type=\"text/css\" >\n",
       "    #T_f35b6926_d982_11eb_b315_02420a39112brow0_col0 {\n",
       "            background-color:  #3b4cc0;\n",
       "            color:  #f1f1f1;\n",
       "        }    #T_f35b6926_d982_11eb_b315_02420a39112brow1_col0 {\n",
       "            background-color:  #3b4cc0;\n",
       "            color:  #f1f1f1;\n",
       "        }    #T_f35b6926_d982_11eb_b315_02420a39112brow2_col0 {\n",
       "            background-color:  #3b4cc0;\n",
       "            color:  #f1f1f1;\n",
       "        }    #T_f35b6926_d982_11eb_b315_02420a39112brow3_col0 {\n",
       "            background-color:  #3b4cc0;\n",
       "            color:  #f1f1f1;\n",
       "        }    #T_f35b6926_d982_11eb_b315_02420a39112brow4_col0 {\n",
       "            background-color:  #3b4cc0;\n",
       "            color:  #f1f1f1;\n",
       "        }    #T_f35b6926_d982_11eb_b315_02420a39112brow5_col0 {\n",
       "            background-color:  #3b4cc0;\n",
       "            color:  #f1f1f1;\n",
       "        }    #T_f35b6926_d982_11eb_b315_02420a39112brow6_col0 {\n",
       "            background-color:  #3b4cc0;\n",
       "            color:  #f1f1f1;\n",
       "        }    #T_f35b6926_d982_11eb_b315_02420a39112brow7_col0 {\n",
       "            background-color:  #3b4cc0;\n",
       "            color:  #f1f1f1;\n",
       "        }    #T_f35b6926_d982_11eb_b315_02420a39112brow8_col0 {\n",
       "            background-color:  #3b4cc0;\n",
       "            color:  #f1f1f1;\n",
       "        }    #T_f35b6926_d982_11eb_b315_02420a39112brow9_col0 {\n",
       "            background-color:  #3b4cc0;\n",
       "            color:  #f1f1f1;\n",
       "        }    #T_f35b6926_d982_11eb_b315_02420a39112brow10_col0 {\n",
       "            background-color:  #3b4cc0;\n",
       "            color:  #f1f1f1;\n",
       "        }    #T_f35b6926_d982_11eb_b315_02420a39112brow11_col0 {\n",
       "            background-color:  #3b4cc0;\n",
       "            color:  #f1f1f1;\n",
       "        }</style><table id=\"T_f35b6926_d982_11eb_b315_02420a39112b\" ><thead>    <tr>        <th class=\"blank level0\" ></th>        <th class=\"col_heading level0 col0\" >0</th>    </tr></thead><tbody>\n",
       "                <tr>\n",
       "                        <th id=\"T_f35b6926_d982_11eb_b315_02420a39112blevel0_row0\" class=\"row_heading level0 row0\" >children</th>\n",
       "                        <td id=\"T_f35b6926_d982_11eb_b315_02420a39112brow0_col0\" class=\"data row0 col0\" >0</td>\n",
       "            </tr>\n",
       "            <tr>\n",
       "                        <th id=\"T_f35b6926_d982_11eb_b315_02420a39112blevel0_row1\" class=\"row_heading level0 row1\" >days_employed</th>\n",
       "                        <td id=\"T_f35b6926_d982_11eb_b315_02420a39112brow1_col0\" class=\"data row1 col0\" >0</td>\n",
       "            </tr>\n",
       "            <tr>\n",
       "                        <th id=\"T_f35b6926_d982_11eb_b315_02420a39112blevel0_row2\" class=\"row_heading level0 row2\" >dob_years</th>\n",
       "                        <td id=\"T_f35b6926_d982_11eb_b315_02420a39112brow2_col0\" class=\"data row2 col0\" >0</td>\n",
       "            </tr>\n",
       "            <tr>\n",
       "                        <th id=\"T_f35b6926_d982_11eb_b315_02420a39112blevel0_row3\" class=\"row_heading level0 row3\" >education</th>\n",
       "                        <td id=\"T_f35b6926_d982_11eb_b315_02420a39112brow3_col0\" class=\"data row3 col0\" >0</td>\n",
       "            </tr>\n",
       "            <tr>\n",
       "                        <th id=\"T_f35b6926_d982_11eb_b315_02420a39112blevel0_row4\" class=\"row_heading level0 row4\" >education_id</th>\n",
       "                        <td id=\"T_f35b6926_d982_11eb_b315_02420a39112brow4_col0\" class=\"data row4 col0\" >0</td>\n",
       "            </tr>\n",
       "            <tr>\n",
       "                        <th id=\"T_f35b6926_d982_11eb_b315_02420a39112blevel0_row5\" class=\"row_heading level0 row5\" >family_status</th>\n",
       "                        <td id=\"T_f35b6926_d982_11eb_b315_02420a39112brow5_col0\" class=\"data row5 col0\" >0</td>\n",
       "            </tr>\n",
       "            <tr>\n",
       "                        <th id=\"T_f35b6926_d982_11eb_b315_02420a39112blevel0_row6\" class=\"row_heading level0 row6\" >family_status_id</th>\n",
       "                        <td id=\"T_f35b6926_d982_11eb_b315_02420a39112brow6_col0\" class=\"data row6 col0\" >0</td>\n",
       "            </tr>\n",
       "            <tr>\n",
       "                        <th id=\"T_f35b6926_d982_11eb_b315_02420a39112blevel0_row7\" class=\"row_heading level0 row7\" >gender</th>\n",
       "                        <td id=\"T_f35b6926_d982_11eb_b315_02420a39112brow7_col0\" class=\"data row7 col0\" >0</td>\n",
       "            </tr>\n",
       "            <tr>\n",
       "                        <th id=\"T_f35b6926_d982_11eb_b315_02420a39112blevel0_row8\" class=\"row_heading level0 row8\" >income_type</th>\n",
       "                        <td id=\"T_f35b6926_d982_11eb_b315_02420a39112brow8_col0\" class=\"data row8 col0\" >0</td>\n",
       "            </tr>\n",
       "            <tr>\n",
       "                        <th id=\"T_f35b6926_d982_11eb_b315_02420a39112blevel0_row9\" class=\"row_heading level0 row9\" >debt</th>\n",
       "                        <td id=\"T_f35b6926_d982_11eb_b315_02420a39112brow9_col0\" class=\"data row9 col0\" >0</td>\n",
       "            </tr>\n",
       "            <tr>\n",
       "                        <th id=\"T_f35b6926_d982_11eb_b315_02420a39112blevel0_row10\" class=\"row_heading level0 row10\" >total_income</th>\n",
       "                        <td id=\"T_f35b6926_d982_11eb_b315_02420a39112brow10_col0\" class=\"data row10 col0\" >0</td>\n",
       "            </tr>\n",
       "            <tr>\n",
       "                        <th id=\"T_f35b6926_d982_11eb_b315_02420a39112blevel0_row11\" class=\"row_heading level0 row11\" >purpose</th>\n",
       "                        <td id=\"T_f35b6926_d982_11eb_b315_02420a39112brow11_col0\" class=\"data row11 col0\" >0</td>\n",
       "            </tr>\n",
       "    </tbody></table>"
      ],
      "text/plain": [
       "<pandas.io.formats.style.Styler at 0x7f450121a4d0>"
      ]
     },
     "execution_count": 4,
     "metadata": {},
     "output_type": "execute_result"
    }
   ],
   "source": [
    "\n",
    "pd.DataFrame(round(data.isna().mean()*100)).style.background_gradient('coolwarm')\n"
   ]
  },
  {
   "cell_type": "code",
   "execution_count": 5,
   "metadata": {},
   "outputs": [
    {
     "name": "stdout",
     "output_type": "stream",
     "text": [
      "<class 'pandas.core.frame.DataFrame'>\n",
      "RangeIndex: 21525 entries, 0 to 21524\n",
      "Data columns (total 12 columns):\n",
      "children            21525 non-null int64\n",
      "days_employed       21525 non-null float64\n",
      "dob_years           21525 non-null int64\n",
      "education           21525 non-null object\n",
      "education_id        21525 non-null int64\n",
      "family_status       21525 non-null object\n",
      "family_status_id    21525 non-null int64\n",
      "gender              21525 non-null object\n",
      "income_type         21525 non-null object\n",
      "debt                21525 non-null int64\n",
      "total_income        21525 non-null float64\n",
      "purpose             21525 non-null object\n",
      "dtypes: float64(2), int64(5), object(5)\n",
      "memory usage: 2.0+ MB\n"
     ]
    }
   ],
   "source": [
    "data.info()\n"
   ]
  },
  {
   "cell_type": "markdown",
   "metadata": {},
   "source": [
    "**Вывод**"
   ]
  },
  {
   "cell_type": "markdown",
   "metadata": {},
   "source": [
    "**1**.Пропущенные значения в столбцах days_employed и total_income при помощи функции *non_nan* были заменены на медиальные значения с учетом коррелирующих столбцов.\n",
    "\n",
    "**2**.Столбцы education и family_status были приведены к общему регистру(нижнему) методом  *str.lower()*\n",
    "\n",
    "**3**.Возможная причина появления пропусков человеческий фактор(отказ от заполнения неизвестной информации), ошибка форматирования или технические проблемы"
   ]
  },
  {
   "cell_type": "markdown",
   "metadata": {},
   "source": [
    "### Замена типа данных"
   ]
  },
  {
   "cell_type": "code",
   "execution_count": 6,
   "metadata": {},
   "outputs": [],
   "source": [
    "data['days_employed'] = data['days_employed'].astype(int)\n",
    "data['total_income'] = data['total_income'].astype(int)\n",
    "data['dob_years'] = data['dob_years'].astype(int)\n"
   ]
  },
  {
   "cell_type": "markdown",
   "metadata": {},
   "source": [
    "**Вывод**"
   ]
  },
  {
   "cell_type": "markdown",
   "metadata": {},
   "source": [
    "Для изменения типов строк был использован метод *astype()* по причине простоты записи(альтернатива - метод *to_numeric()*)"
   ]
  },
  {
   "cell_type": "markdown",
   "metadata": {},
   "source": [
    "### Обработка дубликатов"
   ]
  },
  {
   "cell_type": "code",
   "execution_count": 7,
   "metadata": {},
   "outputs": [
    {
     "data": {
      "text/plain": [
       "71"
      ]
     },
     "execution_count": 7,
     "metadata": {},
     "output_type": "execute_result"
    }
   ],
   "source": [
    "data.duplicated().sum()"
   ]
  },
  {
   "cell_type": "code",
   "execution_count": 8,
   "metadata": {},
   "outputs": [
    {
     "data": {
      "text/plain": [
       "0"
      ]
     },
     "metadata": {},
     "output_type": "display_data"
    }
   ],
   "source": [
    "data=data.drop_duplicates().reset_index(drop=True)\n",
    "display(data.duplicated().sum())"
   ]
  },
  {
   "cell_type": "code",
   "execution_count": 9,
   "metadata": {},
   "outputs": [],
   "source": [
    "data['children']=data['children'].replace(20,2)\n",
    "data['children']=data['children'].replace(-1,1)"
   ]
  },
  {
   "cell_type": "code",
   "execution_count": 10,
   "metadata": {},
   "outputs": [
    {
     "name": "stdout",
     "output_type": "stream",
     "text": [
      "<class 'pandas.core.frame.DataFrame'>\n",
      "RangeIndex: 21454 entries, 0 to 21453\n",
      "Data columns (total 12 columns):\n",
      "children            21454 non-null int64\n",
      "days_employed       21454 non-null int64\n",
      "dob_years           21454 non-null int64\n",
      "education           21454 non-null object\n",
      "education_id        21454 non-null int64\n",
      "family_status       21454 non-null object\n",
      "family_status_id    21454 non-null int64\n",
      "gender              21454 non-null object\n",
      "income_type         21454 non-null object\n",
      "debt                21454 non-null int64\n",
      "total_income        21454 non-null int64\n",
      "purpose             21454 non-null object\n",
      "dtypes: int64(7), object(5)\n",
      "memory usage: 2.0+ MB\n"
     ]
    }
   ],
   "source": [
    "data.info()"
   ]
  },
  {
   "cell_type": "markdown",
   "metadata": {},
   "source": [
    "**Вывод**"
   ]
  },
  {
   "cell_type": "markdown",
   "metadata": {},
   "source": [
    "**1**.Методом *drop_duplicates* избавились от явных дубликатов и перезапустили индексацию (*reset_index*)\n",
    "\n",
    "**2**.Заменили выпадающие значения из столбца **children** на наиболее подходящие методом *replace*\n",
    "\n",
    "Причины ворзникновения могут быть разнообразными, например дублирование строк при объединении таблиц, либо ошибочноен повтороное заведении информации о клиентах сотрудниками, в столбце **children** скорее всего ошибки пользователей."
   ]
  },
  {
   "cell_type": "markdown",
   "metadata": {},
   "source": [
    "### Лемматизация"
   ]
  },
  {
   "cell_type": "code",
   "execution_count": 11,
   "metadata": {},
   "outputs": [],
   "source": [
    "from pymystem3 import Mystem\n",
    "m = Mystem()\n",
    "data['lem_purpose'] = data['purpose'].apply(m.lemmatize)\n"
   ]
  },
  {
   "cell_type": "code",
   "execution_count": 12,
   "metadata": {},
   "outputs": [
    {
     "data": {
      "text/plain": [
       "Counter({'покупка': 5897,\n",
       "         ' ': 33570,\n",
       "         'жилье': 4460,\n",
       "         '\\n': 21454,\n",
       "         'приобретение': 461,\n",
       "         'автомобиль': 4306,\n",
       "         'дополнительный': 906,\n",
       "         'образование': 4013,\n",
       "         'сыграть': 765,\n",
       "         'свадьба': 2324,\n",
       "         'операция': 2604,\n",
       "         'с': 2918,\n",
       "         'на': 2222,\n",
       "         'проведение': 768,\n",
       "         'для': 1289,\n",
       "         'семья': 638,\n",
       "         'недвижимость': 6351,\n",
       "         'коммерческий': 1311,\n",
       "         'жилой': 1230,\n",
       "         'строительство': 1878,\n",
       "         'собственный': 635,\n",
       "         'подержать': 478,\n",
       "         'свой': 2230,\n",
       "         'со': 627,\n",
       "         'заниматься': 904,\n",
       "         'сделка': 941,\n",
       "         'подержанный': 486,\n",
       "         'получение': 1314,\n",
       "         'высокий': 1374,\n",
       "         'профильный': 436,\n",
       "         'сдача': 651,\n",
       "         'ремонт': 607})"
      ]
     },
     "execution_count": 12,
     "metadata": {},
     "output_type": "execute_result"
    }
   ],
   "source": [
    "from collections import Counter\n",
    "count=data['lem_purpose'].apply(Counter)\n",
    "count.sum()"
   ]
  },
  {
   "cell_type": "code",
   "execution_count": 13,
   "metadata": {},
   "outputs": [],
   "source": [
    "def debt_purpose(var):\n",
    "    if 'свадьба' in var:\n",
    "        return 'свадьба'\n",
    "    if 'недвижимость' in var:\n",
    "        return 'недвижимость'\n",
    "    if 'жилье' in var:\n",
    "        return 'недвижимость'\n",
    "    if 'автомобиль'in var:\n",
    "        return 'автомобиль'\n",
    "    if 'образование' in var:\n",
    "        return 'образование'\n",
    "    return 'прочие цели'\n",
    "data['new_purpose']=data['lem_purpose'].apply(debt_purpose)"
   ]
  },
  {
   "cell_type": "markdown",
   "metadata": {},
   "source": [
    "**Вывод**"
   ]
  },
  {
   "cell_type": "markdown",
   "metadata": {},
   "source": [
    "**1**.Импортировали *Mystem* из библиотеки **pymystem3** для проведения лемматизации\n",
    "\n",
    "**2**.Прошлись по столбцу **purpose** методом *apply* \n",
    "\n",
    "**3**.Для подсчета лемм импортировали *Counter* из **collections**\n",
    "\n",
    "**4**.Методом *apply* подсчитали все значения\n",
    "\n",
    "**5**.Написали функцию *debt_purpose* для групировки лемм по общим значениям и сохранили в новый столбец **new_purpose**"
   ]
  },
  {
   "cell_type": "markdown",
   "metadata": {},
   "source": [
    "### Категоризация данных"
   ]
  },
  {
   "cell_type": "code",
   "execution_count": 14,
   "metadata": {},
   "outputs": [
    {
     "data": {
      "text/html": [
       "<div>\n",
       "<style scoped>\n",
       "    .dataframe tbody tr th:only-of-type {\n",
       "        vertical-align: middle;\n",
       "    }\n",
       "\n",
       "    .dataframe tbody tr th {\n",
       "        vertical-align: top;\n",
       "    }\n",
       "\n",
       "    .dataframe thead th {\n",
       "        text-align: right;\n",
       "    }\n",
       "</style>\n",
       "<table border=\"1\" class=\"dataframe\">\n",
       "  <thead>\n",
       "    <tr style=\"text-align: right;\">\n",
       "      <th></th>\n",
       "      <th>debt</th>\n",
       "    </tr>\n",
       "    <tr>\n",
       "      <th>family_status_id</th>\n",
       "      <th></th>\n",
       "    </tr>\n",
       "  </thead>\n",
       "  <tbody>\n",
       "    <tr>\n",
       "      <td>2</td>\n",
       "      <td>0.065693</td>\n",
       "    </tr>\n",
       "    <tr>\n",
       "      <td>3</td>\n",
       "      <td>0.071130</td>\n",
       "    </tr>\n",
       "    <tr>\n",
       "      <td>0</td>\n",
       "      <td>0.075452</td>\n",
       "    </tr>\n",
       "    <tr>\n",
       "      <td>1</td>\n",
       "      <td>0.093471</td>\n",
       "    </tr>\n",
       "    <tr>\n",
       "      <td>4</td>\n",
       "      <td>0.097509</td>\n",
       "    </tr>\n",
       "  </tbody>\n",
       "</table>\n",
       "</div>"
      ],
      "text/plain": [
       "                      debt\n",
       "family_status_id          \n",
       "2                 0.065693\n",
       "3                 0.071130\n",
       "0                 0.075452\n",
       "1                 0.093471\n",
       "4                 0.097509"
      ]
     },
     "execution_count": 14,
     "metadata": {},
     "output_type": "execute_result"
    }
   ],
   "source": [
    "def fin_fan(id,deb,value1,value2):\n",
    "    fin_log = data[[id,deb]]\n",
    "    fin_dict = data[[id,value1,value2]]\n",
    "    fin_dict = fin_dict.drop_duplicates().reset_index(drop=True)\n",
    "    fin_log=fin_log.groupby(id).mean().sort_values(deb)\n",
    "    return fin_log    \n",
    "\n",
    "fin_fan('family_status_id','debt','children','total_income')\n"
   ]
  },
  {
   "cell_type": "code",
   "execution_count": 15,
   "metadata": {},
   "outputs": [
    {
     "data": {
      "text/plain": [
       "{0: 'женат / замужем',\n",
       " 1: 'гражданский брак',\n",
       " 2: 'вдовец / вдова',\n",
       " 3: 'в разводе',\n",
       " 4: 'не женат / не замужем'}"
      ]
     },
     "execution_count": 15,
     "metadata": {},
     "output_type": "execute_result"
    }
   ],
   "source": [
    "fam_dict = pd.Series(data['family_status'].unique(),index=data['family_status_id'].unique()).to_dict()\n",
    "educ_dict = pd.Series(data['education'].unique(),index=data['education_id'].unique()).to_dict()\n",
    "fam_dict\n"
   ]
  },
  {
   "cell_type": "code",
   "execution_count": 16,
   "metadata": {},
   "outputs": [
    {
     "data": {
      "text/plain": [
       "{0: 'женат / замужем',\n",
       " 1: 'гражданский брак',\n",
       " 2: 'вдовец / вдова',\n",
       " 3: 'в разводе',\n",
       " 4: 'не женат / не замужем'}"
      ]
     },
     "execution_count": 16,
     "metadata": {},
     "output_type": "execute_result"
    }
   ],
   "source": [
    "\n",
    "\n",
    "dict(zip(data['family_status_id'],data['family_status']))"
   ]
  },
  {
   "cell_type": "code",
   "execution_count": 17,
   "metadata": {},
   "outputs": [
    {
     "data": {
      "text/html": [
       "<div>\n",
       "<style scoped>\n",
       "    .dataframe tbody tr th:only-of-type {\n",
       "        vertical-align: middle;\n",
       "    }\n",
       "\n",
       "    .dataframe tbody tr th {\n",
       "        vertical-align: top;\n",
       "    }\n",
       "\n",
       "    .dataframe thead th {\n",
       "        text-align: right;\n",
       "    }\n",
       "</style>\n",
       "<table border=\"1\" class=\"dataframe\">\n",
       "  <thead>\n",
       "    <tr style=\"text-align: right;\">\n",
       "      <th></th>\n",
       "      <th>debt</th>\n",
       "    </tr>\n",
       "    <tr>\n",
       "      <th>children</th>\n",
       "      <th></th>\n",
       "    </tr>\n",
       "  </thead>\n",
       "  <tbody>\n",
       "    <tr>\n",
       "      <td>5</td>\n",
       "      <td>0.000000</td>\n",
       "    </tr>\n",
       "    <tr>\n",
       "      <td>0</td>\n",
       "      <td>0.075438</td>\n",
       "    </tr>\n",
       "    <tr>\n",
       "      <td>3</td>\n",
       "      <td>0.081818</td>\n",
       "    </tr>\n",
       "    <tr>\n",
       "      <td>1</td>\n",
       "      <td>0.091658</td>\n",
       "    </tr>\n",
       "    <tr>\n",
       "      <td>2</td>\n",
       "      <td>0.094925</td>\n",
       "    </tr>\n",
       "    <tr>\n",
       "      <td>4</td>\n",
       "      <td>0.097561</td>\n",
       "    </tr>\n",
       "  </tbody>\n",
       "</table>\n",
       "</div>"
      ],
      "text/plain": [
       "              debt\n",
       "children          \n",
       "5         0.000000\n",
       "0         0.075438\n",
       "3         0.081818\n",
       "1         0.091658\n",
       "2         0.094925\n",
       "4         0.097561"
      ]
     },
     "execution_count": 17,
     "metadata": {},
     "output_type": "execute_result"
    }
   ],
   "source": [
    "fin_fan('children','debt','family_status','total_income')\n"
   ]
  },
  {
   "cell_type": "code",
   "execution_count": 18,
   "metadata": {},
   "outputs": [
    {
     "data": {
      "text/html": [
       "<div>\n",
       "<style scoped>\n",
       "    .dataframe tbody tr th:only-of-type {\n",
       "        vertical-align: middle;\n",
       "    }\n",
       "\n",
       "    .dataframe tbody tr th {\n",
       "        vertical-align: top;\n",
       "    }\n",
       "\n",
       "    .dataframe thead th {\n",
       "        text-align: right;\n",
       "    }\n",
       "</style>\n",
       "<table border=\"1\" class=\"dataframe\">\n",
       "  <thead>\n",
       "    <tr style=\"text-align: right;\">\n",
       "      <th></th>\n",
       "      <th>debt</th>\n",
       "    </tr>\n",
       "    <tr>\n",
       "      <th>total_income</th>\n",
       "      <th></th>\n",
       "    </tr>\n",
       "  </thead>\n",
       "  <tbody>\n",
       "    <tr>\n",
       "      <td>145891</td>\n",
       "      <td>0.0</td>\n",
       "    </tr>\n",
       "    <tr>\n",
       "      <td>178101</td>\n",
       "      <td>0.0</td>\n",
       "    </tr>\n",
       "    <tr>\n",
       "      <td>178104</td>\n",
       "      <td>0.0</td>\n",
       "    </tr>\n",
       "    <tr>\n",
       "      <td>178120</td>\n",
       "      <td>0.0</td>\n",
       "    </tr>\n",
       "    <tr>\n",
       "      <td>178129</td>\n",
       "      <td>0.0</td>\n",
       "    </tr>\n",
       "    <tr>\n",
       "      <td>...</td>\n",
       "      <td>...</td>\n",
       "    </tr>\n",
       "    <tr>\n",
       "      <td>214263</td>\n",
       "      <td>1.0</td>\n",
       "    </tr>\n",
       "    <tr>\n",
       "      <td>214448</td>\n",
       "      <td>1.0</td>\n",
       "    </tr>\n",
       "    <tr>\n",
       "      <td>214462</td>\n",
       "      <td>1.0</td>\n",
       "    </tr>\n",
       "    <tr>\n",
       "      <td>100579</td>\n",
       "      <td>1.0</td>\n",
       "    </tr>\n",
       "    <tr>\n",
       "      <td>20667</td>\n",
       "      <td>1.0</td>\n",
       "    </tr>\n",
       "  </tbody>\n",
       "</table>\n",
       "<p>18608 rows × 1 columns</p>\n",
       "</div>"
      ],
      "text/plain": [
       "              debt\n",
       "total_income      \n",
       "145891         0.0\n",
       "178101         0.0\n",
       "178104         0.0\n",
       "178120         0.0\n",
       "178129         0.0\n",
       "...            ...\n",
       "214263         1.0\n",
       "214448         1.0\n",
       "214462         1.0\n",
       "100579         1.0\n",
       "20667          1.0\n",
       "\n",
       "[18608 rows x 1 columns]"
      ]
     },
     "execution_count": 18,
     "metadata": {},
     "output_type": "execute_result"
    }
   ],
   "source": [
    "fin_fan('total_income','debt','family_status','children')"
   ]
  },
  {
   "cell_type": "markdown",
   "metadata": {},
   "source": [
    "**Вывод**"
   ]
  },
  {
   "cell_type": "markdown",
   "metadata": {},
   "source": [
    "**1**.Написал функцию для создания \"словарей\"\n",
    "\n",
    "**2**.Отдельно написал простой словарь для нагладности"
   ]
  },
  {
   "cell_type": "markdown",
   "metadata": {},
   "source": [
    "## Шаг 3. Ответьте на вопросы"
   ]
  },
  {
   "cell_type": "markdown",
   "metadata": {},
   "source": [
    "- Есть ли зависимость между наличием детей и возвратом кредита в срок?"
   ]
  },
  {
   "cell_type": "code",
   "execution_count": 28,
   "metadata": {},
   "outputs": [
    {
     "data": {
      "text/html": [
       "<div>\n",
       "<style scoped>\n",
       "    .dataframe tbody tr th:only-of-type {\n",
       "        vertical-align: middle;\n",
       "    }\n",
       "\n",
       "    .dataframe tbody tr th {\n",
       "        vertical-align: top;\n",
       "    }\n",
       "\n",
       "    .dataframe thead tr th {\n",
       "        text-align: left;\n",
       "    }\n",
       "\n",
       "    .dataframe thead tr:last-of-type th {\n",
       "        text-align: right;\n",
       "    }\n",
       "</style>\n",
       "<table border=\"1\" class=\"dataframe\">\n",
       "  <thead>\n",
       "    <tr>\n",
       "      <th></th>\n",
       "      <th colspan=\"4\" halign=\"left\">debt</th>\n",
       "    </tr>\n",
       "    <tr>\n",
       "      <th></th>\n",
       "      <th>sum</th>\n",
       "      <th>count</th>\n",
       "      <th>mean</th>\n",
       "      <th>&lt;lambda_0&gt;</th>\n",
       "    </tr>\n",
       "    <tr>\n",
       "      <th>children</th>\n",
       "      <th></th>\n",
       "      <th></th>\n",
       "      <th></th>\n",
       "      <th></th>\n",
       "    </tr>\n",
       "  </thead>\n",
       "  <tbody>\n",
       "    <tr>\n",
       "      <td>0</td>\n",
       "      <td>1063</td>\n",
       "      <td>14091</td>\n",
       "      <td>0.075438</td>\n",
       "      <td>7.54%</td>\n",
       "    </tr>\n",
       "    <tr>\n",
       "      <td>1</td>\n",
       "      <td>445</td>\n",
       "      <td>4855</td>\n",
       "      <td>0.091658</td>\n",
       "      <td>9.17%</td>\n",
       "    </tr>\n",
       "    <tr>\n",
       "      <td>2</td>\n",
       "      <td>202</td>\n",
       "      <td>2128</td>\n",
       "      <td>0.094925</td>\n",
       "      <td>9.49%</td>\n",
       "    </tr>\n",
       "    <tr>\n",
       "      <td>3</td>\n",
       "      <td>27</td>\n",
       "      <td>330</td>\n",
       "      <td>0.081818</td>\n",
       "      <td>8.18%</td>\n",
       "    </tr>\n",
       "    <tr>\n",
       "      <td>4</td>\n",
       "      <td>4</td>\n",
       "      <td>41</td>\n",
       "      <td>0.097561</td>\n",
       "      <td>9.76%</td>\n",
       "    </tr>\n",
       "    <tr>\n",
       "      <td>5</td>\n",
       "      <td>0</td>\n",
       "      <td>9</td>\n",
       "      <td>0.000000</td>\n",
       "      <td>0.0%</td>\n",
       "    </tr>\n",
       "  </tbody>\n",
       "</table>\n",
       "</div>"
      ],
      "text/plain": [
       "          debt                            \n",
       "           sum  count      mean <lambda_0>\n",
       "children                                  \n",
       "0         1063  14091  0.075438      7.54%\n",
       "1          445   4855  0.091658      9.17%\n",
       "2          202   2128  0.094925      9.49%\n",
       "3           27    330  0.081818      8.18%\n",
       "4            4     41  0.097561      9.76%\n",
       "5            0      9  0.000000       0.0%"
      ]
     },
     "execution_count": 28,
     "metadata": {},
     "output_type": "execute_result"
    }
   ],
   "source": [
    "def end_non(var1,var2):\n",
    "    \n",
    "    solution = data.groupby(var1,as_index=False)[[var2]].agg(['sum','count','mean',lambda x: str(round(x.mean()*100,2)) +'%'])\n",
    "    return solution\n",
    "end_non('children','debt')"
   ]
  },
  {
   "cell_type": "code",
   "execution_count": 29,
   "metadata": {},
   "outputs": [
    {
     "data": {
      "text/html": [
       "<div>\n",
       "<style scoped>\n",
       "    .dataframe tbody tr th:only-of-type {\n",
       "        vertical-align: middle;\n",
       "    }\n",
       "\n",
       "    .dataframe tbody tr th {\n",
       "        vertical-align: top;\n",
       "    }\n",
       "\n",
       "    .dataframe thead th {\n",
       "        text-align: right;\n",
       "    }\n",
       "</style>\n",
       "<table border=\"1\" class=\"dataframe\">\n",
       "  <thead>\n",
       "    <tr style=\"text-align: right;\">\n",
       "      <th></th>\n",
       "      <th>count</th>\n",
       "      <th>sum</th>\n",
       "      <th>&lt;lambda_0&gt;</th>\n",
       "    </tr>\n",
       "    <tr>\n",
       "      <th>children</th>\n",
       "      <th></th>\n",
       "      <th></th>\n",
       "      <th></th>\n",
       "    </tr>\n",
       "  </thead>\n",
       "  <tbody>\n",
       "    <tr>\n",
       "      <td>0</td>\n",
       "      <td>14091</td>\n",
       "      <td>1063</td>\n",
       "      <td>7.543822</td>\n",
       "    </tr>\n",
       "    <tr>\n",
       "      <td>1</td>\n",
       "      <td>4855</td>\n",
       "      <td>445</td>\n",
       "      <td>9.165808</td>\n",
       "    </tr>\n",
       "    <tr>\n",
       "      <td>2</td>\n",
       "      <td>2128</td>\n",
       "      <td>202</td>\n",
       "      <td>9.492481</td>\n",
       "    </tr>\n",
       "    <tr>\n",
       "      <td>3</td>\n",
       "      <td>330</td>\n",
       "      <td>27</td>\n",
       "      <td>8.181818</td>\n",
       "    </tr>\n",
       "    <tr>\n",
       "      <td>4</td>\n",
       "      <td>41</td>\n",
       "      <td>4</td>\n",
       "      <td>9.756098</td>\n",
       "    </tr>\n",
       "    <tr>\n",
       "      <td>5</td>\n",
       "      <td>9</td>\n",
       "      <td>0</td>\n",
       "      <td>0.000000</td>\n",
       "    </tr>\n",
       "  </tbody>\n",
       "</table>\n",
       "</div>"
      ],
      "text/plain": [
       "          count   sum  <lambda_0>\n",
       "children                         \n",
       "0         14091  1063    7.543822\n",
       "1          4855   445    9.165808\n",
       "2          2128   202    9.492481\n",
       "3           330    27    8.181818\n",
       "4            41     4    9.756098\n",
       "5             9     0    0.000000"
      ]
     },
     "execution_count": 29,
     "metadata": {},
     "output_type": "execute_result"
    }
   ],
   "source": [
    "\n",
    "# В кач-ве агрегирования можно любую функцию брать.\n",
    "data.groupby('children')['debt'].agg(['count', 'sum', lambda x: x.mean()*100])"
   ]
  },
  {
   "cell_type": "code",
   "execution_count": 30,
   "metadata": {},
   "outputs": [
    {
     "data": {
      "text/html": [
       "<div>\n",
       "<style scoped>\n",
       "    .dataframe tbody tr th:only-of-type {\n",
       "        vertical-align: middle;\n",
       "    }\n",
       "\n",
       "    .dataframe tbody tr th {\n",
       "        vertical-align: top;\n",
       "    }\n",
       "\n",
       "    .dataframe thead th {\n",
       "        text-align: right;\n",
       "    }\n",
       "</style>\n",
       "<table border=\"1\" class=\"dataframe\">\n",
       "  <thead>\n",
       "    <tr style=\"text-align: right;\">\n",
       "      <th></th>\n",
       "      <th>count</th>\n",
       "      <th>sum</th>\n",
       "      <th>&lt;lambda_0&gt;</th>\n",
       "    </tr>\n",
       "    <tr>\n",
       "      <th>children</th>\n",
       "      <th></th>\n",
       "      <th></th>\n",
       "      <th></th>\n",
       "    </tr>\n",
       "  </thead>\n",
       "  <tbody>\n",
       "    <tr>\n",
       "      <td>0</td>\n",
       "      <td>14091</td>\n",
       "      <td>1063</td>\n",
       "      <td>7.54%</td>\n",
       "    </tr>\n",
       "    <tr>\n",
       "      <td>1</td>\n",
       "      <td>4855</td>\n",
       "      <td>445</td>\n",
       "      <td>9.17%</td>\n",
       "    </tr>\n",
       "    <tr>\n",
       "      <td>2</td>\n",
       "      <td>2128</td>\n",
       "      <td>202</td>\n",
       "      <td>9.49%</td>\n",
       "    </tr>\n",
       "    <tr>\n",
       "      <td>3</td>\n",
       "      <td>330</td>\n",
       "      <td>27</td>\n",
       "      <td>8.18%</td>\n",
       "    </tr>\n",
       "    <tr>\n",
       "      <td>4</td>\n",
       "      <td>41</td>\n",
       "      <td>4</td>\n",
       "      <td>9.76%</td>\n",
       "    </tr>\n",
       "    <tr>\n",
       "      <td>5</td>\n",
       "      <td>9</td>\n",
       "      <td>0</td>\n",
       "      <td>0.0%</td>\n",
       "    </tr>\n",
       "  </tbody>\n",
       "</table>\n",
       "</div>"
      ],
      "text/plain": [
       "          count   sum <lambda_0>\n",
       "children                        \n",
       "0         14091  1063      7.54%\n",
       "1          4855   445      9.17%\n",
       "2          2128   202      9.49%\n",
       "3           330    27      8.18%\n",
       "4            41     4      9.76%\n",
       "5             9     0       0.0%"
      ]
     },
     "execution_count": 30,
     "metadata": {},
     "output_type": "execute_result"
    }
   ],
   "source": [
    "\n",
    "# str - чтоб % добавить. Но может и через форматирование.\n",
    "data.groupby('children')['debt'].agg(['count', 'sum', lambda x: str(round(x.mean()*100,2)) +'%' ])"
   ]
  },
  {
   "cell_type": "markdown",
   "metadata": {},
   "source": [
    "**Вывод**"
   ]
  },
  {
   "cell_type": "markdown",
   "metadata": {},
   "source": [
    "Зависимость имеется , заемщики без детей в среднем меньше допускают возникновение задолженности, с увеличением количества детей шанс допустить просрочку увеличивается."
   ]
  },
  {
   "cell_type": "markdown",
   "metadata": {},
   "source": [
    "- Есть ли зависимость между семейным положением и возвратом кредита в срок?"
   ]
  },
  {
   "cell_type": "code",
   "execution_count": 31,
   "metadata": {},
   "outputs": [
    {
     "data": {
      "text/html": [
       "<div>\n",
       "<style scoped>\n",
       "    .dataframe tbody tr th:only-of-type {\n",
       "        vertical-align: middle;\n",
       "    }\n",
       "\n",
       "    .dataframe tbody tr th {\n",
       "        vertical-align: top;\n",
       "    }\n",
       "\n",
       "    .dataframe thead tr th {\n",
       "        text-align: left;\n",
       "    }\n",
       "\n",
       "    .dataframe thead tr:last-of-type th {\n",
       "        text-align: right;\n",
       "    }\n",
       "</style>\n",
       "<table border=\"1\" class=\"dataframe\">\n",
       "  <thead>\n",
       "    <tr>\n",
       "      <th></th>\n",
       "      <th colspan=\"4\" halign=\"left\">debt</th>\n",
       "    </tr>\n",
       "    <tr>\n",
       "      <th></th>\n",
       "      <th>sum</th>\n",
       "      <th>count</th>\n",
       "      <th>mean</th>\n",
       "      <th>&lt;lambda_0&gt;</th>\n",
       "    </tr>\n",
       "    <tr>\n",
       "      <th>family_status</th>\n",
       "      <th></th>\n",
       "      <th></th>\n",
       "      <th></th>\n",
       "      <th></th>\n",
       "    </tr>\n",
       "  </thead>\n",
       "  <tbody>\n",
       "    <tr>\n",
       "      <td>в разводе</td>\n",
       "      <td>85</td>\n",
       "      <td>1195</td>\n",
       "      <td>0.071130</td>\n",
       "      <td>7.11%</td>\n",
       "    </tr>\n",
       "    <tr>\n",
       "      <td>вдовец / вдова</td>\n",
       "      <td>63</td>\n",
       "      <td>959</td>\n",
       "      <td>0.065693</td>\n",
       "      <td>6.57%</td>\n",
       "    </tr>\n",
       "    <tr>\n",
       "      <td>гражданский брак</td>\n",
       "      <td>388</td>\n",
       "      <td>4151</td>\n",
       "      <td>0.093471</td>\n",
       "      <td>9.35%</td>\n",
       "    </tr>\n",
       "    <tr>\n",
       "      <td>женат / замужем</td>\n",
       "      <td>931</td>\n",
       "      <td>12339</td>\n",
       "      <td>0.075452</td>\n",
       "      <td>7.55%</td>\n",
       "    </tr>\n",
       "    <tr>\n",
       "      <td>не женат / не замужем</td>\n",
       "      <td>274</td>\n",
       "      <td>2810</td>\n",
       "      <td>0.097509</td>\n",
       "      <td>9.75%</td>\n",
       "    </tr>\n",
       "  </tbody>\n",
       "</table>\n",
       "</div>"
      ],
      "text/plain": [
       "                      debt                            \n",
       "                       sum  count      mean <lambda_0>\n",
       "family_status                                         \n",
       "в разводе               85   1195  0.071130      7.11%\n",
       "вдовец / вдова          63    959  0.065693      6.57%\n",
       "гражданский брак       388   4151  0.093471      9.35%\n",
       "женат / замужем        931  12339  0.075452      7.55%\n",
       "не женат / не замужем  274   2810  0.097509      9.75%"
      ]
     },
     "execution_count": 31,
     "metadata": {},
     "output_type": "execute_result"
    }
   ],
   "source": [
    "end_non('family_status','debt')"
   ]
  },
  {
   "cell_type": "code",
   "execution_count": 32,
   "metadata": {},
   "outputs": [
    {
     "name": "stdout",
     "output_type": "stream",
     "text": [
      "Создали словарь:\n"
     ]
    },
    {
     "data": {
      "text/plain": [
       "{0: 'женат / замужем',\n",
       " 1: 'гражданский брак',\n",
       " 2: 'вдовец / вдова',\n",
       " 3: 'в разводе',\n",
       " 4: 'не женат / не замужем'}"
      ]
     },
     "metadata": {},
     "output_type": "display_data"
    },
    {
     "name": "stdout",
     "output_type": "stream",
     "text": [
      "\n",
      "\n",
      "Сгруппированная таблица. Берем по id, другой столбец удалили:\n"
     ]
    },
    {
     "data": {
      "text/html": [
       "<div>\n",
       "<style scoped>\n",
       "    .dataframe tbody tr th:only-of-type {\n",
       "        vertical-align: middle;\n",
       "    }\n",
       "\n",
       "    .dataframe tbody tr th {\n",
       "        vertical-align: top;\n",
       "    }\n",
       "\n",
       "    .dataframe thead th {\n",
       "        text-align: right;\n",
       "    }\n",
       "</style>\n",
       "<table border=\"1\" class=\"dataframe\">\n",
       "  <thead>\n",
       "    <tr style=\"text-align: right;\">\n",
       "      <th></th>\n",
       "      <th>count</th>\n",
       "      <th>sum</th>\n",
       "      <th>mean</th>\n",
       "    </tr>\n",
       "    <tr>\n",
       "      <th>family_status_id</th>\n",
       "      <th></th>\n",
       "      <th></th>\n",
       "      <th></th>\n",
       "    </tr>\n",
       "  </thead>\n",
       "  <tbody>\n",
       "    <tr>\n",
       "      <td>0</td>\n",
       "      <td>12339</td>\n",
       "      <td>931</td>\n",
       "      <td>0.075452</td>\n",
       "    </tr>\n",
       "    <tr>\n",
       "      <td>1</td>\n",
       "      <td>4151</td>\n",
       "      <td>388</td>\n",
       "      <td>0.093471</td>\n",
       "    </tr>\n",
       "    <tr>\n",
       "      <td>2</td>\n",
       "      <td>959</td>\n",
       "      <td>63</td>\n",
       "      <td>0.065693</td>\n",
       "    </tr>\n",
       "    <tr>\n",
       "      <td>3</td>\n",
       "      <td>1195</td>\n",
       "      <td>85</td>\n",
       "      <td>0.071130</td>\n",
       "    </tr>\n",
       "    <tr>\n",
       "      <td>4</td>\n",
       "      <td>2810</td>\n",
       "      <td>274</td>\n",
       "      <td>0.097509</td>\n",
       "    </tr>\n",
       "  </tbody>\n",
       "</table>\n",
       "</div>"
      ],
      "text/plain": [
       "                  count  sum      mean\n",
       "family_status_id                      \n",
       "0                 12339  931  0.075452\n",
       "1                  4151  388  0.093471\n",
       "2                   959   63  0.065693\n",
       "3                  1195   85  0.071130\n",
       "4                  2810  274  0.097509"
      ]
     },
     "metadata": {},
     "output_type": "display_data"
    },
    {
     "name": "stdout",
     "output_type": "stream",
     "text": [
      "\n",
      "\n",
      "Заменяем численные значения по ключу словаря:\n"
     ]
    },
    {
     "data": {
      "text/html": [
       "<div>\n",
       "<style scoped>\n",
       "    .dataframe tbody tr th:only-of-type {\n",
       "        vertical-align: middle;\n",
       "    }\n",
       "\n",
       "    .dataframe tbody tr th {\n",
       "        vertical-align: top;\n",
       "    }\n",
       "\n",
       "    .dataframe thead th {\n",
       "        text-align: right;\n",
       "    }\n",
       "</style>\n",
       "<table border=\"1\" class=\"dataframe\">\n",
       "  <thead>\n",
       "    <tr style=\"text-align: right;\">\n",
       "      <th></th>\n",
       "      <th>family_status_id</th>\n",
       "      <th>count</th>\n",
       "      <th>sum</th>\n",
       "      <th>mean</th>\n",
       "    </tr>\n",
       "  </thead>\n",
       "  <tbody>\n",
       "    <tr>\n",
       "      <td>0</td>\n",
       "      <td>женат / замужем</td>\n",
       "      <td>12339</td>\n",
       "      <td>931</td>\n",
       "      <td>0.075452</td>\n",
       "    </tr>\n",
       "    <tr>\n",
       "      <td>1</td>\n",
       "      <td>гражданский брак</td>\n",
       "      <td>4151</td>\n",
       "      <td>388</td>\n",
       "      <td>0.093471</td>\n",
       "    </tr>\n",
       "    <tr>\n",
       "      <td>2</td>\n",
       "      <td>вдовец / вдова</td>\n",
       "      <td>959</td>\n",
       "      <td>63</td>\n",
       "      <td>0.065693</td>\n",
       "    </tr>\n",
       "    <tr>\n",
       "      <td>3</td>\n",
       "      <td>в разводе</td>\n",
       "      <td>1195</td>\n",
       "      <td>85</td>\n",
       "      <td>0.071130</td>\n",
       "    </tr>\n",
       "    <tr>\n",
       "      <td>4</td>\n",
       "      <td>не женат / не замужем</td>\n",
       "      <td>2810</td>\n",
       "      <td>274</td>\n",
       "      <td>0.097509</td>\n",
       "    </tr>\n",
       "  </tbody>\n",
       "</table>\n",
       "</div>"
      ],
      "text/plain": [
       "        family_status_id  count  sum      mean\n",
       "0        женат / замужем  12339  931  0.075452\n",
       "1       гражданский брак   4151  388  0.093471\n",
       "2         вдовец / вдова    959   63  0.065693\n",
       "3              в разводе   1195   85  0.071130\n",
       "4  не женат / не замужем   2810  274  0.097509"
      ]
     },
     "execution_count": 32,
     "metadata": {},
     "output_type": "execute_result"
    }
   ],
   "source": [
    "\n",
    "\n",
    "print('Создали словарь:')\n",
    "display(fam_dict)\n",
    "\n",
    "\n",
    "print('\\n\\nСгруппированная таблица. Берем по id, другой столбец удалили:')\n",
    "a = data.groupby('family_status_id')['debt'].agg(['count', 'sum', 'mean'])\n",
    "display(a)\n",
    "\n",
    "\n",
    "# Заменяем\n",
    "print('\\n\\nЗаменяем численные значения по ключу словаря:')\n",
    "a.reset_index().replace({'family_status_id': fam_dict})"
   ]
  },
  {
   "cell_type": "markdown",
   "metadata": {},
   "source": [
    "**Вывод**"
   ]
  },
  {
   "cell_type": "markdown",
   "metadata": {},
   "source": [
    "Результаты показывают, что в среднем люди находящиеся в гражданском браке , а также не женатые/не замужние чаще допускают просрочку, зависимость имеется."
   ]
  },
  {
   "cell_type": "markdown",
   "metadata": {},
   "source": [
    "- Есть ли зависимость между уровнем дохода и возвратом кредита в срок?"
   ]
  },
  {
   "cell_type": "code",
   "execution_count": 33,
   "metadata": {},
   "outputs": [
    {
     "data": {
      "text/html": [
       "<div>\n",
       "<style scoped>\n",
       "    .dataframe tbody tr th:only-of-type {\n",
       "        vertical-align: middle;\n",
       "    }\n",
       "\n",
       "    .dataframe tbody tr th {\n",
       "        vertical-align: top;\n",
       "    }\n",
       "\n",
       "    .dataframe thead tr th {\n",
       "        text-align: left;\n",
       "    }\n",
       "\n",
       "    .dataframe thead tr:last-of-type th {\n",
       "        text-align: right;\n",
       "    }\n",
       "</style>\n",
       "<table border=\"1\" class=\"dataframe\">\n",
       "  <thead>\n",
       "    <tr>\n",
       "      <th></th>\n",
       "      <th colspan=\"4\" halign=\"left\">debt</th>\n",
       "    </tr>\n",
       "    <tr>\n",
       "      <th></th>\n",
       "      <th>sum</th>\n",
       "      <th>count</th>\n",
       "      <th>mean</th>\n",
       "      <th>&lt;lambda_0&gt;</th>\n",
       "    </tr>\n",
       "    <tr>\n",
       "      <th>quantile_income</th>\n",
       "      <th></th>\n",
       "      <th></th>\n",
       "      <th></th>\n",
       "      <th></th>\n",
       "    </tr>\n",
       "  </thead>\n",
       "  <tbody>\n",
       "    <tr>\n",
       "      <td>(20666.999, 98537.6]</td>\n",
       "      <td>344</td>\n",
       "      <td>4291</td>\n",
       "      <td>0.080168</td>\n",
       "      <td>8.02%</td>\n",
       "    </tr>\n",
       "    <tr>\n",
       "      <td>(98537.6, 132134.4]</td>\n",
       "      <td>361</td>\n",
       "      <td>4291</td>\n",
       "      <td>0.084130</td>\n",
       "      <td>8.41%</td>\n",
       "    </tr>\n",
       "    <tr>\n",
       "      <td>(132134.4, 161335.0]</td>\n",
       "      <td>375</td>\n",
       "      <td>4290</td>\n",
       "      <td>0.087413</td>\n",
       "      <td>8.74%</td>\n",
       "    </tr>\n",
       "    <tr>\n",
       "      <td>(161335.0, 214618.2]</td>\n",
       "      <td>361</td>\n",
       "      <td>4291</td>\n",
       "      <td>0.084130</td>\n",
       "      <td>8.41%</td>\n",
       "    </tr>\n",
       "    <tr>\n",
       "      <td>(214618.2, 2265604.0]</td>\n",
       "      <td>300</td>\n",
       "      <td>4291</td>\n",
       "      <td>0.069914</td>\n",
       "      <td>6.99%</td>\n",
       "    </tr>\n",
       "  </tbody>\n",
       "</table>\n",
       "</div>"
      ],
      "text/plain": [
       "                      debt                           \n",
       "                       sum count      mean <lambda_0>\n",
       "quantile_income                                      \n",
       "(20666.999, 98537.6]   344  4291  0.080168      8.02%\n",
       "(98537.6, 132134.4]    361  4291  0.084130      8.41%\n",
       "(132134.4, 161335.0]   375  4290  0.087413      8.74%\n",
       "(161335.0, 214618.2]   361  4291  0.084130      8.41%\n",
       "(214618.2, 2265604.0]  300  4291  0.069914      6.99%"
      ]
     },
     "execution_count": 33,
     "metadata": {},
     "output_type": "execute_result"
    }
   ],
   "source": [
    "data['quantile_income']=pd.qcut(data['total_income'],q=5)\n",
    "end_non('quantile_income','debt')\n"
   ]
  },
  {
   "cell_type": "markdown",
   "metadata": {},
   "source": [
    "**Вывод**"
   ]
  },
  {
   "cell_type": "markdown",
   "metadata": {},
   "source": [
    "Зависимость не обнаружена, люди как с низким доходом, так и с высоким допускают просрочку по долговым обязательствам\n",
    "\n",
    "<div class=\"alert alert-info\"><font color='red'>\n",
    "    <h2> Комментарий </h2>\n",
    "\n",
    "    Зависимость имеется, люди со средним показателем дохода чаще допускают просрочки нежели низко доходный и высокодоходный сегмент"
   ]
  },
  {
   "cell_type": "markdown",
   "metadata": {},
   "source": [
    "- Как разные цели кредита влияют на его возврат в срок?"
   ]
  },
  {
   "cell_type": "code",
   "execution_count": 34,
   "metadata": {},
   "outputs": [
    {
     "data": {
      "text/html": [
       "<div>\n",
       "<style scoped>\n",
       "    .dataframe tbody tr th:only-of-type {\n",
       "        vertical-align: middle;\n",
       "    }\n",
       "\n",
       "    .dataframe tbody tr th {\n",
       "        vertical-align: top;\n",
       "    }\n",
       "\n",
       "    .dataframe thead tr th {\n",
       "        text-align: left;\n",
       "    }\n",
       "\n",
       "    .dataframe thead tr:last-of-type th {\n",
       "        text-align: right;\n",
       "    }\n",
       "</style>\n",
       "<table border=\"1\" class=\"dataframe\">\n",
       "  <thead>\n",
       "    <tr>\n",
       "      <th></th>\n",
       "      <th colspan=\"4\" halign=\"left\">debt</th>\n",
       "    </tr>\n",
       "    <tr>\n",
       "      <th></th>\n",
       "      <th>sum</th>\n",
       "      <th>count</th>\n",
       "      <th>mean</th>\n",
       "      <th>&lt;lambda_0&gt;</th>\n",
       "    </tr>\n",
       "    <tr>\n",
       "      <th>new_purpose</th>\n",
       "      <th></th>\n",
       "      <th></th>\n",
       "      <th></th>\n",
       "      <th></th>\n",
       "    </tr>\n",
       "  </thead>\n",
       "  <tbody>\n",
       "    <tr>\n",
       "      <td>автомобиль</td>\n",
       "      <td>403</td>\n",
       "      <td>4306</td>\n",
       "      <td>0.093590</td>\n",
       "      <td>9.36%</td>\n",
       "    </tr>\n",
       "    <tr>\n",
       "      <td>недвижимость</td>\n",
       "      <td>782</td>\n",
       "      <td>10811</td>\n",
       "      <td>0.072334</td>\n",
       "      <td>7.23%</td>\n",
       "    </tr>\n",
       "    <tr>\n",
       "      <td>образование</td>\n",
       "      <td>370</td>\n",
       "      <td>4013</td>\n",
       "      <td>0.092200</td>\n",
       "      <td>9.22%</td>\n",
       "    </tr>\n",
       "    <tr>\n",
       "      <td>свадьба</td>\n",
       "      <td>186</td>\n",
       "      <td>2324</td>\n",
       "      <td>0.080034</td>\n",
       "      <td>8.0%</td>\n",
       "    </tr>\n",
       "  </tbody>\n",
       "</table>\n",
       "</div>"
      ],
      "text/plain": [
       "             debt                            \n",
       "              sum  count      mean <lambda_0>\n",
       "new_purpose                                  \n",
       "автомобиль    403   4306  0.093590      9.36%\n",
       "недвижимость  782  10811  0.072334      7.23%\n",
       "образование   370   4013  0.092200      9.22%\n",
       "свадьба       186   2324  0.080034       8.0%"
      ]
     },
     "execution_count": 34,
     "metadata": {},
     "output_type": "execute_result"
    }
   ],
   "source": [
    "end_non('new_purpose','debt')\n"
   ]
  },
  {
   "cell_type": "markdown",
   "metadata": {},
   "source": [
    "**Вывод**"
   ]
  },
  {
   "cell_type": "markdown",
   "metadata": {},
   "source": [
    "Зависимость имеется, люди берущие займ на прокупку автомобиля и образование чаще всего допускают просрочку."
   ]
  },
  {
   "cell_type": "markdown",
   "metadata": {},
   "source": [
    "## Шаг 4. Общий вывод"
   ]
  },
  {
   "cell_type": "markdown",
   "metadata": {},
   "source": [
    "Для банка целесообразнее всего выдавать займы людям, без детей, находящимсчя в браке или разводе, на покупку недвижимости.\n",
    "\n",
    "<div class=\"alert alert-info\"><font color='red'>\n",
    "    <h2> Комментарий </h2>\n",
    "\n",
    "1.В категории семейного сатауса:\n",
    "    \n",
    "    1)Самые надежные заемщики вдовы/вдовцы - 6.57% вероятность допустить просрочку\n",
    "    2)Самые ненадежные заемщики не женатые/не замужние - 9.75% вероятность просрочки\n",
    "    \n",
    "2.В категории общего дохода:\n",
    "    \n",
    "    1)Самые надежные заемщики высокодоходный сегмент - 6.99% вероятность допустить просрочку\n",
    "    2)Самые ненадежные заемщики сегмент среднего дохода - 8.74% вероятность просрочки\n",
    "    \n",
    "2.В категории цель кредита:\n",
    "    \n",
    "    1)Самые надежные заемщики приобретающие недвижимость - 7.22% вероятность допустить просрочку\n",
    "    2)Самые ненадежные заемщики приобретающие автомобиль - 9.36% вероятность просрочки\n",
    "\n"
   ]
  },
  {
   "cell_type": "markdown",
   "metadata": {},
   "source": [
    "## Чек-лист готовности проекта\n",
    "\n",
    "Поставьте 'x' в выполненных пунктах. Далее нажмите Shift+Enter."
   ]
  },
  {
   "cell_type": "markdown",
   "metadata": {},
   "source": [
    "- [x]  открыт файл;\n",
    "- [x]  файл изучен;\n",
    "- [x]  определены пропущенные значения;\n",
    "- [x]  заполнены пропущенные значения;\n",
    "- [x]  есть пояснение, какие пропущенные значения обнаружены;\n",
    "- [x]  описаны возможные причины появления пропусков в данных;\n",
    "- [x]  объяснено, по какому принципу заполнены пропуски;\n",
    "- [x]  заменен вещественный тип данных на целочисленный;\n",
    "- [x]  есть пояснение, какой метод используется для изменения типа данных и почему;\n",
    "- [x]  удалены дубликаты;\n",
    "- [x]  есть пояснение, какой метод используется для поиска и удаления дубликатов;\n",
    "- [x]  описаны возможные причины появления дубликатов в данных;\n",
    "- [x]  выделены леммы в значениях столбца с целями получения кредита;\n",
    "- [x]  описан процесс лемматизации;\n",
    "- [x]  данные категоризированы;\n",
    "- [x]  есть объяснение принципа категоризации данных;\n",
    "- [x]  есть ответ на вопрос: \"Есть ли зависимость между наличием детей и возвратом кредита в срок?\";\n",
    "- [x]  есть ответ на вопрос: \"Есть ли зависимость между семейным положением и возвратом кредита в срок?\";\n",
    "- [x]  есть ответ на вопрос: \"Есть ли зависимость между уровнем дохода и возвратом кредита в срок?\";\n",
    "- [x]  есть ответ на вопрос: \"Как разные цели кредита влияют на его возврат в срок?\";\n",
    "- [x]  в каждом этапе есть выводы;\n",
    "- [x]  есть общий вывод."
   ]
  }
 ],
 "metadata": {
  "ExecuteTimeLog": [
   {
    "duration": 821,
    "start_time": "2021-06-24T11:34:01.139Z"
   },
   {
    "duration": 73,
    "start_time": "2021-06-24T11:34:20.133Z"
   },
   {
    "duration": 78,
    "start_time": "2021-06-24T11:38:34.385Z"
   },
   {
    "duration": 83,
    "start_time": "2021-06-24T11:39:08.742Z"
   },
   {
    "duration": 86,
    "start_time": "2021-06-24T11:41:31.123Z"
   },
   {
    "duration": 90,
    "start_time": "2021-06-24T11:41:43.661Z"
   },
   {
    "duration": 102,
    "start_time": "2021-06-24T11:44:23.292Z"
   },
   {
    "duration": 108,
    "start_time": "2021-06-24T11:44:31.595Z"
   },
   {
    "duration": 131,
    "start_time": "2021-06-24T11:46:21.021Z"
   },
   {
    "duration": 368,
    "start_time": "2021-06-24T11:49:25.068Z"
   },
   {
    "duration": 289,
    "start_time": "2021-06-24T11:49:50.681Z"
   },
   {
    "duration": 6,
    "start_time": "2021-06-24T11:50:07.639Z"
   },
   {
    "duration": 22,
    "start_time": "2021-06-24T11:50:36.392Z"
   },
   {
    "duration": 29,
    "start_time": "2021-06-24T11:50:52.137Z"
   },
   {
    "duration": 29,
    "start_time": "2021-06-24T11:53:38.343Z"
   },
   {
    "duration": 293,
    "start_time": "2021-06-24T11:56:34.250Z"
   },
   {
    "duration": 328,
    "start_time": "2021-06-24T11:57:45.301Z"
   },
   {
    "duration": 43,
    "start_time": "2021-06-24T11:58:51.834Z"
   },
   {
    "duration": 308,
    "start_time": "2021-06-24T11:59:22.415Z"
   },
   {
    "duration": 44,
    "start_time": "2021-06-24T11:59:42.484Z"
   },
   {
    "duration": -424,
    "start_time": "2021-06-24T12:01:10.146Z"
   },
   {
    "duration": 7209,
    "start_time": "2021-06-24T12:01:20.635Z"
   },
   {
    "duration": 694,
    "start_time": "2021-06-24T12:02:06.231Z"
   },
   {
    "duration": 97,
    "start_time": "2021-06-24T12:02:40.887Z"
   },
   {
    "duration": 689,
    "start_time": "2021-06-24T12:02:52.834Z"
   },
   {
    "duration": 64,
    "start_time": "2021-06-24T12:03:16.977Z"
   },
   {
    "duration": 49,
    "start_time": "2021-06-24T12:03:48.096Z"
   },
   {
    "duration": 75,
    "start_time": "2021-06-24T12:04:04.666Z"
   },
   {
    "duration": 7019,
    "start_time": "2021-06-24T12:05:25.029Z"
   },
   {
    "duration": 50,
    "start_time": "2021-06-24T12:07:35.122Z"
   },
   {
    "duration": 50,
    "start_time": "2021-06-24T12:07:52.549Z"
   },
   {
    "duration": 58,
    "start_time": "2021-06-24T12:08:13.152Z"
   },
   {
    "duration": 5,
    "start_time": "2021-06-24T12:20:17.868Z"
   },
   {
    "duration": 16,
    "start_time": "2021-06-24T12:20:40.462Z"
   },
   {
    "duration": 19,
    "start_time": "2021-06-24T12:21:23.746Z"
   },
   {
    "duration": 24,
    "start_time": "2021-06-24T12:21:49.573Z"
   },
   {
    "duration": 17,
    "start_time": "2021-06-24T12:22:06.750Z"
   },
   {
    "duration": 32,
    "start_time": "2021-06-24T12:32:46.593Z"
   },
   {
    "duration": 19,
    "start_time": "2021-06-24T12:32:56.231Z"
   },
   {
    "duration": 40,
    "start_time": "2021-06-24T12:33:09.874Z"
   },
   {
    "duration": 34,
    "start_time": "2021-06-24T12:33:26.256Z"
   },
   {
    "duration": 47,
    "start_time": "2021-06-24T12:33:46.690Z"
   },
   {
    "duration": 37,
    "start_time": "2021-06-24T12:34:00.108Z"
   },
   {
    "duration": 41,
    "start_time": "2021-06-24T12:34:10.211Z"
   },
   {
    "duration": 40,
    "start_time": "2021-06-24T12:34:42.042Z"
   },
   {
    "duration": 27,
    "start_time": "2021-06-24T12:34:56.704Z"
   },
   {
    "duration": 47,
    "start_time": "2021-06-24T12:59:31.015Z"
   },
   {
    "duration": 29,
    "start_time": "2021-06-24T12:59:57.926Z"
   },
   {
    "duration": 28,
    "start_time": "2021-06-24T13:00:10.301Z"
   },
   {
    "duration": 28,
    "start_time": "2021-06-24T13:02:15.491Z"
   },
   {
    "duration": 29,
    "start_time": "2021-06-24T13:04:51.069Z"
   },
   {
    "duration": 50,
    "start_time": "2021-06-24T13:05:27.886Z"
   },
   {
    "duration": 44,
    "start_time": "2021-06-24T13:06:12.242Z"
   },
   {
    "duration": 14,
    "start_time": "2021-06-24T13:07:09.878Z"
   },
   {
    "duration": 296,
    "start_time": "2021-06-24T13:15:16.213Z"
   },
   {
    "duration": 297,
    "start_time": "2021-06-24T13:17:44.376Z"
   },
   {
    "duration": 323,
    "start_time": "2021-06-24T13:19:16.006Z"
   },
   {
    "duration": 923,
    "start_time": "2021-06-28T11:13:35.743Z"
   },
   {
    "duration": 78,
    "start_time": "2021-06-28T11:13:37.276Z"
   },
   {
    "duration": 51,
    "start_time": "2021-06-28T11:13:46.078Z"
   },
   {
    "duration": 2487,
    "start_time": "2021-06-28T11:22:53.485Z"
   },
   {
    "duration": 49,
    "start_time": "2021-06-28T11:23:49.579Z"
   },
   {
    "duration": 2514,
    "start_time": "2021-06-28T11:24:03.075Z"
   },
   {
    "duration": 308,
    "start_time": "2021-06-28T11:27:58.257Z"
   },
   {
    "duration": 308,
    "start_time": "2021-06-28T11:28:10.604Z"
   },
   {
    "duration": 299,
    "start_time": "2021-06-28T11:43:09.080Z"
   },
   {
    "duration": 330,
    "start_time": "2021-06-28T11:43:25.933Z"
   },
   {
    "duration": 19,
    "start_time": "2021-06-28T11:43:56.273Z"
   },
   {
    "duration": 34,
    "start_time": "2021-06-28T11:44:28.112Z"
   },
   {
    "duration": 35,
    "start_time": "2021-06-28T11:45:11.725Z"
   },
   {
    "duration": 33,
    "start_time": "2021-06-28T11:48:06.017Z"
   },
   {
    "duration": 19,
    "start_time": "2021-06-28T11:52:52.820Z"
   },
   {
    "duration": 33,
    "start_time": "2021-06-28T11:53:38.054Z"
   },
   {
    "duration": 101,
    "start_time": "2021-06-28T11:58:37.351Z"
   },
   {
    "duration": 330,
    "start_time": "2021-06-28T12:01:56.261Z"
   },
   {
    "duration": 324,
    "start_time": "2021-06-28T12:02:14.801Z"
   },
   {
    "duration": 3189,
    "start_time": "2021-06-28T12:02:42.474Z"
   },
   {
    "duration": 98,
    "start_time": "2021-06-28T12:10:33.463Z"
   },
   {
    "duration": 73,
    "start_time": "2021-06-28T12:21:50.347Z"
   },
   {
    "duration": 779,
    "start_time": "2021-06-28T12:24:33.590Z"
   },
   {
    "duration": 44,
    "start_time": "2021-06-28T12:30:52.527Z"
   },
   {
    "duration": 30,
    "start_time": "2021-06-28T12:32:26.597Z"
   },
   {
    "duration": 32,
    "start_time": "2021-06-28T12:32:40.130Z"
   },
   {
    "duration": 1548,
    "start_time": "2021-06-28T12:33:30.252Z"
   },
   {
    "duration": 25,
    "start_time": "2021-06-28T12:37:51.370Z"
   },
   {
    "duration": 442,
    "start_time": "2021-06-28T12:39:28.007Z"
   },
   {
    "duration": 19,
    "start_time": "2021-06-28T12:39:45.769Z"
   },
   {
    "duration": 44,
    "start_time": "2021-06-28T12:52:58.413Z"
   },
   {
    "duration": 28,
    "start_time": "2021-06-28T13:00:05.477Z"
   },
   {
    "duration": 1441,
    "start_time": "2021-06-28T13:00:27.116Z"
   },
   {
    "duration": 31,
    "start_time": "2021-06-28T13:00:34.437Z"
   },
   {
    "duration": 28,
    "start_time": "2021-06-28T13:01:02.002Z"
   },
   {
    "duration": 504,
    "start_time": "2021-06-28T13:01:13.134Z"
   },
   {
    "duration": 30,
    "start_time": "2021-06-28T13:02:20.946Z"
   },
   {
    "duration": 29,
    "start_time": "2021-06-28T13:02:25.612Z"
   },
   {
    "duration": 57,
    "start_time": "2021-06-28T13:02:55.627Z"
   },
   {
    "duration": 82,
    "start_time": "2021-06-28T13:15:54.809Z"
   },
   {
    "duration": 82,
    "start_time": "2021-06-28T13:32:20.081Z"
   },
   {
    "duration": 5,
    "start_time": "2021-06-28T13:33:29.007Z"
   },
   {
    "duration": 77,
    "start_time": "2021-06-28T13:33:45.619Z"
   },
   {
    "duration": 16,
    "start_time": "2021-06-28T13:38:15.907Z"
   },
   {
    "duration": 77,
    "start_time": "2021-06-28T13:52:36.684Z"
   },
   {
    "duration": 224,
    "start_time": "2021-06-28T14:00:25.165Z"
   },
   {
    "duration": 67,
    "start_time": "2021-06-28T14:00:47.333Z"
   },
   {
    "duration": 220,
    "start_time": "2021-06-28T14:00:50.769Z"
   },
   {
    "duration": 240,
    "start_time": "2021-06-28T14:01:01.338Z"
   },
   {
    "duration": 227,
    "start_time": "2021-06-28T14:01:45.513Z"
   },
   {
    "duration": 276,
    "start_time": "2021-06-28T14:02:50.653Z"
   },
   {
    "duration": 273,
    "start_time": "2021-06-28T14:03:25.622Z"
   },
   {
    "duration": 230,
    "start_time": "2021-06-28T14:03:44.173Z"
   },
   {
    "duration": 1461,
    "start_time": "2021-06-28T14:04:13.795Z"
   },
   {
    "duration": 5,
    "start_time": "2021-06-28T14:04:19.505Z"
   },
   {
    "duration": 237,
    "start_time": "2021-06-28T14:04:24.834Z"
   },
   {
    "duration": 288,
    "start_time": "2021-06-28T14:05:21.953Z"
   },
   {
    "duration": 5,
    "start_time": "2021-06-28T14:05:38.114Z"
   },
   {
    "duration": 79,
    "start_time": "2021-06-28T14:05:40.104Z"
   },
   {
    "duration": 59,
    "start_time": "2021-06-28T14:05:56.932Z"
   },
   {
    "duration": 60,
    "start_time": "2021-06-28T14:06:35.231Z"
   },
   {
    "duration": 59,
    "start_time": "2021-06-28T14:06:55.284Z"
   },
   {
    "duration": 60,
    "start_time": "2021-06-28T14:06:56.913Z"
   },
   {
    "duration": 1509,
    "start_time": "2021-06-28T14:07:07.279Z"
   },
   {
    "duration": 5,
    "start_time": "2021-06-28T14:07:15.484Z"
   },
   {
    "duration": 64,
    "start_time": "2021-06-28T14:07:29.756Z"
   },
   {
    "duration": 7,
    "start_time": "2021-06-28T14:08:25.834Z"
   },
   {
    "duration": 51,
    "start_time": "2021-06-28T14:08:40.731Z"
   },
   {
    "duration": 231,
    "start_time": "2021-06-28T14:08:45.582Z"
   },
   {
    "duration": 16,
    "start_time": "2021-06-28T14:09:09.127Z"
   },
   {
    "duration": 52,
    "start_time": "2021-06-28T14:09:24.745Z"
   },
   {
    "duration": 16,
    "start_time": "2021-06-28T14:09:27.078Z"
   },
   {
    "duration": 78,
    "start_time": "2021-06-28T14:09:34.794Z"
   },
   {
    "duration": 62,
    "start_time": "2021-06-28T14:09:52.273Z"
   },
   {
    "duration": 6,
    "start_time": "2021-06-28T14:16:27.831Z"
   },
   {
    "duration": 100,
    "start_time": "2021-06-28T14:16:30.371Z"
   },
   {
    "duration": 15,
    "start_time": "2021-06-28T14:16:39.149Z"
   },
   {
    "duration": 334,
    "start_time": "2021-06-28T14:18:16.919Z"
   },
   {
    "duration": 15,
    "start_time": "2021-06-28T14:18:20.996Z"
   },
   {
    "duration": 29,
    "start_time": "2021-06-28T14:18:35.431Z"
   },
   {
    "duration": 34,
    "start_time": "2021-06-28T14:20:28.085Z"
   },
   {
    "duration": 316,
    "start_time": "2021-06-28T14:20:29.711Z"
   },
   {
    "duration": 26,
    "start_time": "2021-06-28T14:20:31.420Z"
   },
   {
    "duration": 16,
    "start_time": "2021-06-28T14:20:36.699Z"
   },
   {
    "duration": 8,
    "start_time": "2021-06-28T14:26:07.015Z"
   },
   {
    "duration": 35,
    "start_time": "2021-06-28T14:26:26.064Z"
   },
   {
    "duration": 60,
    "start_time": "2021-06-28T14:26:31.338Z"
   },
   {
    "duration": 20,
    "start_time": "2021-06-28T14:26:37.072Z"
   },
   {
    "duration": 45,
    "start_time": "2021-06-28T14:27:52.375Z"
   },
   {
    "duration": 15,
    "start_time": "2021-06-28T14:28:19.480Z"
   },
   {
    "duration": 8367,
    "start_time": "2021-06-28T14:29:45.604Z"
   },
   {
    "duration": 7,
    "start_time": "2021-06-28T14:31:33.665Z"
   },
   {
    "duration": 33,
    "start_time": "2021-06-28T14:31:38.661Z"
   },
   {
    "duration": 49,
    "start_time": "2021-06-28T14:31:40.653Z"
   },
   {
    "duration": 14,
    "start_time": "2021-06-28T14:31:43.842Z"
   },
   {
    "duration": 25,
    "start_time": "2021-06-28T14:32:05.321Z"
   },
   {
    "duration": 7,
    "start_time": "2021-06-28T14:32:15.656Z"
   },
   {
    "duration": 6,
    "start_time": "2021-06-28T14:32:18.199Z"
   },
   {
    "duration": 7,
    "start_time": "2021-06-28T14:32:18.932Z"
   },
   {
    "duration": 7,
    "start_time": "2021-06-28T14:32:21.106Z"
   },
   {
    "duration": 25,
    "start_time": "2021-06-28T14:32:23.272Z"
   },
   {
    "duration": 1506,
    "start_time": "2021-06-28T14:32:54.797Z"
   },
   {
    "duration": 33,
    "start_time": "2021-06-28T14:32:56.306Z"
   },
   {
    "duration": 303,
    "start_time": "2021-06-28T14:32:56.343Z"
   },
   {
    "duration": 36,
    "start_time": "2021-06-28T14:32:56.648Z"
   },
   {
    "duration": 15,
    "start_time": "2021-06-28T14:32:56.686Z"
   },
   {
    "duration": 8,
    "start_time": "2021-06-28T14:33:14.879Z"
   },
   {
    "duration": 31,
    "start_time": "2021-06-28T14:33:20.050Z"
   },
   {
    "duration": 52,
    "start_time": "2021-06-28T14:33:22.669Z"
   },
   {
    "duration": 16,
    "start_time": "2021-06-28T14:33:27.642Z"
   },
   {
    "duration": 4507,
    "start_time": "2021-06-28T14:49:52.641Z"
   },
   {
    "duration": 4482,
    "start_time": "2021-06-28T14:50:34.509Z"
   },
   {
    "duration": 4469,
    "start_time": "2021-06-28T14:51:35.500Z"
   },
   {
    "duration": 4545,
    "start_time": "2021-06-28T14:51:46.096Z"
   },
   {
    "duration": 376,
    "start_time": "2021-06-28T14:52:10.286Z"
   },
   {
    "duration": 169,
    "start_time": "2021-06-28T14:53:04.625Z"
   },
   {
    "duration": 107,
    "start_time": "2021-06-28T14:53:14.225Z"
   },
   {
    "duration": 577,
    "start_time": "2021-06-28T14:53:32.425Z"
   },
   {
    "duration": 103,
    "start_time": "2021-06-28T14:54:51.012Z"
   },
   {
    "duration": 594,
    "start_time": "2021-06-28T14:55:04.643Z"
   },
   {
    "duration": 19,
    "start_time": "2021-06-28T15:38:10.142Z"
   },
   {
    "duration": 296,
    "start_time": "2021-06-28T15:43:54.162Z"
   },
   {
    "duration": 7,
    "start_time": "2021-06-28T15:44:40.049Z"
   },
   {
    "duration": 20,
    "start_time": "2021-06-28T15:45:47.404Z"
   },
   {
    "duration": 10,
    "start_time": "2021-06-28T15:46:55.556Z"
   },
   {
    "duration": 9,
    "start_time": "2021-06-28T15:47:08.939Z"
   },
   {
    "duration": 9,
    "start_time": "2021-06-28T15:47:20.879Z"
   },
   {
    "duration": 6,
    "start_time": "2021-06-28T15:47:30.315Z"
   },
   {
    "duration": 5,
    "start_time": "2021-06-28T15:47:41.017Z"
   },
   {
    "duration": 327,
    "start_time": "2021-06-28T15:52:55.007Z"
   },
   {
    "duration": 43,
    "start_time": "2021-06-28T15:52:59.858Z"
   },
   {
    "duration": 320,
    "start_time": "2021-06-28T15:53:36.542Z"
   },
   {
    "duration": 319,
    "start_time": "2021-06-28T15:53:44.060Z"
   },
   {
    "duration": 6,
    "start_time": "2021-06-28T15:54:44.748Z"
   },
   {
    "duration": 355,
    "start_time": "2021-06-28T15:55:14.220Z"
   },
   {
    "duration": 277,
    "start_time": "2021-06-28T15:55:27.850Z"
   },
   {
    "duration": 8,
    "start_time": "2021-06-28T15:55:31.382Z"
   },
   {
    "duration": 2115,
    "start_time": "2021-06-28T15:58:45.488Z"
   },
   {
    "duration": 402,
    "start_time": "2021-06-28T15:59:04.767Z"
   },
   {
    "duration": 104,
    "start_time": "2021-06-28T16:01:54.260Z"
   },
   {
    "duration": 1468,
    "start_time": "2021-06-28T16:02:14.890Z"
   },
   {
    "duration": 39,
    "start_time": "2021-06-28T16:02:16.361Z"
   },
   {
    "duration": 337,
    "start_time": "2021-06-28T16:02:16.403Z"
   },
   {
    "duration": 32,
    "start_time": "2021-06-28T16:02:16.743Z"
   },
   {
    "duration": 14,
    "start_time": "2021-06-28T16:02:16.778Z"
   },
   {
    "duration": 16,
    "start_time": "2021-06-28T16:02:16.795Z"
   },
   {
    "duration": 55,
    "start_time": "2021-06-28T16:02:16.813Z"
   },
   {
    "duration": 50,
    "start_time": "2021-06-28T16:02:22.786Z"
   },
   {
    "duration": 110,
    "start_time": "2021-06-28T16:02:26.435Z"
   },
   {
    "duration": 476,
    "start_time": "2021-06-28T16:02:46.436Z"
   },
   {
    "duration": 273,
    "start_time": "2021-06-28T16:03:14.972Z"
   },
   {
    "duration": 282,
    "start_time": "2021-06-28T16:05:28.599Z"
   },
   {
    "duration": 5,
    "start_time": "2021-06-28T16:06:43.044Z"
   },
   {
    "duration": 6,
    "start_time": "2021-06-28T16:07:11.826Z"
   },
   {
    "duration": 5,
    "start_time": "2021-06-28T16:07:58.207Z"
   },
   {
    "duration": 6,
    "start_time": "2021-06-28T16:08:02.239Z"
   },
   {
    "duration": 1518,
    "start_time": "2021-06-28T16:08:16.553Z"
   },
   {
    "duration": 35,
    "start_time": "2021-06-28T16:08:18.074Z"
   },
   {
    "duration": 307,
    "start_time": "2021-06-28T16:08:18.112Z"
   },
   {
    "duration": 29,
    "start_time": "2021-06-28T16:08:18.422Z"
   },
   {
    "duration": 15,
    "start_time": "2021-06-28T16:08:18.467Z"
   },
   {
    "duration": 6,
    "start_time": "2021-06-28T16:08:18.485Z"
   },
   {
    "duration": 32,
    "start_time": "2021-06-28T16:08:18.494Z"
   },
   {
    "duration": 52,
    "start_time": "2021-06-28T16:08:21.957Z"
   },
   {
    "duration": 5,
    "start_time": "2021-06-28T16:08:24.564Z"
   },
   {
    "duration": 6,
    "start_time": "2021-06-28T16:08:29.155Z"
   },
   {
    "duration": 5,
    "start_time": "2021-06-28T16:08:51.199Z"
   },
   {
    "duration": 7,
    "start_time": "2021-06-28T16:09:17.932Z"
   },
   {
    "duration": 7,
    "start_time": "2021-06-28T16:09:22.881Z"
   },
   {
    "duration": 14,
    "start_time": "2021-06-28T16:09:35.205Z"
   },
   {
    "duration": 4603,
    "start_time": "2021-06-28T16:09:42.607Z"
   },
   {
    "duration": 593,
    "start_time": "2021-06-28T16:09:53.980Z"
   },
   {
    "duration": 8,
    "start_time": "2021-06-28T16:09:54.576Z"
   },
   {
    "duration": 19,
    "start_time": "2021-06-28T16:09:54.587Z"
   },
   {
    "duration": 478,
    "start_time": "2021-06-28T16:10:26.927Z"
   },
   {
    "duration": 38,
    "start_time": "2021-06-28T16:10:54.495Z"
   },
   {
    "duration": 32,
    "start_time": "2021-06-28T19:20:28.532Z"
   },
   {
    "duration": 1901,
    "start_time": "2021-06-28T19:21:38.213Z"
   },
   {
    "duration": 589,
    "start_time": "2021-06-28T19:27:01.867Z"
   },
   {
    "duration": 17,
    "start_time": "2021-06-28T19:49:21.704Z"
   },
   {
    "duration": 98,
    "start_time": "2021-06-28T19:49:37.601Z"
   },
   {
    "duration": 33,
    "start_time": "2021-06-28T19:49:37.702Z"
   },
   {
    "duration": 310,
    "start_time": "2021-06-28T19:49:37.738Z"
   },
   {
    "duration": 29,
    "start_time": "2021-06-28T19:49:38.051Z"
   },
   {
    "duration": 15,
    "start_time": "2021-06-28T19:49:38.082Z"
   },
   {
    "duration": 6,
    "start_time": "2021-06-28T19:49:38.099Z"
   },
   {
    "duration": 60,
    "start_time": "2021-06-28T19:49:38.108Z"
   },
   {
    "duration": 46,
    "start_time": "2021-06-28T19:49:38.171Z"
   },
   {
    "duration": 5,
    "start_time": "2021-06-28T19:49:38.219Z"
   },
   {
    "duration": 41,
    "start_time": "2021-06-28T19:49:38.226Z"
   },
   {
    "duration": 4561,
    "start_time": "2021-06-28T19:49:38.270Z"
   },
   {
    "duration": 697,
    "start_time": "2021-06-28T19:49:42.834Z"
   },
   {
    "duration": 1518,
    "start_time": "2021-06-28T19:50:01.496Z"
   },
   {
    "duration": 34,
    "start_time": "2021-06-28T19:50:03.016Z"
   },
   {
    "duration": 309,
    "start_time": "2021-06-28T19:50:03.053Z"
   },
   {
    "duration": 28,
    "start_time": "2021-06-28T19:50:03.364Z"
   },
   {
    "duration": 14,
    "start_time": "2021-06-28T19:50:03.395Z"
   },
   {
    "duration": 10,
    "start_time": "2021-06-28T19:50:03.411Z"
   },
   {
    "duration": 58,
    "start_time": "2021-06-28T19:50:03.424Z"
   },
   {
    "duration": 59,
    "start_time": "2021-06-28T19:50:03.485Z"
   },
   {
    "duration": 24,
    "start_time": "2021-06-28T19:50:03.546Z"
   },
   {
    "duration": 21,
    "start_time": "2021-06-28T19:50:03.573Z"
   },
   {
    "duration": 4674,
    "start_time": "2021-06-28T19:50:03.596Z"
   },
   {
    "duration": 706,
    "start_time": "2021-06-28T19:50:08.272Z"
   },
   {
    "duration": 17,
    "start_time": "2021-06-28T19:50:14.455Z"
   },
   {
    "duration": 6,
    "start_time": "2021-06-28T19:51:03.086Z"
   },
   {
    "duration": 24,
    "start_time": "2021-06-28T19:51:18.592Z"
   },
   {
    "duration": 20,
    "start_time": "2021-06-28T20:12:20.626Z"
   },
   {
    "duration": 43,
    "start_time": "2021-06-28T20:12:41.796Z"
   },
   {
    "duration": 121,
    "start_time": "2021-06-28T20:14:14.462Z"
   },
   {
    "duration": 9,
    "start_time": "2021-06-28T20:15:04.745Z"
   },
   {
    "duration": 35,
    "start_time": "2021-06-28T20:15:07.332Z"
   },
   {
    "duration": 13,
    "start_time": "2021-06-28T22:37:10.863Z"
   },
   {
    "duration": 8,
    "start_time": "2021-06-28T22:37:38.401Z"
   },
   {
    "duration": 439,
    "start_time": "2021-06-28T22:38:07.605Z"
   },
   {
    "duration": 311,
    "start_time": "2021-06-28T22:38:14.091Z"
   },
   {
    "duration": 287,
    "start_time": "2021-06-28T22:38:26.473Z"
   },
   {
    "duration": 22,
    "start_time": "2021-06-28T22:42:49.384Z"
   },
   {
    "duration": 23,
    "start_time": "2021-06-28T22:44:54.985Z"
   },
   {
    "duration": 22,
    "start_time": "2021-06-28T22:45:09.123Z"
   },
   {
    "duration": 588,
    "start_time": "2021-06-28T22:52:26.581Z"
   },
   {
    "duration": 5,
    "start_time": "2021-06-28T22:52:43.408Z"
   },
   {
    "duration": 27,
    "start_time": "2021-06-28T22:54:24.469Z"
   },
   {
    "duration": 25,
    "start_time": "2021-06-28T22:56:37.873Z"
   },
   {
    "duration": 7903,
    "start_time": "2021-06-28T22:58:24.982Z"
   },
   {
    "duration": 23,
    "start_time": "2021-06-28T22:59:09.106Z"
   },
   {
    "duration": 20,
    "start_time": "2021-06-28T22:59:59.804Z"
   },
   {
    "duration": 21,
    "start_time": "2021-06-28T23:00:12.303Z"
   },
   {
    "duration": 1516,
    "start_time": "2021-06-28T23:00:36.526Z"
   },
   {
    "duration": 42,
    "start_time": "2021-06-28T23:00:38.045Z"
   },
   {
    "duration": 321,
    "start_time": "2021-06-28T23:00:38.090Z"
   },
   {
    "duration": 53,
    "start_time": "2021-06-28T23:00:38.415Z"
   },
   {
    "duration": 23,
    "start_time": "2021-06-28T23:00:38.471Z"
   },
   {
    "duration": 8,
    "start_time": "2021-06-28T23:00:38.497Z"
   },
   {
    "duration": 60,
    "start_time": "2021-06-28T23:00:38.507Z"
   },
   {
    "duration": 49,
    "start_time": "2021-06-28T23:00:38.571Z"
   },
   {
    "duration": 6,
    "start_time": "2021-06-28T23:00:38.622Z"
   },
   {
    "duration": 40,
    "start_time": "2021-06-28T23:00:38.630Z"
   },
   {
    "duration": 4582,
    "start_time": "2021-06-28T23:00:38.672Z"
   },
   {
    "duration": 586,
    "start_time": "2021-06-28T23:00:43.256Z"
   },
   {
    "duration": 27,
    "start_time": "2021-06-28T23:00:43.845Z"
   },
   {
    "duration": 29,
    "start_time": "2021-06-28T23:00:43.875Z"
   },
   {
    "duration": 24,
    "start_time": "2021-06-28T23:01:00.331Z"
   },
   {
    "duration": 22,
    "start_time": "2021-06-28T23:01:14.375Z"
   },
   {
    "duration": 22,
    "start_time": "2021-06-28T23:02:05.151Z"
   },
   {
    "duration": 7,
    "start_time": "2021-06-28T23:02:17.833Z"
   },
   {
    "duration": 5,
    "start_time": "2021-06-28T23:02:30.982Z"
   },
   {
    "duration": 5,
    "start_time": "2021-06-28T23:02:33.394Z"
   },
   {
    "duration": 10,
    "start_time": "2021-06-28T23:03:16.837Z"
   },
   {
    "duration": 13,
    "start_time": "2021-06-28T23:04:00.561Z"
   },
   {
    "duration": 24,
    "start_time": "2021-06-28T23:07:01.353Z"
   },
   {
    "duration": 109,
    "start_time": "2021-06-28T23:08:31.516Z"
   },
   {
    "duration": 39,
    "start_time": "2021-06-28T23:08:41.310Z"
   },
   {
    "duration": 26,
    "start_time": "2021-06-28T23:09:38.012Z"
   },
   {
    "duration": 792,
    "start_time": "2021-06-28T23:10:59.416Z"
   },
   {
    "duration": 33,
    "start_time": "2021-06-28T23:11:02.856Z"
   },
   {
    "duration": 35,
    "start_time": "2021-06-28T23:14:43.878Z"
   },
   {
    "duration": 33,
    "start_time": "2021-06-28T23:15:41.582Z"
   },
   {
    "duration": 26,
    "start_time": "2021-06-28T23:16:24.491Z"
   },
   {
    "duration": 26,
    "start_time": "2021-06-28T23:16:58.923Z"
   },
   {
    "duration": 26,
    "start_time": "2021-06-28T23:17:43.340Z"
   },
   {
    "duration": 1511,
    "start_time": "2021-06-29T14:17:05.144Z"
   },
   {
    "duration": 32,
    "start_time": "2021-06-29T14:17:06.658Z"
   },
   {
    "duration": 298,
    "start_time": "2021-06-29T14:17:06.692Z"
   },
   {
    "duration": 28,
    "start_time": "2021-06-29T14:17:06.992Z"
   },
   {
    "duration": 15,
    "start_time": "2021-06-29T14:17:07.022Z"
   },
   {
    "duration": 32,
    "start_time": "2021-06-29T14:17:07.039Z"
   },
   {
    "duration": 30,
    "start_time": "2021-06-29T14:17:07.073Z"
   },
   {
    "duration": 66,
    "start_time": "2021-06-29T14:17:07.107Z"
   },
   {
    "duration": 6,
    "start_time": "2021-06-29T14:17:07.175Z"
   },
   {
    "duration": 16,
    "start_time": "2021-06-29T14:17:07.184Z"
   },
   {
    "duration": 4517,
    "start_time": "2021-06-29T14:17:07.202Z"
   },
   {
    "duration": 589,
    "start_time": "2021-06-29T14:17:11.721Z"
   },
   {
    "duration": 22,
    "start_time": "2021-06-29T14:17:12.312Z"
   },
   {
    "duration": 51,
    "start_time": "2021-06-29T14:17:12.337Z"
   },
   {
    "duration": 704,
    "start_time": "2021-06-29T14:18:18.195Z"
   },
   {
    "duration": 24,
    "start_time": "2021-06-29T14:18:25.260Z"
   },
   {
    "duration": 93,
    "start_time": "2021-06-29T14:19:33.116Z"
   },
   {
    "duration": 66,
    "start_time": "2021-06-29T14:19:39.116Z"
   },
   {
    "duration": 128,
    "start_time": "2021-06-29T14:21:22.886Z"
   },
   {
    "duration": 311,
    "start_time": "2021-06-29T14:22:10.843Z"
   },
   {
    "duration": 371,
    "start_time": "2021-06-29T14:22:14.269Z"
   },
   {
    "duration": 303,
    "start_time": "2021-06-29T14:25:02.562Z"
   },
   {
    "duration": 291,
    "start_time": "2021-06-29T14:25:06.328Z"
   },
   {
    "duration": 768,
    "start_time": "2021-06-29T14:25:13.674Z"
   },
   {
    "duration": 289,
    "start_time": "2021-06-29T14:25:26.510Z"
   },
   {
    "duration": 69,
    "start_time": "2021-06-29T14:25:32.089Z"
   },
   {
    "duration": 75,
    "start_time": "2021-06-29T14:25:47.195Z"
   },
   {
    "duration": 128,
    "start_time": "2021-06-29T14:28:12.782Z"
   },
   {
    "duration": 94,
    "start_time": "2021-06-29T14:28:22.597Z"
   },
   {
    "duration": 16,
    "start_time": "2021-06-29T14:32:55.768Z"
   },
   {
    "duration": 22,
    "start_time": "2021-06-29T14:33:52.318Z"
   },
   {
    "duration": 333,
    "start_time": "2021-06-29T14:35:09.057Z"
   },
   {
    "duration": 24,
    "start_time": "2021-06-29T14:35:13.534Z"
   },
   {
    "duration": 23,
    "start_time": "2021-06-29T14:39:44.783Z"
   },
   {
    "duration": 23,
    "start_time": "2021-06-29T14:40:22.580Z"
   },
   {
    "duration": 30,
    "start_time": "2021-06-29T14:40:53.430Z"
   },
   {
    "duration": 22,
    "start_time": "2021-06-29T14:41:57.750Z"
   },
   {
    "duration": 20,
    "start_time": "2021-06-29T14:44:56.847Z"
   },
   {
    "duration": 30,
    "start_time": "2021-06-29T14:45:29.410Z"
   },
   {
    "duration": 2126,
    "start_time": "2021-06-29T15:40:13.575Z"
   },
   {
    "duration": 36,
    "start_time": "2021-06-29T15:40:24.116Z"
   },
   {
    "duration": 298,
    "start_time": "2021-06-29T15:40:24.155Z"
   },
   {
    "duration": 51,
    "start_time": "2021-06-29T15:40:24.456Z"
   },
   {
    "duration": 18,
    "start_time": "2021-06-29T15:40:24.510Z"
   },
   {
    "duration": 7,
    "start_time": "2021-06-29T15:40:24.531Z"
   },
   {
    "duration": 73,
    "start_time": "2021-06-29T15:40:24.541Z"
   },
   {
    "duration": 49,
    "start_time": "2021-06-29T15:40:24.617Z"
   },
   {
    "duration": 10,
    "start_time": "2021-06-29T15:40:24.686Z"
   },
   {
    "duration": 27,
    "start_time": "2021-06-29T15:40:24.699Z"
   },
   {
    "duration": 5415,
    "start_time": "2021-06-29T15:40:24.730Z"
   },
   {
    "duration": 631,
    "start_time": "2021-06-29T15:40:30.148Z"
   },
   {
    "duration": 26,
    "start_time": "2021-06-29T15:40:30.784Z"
   },
   {
    "duration": 40,
    "start_time": "2021-06-29T15:40:30.812Z"
   },
   {
    "duration": 33,
    "start_time": "2021-06-29T15:40:30.855Z"
   },
   {
    "duration": 29,
    "start_time": "2021-06-29T15:40:30.893Z"
   },
   {
    "duration": 73,
    "start_time": "2021-06-29T15:40:30.925Z"
   },
   {
    "duration": 33,
    "start_time": "2021-06-29T15:40:31.001Z"
   },
   {
    "duration": 60,
    "start_time": "2021-06-29T15:40:31.038Z"
   },
   {
    "duration": 30,
    "start_time": "2021-06-29T15:40:31.101Z"
   },
   {
    "duration": 55,
    "start_time": "2021-06-29T15:40:31.134Z"
   },
   {
    "duration": 18,
    "start_time": "2021-06-29T15:47:28.751Z"
   },
   {
    "duration": 19,
    "start_time": "2021-06-29T15:48:03.505Z"
   },
   {
    "duration": 11,
    "start_time": "2021-06-29T15:50:09.085Z"
   },
   {
    "duration": 374,
    "start_time": "2021-06-29T15:50:33.300Z"
   },
   {
    "duration": 294,
    "start_time": "2021-06-29T15:50:41.042Z"
   },
   {
    "duration": 319,
    "start_time": "2021-06-29T15:50:58.424Z"
   },
   {
    "duration": 33,
    "start_time": "2021-06-29T15:51:47.857Z"
   },
   {
    "duration": 44,
    "start_time": "2021-06-29T15:51:58.079Z"
   },
   {
    "duration": 32,
    "start_time": "2021-06-29T15:52:02.928Z"
   },
   {
    "duration": 1022,
    "start_time": "2021-06-30T08:20:54.229Z"
   },
   {
    "duration": 24,
    "start_time": "2021-06-30T08:20:58.259Z"
   },
   {
    "duration": 4658,
    "start_time": "2021-06-30T08:21:05.383Z"
   },
   {
    "duration": 74,
    "start_time": "2021-06-30T08:25:53.543Z"
   },
   {
    "duration": 67,
    "start_time": "2021-06-30T08:26:41.221Z"
   },
   {
    "duration": 66,
    "start_time": "2021-06-30T08:27:22.506Z"
   },
   {
    "duration": 972,
    "start_time": "2021-06-30T08:27:40.883Z"
   },
   {
    "duration": 68,
    "start_time": "2021-06-30T08:27:44.074Z"
   },
   {
    "duration": 244,
    "start_time": "2021-06-30T08:28:09.349Z"
   },
   {
    "duration": 24,
    "start_time": "2021-06-30T08:29:06.324Z"
   },
   {
    "duration": 193,
    "start_time": "2021-06-30T08:29:09.885Z"
   },
   {
    "duration": 174,
    "start_time": "2021-06-30T08:29:16.675Z"
   },
   {
    "duration": 390,
    "start_time": "2021-06-30T08:29:38.381Z"
   },
   {
    "duration": 770,
    "start_time": "2021-06-30T08:30:15.016Z"
   },
   {
    "duration": 24,
    "start_time": "2021-06-30T08:31:25.854Z"
   },
   {
    "duration": 731,
    "start_time": "2021-06-30T08:31:28.832Z"
   },
   {
    "duration": 24,
    "start_time": "2021-06-30T08:31:51.927Z"
   },
   {
    "duration": 25,
    "start_time": "2021-06-30T08:33:33.733Z"
   },
   {
    "duration": 177,
    "start_time": "2021-06-30T08:33:39.679Z"
   },
   {
    "duration": 23,
    "start_time": "2021-06-30T08:33:57.459Z"
   },
   {
    "duration": 1063,
    "start_time": "2021-06-30T08:34:00.128Z"
   },
   {
    "duration": 1082,
    "start_time": "2021-06-30T08:39:09.586Z"
   },
   {
    "duration": 200,
    "start_time": "2021-06-30T08:39:29.094Z"
   },
   {
    "duration": 209,
    "start_time": "2021-06-30T08:39:52.853Z"
   },
   {
    "duration": 203,
    "start_time": "2021-06-30T08:40:11.129Z"
   },
   {
    "duration": 210,
    "start_time": "2021-06-30T08:40:19.956Z"
   },
   {
    "duration": 24,
    "start_time": "2021-06-30T08:40:30.320Z"
   },
   {
    "duration": 8,
    "start_time": "2021-06-30T08:40:53.326Z"
   },
   {
    "duration": 18,
    "start_time": "2021-06-30T08:41:09.025Z"
   },
   {
    "duration": 57,
    "start_time": "2021-06-30T08:42:07.851Z"
   },
   {
    "duration": 23,
    "start_time": "2021-06-30T08:42:17.553Z"
   },
   {
    "duration": 182,
    "start_time": "2021-06-30T08:42:36.995Z"
   },
   {
    "duration": 30,
    "start_time": "2021-06-30T08:42:54.880Z"
   },
   {
    "duration": 22414,
    "start_time": "2021-06-30T08:43:01.938Z"
   },
   {
    "duration": 4305,
    "start_time": "2021-06-30T08:49:17.231Z"
   },
   {
    "duration": 25,
    "start_time": "2021-06-30T08:49:37.813Z"
   },
   {
    "duration": 26,
    "start_time": "2021-06-30T08:49:43.001Z"
   },
   {
    "duration": 2024,
    "start_time": "2021-06-30T08:50:01.906Z"
   },
   {
    "duration": 23,
    "start_time": "2021-06-30T08:50:27.425Z"
   },
   {
    "duration": 353,
    "start_time": "2021-06-30T08:51:00.259Z"
   },
   {
    "duration": 23,
    "start_time": "2021-06-30T08:51:18.675Z"
   },
   {
    "duration": 335,
    "start_time": "2021-06-30T08:51:23.189Z"
   },
   {
    "duration": 32,
    "start_time": "2021-06-30T08:51:34.407Z"
   },
   {
    "duration": 186,
    "start_time": "2021-06-30T08:51:39.048Z"
   },
   {
    "duration": 352,
    "start_time": "2021-06-30T08:51:56.134Z"
   },
   {
    "duration": 177,
    "start_time": "2021-06-30T08:52:14.504Z"
   },
   {
    "duration": 191,
    "start_time": "2021-06-30T09:09:46.465Z"
   },
   {
    "duration": 1188,
    "start_time": "2021-06-30T09:10:00.244Z"
   },
   {
    "duration": 24,
    "start_time": "2021-06-30T09:10:01.434Z"
   },
   {
    "duration": 198,
    "start_time": "2021-06-30T09:10:01.460Z"
   },
   {
    "duration": 27,
    "start_time": "2021-06-30T09:10:01.660Z"
   },
   {
    "duration": 12,
    "start_time": "2021-06-30T09:10:01.689Z"
   },
   {
    "duration": 33,
    "start_time": "2021-06-30T09:10:01.703Z"
   },
   {
    "duration": 65,
    "start_time": "2021-06-30T09:10:01.737Z"
   },
   {
    "duration": 36,
    "start_time": "2021-06-30T09:10:01.805Z"
   },
   {
    "duration": 4,
    "start_time": "2021-06-30T09:10:01.843Z"
   },
   {
    "duration": 21,
    "start_time": "2021-06-30T09:10:01.849Z"
   },
   {
    "duration": 3338,
    "start_time": "2021-06-30T09:10:01.884Z"
   },
   {
    "duration": 330,
    "start_time": "2021-06-30T09:10:05.223Z"
   },
   {
    "duration": 12,
    "start_time": "2021-06-30T09:10:05.555Z"
   },
   {
    "duration": 33,
    "start_time": "2021-06-30T09:10:05.569Z"
   },
   {
    "duration": 9,
    "start_time": "2021-06-30T09:10:05.603Z"
   },
   {
    "duration": 7,
    "start_time": "2021-06-30T09:10:05.613Z"
   },
   {
    "duration": 16,
    "start_time": "2021-06-30T09:10:05.622Z"
   },
   {
    "duration": 49,
    "start_time": "2021-06-30T09:10:05.640Z"
   },
   {
    "duration": 14,
    "start_time": "2021-06-30T09:10:05.691Z"
   },
   {
    "duration": 11,
    "start_time": "2021-06-30T09:10:05.707Z"
   },
   {
    "duration": 11,
    "start_time": "2021-06-30T09:10:05.719Z"
   },
   {
    "duration": 14,
    "start_time": "2021-06-30T09:10:05.732Z"
   },
   {
    "duration": 52,
    "start_time": "2021-06-30T09:10:05.749Z"
   },
   {
    "duration": 26,
    "start_time": "2021-06-30T09:10:08.470Z"
   },
   {
    "duration": 21,
    "start_time": "2021-06-30T09:10:27.530Z"
   },
   {
    "duration": 20,
    "start_time": "2021-06-30T09:11:16.466Z"
   },
   {
    "duration": 20,
    "start_time": "2021-06-30T09:11:33.398Z"
   },
   {
    "duration": 18,
    "start_time": "2021-06-30T09:24:04.970Z"
   },
   {
    "duration": 12,
    "start_time": "2021-06-30T09:24:18.890Z"
   },
   {
    "duration": 15,
    "start_time": "2021-06-30T09:24:24.001Z"
   },
   {
    "duration": 19,
    "start_time": "2021-06-30T09:24:28.726Z"
   },
   {
    "duration": 23,
    "start_time": "2021-06-30T09:24:35.877Z"
   },
   {
    "duration": 23,
    "start_time": "2021-06-30T09:24:44.056Z"
   },
   {
    "duration": 18,
    "start_time": "2021-06-30T09:24:55.170Z"
   },
   {
    "duration": 63,
    "start_time": "2021-06-30T09:44:25.988Z"
   },
   {
    "duration": 1917,
    "start_time": "2021-06-30T19:00:51.815Z"
   },
   {
    "duration": 33,
    "start_time": "2021-06-30T19:00:53.735Z"
   },
   {
    "duration": 320,
    "start_time": "2021-06-30T19:00:53.770Z"
   },
   {
    "duration": 39,
    "start_time": "2021-06-30T19:01:23.423Z"
   },
   {
    "duration": 462,
    "start_time": "2021-06-30T19:01:32.310Z"
   },
   {
    "duration": 21,
    "start_time": "2021-06-30T19:01:35.731Z"
   },
   {
    "duration": 39,
    "start_time": "2021-06-30T19:01:49.144Z"
   },
   {
    "duration": 28,
    "start_time": "2021-06-30T19:02:45.628Z"
   },
   {
    "duration": 6,
    "start_time": "2021-06-30T19:02:56.828Z"
   },
   {
    "duration": 4,
    "start_time": "2021-06-30T19:03:30.546Z"
   },
   {
    "duration": 355,
    "start_time": "2021-06-30T19:03:36.913Z"
   },
   {
    "duration": 7672,
    "start_time": "2021-06-30T19:03:43.589Z"
   }
  ],
  "kernelspec": {
   "display_name": "Python 3",
   "language": "python",
   "name": "python3"
  },
  "language_info": {
   "codemirror_mode": {
    "name": "ipython",
    "version": 3
   },
   "file_extension": ".py",
   "mimetype": "text/x-python",
   "name": "python",
   "nbconvert_exporter": "python",
   "pygments_lexer": "ipython3",
   "version": "3.8.5"
  },
  "toc": {
   "base_numbering": 1,
   "nav_menu": {},
   "number_sections": true,
   "sideBar": true,
   "skip_h1_title": true,
   "title_cell": "Table of Contents",
   "title_sidebar": "Contents",
   "toc_cell": false,
   "toc_position": {
    "height": "calc(100% - 180px)",
    "left": "10px",
    "top": "150px",
    "width": "319px"
   },
   "toc_section_display": true,
   "toc_window_display": true
  }
 },
 "nbformat": 4,
 "nbformat_minor": 2
}
