{
 "cells": [
  {
   "cell_type": "markdown",
   "metadata": {
    "toc": true
   },
   "source": [
    "<h1>Table of Contents<span class=\"tocSkip\"></span></h1>\n",
    "<div class=\"toc\"><ul class=\"toc-item\"><li><span><a href=\"#Практика\" data-toc-modified-id=\"Практика-1\"><span class=\"toc-item-num\">1&nbsp;&nbsp;</span>Практика</a></span><ul class=\"toc-item\"><li><span><a href=\"#Определение-вероятности.-События\" data-toc-modified-id=\"Определение-вероятности.-События-1.1\"><span class=\"toc-item-num\">1.1&nbsp;&nbsp;</span>Определение вероятности. События</a></span><ul class=\"toc-item\"><li><span><a href=\"#Задача-1\" data-toc-modified-id=\"Задача-1-1.1.1\"><span class=\"toc-item-num\">1.1.1&nbsp;&nbsp;</span>Задача 1</a></span></li><li><span><a href=\"#Задача-2\" data-toc-modified-id=\"Задача-2-1.1.2\"><span class=\"toc-item-num\">1.1.2&nbsp;&nbsp;</span>Задача 2</a></span></li><li><span><a href=\"#Задача-3\" data-toc-modified-id=\"Задача-3-1.1.3\"><span class=\"toc-item-num\">1.1.3&nbsp;&nbsp;</span>Задача 3</a></span></li><li><span><a href=\"#Задача-4\" data-toc-modified-id=\"Задача-4-1.1.4\"><span class=\"toc-item-num\">1.1.4&nbsp;&nbsp;</span>Задача 4</a></span></li><li><span><a href=\"#Задача-5\" data-toc-modified-id=\"Задача-5-1.1.5\"><span class=\"toc-item-num\">1.1.5&nbsp;&nbsp;</span>Задача 5</a></span></li></ul></li></ul></li></ul></div>"
   ]
  },
  {
   "cell_type": "markdown",
   "metadata": {
    "id": "pDrecLU-4QjS"
   },
   "source": [
    "# Практика"
   ]
  },
  {
   "cell_type": "markdown",
   "metadata": {
    "id": "gUvTNDlMaV-a"
   },
   "source": [
    "## Определение вероятности. События\n",
    "\n",
    "Требуется сгенерировать необходимые выборки и произвести по ним расчеты"
   ]
  },
  {
   "cell_type": "markdown",
   "metadata": {
    "id": "5V70InEBTgup"
   },
   "source": [
    "### Задача 1\n",
    "Брошено две монеты. Найти вероятность того, что монеты выпали разными сторонами"
   ]
  },
  {
   "cell_type": "code",
   "execution_count": 1,
   "metadata": {
    "id": "88Iw-SL3jYQV"
   },
   "outputs": [],
   "source": [
    "import pandas as pd\n",
    "import numpy as np\n",
    "import matplotlib.pyplot as plt\n",
    "import scipy.stats as sts\n",
    "import collections as c"
   ]
  },
  {
   "cell_type": "code",
   "execution_count": 2,
   "metadata": {},
   "outputs": [],
   "source": [
    "n=1000\n",
    "bernoulli_rv1 = sts.bernoulli(0.5)\n",
    "bernoulli_rv2 = sts.bernoulli(0.5)\n",
    "z1= bernoulli_rv1.rvs(n)\n",
    "z2= bernoulli_rv2.rvs(n)\n",
    "\n",
    "p=(list(zip(z1,z2)))\n",
    "с=c.Counter(p)"
   ]
  },
  {
   "cell_type": "code",
   "execution_count": 3,
   "metadata": {},
   "outputs": [
    {
     "name": "stdout",
     "output_type": "stream",
     "text": [
      "Вероятность того, что монеты выпали разными сторонами составляет : 0.486\n"
     ]
    }
   ],
   "source": [
    "print(f'Вероятность того, что монеты выпали разными сторонами составляет : {(с[(1, 0)]+с[(0, 1)])/n}')"
   ]
  },
  {
   "cell_type": "markdown",
   "metadata": {
    "id": "t0XOMos2Tl0e"
   },
   "source": [
    "### Задача 2\n",
    "Брошено три монеты. Описать множество всех элементарных событий. Найти вероятности следующих событий:\n",
    "\n",
    "\n",
    "1.   A = {не выпало ни одного герба}\n",
    "2.   B = {выпало четное число гербов}\n",
    "3.   C = {на третьей монете выпал герб}\n"
   ]
  },
  {
   "cell_type": "code",
   "execution_count": 4,
   "metadata": {},
   "outputs": [
    {
     "name": "stdout",
     "output_type": "stream",
     "text": [
      "A = 0.137 не выпало ни одного герба\n",
      "B = 0.376 выпало четное число гербов\n",
      "C = 0.493 на третьей монете выпал герб\n"
     ]
    }
   ],
   "source": [
    "n=1000\n",
    "bernoulli_rv1 = sts.bernoulli(0.5)\n",
    "bernoulli_rv2 = sts.bernoulli(0.5)\n",
    "bernoulli_rv3 = sts.bernoulli(0.5)\n",
    "z1= bernoulli_rv1.rvs(n)\n",
    "z2= bernoulli_rv2.rvs(n)\n",
    "z3= bernoulli_rv3.rvs(n)\n",
    "p=(pd.Series(zip(z1,z2,z3)))\n",
    "\n",
    "a=[]\n",
    "b=[]\n",
    "c=[]\n",
    "for x in p[:]:\n",
    "    if x == (0, 0, 0):\n",
    "        a.append(1)\n",
    "    if x == (1, 1, 0) or x==(1, 0, 1) or x== (0, 1, 1):\n",
    "        b.append(1)\n",
    "    if x == (0, 0, 1) or x == (0, 1, 1) or x== (1, 0, 1) or x== (1, 1, 1):\n",
    "        c.append(1)\n",
    "\n",
    "print(f'A = {len(a)/n} не выпало ни одного герба')\n",
    "print(f'B = {len(b)/n} выпало четное число гербов')\n",
    "print(f'C = {len(c)/n} на третьей монете выпал герб')\n",
    "   "
   ]
  },
  {
   "cell_type": "code",
   "execution_count": 5,
   "metadata": {},
   "outputs": [],
   "source": [
    "n=1000\n",
    "bernoulli_rv1 = sts.bernoulli(0.5)\n",
    "bernoulli_rv2 = sts.bernoulli(0.5)\n",
    "bernoulli_rv3 = sts.bernoulli(0.5)\n",
    "z1= bernoulli_rv1.rvs(n)\n",
    "z2= bernoulli_rv2.rvs(n)\n",
    "z3= bernoulli_rv3.rvs(n)\n",
    "p=(list(zip(z1,z2,z3)))\n",
    "\n",
    "z=[x for x in p ]\n"
   ]
  },
  {
   "cell_type": "code",
   "execution_count": 8,
   "metadata": {},
   "outputs": [
    {
     "data": {
      "text/plain": [
       "Counter({(0, 0, 1): 124,\n",
       "         (0, 1, 1): 146,\n",
       "         (1, 0, 0): 120,\n",
       "         (0, 0, 0): 113,\n",
       "         (1, 0, 1): 117,\n",
       "         (0, 1, 0): 149,\n",
       "         (1, 1, 1): 123,\n",
       "         (1, 1, 0): 108})"
      ]
     },
     "execution_count": 8,
     "metadata": {},
     "output_type": "execute_result"
    }
   ],
   "source": [
    "c.Counter(z)"
   ]
  },
  {
   "cell_type": "code",
   "execution_count": 9,
   "metadata": {},
   "outputs": [
    {
     "name": "stdout",
     "output_type": "stream",
     "text": [
      "A = 0.125 не выпало ни одного герба\n",
      "B = 0.375 выпало четное число гербов\n",
      "C = 0.5 на третьей монете выпал герб\n"
     ]
    }
   ],
   "source": [
    "print(f'A = {1/8} не выпало ни одного герба')\n",
    "print(f'B = {3/8} выпало четное число гербов')\n",
    "print(f'C = {4/8} на третьей монете выпал герб')"
   ]
  },
  {
   "cell_type": "markdown",
   "metadata": {
    "id": "peM38mVfYa5B"
   },
   "source": [
    "### Задача 3\n",
    "Брошено две игральных кости. Описать множество элементарных событий. Найти вероятности событий:\n",
    "\n",
    "A = {вышло две \"шестерки\"}\n",
    "\n",
    "B = {сумма выпавших очков не меньше 11}\n",
    "\n",
    "C = {не выпала ни одна \"шестерка\"}"
   ]
  },
  {
   "cell_type": "code",
   "execution_count": 10,
   "metadata": {},
   "outputs": [
    {
     "name": "stdout",
     "output_type": "stream",
     "text": [
      "Вероятность, что вышло две \"шестерки\" = 0.0258\n"
     ]
    }
   ],
   "source": [
    "rv1=np.random.randint(1,7,10000)\n",
    "rv2=np.random.randint(1,7,10000)\n",
    "p=list(zip(rv1,rv2))\n",
    "z=c.Counter(p)\n",
    "\n",
    "print(f'Вероятность, что вышло две \"шестерки\" = {z[(6, 6)]/len(p)}')\n"
   ]
  },
  {
   "cell_type": "code",
   "execution_count": 11,
   "metadata": {},
   "outputs": [],
   "source": [
    "d=(pd.DataFrame(rv1))\n",
    "d['qub2']=rv2\n",
    "d.rename(columns={0: 'qub1'}, inplace=True)"
   ]
  },
  {
   "cell_type": "code",
   "execution_count": 12,
   "metadata": {},
   "outputs": [],
   "source": [
    "d['sum']=d['qub1']+d['qub2']"
   ]
  },
  {
   "cell_type": "code",
   "execution_count": 13,
   "metadata": {},
   "outputs": [],
   "source": [
    "su=d['sum'].loc[d['sum']>=11].count()/len(p)"
   ]
  },
  {
   "cell_type": "code",
   "execution_count": 14,
   "metadata": {},
   "outputs": [
    {
     "name": "stdout",
     "output_type": "stream",
     "text": [
      "Вероятность, что сумма выпавших очков не меньше 11 = 0.0808\n"
     ]
    }
   ],
   "source": [
    "print(f'Вероятность, что сумма выпавших очков не меньше 11 = { su }')"
   ]
  },
  {
   "cell_type": "code",
   "execution_count": 15,
   "metadata": {},
   "outputs": [],
   "source": [
    "bu=d.loc[(d['qub1'] != 6) & (d['qub2'] !=6),'sum'].count()/len(p)"
   ]
  },
  {
   "cell_type": "code",
   "execution_count": 16,
   "metadata": {},
   "outputs": [
    {
     "name": "stdout",
     "output_type": "stream",
     "text": [
      "Вероятность, что не выпала ни одна \"шестерка\" = 0.6911\n"
     ]
    }
   ],
   "source": [
    "print(f'Вероятность, что не выпала ни одна \"шестерка\" = { bu }')"
   ]
  },
  {
   "cell_type": "markdown",
   "metadata": {
    "id": "g7A7QlvGTnwZ"
   },
   "source": [
    "### Задача 4\n",
    "Брошены две игральные кости. Найти вероятность события D = {выпала хотя бы одна шестёрка}\n"
   ]
  },
  {
   "cell_type": "code",
   "execution_count": 40,
   "metadata": {},
   "outputs": [],
   "source": [
    "rv1=np.random.randint(1,7,1000)\n",
    "rv2=np.random.randint(1,7,1000)\n",
    "p=list(zip(rv1,rv2))\n",
    "d=(pd.DataFrame(rv1))\n",
    "d['qub2']=rv2\n",
    "d.rename(columns={0: 'qub1'}, inplace=True)\n",
    "bu=d.loc[(d['qub1'] == 6) | (d['qub2'] ==6),'qub1'].count()/len(p)"
   ]
  },
  {
   "cell_type": "code",
   "execution_count": 42,
   "metadata": {},
   "outputs": [
    {
     "name": "stdout",
     "output_type": "stream",
     "text": [
      "Вероятность того, что выпала хотя бы одна шестёрка = 0.3\n"
     ]
    }
   ],
   "source": [
    "print(f'Вероятность того, что выпала хотя бы одна шестёрка = {bu}')"
   ]
  },
  {
   "cell_type": "markdown",
   "metadata": {
    "id": "Fbu1RFZwWZrk"
   },
   "source": [
    "### Задача 5\n",
    "Из колоды (36 карт) вынимают последовательно без возвращения две карты. Найти вероятность того, что первой картой была шестерка, а второй — семерка. Найти условную вероятность того же события при условии, что обе карты бубновой масти.\n"
   ]
  },
  {
   "cell_type": "markdown",
   "metadata": {},
   "source": [
    "♠ — пики (вины, вини)\n",
    "\n",
    "♣ — трефы (крести, кресты, желуди)\n",
    "\n",
    "♥ — черви (червы, жиры)\n",
    "\n",
    "♦ — бубны (бубни, буби, звонки)"
   ]
  },
  {
   "cell_type": "code",
   "execution_count": 2,
   "metadata": {},
   "outputs": [],
   "source": [
    "f=[str(i) for i in range(6,11)]+['Туз','Король','Валет','Дама']"
   ]
  },
  {
   "cell_type": "code",
   "execution_count": 3,
   "metadata": {},
   "outputs": [],
   "source": [
    "a=['черви']*8\n",
    "b=['бубны']*8\n",
    "c=['трефы']*8\n",
    "d=['пики']*8\n"
   ]
  },
  {
   "cell_type": "code",
   "execution_count": 6,
   "metadata": {},
   "outputs": [],
   "source": [
    "p=pd.DataFrame([' '.join((v,l)) for v in f for l in a])\n",
    "p.rename(columns={0:'черви'},inplace=True)"
   ]
  },
  {
   "cell_type": "code",
   "execution_count": 7,
   "metadata": {},
   "outputs": [],
   "source": [
    "p['бубны']=pd.DataFrame([' '.join((v,l)) for v in f for l in b])\n",
    "p['трефы']=pd.DataFrame([' '.join((v,l)) for v in f for l in c])\n",
    "p['пики']=pd.DataFrame([' '.join((v,l)) for v in f for l in d])\n"
   ]
  },
  {
   "cell_type": "code",
   "execution_count": 8,
   "metadata": {
    "scrolled": true
   },
   "outputs": [],
   "source": [
    "p=p.drop_duplicates()"
   ]
  },
  {
   "cell_type": "code",
   "execution_count": 10,
   "metadata": {},
   "outputs": [],
   "source": [
    "res = pd.concat([p['черви'], p['бубны'],p['трефы'],p['пики']], ignore_index=True)\n"
   ]
  },
  {
   "cell_type": "code",
   "execution_count": 11,
   "metadata": {},
   "outputs": [],
   "source": [
    "res=pd.DataFrame(res)\n",
    "res.rename(columns={0:'карта1'},inplace=True)"
   ]
  },
  {
   "cell_type": "code",
   "execution_count": 12,
   "metadata": {},
   "outputs": [],
   "source": [
    "res['карта2']=pd.concat([p['черви'], p['бубны'],p['трефы'],p['пики']], ignore_index=True)"
   ]
  },
  {
   "cell_type": "code",
   "execution_count": 16,
   "metadata": {},
   "outputs": [],
   "source": [
    "res1 = pd.DataFrame(np.repeat(res.values, 100, axis=0), columns=res.columns).astype(res.dtypes)"
   ]
  },
  {
   "cell_type": "code",
   "execution_count": 44,
   "metadata": {},
   "outputs": [],
   "source": [
    "np.random.shuffle(res1['карта1'])\n",
    "np.random.shuffle(res1['карта2'])"
   ]
  },
  {
   "cell_type": "code",
   "execution_count": 46,
   "metadata": {},
   "outputs": [
    {
     "data": {
      "text/plain": [
       "0.014166666666666666"
      ]
     },
     "execution_count": 46,
     "metadata": {},
     "output_type": "execute_result"
    }
   ],
   "source": [
    "res1.loc[(res1['карта2'].str[0]=='7')&(res1['карта1'].str[0]=='6')].shape[0]/len(res1)"
   ]
  },
  {
   "cell_type": "code",
   "execution_count": 47,
   "metadata": {},
   "outputs": [
    {
     "data": {
      "text/plain": [
       "0.0011111111111111111"
      ]
     },
     "execution_count": 47,
     "metadata": {},
     "output_type": "execute_result"
    }
   ],
   "source": [
    "res1.loc[(res1['карта2']=='7 бубны')&(res1['карта1']=='6 бубны')].shape[0]/len(res1)"
   ]
  }
 ],
 "metadata": {
  "colab": {
   "collapsed_sections": [],
   "name": "Практика к занятию 11.ipynb",
   "provenance": []
  },
  "kernelspec": {
   "display_name": "Python 3",
   "language": "python",
   "name": "python3"
  },
  "language_info": {
   "codemirror_mode": {
    "name": "ipython",
    "version": 3
   },
   "file_extension": ".py",
   "mimetype": "text/x-python",
   "name": "python",
   "nbconvert_exporter": "python",
   "pygments_lexer": "ipython3",
   "version": "3.8.5"
  },
  "toc": {
   "base_numbering": 1,
   "nav_menu": {},
   "number_sections": true,
   "sideBar": true,
   "skip_h1_title": false,
   "title_cell": "Table of Contents",
   "title_sidebar": "Contents",
   "toc_cell": true,
   "toc_position": {},
   "toc_section_display": true,
   "toc_window_display": false
  }
 },
 "nbformat": 4,
 "nbformat_minor": 1
}
