{
 "cells": [
  {
   "cell_type": "markdown",
   "metadata": {
    "id": "sIfNaMOxgFyK"
   },
   "source": [
    "## Исследование данных о российском кинопрокате\n",
    "\n"
   ]
  },
  {
   "cell_type": "markdown",
   "metadata": {
    "id": "3bSlkCsbgFyL"
   },
   "source": [
    "### Шаг 1. Откройте файлы с данными и объедините их в один датафрейм. \n",
    "\n",
    "Объедините данные таким образом, чтобы все объекты из датасета `mkrf_movies` обязательно вошли в получившийся датафрейм. \n",
    "\n",
    "<div id=\"accordion\">\n",
    "    <div class=\"card\">\n",
    "        <div class=\"card-header\" id=\"headingThree\">\n",
    "            <button class=\"btn btn-link collapsed\" data-toggle=\"collapse\" data-target=\"#collapseHint_0\" aria-expanded=\"false\" aria-controls=\"collapseHint_0\">Подсказка</button>\n",
    "        </div>\n",
    "        <div id=\"collapseHint_0\" class=\"collapse\" aria-labelledby=\"headingThree\" data-parent=\"#accordion\">\n",
    "            <div class=\"card-body\">\n",
    "Обратите внимание на тип данных столбца, по которому будете соединять датафреймы. Тип данных этих столбцов должен быть одинаковым в обоих датафреймах.\n",
    "            </div>\n",
    "        </div>\n",
    "    </div>\n",
    "</div>"
   ]
  },
  {
   "cell_type": "code",
   "execution_count": 95,
   "metadata": {
    "id": "dw87FlzMgFyM"
   },
   "outputs": [],
   "source": [
    "import pandas as pd\n",
    "import numpy as np\n",
    "import matplotlib.pyplot as plt\n",
    "import seaborn as sns\n",
    "import warnings\n",
    "warnings.filterwarnings('ignore')\n",
    "pd.set_option('display.float_format','{:.2f}'.format)"
   ]
  },
  {
   "cell_type": "code",
   "execution_count": 96,
   "metadata": {},
   "outputs": [],
   "source": [
    "movie_df=pd.read_csv('https://code.s3.yandex.net/datasets/mkrf_movies.csv')"
   ]
  },
  {
   "cell_type": "code",
   "execution_count": 97,
   "metadata": {},
   "outputs": [
    {
     "name": "stdout",
     "output_type": "stream",
     "text": [
      "<class 'pandas.core.frame.DataFrame'>\n",
      "RangeIndex: 7486 entries, 0 to 7485\n",
      "Data columns (total 15 columns):\n",
      "title                    7486 non-null object\n",
      "puNumber                 7486 non-null object\n",
      "show_start_date          7486 non-null object\n",
      "type                     7486 non-null object\n",
      "film_studio              7468 non-null object\n",
      "production_country       7484 non-null object\n",
      "director                 7477 non-null object\n",
      "producer                 6918 non-null object\n",
      "age_restriction          7486 non-null object\n",
      "refundable_support       332 non-null float64\n",
      "nonrefundable_support    332 non-null float64\n",
      "budget                   332 non-null float64\n",
      "financing_source         332 non-null object\n",
      "ratings                  6519 non-null object\n",
      "genres                   6510 non-null object\n",
      "dtypes: float64(3), object(12)\n",
      "memory usage: 877.4+ KB\n"
     ]
    }
   ],
   "source": [
    "movie_df.info()"
   ]
  },
  {
   "cell_type": "code",
   "execution_count": 98,
   "metadata": {},
   "outputs": [],
   "source": [
    "def welcome (df):\n",
    "    '''Функция получения первичной информации о датафрейме'''\n",
    "    print ('------------- Первые 5 строк ------------')\n",
    "    display(df.head())\n",
    "    print('')\n",
    "    print('')\n",
    "    print ('------------- Типы данных ------------')\n",
    "    print (df.info())\n",
    "    print('')\n",
    "    print('')\n",
    "    print ('------------- Пропуски ------------')\n",
    "    count = 0\n",
    "    for element in df.columns:\n",
    "        if df[element].isna().sum() > 0:\n",
    "            print(element, ' - ', df[element].isna().sum(), 'пропусков')\n",
    "            count = +1\n",
    "        if count == 0:\n",
    "            print('Пропусков НЕТ')\n",
    "    print('')\n",
    "    print('')\n",
    "    display(pd.DataFrame(round(df.isna().mean()*100)).style.background_gradient('coolwarm'))"
   ]
  },
  {
   "cell_type": "code",
   "execution_count": 99,
   "metadata": {
    "scrolled": true
   },
   "outputs": [
    {
     "name": "stdout",
     "output_type": "stream",
     "text": [
      "------------- Первые 5 строк ------------\n"
     ]
    },
    {
     "data": {
      "text/html": [
       "<div>\n",
       "<style scoped>\n",
       "    .dataframe tbody tr th:only-of-type {\n",
       "        vertical-align: middle;\n",
       "    }\n",
       "\n",
       "    .dataframe tbody tr th {\n",
       "        vertical-align: top;\n",
       "    }\n",
       "\n",
       "    .dataframe thead th {\n",
       "        text-align: right;\n",
       "    }\n",
       "</style>\n",
       "<table border=\"1\" class=\"dataframe\">\n",
       "  <thead>\n",
       "    <tr style=\"text-align: right;\">\n",
       "      <th></th>\n",
       "      <th>title</th>\n",
       "      <th>puNumber</th>\n",
       "      <th>show_start_date</th>\n",
       "      <th>type</th>\n",
       "      <th>film_studio</th>\n",
       "      <th>production_country</th>\n",
       "      <th>director</th>\n",
       "      <th>producer</th>\n",
       "      <th>age_restriction</th>\n",
       "      <th>refundable_support</th>\n",
       "      <th>nonrefundable_support</th>\n",
       "      <th>budget</th>\n",
       "      <th>financing_source</th>\n",
       "      <th>ratings</th>\n",
       "      <th>genres</th>\n",
       "    </tr>\n",
       "  </thead>\n",
       "  <tbody>\n",
       "    <tr>\n",
       "      <td>0</td>\n",
       "      <td>Открытый простор</td>\n",
       "      <td>221048915</td>\n",
       "      <td>2015-11-27T12:00:00.000Z</td>\n",
       "      <td>Художественный</td>\n",
       "      <td>Тачстоун Пикчерз, Кобальт Пикчерз, Бикон Пикче...</td>\n",
       "      <td>США</td>\n",
       "      <td>Кевин Костнер</td>\n",
       "      <td>Дэвид Валдес, Кевин Костнер, Джейк Эбертс</td>\n",
       "      <td>«18+» - запрещено для детей</td>\n",
       "      <td>nan</td>\n",
       "      <td>nan</td>\n",
       "      <td>nan</td>\n",
       "      <td>NaN</td>\n",
       "      <td>7.2</td>\n",
       "      <td>боевик,драма,мелодрама</td>\n",
       "    </tr>\n",
       "    <tr>\n",
       "      <td>1</td>\n",
       "      <td>Особо важное задание</td>\n",
       "      <td>111013716</td>\n",
       "      <td>2016-09-13T12:00:00.000Z</td>\n",
       "      <td>Художественный</td>\n",
       "      <td>Киностудия \"Мосфильм\"</td>\n",
       "      <td>СССР</td>\n",
       "      <td>Е.Матвеев</td>\n",
       "      <td>NaN</td>\n",
       "      <td>«6+» - для детей старше 6 лет</td>\n",
       "      <td>nan</td>\n",
       "      <td>nan</td>\n",
       "      <td>nan</td>\n",
       "      <td>NaN</td>\n",
       "      <td>6.6</td>\n",
       "      <td>драма,военный</td>\n",
       "    </tr>\n",
       "    <tr>\n",
       "      <td>2</td>\n",
       "      <td>Особо опасен</td>\n",
       "      <td>221038416</td>\n",
       "      <td>2016-10-10T12:00:00.000Z</td>\n",
       "      <td>Художественный</td>\n",
       "      <td>Юниверсал Пикчерз, Кикстарт Продакшнз, Марк Пл...</td>\n",
       "      <td>США</td>\n",
       "      <td>Тимур Бекмамбетов</td>\n",
       "      <td>Джим Лемли, Джейсон Нетер, Марк Е.Платт, Яйн Смит</td>\n",
       "      <td>«18+» - запрещено для детей</td>\n",
       "      <td>nan</td>\n",
       "      <td>nan</td>\n",
       "      <td>nan</td>\n",
       "      <td>NaN</td>\n",
       "      <td>6.8</td>\n",
       "      <td>фантастика,боевик,триллер</td>\n",
       "    </tr>\n",
       "    <tr>\n",
       "      <td>3</td>\n",
       "      <td>Особо опасен</td>\n",
       "      <td>221026916</td>\n",
       "      <td>2016-06-10T12:00:00.000Z</td>\n",
       "      <td>Художественный</td>\n",
       "      <td>Юниверсал Пикчерз, Кикстарт Продакшнз, Марк Пл...</td>\n",
       "      <td>США</td>\n",
       "      <td>Тимур Бекмамбетов</td>\n",
       "      <td>Джим Лемли, Джейсон Нетер, Марк Е.Платт, Яйн Смит</td>\n",
       "      <td>«18+» - запрещено для детей</td>\n",
       "      <td>nan</td>\n",
       "      <td>nan</td>\n",
       "      <td>nan</td>\n",
       "      <td>NaN</td>\n",
       "      <td>6.8</td>\n",
       "      <td>фантастика,боевик,триллер</td>\n",
       "    </tr>\n",
       "    <tr>\n",
       "      <td>4</td>\n",
       "      <td>Особо опасен</td>\n",
       "      <td>221030815</td>\n",
       "      <td>2015-07-29T12:00:00.000Z</td>\n",
       "      <td>Художественный</td>\n",
       "      <td>Юниверсал Пикчерз, Кикстарт Продакшнз, Марк Пл...</td>\n",
       "      <td>США</td>\n",
       "      <td>Тимур Бекмамбетов</td>\n",
       "      <td>Джим Лемли, Джейсон Нетер, Марк Е.Платт, Яйн Смит</td>\n",
       "      <td>«18+» - запрещено для детей</td>\n",
       "      <td>nan</td>\n",
       "      <td>nan</td>\n",
       "      <td>nan</td>\n",
       "      <td>NaN</td>\n",
       "      <td>6.8</td>\n",
       "      <td>фантастика,боевик,триллер</td>\n",
       "    </tr>\n",
       "  </tbody>\n",
       "</table>\n",
       "</div>"
      ],
      "text/plain": [
       "                  title   puNumber           show_start_date            type  \\\n",
       "0      Открытый простор  221048915  2015-11-27T12:00:00.000Z  Художественный   \n",
       "1  Особо важное задание  111013716  2016-09-13T12:00:00.000Z  Художественный   \n",
       "2          Особо опасен  221038416  2016-10-10T12:00:00.000Z  Художественный   \n",
       "3          Особо опасен  221026916  2016-06-10T12:00:00.000Z  Художественный   \n",
       "4          Особо опасен  221030815  2015-07-29T12:00:00.000Z  Художественный   \n",
       "\n",
       "                                         film_studio production_country  \\\n",
       "0  Тачстоун Пикчерз, Кобальт Пикчерз, Бикон Пикче...                США   \n",
       "1                              Киностудия \"Мосфильм\"               СССР   \n",
       "2  Юниверсал Пикчерз, Кикстарт Продакшнз, Марк Пл...                США   \n",
       "3  Юниверсал Пикчерз, Кикстарт Продакшнз, Марк Пл...                США   \n",
       "4  Юниверсал Пикчерз, Кикстарт Продакшнз, Марк Пл...                США   \n",
       "\n",
       "            director                                           producer  \\\n",
       "0      Кевин Костнер          Дэвид Валдес, Кевин Костнер, Джейк Эбертс   \n",
       "1          Е.Матвеев                                                NaN   \n",
       "2  Тимур Бекмамбетов  Джим Лемли, Джейсон Нетер, Марк Е.Платт, Яйн Смит   \n",
       "3  Тимур Бекмамбетов  Джим Лемли, Джейсон Нетер, Марк Е.Платт, Яйн Смит   \n",
       "4  Тимур Бекмамбетов  Джим Лемли, Джейсон Нетер, Марк Е.Платт, Яйн Смит   \n",
       "\n",
       "                 age_restriction  refundable_support  nonrefundable_support  \\\n",
       "0    «18+» - запрещено для детей                 nan                    nan   \n",
       "1  «6+» - для детей старше 6 лет                 nan                    nan   \n",
       "2    «18+» - запрещено для детей                 nan                    nan   \n",
       "3    «18+» - запрещено для детей                 nan                    nan   \n",
       "4    «18+» - запрещено для детей                 nan                    nan   \n",
       "\n",
       "   budget financing_source ratings                     genres  \n",
       "0     nan              NaN     7.2     боевик,драма,мелодрама  \n",
       "1     nan              NaN     6.6              драма,военный  \n",
       "2     nan              NaN     6.8  фантастика,боевик,триллер  \n",
       "3     nan              NaN     6.8  фантастика,боевик,триллер  \n",
       "4     nan              NaN     6.8  фантастика,боевик,триллер  "
      ]
     },
     "metadata": {},
     "output_type": "display_data"
    },
    {
     "name": "stdout",
     "output_type": "stream",
     "text": [
      "\n",
      "\n",
      "------------- Типы данных ------------\n",
      "<class 'pandas.core.frame.DataFrame'>\n",
      "RangeIndex: 7486 entries, 0 to 7485\n",
      "Data columns (total 15 columns):\n",
      "title                    7486 non-null object\n",
      "puNumber                 7486 non-null object\n",
      "show_start_date          7486 non-null object\n",
      "type                     7486 non-null object\n",
      "film_studio              7468 non-null object\n",
      "production_country       7484 non-null object\n",
      "director                 7477 non-null object\n",
      "producer                 6918 non-null object\n",
      "age_restriction          7486 non-null object\n",
      "refundable_support       332 non-null float64\n",
      "nonrefundable_support    332 non-null float64\n",
      "budget                   332 non-null float64\n",
      "financing_source         332 non-null object\n",
      "ratings                  6519 non-null object\n",
      "genres                   6510 non-null object\n",
      "dtypes: float64(3), object(12)\n",
      "memory usage: 877.4+ KB\n",
      "None\n",
      "\n",
      "\n",
      "------------- Пропуски ------------\n",
      "Пропусков НЕТ\n",
      "Пропусков НЕТ\n",
      "Пропусков НЕТ\n",
      "Пропусков НЕТ\n",
      "film_studio  -  18 пропусков\n",
      "production_country  -  2 пропусков\n",
      "director  -  9 пропусков\n",
      "producer  -  568 пропусков\n",
      "refundable_support  -  7154 пропусков\n",
      "nonrefundable_support  -  7154 пропусков\n",
      "budget  -  7154 пропусков\n",
      "financing_source  -  7154 пропусков\n",
      "ratings  -  967 пропусков\n",
      "genres  -  976 пропусков\n",
      "\n",
      "\n"
     ]
    },
    {
     "data": {
      "text/html": [
       "<style  type=\"text/css\" >\n",
       "    #T_30191844_fa8b_11eb_9a9c_02420a399d7crow0_col0 {\n",
       "            background-color:  #3b4cc0;\n",
       "            color:  #f1f1f1;\n",
       "        }    #T_30191844_fa8b_11eb_9a9c_02420a399d7crow1_col0 {\n",
       "            background-color:  #3b4cc0;\n",
       "            color:  #f1f1f1;\n",
       "        }    #T_30191844_fa8b_11eb_9a9c_02420a399d7crow2_col0 {\n",
       "            background-color:  #3b4cc0;\n",
       "            color:  #f1f1f1;\n",
       "        }    #T_30191844_fa8b_11eb_9a9c_02420a399d7crow3_col0 {\n",
       "            background-color:  #3b4cc0;\n",
       "            color:  #f1f1f1;\n",
       "        }    #T_30191844_fa8b_11eb_9a9c_02420a399d7crow4_col0 {\n",
       "            background-color:  #3b4cc0;\n",
       "            color:  #f1f1f1;\n",
       "        }    #T_30191844_fa8b_11eb_9a9c_02420a399d7crow5_col0 {\n",
       "            background-color:  #3b4cc0;\n",
       "            color:  #f1f1f1;\n",
       "        }    #T_30191844_fa8b_11eb_9a9c_02420a399d7crow6_col0 {\n",
       "            background-color:  #3b4cc0;\n",
       "            color:  #f1f1f1;\n",
       "        }    #T_30191844_fa8b_11eb_9a9c_02420a399d7crow7_col0 {\n",
       "            background-color:  #5470de;\n",
       "            color:  #000000;\n",
       "        }    #T_30191844_fa8b_11eb_9a9c_02420a399d7crow8_col0 {\n",
       "            background-color:  #3b4cc0;\n",
       "            color:  #f1f1f1;\n",
       "        }    #T_30191844_fa8b_11eb_9a9c_02420a399d7crow9_col0 {\n",
       "            background-color:  #b40426;\n",
       "            color:  #f1f1f1;\n",
       "        }    #T_30191844_fa8b_11eb_9a9c_02420a399d7crow10_col0 {\n",
       "            background-color:  #b40426;\n",
       "            color:  #f1f1f1;\n",
       "        }    #T_30191844_fa8b_11eb_9a9c_02420a399d7crow11_col0 {\n",
       "            background-color:  #b40426;\n",
       "            color:  #f1f1f1;\n",
       "        }    #T_30191844_fa8b_11eb_9a9c_02420a399d7crow12_col0 {\n",
       "            background-color:  #b40426;\n",
       "            color:  #f1f1f1;\n",
       "        }    #T_30191844_fa8b_11eb_9a9c_02420a399d7crow13_col0 {\n",
       "            background-color:  #6485ec;\n",
       "            color:  #000000;\n",
       "        }    #T_30191844_fa8b_11eb_9a9c_02420a399d7crow14_col0 {\n",
       "            background-color:  #6485ec;\n",
       "            color:  #000000;\n",
       "        }</style><table id=\"T_30191844_fa8b_11eb_9a9c_02420a399d7c\" ><thead>    <tr>        <th class=\"blank level0\" ></th>        <th class=\"col_heading level0 col0\" >0</th>    </tr></thead><tbody>\n",
       "                <tr>\n",
       "                        <th id=\"T_30191844_fa8b_11eb_9a9c_02420a399d7clevel0_row0\" class=\"row_heading level0 row0\" >title</th>\n",
       "                        <td id=\"T_30191844_fa8b_11eb_9a9c_02420a399d7crow0_col0\" class=\"data row0 col0\" >0</td>\n",
       "            </tr>\n",
       "            <tr>\n",
       "                        <th id=\"T_30191844_fa8b_11eb_9a9c_02420a399d7clevel0_row1\" class=\"row_heading level0 row1\" >puNumber</th>\n",
       "                        <td id=\"T_30191844_fa8b_11eb_9a9c_02420a399d7crow1_col0\" class=\"data row1 col0\" >0</td>\n",
       "            </tr>\n",
       "            <tr>\n",
       "                        <th id=\"T_30191844_fa8b_11eb_9a9c_02420a399d7clevel0_row2\" class=\"row_heading level0 row2\" >show_start_date</th>\n",
       "                        <td id=\"T_30191844_fa8b_11eb_9a9c_02420a399d7crow2_col0\" class=\"data row2 col0\" >0</td>\n",
       "            </tr>\n",
       "            <tr>\n",
       "                        <th id=\"T_30191844_fa8b_11eb_9a9c_02420a399d7clevel0_row3\" class=\"row_heading level0 row3\" >type</th>\n",
       "                        <td id=\"T_30191844_fa8b_11eb_9a9c_02420a399d7crow3_col0\" class=\"data row3 col0\" >0</td>\n",
       "            </tr>\n",
       "            <tr>\n",
       "                        <th id=\"T_30191844_fa8b_11eb_9a9c_02420a399d7clevel0_row4\" class=\"row_heading level0 row4\" >film_studio</th>\n",
       "                        <td id=\"T_30191844_fa8b_11eb_9a9c_02420a399d7crow4_col0\" class=\"data row4 col0\" >0</td>\n",
       "            </tr>\n",
       "            <tr>\n",
       "                        <th id=\"T_30191844_fa8b_11eb_9a9c_02420a399d7clevel0_row5\" class=\"row_heading level0 row5\" >production_country</th>\n",
       "                        <td id=\"T_30191844_fa8b_11eb_9a9c_02420a399d7crow5_col0\" class=\"data row5 col0\" >0</td>\n",
       "            </tr>\n",
       "            <tr>\n",
       "                        <th id=\"T_30191844_fa8b_11eb_9a9c_02420a399d7clevel0_row6\" class=\"row_heading level0 row6\" >director</th>\n",
       "                        <td id=\"T_30191844_fa8b_11eb_9a9c_02420a399d7crow6_col0\" class=\"data row6 col0\" >0</td>\n",
       "            </tr>\n",
       "            <tr>\n",
       "                        <th id=\"T_30191844_fa8b_11eb_9a9c_02420a399d7clevel0_row7\" class=\"row_heading level0 row7\" >producer</th>\n",
       "                        <td id=\"T_30191844_fa8b_11eb_9a9c_02420a399d7crow7_col0\" class=\"data row7 col0\" >8</td>\n",
       "            </tr>\n",
       "            <tr>\n",
       "                        <th id=\"T_30191844_fa8b_11eb_9a9c_02420a399d7clevel0_row8\" class=\"row_heading level0 row8\" >age_restriction</th>\n",
       "                        <td id=\"T_30191844_fa8b_11eb_9a9c_02420a399d7crow8_col0\" class=\"data row8 col0\" >0</td>\n",
       "            </tr>\n",
       "            <tr>\n",
       "                        <th id=\"T_30191844_fa8b_11eb_9a9c_02420a399d7clevel0_row9\" class=\"row_heading level0 row9\" >refundable_support</th>\n",
       "                        <td id=\"T_30191844_fa8b_11eb_9a9c_02420a399d7crow9_col0\" class=\"data row9 col0\" >96</td>\n",
       "            </tr>\n",
       "            <tr>\n",
       "                        <th id=\"T_30191844_fa8b_11eb_9a9c_02420a399d7clevel0_row10\" class=\"row_heading level0 row10\" >nonrefundable_support</th>\n",
       "                        <td id=\"T_30191844_fa8b_11eb_9a9c_02420a399d7crow10_col0\" class=\"data row10 col0\" >96</td>\n",
       "            </tr>\n",
       "            <tr>\n",
       "                        <th id=\"T_30191844_fa8b_11eb_9a9c_02420a399d7clevel0_row11\" class=\"row_heading level0 row11\" >budget</th>\n",
       "                        <td id=\"T_30191844_fa8b_11eb_9a9c_02420a399d7crow11_col0\" class=\"data row11 col0\" >96</td>\n",
       "            </tr>\n",
       "            <tr>\n",
       "                        <th id=\"T_30191844_fa8b_11eb_9a9c_02420a399d7clevel0_row12\" class=\"row_heading level0 row12\" >financing_source</th>\n",
       "                        <td id=\"T_30191844_fa8b_11eb_9a9c_02420a399d7crow12_col0\" class=\"data row12 col0\" >96</td>\n",
       "            </tr>\n",
       "            <tr>\n",
       "                        <th id=\"T_30191844_fa8b_11eb_9a9c_02420a399d7clevel0_row13\" class=\"row_heading level0 row13\" >ratings</th>\n",
       "                        <td id=\"T_30191844_fa8b_11eb_9a9c_02420a399d7crow13_col0\" class=\"data row13 col0\" >13</td>\n",
       "            </tr>\n",
       "            <tr>\n",
       "                        <th id=\"T_30191844_fa8b_11eb_9a9c_02420a399d7clevel0_row14\" class=\"row_heading level0 row14\" >genres</th>\n",
       "                        <td id=\"T_30191844_fa8b_11eb_9a9c_02420a399d7crow14_col0\" class=\"data row14 col0\" >13</td>\n",
       "            </tr>\n",
       "    </tbody></table>"
      ],
      "text/plain": [
       "<pandas.io.formats.style.Styler at 0x7f4c413fa7d0>"
      ]
     },
     "metadata": {},
     "output_type": "display_data"
    }
   ],
   "source": [
    "welcome(movie_df)"
   ]
  },
  {
   "cell_type": "code",
   "execution_count": 100,
   "metadata": {},
   "outputs": [],
   "source": [
    "show_df=pd.read_csv('https://code.s3.yandex.net/datasets/mkrf_shows.csv')"
   ]
  },
  {
   "cell_type": "code",
   "execution_count": 101,
   "metadata": {},
   "outputs": [
    {
     "name": "stdout",
     "output_type": "stream",
     "text": [
      "------------- Первые 5 строк ------------\n"
     ]
    },
    {
     "data": {
      "text/html": [
       "<div>\n",
       "<style scoped>\n",
       "    .dataframe tbody tr th:only-of-type {\n",
       "        vertical-align: middle;\n",
       "    }\n",
       "\n",
       "    .dataframe tbody tr th {\n",
       "        vertical-align: top;\n",
       "    }\n",
       "\n",
       "    .dataframe thead th {\n",
       "        text-align: right;\n",
       "    }\n",
       "</style>\n",
       "<table border=\"1\" class=\"dataframe\">\n",
       "  <thead>\n",
       "    <tr style=\"text-align: right;\">\n",
       "      <th></th>\n",
       "      <th>puNumber</th>\n",
       "      <th>box_office</th>\n",
       "    </tr>\n",
       "  </thead>\n",
       "  <tbody>\n",
       "    <tr>\n",
       "      <td>0</td>\n",
       "      <td>111000113</td>\n",
       "      <td>2450.00</td>\n",
       "    </tr>\n",
       "    <tr>\n",
       "      <td>1</td>\n",
       "      <td>111000115</td>\n",
       "      <td>61040.00</td>\n",
       "    </tr>\n",
       "    <tr>\n",
       "      <td>2</td>\n",
       "      <td>111000116</td>\n",
       "      <td>153030013.40</td>\n",
       "    </tr>\n",
       "    <tr>\n",
       "      <td>3</td>\n",
       "      <td>111000117</td>\n",
       "      <td>12260956.00</td>\n",
       "    </tr>\n",
       "    <tr>\n",
       "      <td>4</td>\n",
       "      <td>111000118</td>\n",
       "      <td>163684057.79</td>\n",
       "    </tr>\n",
       "  </tbody>\n",
       "</table>\n",
       "</div>"
      ],
      "text/plain": [
       "    puNumber   box_office\n",
       "0  111000113      2450.00\n",
       "1  111000115     61040.00\n",
       "2  111000116 153030013.40\n",
       "3  111000117  12260956.00\n",
       "4  111000118 163684057.79"
      ]
     },
     "metadata": {},
     "output_type": "display_data"
    },
    {
     "name": "stdout",
     "output_type": "stream",
     "text": [
      "\n",
      "\n",
      "------------- Типы данных ------------\n",
      "<class 'pandas.core.frame.DataFrame'>\n",
      "RangeIndex: 3158 entries, 0 to 3157\n",
      "Data columns (total 2 columns):\n",
      "puNumber      3158 non-null int64\n",
      "box_office    3158 non-null float64\n",
      "dtypes: float64(1), int64(1)\n",
      "memory usage: 49.5 KB\n",
      "None\n",
      "\n",
      "\n",
      "------------- Пропуски ------------\n",
      "Пропусков НЕТ\n",
      "Пропусков НЕТ\n",
      "\n",
      "\n"
     ]
    },
    {
     "data": {
      "text/html": [
       "<style  type=\"text/css\" >\n",
       "    #T_30297d9c_fa8b_11eb_9a9c_02420a399d7crow0_col0 {\n",
       "            background-color:  #3b4cc0;\n",
       "            color:  #f1f1f1;\n",
       "        }    #T_30297d9c_fa8b_11eb_9a9c_02420a399d7crow1_col0 {\n",
       "            background-color:  #3b4cc0;\n",
       "            color:  #f1f1f1;\n",
       "        }</style><table id=\"T_30297d9c_fa8b_11eb_9a9c_02420a399d7c\" ><thead>    <tr>        <th class=\"blank level0\" ></th>        <th class=\"col_heading level0 col0\" >0</th>    </tr></thead><tbody>\n",
       "                <tr>\n",
       "                        <th id=\"T_30297d9c_fa8b_11eb_9a9c_02420a399d7clevel0_row0\" class=\"row_heading level0 row0\" >puNumber</th>\n",
       "                        <td id=\"T_30297d9c_fa8b_11eb_9a9c_02420a399d7crow0_col0\" class=\"data row0 col0\" >0</td>\n",
       "            </tr>\n",
       "            <tr>\n",
       "                        <th id=\"T_30297d9c_fa8b_11eb_9a9c_02420a399d7clevel0_row1\" class=\"row_heading level0 row1\" >box_office</th>\n",
       "                        <td id=\"T_30297d9c_fa8b_11eb_9a9c_02420a399d7crow1_col0\" class=\"data row1 col0\" >0</td>\n",
       "            </tr>\n",
       "    </tbody></table>"
      ],
      "text/plain": [
       "<pandas.io.formats.style.Styler at 0x7f4c3fdf24d0>"
      ]
     },
     "metadata": {},
     "output_type": "display_data"
    }
   ],
   "source": [
    "welcome(show_df)"
   ]
  },
  {
   "cell_type": "code",
   "execution_count": 102,
   "metadata": {},
   "outputs": [],
   "source": [
    "show_df['puNumber']=show_df['puNumber'].astype('str')"
   ]
  },
  {
   "cell_type": "code",
   "execution_count": 103,
   "metadata": {},
   "outputs": [],
   "source": [
    "total_df=movie_df.merge(show_df,how=\"left\",on='puNumber')"
   ]
  },
  {
   "cell_type": "markdown",
   "metadata": {
    "id": "KLDGpPG0gFyM"
   },
   "source": [
    "### Шаг 2. Предобработка данных"
   ]
  },
  {
   "cell_type": "markdown",
   "metadata": {
    "id": "ssWwKXsxgFyO"
   },
   "source": [
    "#### Шаг 2.1. Проверьте типы данных\n",
    "\n",
    "- Проверьте типы данных в датафрейме и преобразуйте их там, где это необходимо."
   ]
  },
  {
   "cell_type": "code",
   "execution_count": 104,
   "metadata": {
    "id": "kVGSplJOgFyO"
   },
   "outputs": [
    {
     "name": "stdout",
     "output_type": "stream",
     "text": [
      "------------- Первые 5 строк ------------\n"
     ]
    },
    {
     "data": {
      "text/html": [
       "<div>\n",
       "<style scoped>\n",
       "    .dataframe tbody tr th:only-of-type {\n",
       "        vertical-align: middle;\n",
       "    }\n",
       "\n",
       "    .dataframe tbody tr th {\n",
       "        vertical-align: top;\n",
       "    }\n",
       "\n",
       "    .dataframe thead th {\n",
       "        text-align: right;\n",
       "    }\n",
       "</style>\n",
       "<table border=\"1\" class=\"dataframe\">\n",
       "  <thead>\n",
       "    <tr style=\"text-align: right;\">\n",
       "      <th></th>\n",
       "      <th>title</th>\n",
       "      <th>puNumber</th>\n",
       "      <th>show_start_date</th>\n",
       "      <th>type</th>\n",
       "      <th>film_studio</th>\n",
       "      <th>production_country</th>\n",
       "      <th>director</th>\n",
       "      <th>producer</th>\n",
       "      <th>age_restriction</th>\n",
       "      <th>refundable_support</th>\n",
       "      <th>nonrefundable_support</th>\n",
       "      <th>budget</th>\n",
       "      <th>financing_source</th>\n",
       "      <th>ratings</th>\n",
       "      <th>genres</th>\n",
       "      <th>box_office</th>\n",
       "    </tr>\n",
       "  </thead>\n",
       "  <tbody>\n",
       "    <tr>\n",
       "      <td>0</td>\n",
       "      <td>Открытый простор</td>\n",
       "      <td>221048915</td>\n",
       "      <td>2015-11-27T12:00:00.000Z</td>\n",
       "      <td>Художественный</td>\n",
       "      <td>Тачстоун Пикчерз, Кобальт Пикчерз, Бикон Пикче...</td>\n",
       "      <td>США</td>\n",
       "      <td>Кевин Костнер</td>\n",
       "      <td>Дэвид Валдес, Кевин Костнер, Джейк Эбертс</td>\n",
       "      <td>«18+» - запрещено для детей</td>\n",
       "      <td>nan</td>\n",
       "      <td>nan</td>\n",
       "      <td>nan</td>\n",
       "      <td>NaN</td>\n",
       "      <td>7.2</td>\n",
       "      <td>боевик,драма,мелодрама</td>\n",
       "      <td>nan</td>\n",
       "    </tr>\n",
       "    <tr>\n",
       "      <td>1</td>\n",
       "      <td>Особо важное задание</td>\n",
       "      <td>111013716</td>\n",
       "      <td>2016-09-13T12:00:00.000Z</td>\n",
       "      <td>Художественный</td>\n",
       "      <td>Киностудия \"Мосфильм\"</td>\n",
       "      <td>СССР</td>\n",
       "      <td>Е.Матвеев</td>\n",
       "      <td>NaN</td>\n",
       "      <td>«6+» - для детей старше 6 лет</td>\n",
       "      <td>nan</td>\n",
       "      <td>nan</td>\n",
       "      <td>nan</td>\n",
       "      <td>NaN</td>\n",
       "      <td>6.6</td>\n",
       "      <td>драма,военный</td>\n",
       "      <td>nan</td>\n",
       "    </tr>\n",
       "    <tr>\n",
       "      <td>2</td>\n",
       "      <td>Особо опасен</td>\n",
       "      <td>221038416</td>\n",
       "      <td>2016-10-10T12:00:00.000Z</td>\n",
       "      <td>Художественный</td>\n",
       "      <td>Юниверсал Пикчерз, Кикстарт Продакшнз, Марк Пл...</td>\n",
       "      <td>США</td>\n",
       "      <td>Тимур Бекмамбетов</td>\n",
       "      <td>Джим Лемли, Джейсон Нетер, Марк Е.Платт, Яйн Смит</td>\n",
       "      <td>«18+» - запрещено для детей</td>\n",
       "      <td>nan</td>\n",
       "      <td>nan</td>\n",
       "      <td>nan</td>\n",
       "      <td>NaN</td>\n",
       "      <td>6.8</td>\n",
       "      <td>фантастика,боевик,триллер</td>\n",
       "      <td>nan</td>\n",
       "    </tr>\n",
       "    <tr>\n",
       "      <td>3</td>\n",
       "      <td>Особо опасен</td>\n",
       "      <td>221026916</td>\n",
       "      <td>2016-06-10T12:00:00.000Z</td>\n",
       "      <td>Художественный</td>\n",
       "      <td>Юниверсал Пикчерз, Кикстарт Продакшнз, Марк Пл...</td>\n",
       "      <td>США</td>\n",
       "      <td>Тимур Бекмамбетов</td>\n",
       "      <td>Джим Лемли, Джейсон Нетер, Марк Е.Платт, Яйн Смит</td>\n",
       "      <td>«18+» - запрещено для детей</td>\n",
       "      <td>nan</td>\n",
       "      <td>nan</td>\n",
       "      <td>nan</td>\n",
       "      <td>NaN</td>\n",
       "      <td>6.8</td>\n",
       "      <td>фантастика,боевик,триллер</td>\n",
       "      <td>nan</td>\n",
       "    </tr>\n",
       "    <tr>\n",
       "      <td>4</td>\n",
       "      <td>Особо опасен</td>\n",
       "      <td>221030815</td>\n",
       "      <td>2015-07-29T12:00:00.000Z</td>\n",
       "      <td>Художественный</td>\n",
       "      <td>Юниверсал Пикчерз, Кикстарт Продакшнз, Марк Пл...</td>\n",
       "      <td>США</td>\n",
       "      <td>Тимур Бекмамбетов</td>\n",
       "      <td>Джим Лемли, Джейсон Нетер, Марк Е.Платт, Яйн Смит</td>\n",
       "      <td>«18+» - запрещено для детей</td>\n",
       "      <td>nan</td>\n",
       "      <td>nan</td>\n",
       "      <td>nan</td>\n",
       "      <td>NaN</td>\n",
       "      <td>6.8</td>\n",
       "      <td>фантастика,боевик,триллер</td>\n",
       "      <td>nan</td>\n",
       "    </tr>\n",
       "  </tbody>\n",
       "</table>\n",
       "</div>"
      ],
      "text/plain": [
       "                  title   puNumber           show_start_date            type  \\\n",
       "0      Открытый простор  221048915  2015-11-27T12:00:00.000Z  Художественный   \n",
       "1  Особо важное задание  111013716  2016-09-13T12:00:00.000Z  Художественный   \n",
       "2          Особо опасен  221038416  2016-10-10T12:00:00.000Z  Художественный   \n",
       "3          Особо опасен  221026916  2016-06-10T12:00:00.000Z  Художественный   \n",
       "4          Особо опасен  221030815  2015-07-29T12:00:00.000Z  Художественный   \n",
       "\n",
       "                                         film_studio production_country  \\\n",
       "0  Тачстоун Пикчерз, Кобальт Пикчерз, Бикон Пикче...                США   \n",
       "1                              Киностудия \"Мосфильм\"               СССР   \n",
       "2  Юниверсал Пикчерз, Кикстарт Продакшнз, Марк Пл...                США   \n",
       "3  Юниверсал Пикчерз, Кикстарт Продакшнз, Марк Пл...                США   \n",
       "4  Юниверсал Пикчерз, Кикстарт Продакшнз, Марк Пл...                США   \n",
       "\n",
       "            director                                           producer  \\\n",
       "0      Кевин Костнер          Дэвид Валдес, Кевин Костнер, Джейк Эбертс   \n",
       "1          Е.Матвеев                                                NaN   \n",
       "2  Тимур Бекмамбетов  Джим Лемли, Джейсон Нетер, Марк Е.Платт, Яйн Смит   \n",
       "3  Тимур Бекмамбетов  Джим Лемли, Джейсон Нетер, Марк Е.Платт, Яйн Смит   \n",
       "4  Тимур Бекмамбетов  Джим Лемли, Джейсон Нетер, Марк Е.Платт, Яйн Смит   \n",
       "\n",
       "                 age_restriction  refundable_support  nonrefundable_support  \\\n",
       "0    «18+» - запрещено для детей                 nan                    nan   \n",
       "1  «6+» - для детей старше 6 лет                 nan                    nan   \n",
       "2    «18+» - запрещено для детей                 nan                    nan   \n",
       "3    «18+» - запрещено для детей                 nan                    nan   \n",
       "4    «18+» - запрещено для детей                 nan                    nan   \n",
       "\n",
       "   budget financing_source ratings                     genres  box_office  \n",
       "0     nan              NaN     7.2     боевик,драма,мелодрама         nan  \n",
       "1     nan              NaN     6.6              драма,военный         nan  \n",
       "2     nan              NaN     6.8  фантастика,боевик,триллер         nan  \n",
       "3     nan              NaN     6.8  фантастика,боевик,триллер         nan  \n",
       "4     nan              NaN     6.8  фантастика,боевик,триллер         nan  "
      ]
     },
     "metadata": {},
     "output_type": "display_data"
    },
    {
     "name": "stdout",
     "output_type": "stream",
     "text": [
      "\n",
      "\n",
      "------------- Типы данных ------------\n",
      "<class 'pandas.core.frame.DataFrame'>\n",
      "Int64Index: 7486 entries, 0 to 7485\n",
      "Data columns (total 16 columns):\n",
      "title                    7486 non-null object\n",
      "puNumber                 7486 non-null object\n",
      "show_start_date          7486 non-null object\n",
      "type                     7486 non-null object\n",
      "film_studio              7468 non-null object\n",
      "production_country       7484 non-null object\n",
      "director                 7477 non-null object\n",
      "producer                 6918 non-null object\n",
      "age_restriction          7486 non-null object\n",
      "refundable_support       332 non-null float64\n",
      "nonrefundable_support    332 non-null float64\n",
      "budget                   332 non-null float64\n",
      "financing_source         332 non-null object\n",
      "ratings                  6519 non-null object\n",
      "genres                   6510 non-null object\n",
      "box_office               3158 non-null float64\n",
      "dtypes: float64(4), object(12)\n",
      "memory usage: 994.2+ KB\n",
      "None\n",
      "\n",
      "\n",
      "------------- Пропуски ------------\n",
      "Пропусков НЕТ\n",
      "Пропусков НЕТ\n",
      "Пропусков НЕТ\n",
      "Пропусков НЕТ\n",
      "film_studio  -  18 пропусков\n",
      "production_country  -  2 пропусков\n",
      "director  -  9 пропусков\n",
      "producer  -  568 пропусков\n",
      "refundable_support  -  7154 пропусков\n",
      "nonrefundable_support  -  7154 пропусков\n",
      "budget  -  7154 пропусков\n",
      "financing_source  -  7154 пропусков\n",
      "ratings  -  967 пропусков\n",
      "genres  -  976 пропусков\n",
      "box_office  -  4328 пропусков\n",
      "\n",
      "\n"
     ]
    },
    {
     "data": {
      "text/html": [
       "<style  type=\"text/css\" >\n",
       "    #T_30427d56_fa8b_11eb_9a9c_02420a399d7crow0_col0 {\n",
       "            background-color:  #3b4cc0;\n",
       "            color:  #f1f1f1;\n",
       "        }    #T_30427d56_fa8b_11eb_9a9c_02420a399d7crow1_col0 {\n",
       "            background-color:  #3b4cc0;\n",
       "            color:  #f1f1f1;\n",
       "        }    #T_30427d56_fa8b_11eb_9a9c_02420a399d7crow2_col0 {\n",
       "            background-color:  #3b4cc0;\n",
       "            color:  #f1f1f1;\n",
       "        }    #T_30427d56_fa8b_11eb_9a9c_02420a399d7crow3_col0 {\n",
       "            background-color:  #3b4cc0;\n",
       "            color:  #f1f1f1;\n",
       "        }    #T_30427d56_fa8b_11eb_9a9c_02420a399d7crow4_col0 {\n",
       "            background-color:  #3b4cc0;\n",
       "            color:  #f1f1f1;\n",
       "        }    #T_30427d56_fa8b_11eb_9a9c_02420a399d7crow5_col0 {\n",
       "            background-color:  #3b4cc0;\n",
       "            color:  #f1f1f1;\n",
       "        }    #T_30427d56_fa8b_11eb_9a9c_02420a399d7crow6_col0 {\n",
       "            background-color:  #3b4cc0;\n",
       "            color:  #f1f1f1;\n",
       "        }    #T_30427d56_fa8b_11eb_9a9c_02420a399d7crow7_col0 {\n",
       "            background-color:  #5470de;\n",
       "            color:  #000000;\n",
       "        }    #T_30427d56_fa8b_11eb_9a9c_02420a399d7crow8_col0 {\n",
       "            background-color:  #3b4cc0;\n",
       "            color:  #f1f1f1;\n",
       "        }    #T_30427d56_fa8b_11eb_9a9c_02420a399d7crow9_col0 {\n",
       "            background-color:  #b40426;\n",
       "            color:  #f1f1f1;\n",
       "        }    #T_30427d56_fa8b_11eb_9a9c_02420a399d7crow10_col0 {\n",
       "            background-color:  #b40426;\n",
       "            color:  #f1f1f1;\n",
       "        }    #T_30427d56_fa8b_11eb_9a9c_02420a399d7crow11_col0 {\n",
       "            background-color:  #b40426;\n",
       "            color:  #f1f1f1;\n",
       "        }    #T_30427d56_fa8b_11eb_9a9c_02420a399d7crow12_col0 {\n",
       "            background-color:  #b40426;\n",
       "            color:  #f1f1f1;\n",
       "        }    #T_30427d56_fa8b_11eb_9a9c_02420a399d7crow13_col0 {\n",
       "            background-color:  #6485ec;\n",
       "            color:  #000000;\n",
       "        }    #T_30427d56_fa8b_11eb_9a9c_02420a399d7crow14_col0 {\n",
       "            background-color:  #6485ec;\n",
       "            color:  #000000;\n",
       "        }    #T_30427d56_fa8b_11eb_9a9c_02420a399d7crow15_col0 {\n",
       "            background-color:  #f2cab5;\n",
       "            color:  #000000;\n",
       "        }</style><table id=\"T_30427d56_fa8b_11eb_9a9c_02420a399d7c\" ><thead>    <tr>        <th class=\"blank level0\" ></th>        <th class=\"col_heading level0 col0\" >0</th>    </tr></thead><tbody>\n",
       "                <tr>\n",
       "                        <th id=\"T_30427d56_fa8b_11eb_9a9c_02420a399d7clevel0_row0\" class=\"row_heading level0 row0\" >title</th>\n",
       "                        <td id=\"T_30427d56_fa8b_11eb_9a9c_02420a399d7crow0_col0\" class=\"data row0 col0\" >0</td>\n",
       "            </tr>\n",
       "            <tr>\n",
       "                        <th id=\"T_30427d56_fa8b_11eb_9a9c_02420a399d7clevel0_row1\" class=\"row_heading level0 row1\" >puNumber</th>\n",
       "                        <td id=\"T_30427d56_fa8b_11eb_9a9c_02420a399d7crow1_col0\" class=\"data row1 col0\" >0</td>\n",
       "            </tr>\n",
       "            <tr>\n",
       "                        <th id=\"T_30427d56_fa8b_11eb_9a9c_02420a399d7clevel0_row2\" class=\"row_heading level0 row2\" >show_start_date</th>\n",
       "                        <td id=\"T_30427d56_fa8b_11eb_9a9c_02420a399d7crow2_col0\" class=\"data row2 col0\" >0</td>\n",
       "            </tr>\n",
       "            <tr>\n",
       "                        <th id=\"T_30427d56_fa8b_11eb_9a9c_02420a399d7clevel0_row3\" class=\"row_heading level0 row3\" >type</th>\n",
       "                        <td id=\"T_30427d56_fa8b_11eb_9a9c_02420a399d7crow3_col0\" class=\"data row3 col0\" >0</td>\n",
       "            </tr>\n",
       "            <tr>\n",
       "                        <th id=\"T_30427d56_fa8b_11eb_9a9c_02420a399d7clevel0_row4\" class=\"row_heading level0 row4\" >film_studio</th>\n",
       "                        <td id=\"T_30427d56_fa8b_11eb_9a9c_02420a399d7crow4_col0\" class=\"data row4 col0\" >0</td>\n",
       "            </tr>\n",
       "            <tr>\n",
       "                        <th id=\"T_30427d56_fa8b_11eb_9a9c_02420a399d7clevel0_row5\" class=\"row_heading level0 row5\" >production_country</th>\n",
       "                        <td id=\"T_30427d56_fa8b_11eb_9a9c_02420a399d7crow5_col0\" class=\"data row5 col0\" >0</td>\n",
       "            </tr>\n",
       "            <tr>\n",
       "                        <th id=\"T_30427d56_fa8b_11eb_9a9c_02420a399d7clevel0_row6\" class=\"row_heading level0 row6\" >director</th>\n",
       "                        <td id=\"T_30427d56_fa8b_11eb_9a9c_02420a399d7crow6_col0\" class=\"data row6 col0\" >0</td>\n",
       "            </tr>\n",
       "            <tr>\n",
       "                        <th id=\"T_30427d56_fa8b_11eb_9a9c_02420a399d7clevel0_row7\" class=\"row_heading level0 row7\" >producer</th>\n",
       "                        <td id=\"T_30427d56_fa8b_11eb_9a9c_02420a399d7crow7_col0\" class=\"data row7 col0\" >8</td>\n",
       "            </tr>\n",
       "            <tr>\n",
       "                        <th id=\"T_30427d56_fa8b_11eb_9a9c_02420a399d7clevel0_row8\" class=\"row_heading level0 row8\" >age_restriction</th>\n",
       "                        <td id=\"T_30427d56_fa8b_11eb_9a9c_02420a399d7crow8_col0\" class=\"data row8 col0\" >0</td>\n",
       "            </tr>\n",
       "            <tr>\n",
       "                        <th id=\"T_30427d56_fa8b_11eb_9a9c_02420a399d7clevel0_row9\" class=\"row_heading level0 row9\" >refundable_support</th>\n",
       "                        <td id=\"T_30427d56_fa8b_11eb_9a9c_02420a399d7crow9_col0\" class=\"data row9 col0\" >96</td>\n",
       "            </tr>\n",
       "            <tr>\n",
       "                        <th id=\"T_30427d56_fa8b_11eb_9a9c_02420a399d7clevel0_row10\" class=\"row_heading level0 row10\" >nonrefundable_support</th>\n",
       "                        <td id=\"T_30427d56_fa8b_11eb_9a9c_02420a399d7crow10_col0\" class=\"data row10 col0\" >96</td>\n",
       "            </tr>\n",
       "            <tr>\n",
       "                        <th id=\"T_30427d56_fa8b_11eb_9a9c_02420a399d7clevel0_row11\" class=\"row_heading level0 row11\" >budget</th>\n",
       "                        <td id=\"T_30427d56_fa8b_11eb_9a9c_02420a399d7crow11_col0\" class=\"data row11 col0\" >96</td>\n",
       "            </tr>\n",
       "            <tr>\n",
       "                        <th id=\"T_30427d56_fa8b_11eb_9a9c_02420a399d7clevel0_row12\" class=\"row_heading level0 row12\" >financing_source</th>\n",
       "                        <td id=\"T_30427d56_fa8b_11eb_9a9c_02420a399d7crow12_col0\" class=\"data row12 col0\" >96</td>\n",
       "            </tr>\n",
       "            <tr>\n",
       "                        <th id=\"T_30427d56_fa8b_11eb_9a9c_02420a399d7clevel0_row13\" class=\"row_heading level0 row13\" >ratings</th>\n",
       "                        <td id=\"T_30427d56_fa8b_11eb_9a9c_02420a399d7crow13_col0\" class=\"data row13 col0\" >13</td>\n",
       "            </tr>\n",
       "            <tr>\n",
       "                        <th id=\"T_30427d56_fa8b_11eb_9a9c_02420a399d7clevel0_row14\" class=\"row_heading level0 row14\" >genres</th>\n",
       "                        <td id=\"T_30427d56_fa8b_11eb_9a9c_02420a399d7crow14_col0\" class=\"data row14 col0\" >13</td>\n",
       "            </tr>\n",
       "            <tr>\n",
       "                        <th id=\"T_30427d56_fa8b_11eb_9a9c_02420a399d7clevel0_row15\" class=\"row_heading level0 row15\" >box_office</th>\n",
       "                        <td id=\"T_30427d56_fa8b_11eb_9a9c_02420a399d7crow15_col0\" class=\"data row15 col0\" >58</td>\n",
       "            </tr>\n",
       "    </tbody></table>"
      ],
      "text/plain": [
       "<pandas.io.formats.style.Styler at 0x7f4cc061f350>"
      ]
     },
     "metadata": {},
     "output_type": "display_data"
    }
   ],
   "source": [
    "welcome(total_df)"
   ]
  },
  {
   "cell_type": "code",
   "execution_count": 105,
   "metadata": {},
   "outputs": [],
   "source": [
    "total_df['show_start_date']=pd.to_datetime(total_df['show_start_date'],format='%Y-%m-%d',errors='ignore').dt.date"
   ]
  },
  {
   "cell_type": "code",
   "execution_count": 106,
   "metadata": {},
   "outputs": [],
   "source": [
    "total_df['show_start_date']=pd.to_datetime(total_df['show_start_date'])"
   ]
  },
  {
   "cell_type": "code",
   "execution_count": 107,
   "metadata": {},
   "outputs": [],
   "source": [
    "total_df['ratings']=pd.to_numeric(total_df['ratings'],errors='coerce')"
   ]
  },
  {
   "cell_type": "code",
   "execution_count": 108,
   "metadata": {},
   "outputs": [
    {
     "name": "stdout",
     "output_type": "stream",
     "text": [
      "<class 'pandas.core.frame.DataFrame'>\n",
      "Int64Index: 7486 entries, 0 to 7485\n",
      "Data columns (total 16 columns):\n",
      "title                    7486 non-null object\n",
      "puNumber                 7486 non-null object\n",
      "show_start_date          7486 non-null datetime64[ns]\n",
      "type                     7486 non-null object\n",
      "film_studio              7468 non-null object\n",
      "production_country       7484 non-null object\n",
      "director                 7477 non-null object\n",
      "producer                 6918 non-null object\n",
      "age_restriction          7486 non-null object\n",
      "refundable_support       332 non-null float64\n",
      "nonrefundable_support    332 non-null float64\n",
      "budget                   332 non-null float64\n",
      "financing_source         332 non-null object\n",
      "ratings                  6490 non-null float64\n",
      "genres                   6510 non-null object\n",
      "box_office               3158 non-null float64\n",
      "dtypes: datetime64[ns](1), float64(5), object(10)\n",
      "memory usage: 994.2+ KB\n"
     ]
    }
   ],
   "source": [
    "total_df.info()"
   ]
  },
  {
   "cell_type": "markdown",
   "metadata": {},
   "source": [
    "Преобразовал данные в столбцах **show_start_date** и **ratings** для дальнейшего сравнения стобцов\n",
    "\n",
    "Остальные данные будут преобразованы по мере необходимости."
   ]
  },
  {
   "cell_type": "markdown",
   "metadata": {
    "id": "i0MOLbF-gFyP"
   },
   "source": [
    "#### Шаг 2.2. Изучите пропуски в датафрейме\n",
    "\n",
    "- Объясните, почему заполнили пропуски определённым образом или почему не стали этого делать."
   ]
  },
  {
   "cell_type": "code",
   "execution_count": 109,
   "metadata": {},
   "outputs": [],
   "source": [
    "total_df['director']=total_df['director'].fillna('Неизвестен')"
   ]
  },
  {
   "cell_type": "code",
   "execution_count": 110,
   "metadata": {},
   "outputs": [],
   "source": [
    "total_df['genres']=total_df['genres'].fillna('неизвестный жанр')"
   ]
  },
  {
   "cell_type": "markdown",
   "metadata": {},
   "source": [
    "Заполнили пропуски в столбцах **director** значением - *Неизвестен* и столбец **genres** - *неизвестный жанр* для дальнейшей работы со столбцами(Создания двух столбцов: с именем и фамилией главного режиссёра и основным жанром фильма)"
   ]
  },
  {
   "cell_type": "markdown",
   "metadata": {
    "id": "4c6k1t9ygFyQ"
   },
   "source": [
    "#### Шаг 2.3. Изучите дубликаты в датафрейме\n",
    "- Проверьте, есть ли в данных дубликаты. Опишите причины, которые могли повлиять на появление дублей."
   ]
  },
  {
   "cell_type": "code",
   "execution_count": 111,
   "metadata": {},
   "outputs": [
    {
     "name": "stdout",
     "output_type": "stream",
     "text": [
      "title 714\n",
      "puNumber 2\n",
      "show_start_date 5521\n",
      "type 7478\n",
      "film_studio 1995\n",
      "production_country 6535\n",
      "director 2674\n",
      "producer 2136\n",
      "age_restriction 7481\n",
      "refundable_support 7451\n",
      "nonrefundable_support 7410\n",
      "budget 7195\n",
      "financing_source 7482\n",
      "ratings 7405\n",
      "genres 6743\n",
      "box_office 4547\n"
     ]
    }
   ],
   "source": [
    "for i in total_df.keys():\n",
    "    print(i,total_df[i].duplicated().sum())\n"
   ]
  },
  {
   "cell_type": "markdown",
   "metadata": {},
   "source": [
    "Дубликаты могли появться, засчет множественного проката одних и тех же фильмов"
   ]
  },
  {
   "cell_type": "markdown",
   "metadata": {
    "id": "52fOPrEBgFyQ"
   },
   "source": [
    "#### Шаг 2.4. Изучите категориальные значения\n",
    "\n",
    "- Посмотрите, какая общая проблема встречается почти во всех категориальных столбцах;\n",
    "- Исправьте проблемные значения в поле `type`.\n",
    "\n",
    "<div id=\"accordion\">\n",
    "    <div class=\"card\">\n",
    "        <div class=\"card-header\" id=\"headingThree\">\n",
    "            <button class=\"btn btn-link collapsed\" data-toggle=\"collapse\" data-target=\"#collapseHint_1\" aria-expanded=\"false\" aria-controls=\"collapseHint_1\">Подсказка</button>\n",
    "        </div>\n",
    "        <div id=\"collapseHint_1\" class=\"collapse\" aria-labelledby=\"headingThree\" data-parent=\"#accordion\">\n",
    "            <div class=\"card-body\">\n",
    "В поле <code>type</code> есть несколько значений, у которых появился пробел в начале строки. Самый простой способ их «починить» -- использовать метод <a href=\"https://pandas.pydata.org/docs/reference/api/pandas.Series.str.strip.html#pandas.Series.str.strip\">.str.strip</a>. Этот метод удаляет все пробелы, которые встречаются в начале и в конце строки. Применяют его таким образом:<br>\n",
    "<code>df['type'].str.strip()</code>\n",
    "            </div>\n",
    "        </div>\n",
    "    </div>\n",
    "</div>"
   ]
  },
  {
   "cell_type": "code",
   "execution_count": 112,
   "metadata": {},
   "outputs": [],
   "source": [
    "total_df['type'] = total_df['type'].str.strip()"
   ]
  },
  {
   "cell_type": "code",
   "execution_count": 113,
   "metadata": {},
   "outputs": [
    {
     "data": {
      "text/plain": [
       "Художественный                5909\n",
       "Анимационный                   829\n",
       "Прочие                         406\n",
       "Документальный                 288\n",
       "Научно-популярный               53\n",
       "Музыкально-развлекательный       1\n",
       "Name: type, dtype: int64"
      ]
     },
     "execution_count": 113,
     "metadata": {},
     "output_type": "execute_result"
    }
   ],
   "source": [
    "total_df['type'].value_counts()"
   ]
  },
  {
   "cell_type": "code",
   "execution_count": 114,
   "metadata": {},
   "outputs": [
    {
     "data": {
      "text/plain": [
       "array(['США', 'СССР', 'Франция', 'СССР, Венгрия',\n",
       "       'Германия-Великобритания', 'Великобритания - Италия',\n",
       "       'Чехословакия', 'США - Франция - Турция', 'Новая Зеландия',\n",
       "       'Канада - Франция - Испания', 'США-Германия',\n",
       "       'США - Великобритания', 'Великобритания', 'США - Германия',\n",
       "       'Франция - Мексика - США', 'Россия, Казахстан, США',\n",
       "       'СССР, Швеция', 'СССР, Франция, Англия, Куба, ГДР', 'Германия',\n",
       "       'Великобритания-США-Германия-КНР',\n",
       "       'СССР, ЧССР, Западный Берлин, ПНР', 'СССР, Италия', 'Гонконг, КНР',\n",
       "       'США - Франция', 'США - Япония - Франция - Великобритания',\n",
       "       'Гонконг - Сингапур - Таиланд - Великобритания', 'США-Канада',\n",
       "       'Франция - Италия - Великобритания - США', 'Франция - США',\n",
       "       'Ирландия-Великобритания-Германия', 'Чехия', 'США-Австралия',\n",
       "       'СССР, Финляндия', 'США-Франция-Великобритания-Австрия',\n",
       "       'США - Бельгия', 'США - Ирландия - Великобритания',\n",
       "       'Великобритания - США',\n",
       "       'Люксембург - Нидерланды - Испания - Великобритания - США - Италия',\n",
       "       'Великобритания - Франция - США', 'Новая Зеландия - США',\n",
       "       'США - Великобритания - Чехия',\n",
       "       'Канада - Франция - Великобритания', 'Ирландия',\n",
       "       'Великобритания - Германия - США',\n",
       "       'США - Франция - Великобритания', 'Япония', 'СССР, Польша',\n",
       "       'Франция - Испания', 'Канада-Франция', 'Германия - Италия - США',\n",
       "       'Аргентина - Бразилия', 'Дания - Швейцария - Бельгия - Франция',\n",
       "       'США - Испания', 'Германия - США',\n",
       "       'Франция - Австрия - Германия - Италия - США', 'Австрия',\n",
       "       'США - Канада - Германия', 'США - Канада',\n",
       "       'СССР - Швейцария - Франция', 'Россия - Казахстан', 'Гонконг',\n",
       "       'Италия', 'США - ОАЭ', 'Россия',\n",
       "       'США - Франция - Испания - Великобритания',\n",
       "       'Великобритания - Франция', 'США-Италия-Испания-Аргентина',\n",
       "       'Франция-Великобритания', 'КНР - Гонконг',\n",
       "       'Франция - Италия - Швейцария', 'США - Новая Зеландия',\n",
       "       'Франция - Бельгия', 'КНР', 'Германия - Великобритания - Австрия',\n",
       "       'Великобритания - Израиль - Франция - Япония - США', 'Швеция',\n",
       "       'Испания', 'Дания', 'Франция - Бельгия - Люксембург',\n",
       "       'США - Индия - ОАЭ',\n",
       "       'Германия-Канада-Великобритания-Швейцария-Франция',\n",
       "       'Мексика - Чили', 'Аргентина', 'Бразилия', 'Чили', 'Австралия',\n",
       "       'Португалия - Франция', 'США - ЮАР', 'Исландия-Ирландия-Германия',\n",
       "       'США-Индонезия', 'Южная Корея', 'Мексика - Испания - Дания - США',\n",
       "       'Великобритания-США', 'Франция - Италия', 'США-Франция',\n",
       "       'США - Венгрия - Великобритания', 'Бельгия-Франция-Италия',\n",
       "       'Чехия - Германия', 'Германия - Франция', 'США-Нидерланды',\n",
       "       'Украина', 'Великобритания - Германия', 'Франция-Бельгия',\n",
       "       'США-Франция-Испания', 'Италия - Франция', 'Канада',\n",
       "       'Швеция-Франция-Дания', 'Германия-Франция-Польша',\n",
       "       'Франция-Великобритания - Германия',\n",
       "       'США - Бразилия - Франция - Австралия - Великобритания - Германия',\n",
       "       'Германия-Австрия', 'Германия-Италия- Шри-Ланка',\n",
       "       'Великобритания - Испания',\n",
       "       'США - Великобритания - Канада - Швеция',\n",
       "       'Босния и Герцеговина - Франция - Великобритания - Германия - Словения - Бельгия - Сербия',\n",
       "       'Великобритания - Франция - Италия - США', 'США-ОАЭ',\n",
       "       'Испания - Франция', 'США-Великобритания', 'США-ЮАР',\n",
       "       'Великобритания-Австралия - США',\n",
       "       'Норвегия - Швеция - Дания - Германия', 'Норвегия', 'Швейцария',\n",
       "       'Греция - Германия - Франция', 'Норвения', 'Южная Корея - США',\n",
       "       'Чили - Франция - США', 'Австрия - Германия - Франция',\n",
       "       'Швеция - Дания', 'Великобритания - Франция - Бельгия - Италия',\n",
       "       'Франция - Германия', 'Грузия - Франция - Люксембург',\n",
       "       'США - Франция - Великобритания - Бразилия ', 'США - КНР',\n",
       "       'Мексика - Франция', 'США - Германия - Гонконг - Сингапур',\n",
       "       'Финляндия - Австрия - Россия', 'Испания - Куба',\n",
       "       'Великобритания - ЮАР', 'Великобритания - Ирландия', 'Израиль',\n",
       "       'Бразилия - Германия - Порртугалия - Франция ',\n",
       "       'Франция - Канада - Бельгия', 'Франция-Испания',\n",
       "       'Испания - Канада - Япония', 'Иран', 'Швеция-Куба',\n",
       "       'США-Великобритания-Ирландия', 'Гонконг - КНР', 'Нидерланды',\n",
       "       'Испания - Канада', 'Япония-Великобритания',\n",
       "       'Великобритания - Норвегия - Дания - Германия',\n",
       "       'Финляндия - Франция - Германия',\n",
       "       'Мексика - Франция - Нидерланды - Германия', 'США - Индия',\n",
       "       'США-Великобритания-Индия', 'США-Канада-Бельгия',\n",
       "       'Республика Узбекистан', 'Италия ', 'Турция',\n",
       "       'Сербия - Словения - Хорватия - Черногория - Македония',\n",
       "       'Киргизия', 'Германия - Нидерланды - Беларусь - Россия - Латвия',\n",
       "       'Индия', 'Нидерланды - Россия - Германия',\n",
       "       'Великобритания - Нидерланды - Франция - Хорватия',\n",
       "       'Канада - Южная Корея',\n",
       "       'Великобритания - Польша - КНР - Индия - Норвегия',\n",
       "       'Япония - Франция - США - Южная Корея - Турция',\n",
       "       'Мексика - Аргентина - Великобритания', 'Израиль - Франция',\n",
       "       'Польша - Португалия - Франция - Великобритания',\n",
       "       'Австралия - США', 'США - Великобритания ',\n",
       "       'Франция - Люксембург - Бельгия', 'Армения',\n",
       "       'Бельгия - Люксембург - Франция - Швейцария',\n",
       "       'США - Великобритания - Канада', 'Норвегия - Швеция',\n",
       "       'Канада - Франция', 'КНР - Гонконг - США',\n",
       "       'США - Сингапур - Малайзия - Индонезия', 'Германия - Россия',\n",
       "       'Япония - Канада', 'Финляндия - Дания - Германия - Ирландия',\n",
       "       'Франция - Люксембург - Германия - Бельгия - Швейцария - Великобритания ',\n",
       "       'Канада - США', 'США-Италия-Испания', 'США-Испания',\n",
       "       'США - Швейцария - Франция', 'Испания - США - Колумбия',\n",
       "       'Канада-ЮАР', 'Франция - Россия',\n",
       "       'Германия - Финляндия - Австралия', 'Дания - Швеция', 'Бельгия',\n",
       "       'Германия - Франция - Австрия', 'Франция-Индия', 'ЮАР',\n",
       "       'Франция-Перу', 'Франция - Канада', 'Республика Беларусь',\n",
       "       'Великобритания - Австрия - Франция - США',\n",
       "       'Австрия-Германия-Франция', 'США-Россия', 'Германия-США',\n",
       "       'США - Южная Корея', 'Канада - КНР',\n",
       "       'Дания - Швеция - Италия - Франция - Германия',\n",
       "       'Франция-Италия-Испания-Венгрия', 'Франция - Германия - Бельгия',\n",
       "       'Франция-Великобритания-Чехия', 'Румыния - Франция - Бельгия',\n",
       "       'Болгария - Франция - Изриль',\n",
       "       'Израиль - Германия - Польша - Бельгия - Франция - Люксембург',\n",
       "       'Россия, Германия, Франция, Бельгия', 'Индонезия',\n",
       "       'Франция - Португалия', 'Великобритания - Пуэрто-Рико',\n",
       "       'СССР, ФРГ, Западный Берлин', 'Россия, Республика Беларусь',\n",
       "       'США, Великобритания', 'Франция - Австрия', 'Бельгия-Нидерланды',\n",
       "       'Великобритания - США - Индия', 'США - Великобритания - Австралия',\n",
       "       'Канада - Франция - США - ОАЭ - Великобритания',\n",
       "       'США - Австралия - Франция',\n",
       "       'Дания-Франция-Бельгия-Германия-Великобритания',\n",
       "       'Испания - Аргентина', 'Исландия - Финляндия',\n",
       "       'Россия-Польша-Голландия-Словакия', 'Дания - Германия - Швеция',\n",
       "       'Южная Корея - США - Канада', 'Таиланд', 'США-Мальта',\n",
       "       'США -Германия',\n",
       "       'Великобритания - Германия - Франция - Кипр - США', 'Мексика',\n",
       "       'США - Великобритания - Ирландия', 'США - Украина',\n",
       "       'США - Финляндия - Испания - Великобритания - Франция',\n",
       "       'Австралия-Великобритания',\n",
       "       'США - Канада - Афганистан - Бельгия - Франция',\n",
       "       'США - Великобритания - Германия - Новая Зеландия - Бельгия - Франция',\n",
       "       'Франция-Канада',\n",
       "       'Ирландия - Финляндия - Бельгия - Великобритания - США - Швейцария',\n",
       "       'Малайзия - США', 'Германия - Италия',\n",
       "       'США - Франция - Бельгия - Италия', 'Франция - Ирландия - Швеция',\n",
       "       'Азербайджан-Россия', 'Великобритания - Италия - Швейцария',\n",
       "       'США - Германия - Великобритания',\n",
       "       'Германия - Бельгия - США -Франция', 'США-Китай', 'Чили - Испания',\n",
       "       'Франция - Швейцария', 'Канада - Испания',\n",
       "       'США - Румыния - Великобритания', 'США - Япония',\n",
       "       'США - Россия - Франция', 'Франция-США', 'Парагвай',\n",
       "       'Германия - Канада', 'США - Канада - Великобритания',\n",
       "       'Финляндия - Канада', 'Уругвай-Мексика-Германия ', 'США - Чили',\n",
       "       'Германия - Аргентина - Нидерланды - Чили',\n",
       "       'США - Канада - Индонезия', 'Армения - Казахстан', 'Финляндия',\n",
       "       'Испания - Италия - Франция',\n",
       "       'Бельгия - Испания - Канада - Нидерланды',\n",
       "       'Великобритания - Франция - Швеция - Бельгия',\n",
       "       'Мексика - Эквадор - Канада - США - Франция - Малайзия - Италия - Аргентина - Германия - Индия  ',\n",
       "       'Франция - Бенльгия', 'Индия - Великобритания',\n",
       "       'Япония - Великобритания - Франция',\n",
       "       'Испания - Уругвай - Аргентина',\n",
       "       'Франция - Италия - Бельгия - Люксембург',\n",
       "       'Франция - Украина - Грузия - Армения',\n",
       "       'Сербия - Германия - Венгрия', 'Франция-Польша', 'Франция ',\n",
       "       'Румыния-США', 'Россия-Азербайджан',\n",
       "       'США - Нидерланды - Бельгия - Венгрия - Греция - Канада',\n",
       "       'Германия - Франция - Люксембург', 'США - Россия',\n",
       "       'Великобритания - США - Франция', 'США - Австралия - Дания',\n",
       "       'Бельгия-Франция', 'США-Мексика',\n",
       "       'Норвегия - Азербайджан - Россия - Колумбия - Великобритания - Венгрия - Румыния - Франция - Грузия',\n",
       "       'СЩА', 'Бразилия - Испания', 'Россия, Франция, Латвия',\n",
       "       'Нидерланды - США - Германия - Канада - Франция - Ирландия - Великобритания',\n",
       "       'Уругвай - Колумбия', 'США - Испания - Болгария',\n",
       "       'Армения - Германия', 'США - Великобритания- Франция - Швеция',\n",
       "       'США - Мексика', 'Австралия-Турция-США', 'Швеция - Германия',\n",
       "       'Польша - Италия - Россия', 'Франция - Бразилия',\n",
       "       'США - Канада - КНР', 'СССР, Венгрия, ЧССР, ГДР',\n",
       "       'Бельгия - Германия - Люксембург', 'СССР  ', 'СССР ', ' СССР ',\n",
       "       'США - Австралия', 'Бразилия - США',\n",
       "       'США - Великобритания - Канада - КНР', 'Франция - Чили',\n",
       "       'Франция - США - Великобритания - Колумбия - Бельгия - Россия',\n",
       "       'Дания - Великобритания - ЮАР', 'СССР   ',\n",
       "       'Россия-США-Канада-Люксембург', 'Россия - Республика Кипр',\n",
       "       'Германия - США - Швеция - Франция',\n",
       "       'Великобритания-Германия-Канада-ЮАР', ' СССР   ', 'СССР     ',\n",
       "       'Ирландия, Канада',\n",
       "       'Япония - Великобритания - Швейцария - Ирландия - Дания - Франция - Польша - Австралия - Канада  ',\n",
       "       'Великобритания, Канада', 'Бельгия - США',\n",
       "       'Великобритания - США - Россия', 'Россия-Украина',\n",
       "       'Германия - США - Великобритания - Израиль', 'Канада - Германия',\n",
       "       'США- Ю.Корея', 'Индия - Мексика',\n",
       "       'Великобритания - Франция - Республика Кипр - Швейцария - США - Сербия',\n",
       "       'Испания - Аргентина - Индия - США',\n",
       "       'Норвегия - Исландия - США - Великобритания ',\n",
       "       'Турция - Германя - Франция', 'Германия - Великобритания',\n",
       "       'Австралия - Германия', 'Мексика - Испания',\n",
       "       'Великобритания - США - Германия - Бельгия',\n",
       "       'США - Чехия - Франция', 'Россия - Италия', 'Франция-Россия',\n",
       "       'Норвегия - Дания - Швеция', 'Франция - Швейцария - Германия',\n",
       "       'Грузия - Украина', 'Россия - Эстония - Финляндия - Беларусь',\n",
       "       'США - Франция - ЮАР', 'Великобритания - США - Швейцария',\n",
       "       'Канада-США', 'Мексика - Нидерланды - Германия - Франция',\n",
       "       'США - Испания - Франция', 'США - Великобритания - КНР',\n",
       "       'США-Франция-Канада',\n",
       "       'Япония, Великобритания, Австрия, Германия, Ю.Корея',\n",
       "       'Великобритания - Ирландия - США', 'Бельгия - Италия - Франция ',\n",
       "       'Швейцария-Германия-ЮАР', 'Великобритания - США - Германия',\n",
       "       'Германия - Исландия', 'Испания - США', 'СССР    ', 'Хорватия',\n",
       "       'Финляндия - Исландия - Швеция',\n",
       "       'Канада - США - Германия - Франция',\n",
       "       'США - Великобритания - Испания', 'Ирландия-Великобритания',\n",
       "       'Аргентина - Испания', 'Австрия - Германия', ' СССР',\n",
       "       'Германия - Швейцария - Франция - Южная Корея - США',\n",
       "       'Украина - Нидерланды', 'Венгрия - Германия - Швеция',\n",
       "       'Германия - Франция -  Польша - Турция - Канада - Италия - Россия ',\n",
       "       'СССР, Афганистан', 'СССР, Монголия', 'Россия-Кипр',\n",
       "       'Россия, Грузия, Испания',\n",
       "       'Великобритания - Нидерланды - Германия - Франция - Бельгия - Австрия ',\n",
       "       'Испания - Великобритания - Франция',\n",
       "       'Дания - Норвегия - Великобритания',\n",
       "       'Бельгия - Франция - Люксембург',\n",
       "       'Италия - Франция - Швейцария - Великобритания',\n",
       "       'Франция - Бельгия - Великобритания - Испания - Германия - США',\n",
       "       'Швейцария - Израиль - Франция - Великобритания',\n",
       "       'Великобритания - США - Канада - Нидерланды - Франция',\n",
       "       'Россия, Италия', 'СССР, Албания',\n",
       "       'Россия, Украина, Республика Беларусь, Литва',\n",
       "       'Финляндия - Великобритания - Германия', 'Россия, Украина, Польша',\n",
       "       'Франция - Италия - Бельгия - КНР',\n",
       "       'Германия - Бельгия - Люксембург - Ирландия', 'КНР - Сингапур',\n",
       "       'Франция - Бельгия - Великобритания - США - Нидерланды - Канада',\n",
       "       'США - Россия - Польша - Германия - Пуэрто Рико',\n",
       "       'Франция - Бельгия - Канада', 'США ', 'Мексика - США',\n",
       "       'США - Гонконг - КНР ', 'Греция - Россия',\n",
       "       'Ирландия - Дания - Бельгия - Люксембург - Франция',\n",
       "       'Эстония - Россия',\n",
       "       'Великобритания - Исландия - Испания - Швейцария - США',\n",
       "       'Австралия - Великобритания - Бельгия - Индия',\n",
       "       'Швеция - Германия - Франция - Норвегия',\n",
       "       'Нидерланды - Бельгия - Германия - Ирландия',\n",
       "       'Нидерланды - Великобритания - Бельгия',\n",
       "       'США - Колумбия - Испания', 'Франция-Испания-Бельгия-Панама',\n",
       "       'США-Великобритания-Чехия-Румыния',\n",
       "       'Аргентина - Уругвай - Россия - Германия - Франция - Нидерланды',\n",
       "       'Швеция - Франция - Норвегия - Дания',\n",
       "       'Италия-Франция-Великобритания', 'Великобритания, Франция',\n",
       "       'Австралия, США', 'Венесуэла',\n",
       "       'Великобритания - США - Австралия - Ирландия - Германия - Куба - Канада',\n",
       "       'Южная Корея - КНР',\n",
       "       'Аргентина - Мексика - Бразилия - Франция - США', 'Швеция - США',\n",
       "       'Франция - Германия - Турция - Катар', 'Франция-Китай',\n",
       "       'Россия, Германия, Великобритания',\n",
       "       'Великобритания - Италия - Испания', 'Италия - Россия',\n",
       "       'Япония - КНР - Южная Корея', 'Россия, Германия',\n",
       "       'Россия-Ирландия', 'Македония - Франция - Великобритания',\n",
       "       'Франция - Бразилия - Италия', 'Россия-США', 'Армения-Россия',\n",
       "       'Россия, Румыния', 'Франция -  Бельгия', 'Грузия-Франция',\n",
       "       'ЮАР - США', 'Великобритания-США-Франция',\n",
       "       'Великобритания - США - Германия - Канада - Австралия',\n",
       "       'США-Ирландия', 'Россия, Республика Кипр',\n",
       "       'Германия - Люксембург - Франция', 'Россия-Франция',\n",
       "       'США - Нидерланды - Финляндия - Великобритания - Италия',\n",
       "       'Республика Кипр', 'Венгрия', 'Франция - США - Норвегия - Дания',\n",
       "       'Германия - Австрия - Ирландия', 'США - Финляндия',\n",
       "       'Италия-Великобритания', 'Россия, Испания',\n",
       "       'США - Великобритания - Болгария', 'Великобритания - Люксембург',\n",
       "       'Индия - США', 'США - Канада - Россия - Франция - Чили - Ирландия',\n",
       "       'Грузия-Россия',\n",
       "       'Дания - Австрия - Ирландия - Финляндия - Норвегия - Швеция - Нидерланды',\n",
       "       'США-КНР', 'Грузия', 'Австралия - Ирландия',\n",
       "       'Великобритания - Канада', 'Италия - Аргентина - Словения ',\n",
       "       'Испания - Франция - Нидерланды - Германия - Бельгия - Великобритания - Канада',\n",
       "       'Франция - Чехия - Бельгия',\n",
       "       'Великобритания - Франция - Германия - США',\n",
       "       'Ирландия - Великобритания - Франция - США - Германия - Нидерланды',\n",
       "       'США - Канада - Япония - КНР', 'Италия-Франция',\n",
       "       'США - Великобритания - Исландия', 'Великобритания-Франция',\n",
       "       'Франция - Германия - Нидерланды', 'Иран ',\n",
       "       'Франция - Германия - Швеция - США - Чехия - Словакия - Великобритания - Нидерланды',\n",
       "       'Франция - Канада - Н.Зеландия - США - Нидерланды - Германия - Швеция - Россия',\n",
       "       'Турция - США',\n",
       "       'Великобритания - США - Канада - Бельгия - Нидерланды - Австрия - Германия',\n",
       "       'Израиль - Франция - Германия - Палестина - США - Австрия - Великобритания',\n",
       "       'Аргентина - Франция - Испания', 'СССР, Россия',\n",
       "       'Великобритания - Франция - Италия - Индия - Дания - КНР - Бангладеш - Камбоджа - Гаити - Уганда',\n",
       "       'Италия - Франция - Швейцария',\n",
       "       'Ирландия - Великобритания - Канада', 'Перу', 'США - Норвегия',\n",
       "       'Испания-Канада', 'Китай-Гонконг', 'США - Германия - КНР',\n",
       "       'Великобритания - Новая Зеландия',\n",
       "       'Франция - Дания - Швеция - КНР',\n",
       "       'США - Великобритания - Германия - Бельгия - Дания',\n",
       "       'США - Франция - Канада - Германия - Австралия - Индия', nan,\n",
       "       'СССР, Румыния, Франция', 'СССР, ГДР', 'Австралия-Ирландия',\n",
       "       'США - Китай', 'Великобритания - Франция - Австрия - Швеция',\n",
       "       'Россия, Таджикистан', 'Нидерланды - Бельгия - Болгария',\n",
       "       'Великобритания - Канада - США', 'Франция - Бельгия - Испания',\n",
       "       'Китай-Гонконг-США', 'Франция - Великобритания', 'США - Вьетнам',\n",
       "       'США - Германия - Франция', 'Германия - Франция - Бельгия',\n",
       "       'США - Италия',\n",
       "       'Германия - Дания - Испания - Швеция - Канада - Эстония - Франция',\n",
       "       'Княжество Андорра - Украина', 'Германия - Люксембург - Бельгия',\n",
       "       'Великобритания - Россия - Украина - США',\n",
       "       'Германия - Бельгия - Люксембург - Норвегия',\n",
       "       'США - Австралия - Новая Зеландия - Великобритания',\n",
       "       'США - Франция - Канада - Великобритания', 'Испания-Колумбия',\n",
       "       'Великобритания - Чехия - Франция', 'Россия, Украина', 'Исландия',\n",
       "       'Великобритания - Франция - Венгрия',\n",
       "       'Россия, Франция, Германия, Бельгия', 'Франция - Македония',\n",
       "       'Нидерланды - Франция - Германия - Бельгия - Швеция - Великобритания',\n",
       "       'Испания - США - Великобритания - Канада', 'Германия - Австрия',\n",
       "       'Республика Казахстан',\n",
       "       'Франция - Испания - Дания - Венгрия - Швейцария', 'Франция-КНР',\n",
       "       'США - Пуэрто-Рико - Франция ', 'Мексика - Тайвань - США',\n",
       "       'Великобритания - Испания - Непал - Индия - Венгрия - Гонконг - Германия - Дания - Бахрейн',\n",
       "       'Великобритания - Аргентина - США - Франция - Россия - Испания',\n",
       "       'КНР - США', 'Италия - США', 'Финляндия - Швеция - Германия',\n",
       "       'Канада- Испания', 'Франция - Бельгия - Чехия',\n",
       "       'Франция-Бельгия-Канада', 'Франция - Германия - США',\n",
       "       'США - Дания', 'Индия - КНР', 'Чехия-Великобритания-США',\n",
       "       'США-ФРГ-Россия', 'Ирландия-Нидерланды-Франция-США-Великобритания',\n",
       "       'Россия, Грузия, Хорватия, Испания',\n",
       "       'Финляндия - Швеция - Норвегия', 'Сербия - Великобритания - США',\n",
       "       'США - Великобритания - Франция - Гонконг', 'Швейцария - Франция',\n",
       "       'Швейцария - Великобритания', 'ОАЭ - США',\n",
       "       'США - Франция - Германия - Канада - Австралия ',\n",
       "       'Германия - Австралия', 'Иран, Франция',\n",
       "       'США - Великобритания - Новая Зеландия', 'США-Колумбия',\n",
       "       'США-Франция-Ирландия', 'Великобритания - Франция - Бельгия',\n",
       "       'США - Великобритания - Япония', 'США - Франция - Германия',\n",
       "       'Польша - Ирландия', 'Ирландия - Великобритания - Франция - США',\n",
       "       'США - Бельгия - Великобритания', 'СССР, ВНР',\n",
       "       'Испания - Франция - США - Великобритания - Бельгия',\n",
       "       'Франция - Дания - США', 'США - Гонконг', 'Бразилия - К;анада',\n",
       "       'Франция-Германия', 'США - Колумбия',\n",
       "       'США - Ирландия - Великобритания - Франция',\n",
       "       'Великобритания - США - Канада', 'Польша - Франция',\n",
       "       'Канада - США - Нидерланды - Великобритания - Аргентина',\n",
       "       'Великобритания - Дания', 'Франция - Бельгия - Япония',\n",
       "       'Россия,  Испания', 'Франция -Бельгия',\n",
       "       'США - Канада - Германия - Франция', 'США-Канада-Франция',\n",
       "       'Россия - Германия', 'Россия-Италия', 'Китай - Гонконг',\n",
       "       'Германия-Австрия-Франция-Италия', 'США-Япония',\n",
       "       'США - Германия - Канада', 'Испания-Мексика',\n",
       "       'США - Япония - Канада - Великобритания - Германия - Франция',\n",
       "       'США -Великобритания - Австралия', 'Россия-Украина-Германия',\n",
       "       'Израиль - Франция - Великобритания - Германия', 'Корея',\n",
       "       'Россия - Болгария', 'США-Индия',\n",
       "       'Германия-Канада-Франция-Бельгия', 'Германия-Кения',\n",
       "       'Франция - Монако', 'Франция-Испания-Швейцария',\n",
       "       'Австрия-Франция-Германия', 'Румыния',\n",
       "       'США-Великобритания-Франция', 'Канада-Великобритания',\n",
       "       'Канада-Бразилия-Япония', 'Германия - Дания - Норвегия',\n",
       "       'Дания - Германия', 'СССР - Италия',\n",
       "       'СССР - ГДР - Польша - Италия',\n",
       "       'США - Испания - Франция - Великобритания', 'Китай',\n",
       "       'Мексика-Аргентина',\n",
       "       'Германия - Великобритания - Италия - Испания',\n",
       "       'Франция-Германия-Великобритания', 'Россия - Германия - Швейцария',\n",
       "       'Франция-Австралия', 'Голландия', 'Швейцария-Франция',\n",
       "       'Россия-Белоруссия', 'Франция - Испания - Тайвань',\n",
       "       'США-Южная Корея-Новая Зеландия', 'Великобритания-Венгрия',\n",
       "       'Россия-Германия', 'Великобритания-Франция-Германия',\n",
       "       'Франция-Германия-Италия', 'Швеция-Финляндия-Франция-Норвегия',\n",
       "       'Франция-Италия', 'Германия-Израиль',\n",
       "       'Швеция - Германия - Дания - Норвегия', 'США-Бельгия',\n",
       "       'Франция-Гонконг-Ирландия', 'Эстония', 'Литва-Россия-Украина',\n",
       "       'Германия - Италия - Франция',\n",
       "       'Великобритания - Австрия - Германия', 'Бельгия - Франция',\n",
       "       'Россия-Казахстан', 'Испания - Мальта',\n",
       "       'Франция-Россия-Румыния-Италия-Бельгия', 'Россия - Польша',\n",
       "       'Испания - Мексика', 'США-Аргентина', 'Великобритания ',\n",
       "       'Израиль-США-Франция', 'США - Новая Зеландия - Япония',\n",
       "       'Франция - Чехия - Великобритания', 'Россия-Польша',\n",
       "       'Германия-Франция-Великобритания', 'США-Германия-Канада',\n",
       "       'США-Гонконг-Китай', 'США - Великобритания - Германия',\n",
       "       'США-Канада-Австралия', 'Япония-США-Франция',\n",
       "       'Франция-Испания-Германия', 'США - Хорватия - Босния-Герцеговина',\n",
       "       'Великобритания - Чехия - Франция - Италия',\n",
       "       'США - Германия - Нидерланды', 'Германия - Франция - Канада',\n",
       "       'Франция-Грузия-Германия-Россия-Украина-Бельгия',\n",
       "       'Великобритания - Франция - Италия', 'Россия - США',\n",
       "       'Франция - Италия - Иран', 'Россия - Азербайджан', 'Греция',\n",
       "       'Дания - США', 'США-Великобритания-Новая Зеландия',\n",
       "       'США-Германия-Австралия', 'США-Канада-Италия',\n",
       "       'США - Япония - Германия', 'Австралия-США',\n",
       "       'Франция - Великобритания - Багамские острова - США',\n",
       "       'Швейцария - Люксембург', 'Швейцария - Австрия',\n",
       "       'Германия - Швейцария', 'Дания-Швеция-Франция-Германия', 'Польша',\n",
       "       'Швейцария-Австрия', 'Бразилия - Канада - США',\n",
       "       'Нидерланды - Россия', 'Португалия', 'Франция-Аргентина',\n",
       "       'Швеция-Франция', 'Франция-Украина', 'Германия-Украина-Нидерланды',\n",
       "       'Италия-Швейцария', 'США-Германия-Великобритания',\n",
       "       'Латвия - Россия', 'Германия-Франция-Великобритания-США',\n",
       "       'Канада - Италия', 'США - Объединенные Арабские Эмираты',\n",
       "       'США-Венгрия', 'Малайзия', 'Россия - Германия - Украина',\n",
       "       'США - Австралия - Мексика', 'Литва - Венгрия', 'Германия - Китай',\n",
       "       'Казахстан', 'Республика Корея',\n",
       "       'США - Германия - Франция - Великобритания - Канада ',\n",
       "       'Бельгия - Германия - Люксембург - Франция', 'Франция - Греция',\n",
       "       'Италия - Канада', 'США - Великобритания - Франция',\n",
       "       'США-Италия-Греция', 'Германия - США - Великобритания - Ирландия',\n",
       "       'Великобритания - Франция - Германия',\n",
       "       'Германия - Нидерланды - ЮАР',\n",
       "       'США-Япония-Германия-Великобритания-Нидерланды',\n",
       "       'США-Япония-Германия-Великобритания',\n",
       "       'Германия - Франция - Польша',\n",
       "       'Таиланд-Великобритания-Франция-Германия-Испания-Нидерланды',\n",
       "       'Германия-Италия-Швейцария',\n",
       "       'Дания - Швеция - Великобритания - Франция - Германия - Нидерланды - Норвегия - Финляндия',\n",
       "       'Франция - Великобритания - Нидерланды - Люксембург',\n",
       "       'Нидерланды-Великобритания-Франция-Италия-Япония',\n",
       "       'Финляндия-Дания-Германия-Ирландия', 'Испания-Аргентина',\n",
       "       'Великобритания - Нидерланды - Франция - США', 'Канада - Мексика',\n",
       "       'США, Франция', 'Канада-Южная Корея-США',\n",
       "       'Великобритания - Франция - Бельгия - США', 'КНР - Канада - США',\n",
       "       'Италия - Франция - Германия',\n",
       "       'Швеция - Германия - Франция - Дания', 'Франция - США - Бельгия',\n",
       "       'Украина - Германия - Латвия - Эстония', 'Австрия - Люксембург',\n",
       "       'Великобритания - КНР', 'Монголия', 'Франция - Дания',\n",
       "       'Швеция - Дания - Финляндия',\n",
       "       'Сингапур - Великобритания - Индонезия - Канада - США',\n",
       "       'США - Германия - Япония', 'Таиланд - США', 'Франция - Нидерланды',\n",
       "       'Великобритания - Румыния', 'США - Мальта',\n",
       "       'Великобритания - Германия - Нидерланды - Дания',\n",
       "       'Франция - Германия - Литва - Нидерланды - Россия',\n",
       "       'США - ЮАР - Гонконг', 'Австралия - Колумбия',\n",
       "       'Великобритания - Польша', 'США - Великобритания - Швеция',\n",
       "       'Франция - Швеция - Дания - Норвегия', 'Болгария - США',\n",
       "       'СССР, ФРГ', 'Бельгия - Нидерланды - Франция',\n",
       "       'Финляндия - Германия', 'Болгария',\n",
       "       'Грузия - Россия - Украина - Хорватия - Германия',\n",
       "       'Франция - Люксембург', 'Франция - Германия - Австрия',\n",
       "       'Норвегия - США', 'Германия-Швеция', 'Франция - Германия - Италия',\n",
       "       'Франция-Германия-Австрия', 'КНР-США',\n",
       "       'Великобритания - Ирландия - США ',\n",
       "       'Дания - Латвия - Россия - США', 'Финляндия - Польша',\n",
       "       'Германия - Бельгия', 'Германия - США - Франция - Испания',\n",
       "       'Бельгия-Германия-Канада-Франция-США-Великобритания',\n",
       "       'Нидерланды - Бельгия - Люксембург', 'Канада-Германия',\n",
       "       'Люксембург - Бельгия - Франция', 'США-Великобритания-Австралия',\n",
       "       'Великобритания, Новая Зеландия', 'Бельгия, Великобритания, США',\n",
       "       'Великобритания, Австралия', 'Исландия, Бельгия',\n",
       "       'Испания - Швейцария - Великобритания - Германия - Новая Зеландия - Нидерланды - Канада',\n",
       "       'Франция, Бельгия', 'Великобритания, США', 'Киргизия-Россия',\n",
       "       'Германия, США', 'Великобритания, США, Испания',\n",
       "       'Италия - Швейцария - Германия', 'Россия, Армения',\n",
       "       'Франция, Германия', 'Китай, Канада, США', 'Германия, Австралия',\n",
       "       'КНР, США', 'США, Великобритания, Люксембург',\n",
       "       'Испания, Ирландия, Бельгия, Франция',\n",
       "       'Великобритания - Гонконг - Венгрия - США - Ирландия',\n",
       "       'США - Пуэрто Рико', 'Аргентина - Испания - Уругвай',\n",
       "       'Израиль - Германия - Франция - Швейцария',\n",
       "       'Великобритания - Мексика - США', 'Испания - Болгария - США',\n",
       "       'Россия-Словакия-Чехия',\n",
       "       'Швейцария - КНР - США - Россия - Республика Корея - Великобритания',\n",
       "       'Россия, Нидерланды, Финляндия',\n",
       "       'Испания - Бельгия - Франция - Португалия - Великобритания',\n",
       "       'Бразилия - Португалия - Франция', 'Швеция - Норвегия',\n",
       "       'Франция - Польша - Бельгия', 'CША', 'Китай, США',\n",
       "       'Италия, Франция, Германия', 'Германия - Австрия - Франция',\n",
       "       'Чехия - Словакия - Хорватия', 'Россия, Польша, Финляндия',\n",
       "       'Россия, Латвия, Чешская Республика',\n",
       "       'Франция - Великобритания - Камбоджа - США - КНР',\n",
       "       'Чехия - Испания - США', 'Германия - Люксембург - Дания',\n",
       "       'Великобритания - Испания - Германия', 'Дания - Исландия',\n",
       "       'Германия, Франция, Великобритания',\n",
       "       'Великобритания - Испания - Италия - Латвия - Франция - Эстония',\n",
       "       'Дания, Швеция, Великобритания, Франция, Германия, Норвегия, Финляндия, Нидерланды, Италия',\n",
       "       'Польша - Франция - Великобритания',\n",
       "       'Дания, Норвегия, Венгрия, Чехия',\n",
       "       'Дания - Франция - Германия - Швеция',\n",
       "       'Великобритания, Швеция, США',\n",
       "       'Канада, Франция, Италия, Швейцария, США', 'США, Индия',\n",
       "       'США - Великобритания - Германия - - Швеция - Канада',\n",
       "       'Италия, Франция', 'Республика Беларусь, Германия, США, Россия',\n",
       "       'Италия-Швейцария-Франция-Германия ',\n",
       "       'Россия - Франция - Великобритания - Латвия', 'Россия-Беларусь',\n",
       "       'Франция - Испания - Румыния - США - Бельгия', 'Италия-США',\n",
       "       'Россия, Австрия', 'Ирландия - Великобритания - США',\n",
       "       'Швейцария, Великобритания, Франция, США, Ирландия',\n",
       "       'Мексика, Франция, Германия, Дания, Швеция', 'Нидерланды, Бельгия',\n",
       "       'Швеция, Норвегия, Финляндия, Франция', 'Испания, Франция, Италия',\n",
       "       'Испания-Франция-Греция-Индия-США-Россия-Великобритания',\n",
       "       'Великобритания - Япония - США',\n",
       "       'Дания, Канада, Норвегия, Австралия, США', 'Аргентина, Испания',\n",
       "       'Россия, Германия, Казахстан, Польша, Китай',\n",
       "       'Португалия, Франция, Польша, США', 'США - Канада - Аргентина',\n",
       "       'Ливан-США', 'Япония - США', 'США, Гонконг ',\n",
       "       'Франция - Россия - Швейцария - Румыния - Венгрия',\n",
       "       'Аргентина-Испания', 'Россия, Сербия', 'США - Болгария - Мексика',\n",
       "       'США - Великобритания - Швейцария - Франция',\n",
       "       'Таиланд - КНР - США',\n",
       "       'Великобритания, Нидерланды, Польша, Швейцария, Франция',\n",
       "       'Ирландия - США',\n",
       "       'Германия - Франция - Великобритания - Польша - США',\n",
       "       'Великобритания-Франция-Италия', 'США - Австралия - Индия',\n",
       "       'Франция - КНР', 'Великобритания - Израиль',\n",
       "       'Великобритания - Норвегия - Кения - Хорватия',\n",
       "       'США - Бразилия - Великобритания - Канада', 'Германия, Бельгия',\n",
       "       'Австралия, Канада', 'США, Великобритания, Франция',\n",
       "       'Кения, Германия', 'Нидерланды, Бельгия, Люксембург', 'Колумбия',\n",
       "       'Латвия - Франция', 'Ирландия, Великобритания',\n",
       "       'Франция - Израиль - Германия', 'Швеция, Франция, Великобритания',\n",
       "       'Бельгия - Люксембург', 'Германия - Бельгия - Великобритания',\n",
       "       'Испания, Франция, Великобритания, Дания, Бельгия, Германия',\n",
       "       'Румыния, ЮАР, Иран, Франция, Канада, Великобритания',\n",
       "       'Германия, Франция', 'США, Япония',\n",
       "       'США, Великобритания, Ирландия, Люксембург', 'Республика Армения',\n",
       "       'США, Франция, Япония', 'Япония, США', 'Канада, США',\n",
       "       'Республика Кипр - Россия',\n",
       "       'Дания - Франция - Италия - Бельгия - Нидерланды',\n",
       "       'Россия - Грузия', 'Италия, Германия', 'Норвегия, Швеция, Дания',\n",
       "       'Республика Кипр, Россия', 'КНР, Индия, Гонконг, США',\n",
       "       'Израиль, Украина', 'США, Россия', 'США - КНР - Индия - Ю.Корея',\n",
       "       'США - Швеция', 'Франция, Канада', 'Россия-Китай',\n",
       "       'Канада, Великобритания', 'США, Германия',\n",
       "       'Канада, США, Каймановы острова',\n",
       "       'Бразилия, Уругвай, Дания, Норвегия, Чили, Швеция',\n",
       "       'Пуэрто-Рико, Великобритания, США',\n",
       "       'Уругвай - Аргентина - Испания',\n",
       "       'США - Великобритания - Италия - Израиль - Сербия - Индия',\n",
       "       'США - Канада - Франция - Индия', 'Великобритания - Россия - КНР',\n",
       "       'Франция, Новая Зеландия', 'Франция, Люксембург, Бельгия',\n",
       "       'Канада, США, Норвегия', 'Италия, Испания',\n",
       "       'Испания - Германия - Нидерланды', 'Бразилия - США - КНР ',\n",
       "       'Великобритания, Германия, Дания, США', '2019',\n",
       "       'Италия - Фрация - Бразилия - Германия',\n",
       "       'Норвегия - Швеция - Россия', 'Великобритания, Япония, США',\n",
       "       'Сша, Канада', 'Бельгия, Канада',\n",
       "       'Великобритания - Австралия - США', 'США, Канада', 'КНР - США ',\n",
       "       'Франция - Финляндия', 'Колумбия - США',\n",
       "       'Великобритания, Франция, Бельгия', 'Норвегия - Нидерланды',\n",
       "       'Великобритания, Канада, США', 'Япония, Великобритания',\n",
       "       'Италия - Бельгия - Франция', 'Россия, Бельгия, Финляндия',\n",
       "       'США, Украина', 'Франция, Норвегия',\n",
       "       'Великобритания, Южная Корея, Канада, США, Индия, Китай, Япония',\n",
       "       'Канада - Норвегия', 'Республика Кипр-Россия', 'Германия, Россия',\n",
       "       'Польша - Франция - Испания - Бразилия - Швеция',\n",
       "       'Австрия, Великобритания, Германия', 'Франция - Сенегал - Бельгия',\n",
       "       'Франция, Бельгия, Люксембург', 'Финляндия, Латвия', 'Пакистан',\n",
       "       'Германия, Франция, США', 'Германия - Великобритания - США',\n",
       "       'КНР - Франция', 'Дания, Норвегия, Швеция, Исландия',\n",
       "       'Республика Кипр, США, Россия', 'Новая Зеландия - КНР',\n",
       "       'Дания - Канада - Швеция - Франция - Германия - Великобритания - США'],\n",
       "      dtype=object)"
      ]
     },
     "execution_count": 114,
     "metadata": {},
     "output_type": "execute_result"
    }
   ],
   "source": [
    "total_df['production_country'].unique()"
   ]
  },
  {
   "cell_type": "code",
   "execution_count": 115,
   "metadata": {},
   "outputs": [
    {
     "data": {
      "text/plain": [
       "array(['боевик,драма,мелодрама', 'драма,военный',\n",
       "       'фантастика,боевик,триллер', 'драма', 'мелодрама,комедия',\n",
       "       'мюзикл,мелодрама,комедия', 'комедия,криминал',\n",
       "       'боевик,триллер,детектив', 'боевик,драма,приключения',\n",
       "       'драма,спорт', 'триллер,драма,мелодрама', 'комедия,мелодрама',\n",
       "       'драма,мелодрама,комедия', 'драма,мелодрама', 'драма,история',\n",
       "       'драма,мелодрама,семейный', 'комедия,мелодрама,криминал',\n",
       "       'комедия', 'боевик,драма,криминал', 'драма,комедия',\n",
       "       'ужасы,фантастика,комедия', 'мультфильм,короткометражка,мелодрама',\n",
       "       'драма,криминал', 'мультфильм,фантастика,фэнтези',\n",
       "       'триллер,драма,криминал', 'драма,мелодрама,биография',\n",
       "       'драма,комедия,военный', 'фантастика,драма,детектив',\n",
       "       'мюзикл,семейный', 'неизвестный жанр', 'военный,приключения,драма',\n",
       "       'документальный,драма', 'драма,биография,история',\n",
       "       'боевик,триллер,драма', 'фэнтези,боевик',\n",
       "       'боевик,комедия,криминал', 'мюзикл,комедия,детский',\n",
       "       'комедия,мелодрама,драма', 'мультфильм,фэнтези,комедия',\n",
       "       'комедия,история', 'мелодрама', 'драма,биография,музыка',\n",
       "       'фэнтези,драма,мелодрама', 'триллер,военный',\n",
       "       'драма,мелодрама,военный', 'мюзикл,драма,мелодрама',\n",
       "       'мюзикл,комедия', 'мультфильм,приключения,семейный',\n",
       "       'ужасы,триллер', 'боевик,драма,военный', 'драма,боевик',\n",
       "       'мультфильм,драма,комедия', 'триллер,криминал',\n",
       "       'военный,биография,драма', 'комедия,семейный', 'военный',\n",
       "       'драма,семейный,биография', 'фэнтези,приключения,семейный',\n",
       "       'драма,криминал,биография', 'ужасы,триллер,детектив',\n",
       "       'боевик,история,драма', 'ужасы,триллер,драма',\n",
       "       'драма,криминал,спорт', 'документальный,короткометражка',\n",
       "       'триллер,драма', 'криминал,детектив,приключения',\n",
       "       'драма,комедия,криминал', 'драма,комедия,вестерн',\n",
       "       'драма,мелодрама,детектив', 'мелодрама,биография',\n",
       "       'фэнтези,мелодрама,драма', 'драма,мелодрама,история',\n",
       "       'комедия,приключения,история', 'приключения', 'драма,семейный',\n",
       "       'криминал,детектив', 'мультфильм,короткометражка,ужасы',\n",
       "       'фантастика,триллер,драма', 'фэнтези,мелодрама,комедия',\n",
       "       'драма,биография', 'комедия,криминал,история',\n",
       "       'триллер,драма,детектив', 'фантастика,комедия,приключения',\n",
       "       'фэнтези,семейный', 'ужасы,фантастика,боевик',\n",
       "       'мелодрама,криминал', 'комедия,приключения,мелодрама',\n",
       "       'боевик,триллер,приключения', 'боевик,приключения',\n",
       "       'боевик,триллер,криминал', 'документальный,военный,история',\n",
       "       'драма,музыка', 'боевик,драма', 'приключения,боевик',\n",
       "       'драма,военный,биография', 'триллер,драма,приключения',\n",
       "       'аниме,мультфильм,фэнтези', 'триллер,детектив,драма',\n",
       "       'боевик,триллер,мелодрама', 'боевик,история',\n",
       "       'приключения,история', 'драма,комедия,приключения',\n",
       "       'фэнтези,комедия,приключения', 'драма,вестерн',\n",
       "       'документальный,музыка', 'мелодрама,драма',\n",
       "       'триллер,криминал,детектив', 'ужасы', 'боевик,комедия,приключения',\n",
       "       'мультфильм,фэнтези,боевик', 'боевик,фэнтези,драма',\n",
       "       'фэнтези,драма', 'фэнтези,боевик,комедия',\n",
       "       'приключения,детский,комедия', 'документальный',\n",
       "       'боевик,триллер,комедия', 'мелодрама,комедия,криминал',\n",
       "       'драма,детектив', 'мюзикл,ужасы,триллер', 'детектив,триллер,ужасы',\n",
       "       'ужасы,фэнтези', 'ужасы,фэнтези,триллер', 'мультфильм,драма',\n",
       "       'ужасы,боевик,фантастика', 'боевик', 'фантастика,боевик',\n",
       "       'мелодрама,комедия,приключения', 'триллер,детектив',\n",
       "       'мюзикл,мелодрама,фэнтези', 'криминал', 'триллер,комедия,криминал',\n",
       "       'боевик,приключения,триллер', 'триллер,драма,военный',\n",
       "       'комедия,семейный,музыка', 'комедия,фантастика,мелодрама',\n",
       "       'фантастика,триллер,криминал', 'комедия,драма', 'боевик,военный',\n",
       "       'ужасы,фантастика,триллер', 'фантастика,драма,мелодрама',\n",
       "       'фэнтези,драма,детектив', 'боевик,триллер', 'боевик,драма,история',\n",
       "       'мультфильм,мюзикл,фэнтези', 'для взрослых,драма,мелодрама',\n",
       "       'мультфильм,боевик,детектив', 'фантастика,мелодрама,боевик',\n",
       "       'ужасы,фантастика,детектив', 'фантастика,боевик,приключения',\n",
       "       'мелодрама,комедия,спорт', 'комедия,боевик,приключения',\n",
       "       'документальный,приключения', 'мультфильм,короткометражка,детский',\n",
       "       'комедия,приключения', 'ужасы,драма', 'ужасы,фэнтези,боевик',\n",
       "       'мультфильм,фэнтези,детский', 'мюзикл,боевик,драма',\n",
       "       'семейный,комедия,драма', 'концерт,музыка', 'фэнтези,боевик,драма',\n",
       "       'драма,комедия,музыка', 'фантастика,фэнтези,боевик',\n",
       "       'фэнтези,комедия,семейный', 'фэнтези,драма,комедия',\n",
       "       'мультфильм,мюзикл,драма', 'триллер', 'боевик,криминал,триллер',\n",
       "       'мультфильм,приключения,драма', 'мелодрама,музыка',\n",
       "       'документальный,музыка,концерт', 'мультфильм,семейный',\n",
       "       'мультфильм,комедия,приключения', 'мультфильм,комедия,семейный',\n",
       "       'фантастика,драма', 'фэнтези,боевик,приключения',\n",
       "       'мультфильм,приключения', 'драма,военный,история', 'история',\n",
       "       'драма,приключения,военный',\n",
       "       'документальный,короткометражка,семейный',\n",
       "       'мелодрама,история,триллер', 'ужасы,детектив',\n",
       "       'мюзикл,комедия,приключения', 'драма,спорт,биография',\n",
       "       'фантастика,боевик,комедия', 'фантастика,приключения,детектив',\n",
       "       'короткометражка,драма,военный', 'драма,мультфильм',\n",
       "       'приключения,семейный', 'детектив', 'триллер,приключения',\n",
       "       'аниме,мультфильм,боевик', 'драма,комедия,биография',\n",
       "       'драма,комедия,спорт', 'боевик,мелодрама,комедия',\n",
       "       'семейный,комедия', 'фэнтези,боевик,триллер',\n",
       "       'документальный,фэнтези,семейный', 'фантастика,фэнтези,драма',\n",
       "       'ужасы,комедия,фэнтези', 'документальный,биография,музыка',\n",
       "       'фантастика,боевик,фэнтези', 'ужасы,боевик,триллер',\n",
       "       'комедия,криминал,семейный', 'приключения,драма',\n",
       "       'криминал,драма,триллер', 'драма,детектив,криминал',\n",
       "       'фэнтези,приключения,комедия', 'комедия,спорт',\n",
       "       'мюзикл,фэнтези,мелодрама', 'мультфильм,фэнтези,приключения',\n",
       "       'фантастика,фэнтези,приключения', 'фэнтези',\n",
       "       'фэнтези,приключения,боевик', 'фантастика,боевик,драма',\n",
       "       'криминал,драма', 'криминал,триллер,драма',\n",
       "       'драма,мелодрама,приключения', 'детский,комедия',\n",
       "       'фантастика,драма,боевик', 'мультфильм,семейный,фэнтези',\n",
       "       'концерт,музыка,документальный', 'ужасы,комедия,приключения',\n",
       "       'драма,мелодрама,криминал', 'ужасы,фантастика,фэнтези',\n",
       "       'боевик,комедия', 'мультфильм,фантастика,комедия', 'триллер,ужасы',\n",
       "       'мультфильм,мюзикл,комедия', 'мелодрама,фэнтези,триллер',\n",
       "       'детский,приключения,комедия', 'комедия,детектив',\n",
       "       'аниме,мультфильм,мелодрама', 'документальный,драма,семейный',\n",
       "       'документальный,биография,история', 'военный,боевик,драма',\n",
       "       'ужасы,комедия', 'комедия,приключения,семейный',\n",
       "       'приключения,биография,история', 'детский,приключения,семейный',\n",
       "       'спорт,драма,биография', 'аниме,мультфильм,ужасы',\n",
       "       'фантастика,боевик,криминал', 'мюзикл,драма',\n",
       "       'драма,криминал,детектив', 'аниме,мультфильм,драма',\n",
       "       'драма,триллер,приключения', 'триллер,криминал,драма',\n",
       "       'фэнтези,комедия,драма', 'мультфильм,комедия',\n",
       "       'драма,комедия,история', 'комедия,биография,история',\n",
       "       'мультфильм,фантастика,приключения', 'аниме,мультфильм,фантастика',\n",
       "       'мультфильм,фэнтези,семейный', 'мультфильм,боевик,комедия',\n",
       "       'комедия,криминал,спорт', 'документальный,мюзикл',\n",
       "       'мелодрама,комедия,музыка', 'биография',\n",
       "       'триллер,криминал,комедия', 'фантастика,драма,комедия',\n",
       "       'комедия,драма,мелодрама', 'фантастика,приключения,боевик',\n",
       "       'мультфильм,фэнтези,драма', 'триллер,комедия',\n",
       "       'драма,приключения,биография', 'фантастика,комедия',\n",
       "       'мелодрама,драма,комедия', 'боевик,криминал',\n",
       "       'драма,криминал,боевик', 'мультфильм,мюзикл,детский',\n",
       "       'драма,фэнтези', 'документальный,семейный',\n",
       "       'фэнтези,драма,приключения', 'ужасы,комедия,фантастика',\n",
       "       'драма,мелодрама,музыка', 'фэнтези,драма,семейный',\n",
       "       'триллер,мелодрама,драма', 'вестерн,боевик,драма',\n",
       "       'мультфильм,короткометражка,комедия', 'триллер,драма,история',\n",
       "       'ужасы,фантастика', 'ужасы,мелодрама,комедия',\n",
       "       'фэнтези,приключения', 'фантастика,триллер',\n",
       "       'ужасы,боевик,фэнтези', 'мультфильм,комедия,детский',\n",
       "       'триллер,драма,биография', 'мультфильм,ужасы,фэнтези',\n",
       "       'мультфильм,ужасы,фантастика', 'ужасы,боевик,комедия',\n",
       "       'драма,биография,спорт', 'мультфильм', 'мелодрама,комедия,драма',\n",
       "       'приключения,фантастика,семейный', 'комедия,криминал,детектив',\n",
       "       'ужасы,триллер,комедия', 'криминал,комедия,триллер',\n",
       "       'семейный,приключения,комедия', 'мультфильм,драма,приключения',\n",
       "       'ужасы,драма,детектив', 'драма,приключения,фэнтези',\n",
       "       'фантастика,мультфильм,драма', 'драма,триллер,детектив',\n",
       "       'драма,история,музыка', 'детский', 'триллер,боевик,криминал',\n",
       "       'драма,фантастика', 'комедия,драма,семейный',\n",
       "       'боевик,драма,комедия', 'комедия,ужасы',\n",
       "       'драма,фантастика,триллер', 'фантастика,драма,триллер',\n",
       "       'история,спорт,драма', 'документальный,биография',\n",
       "       'биография,история', 'спорт,драма', 'боевик,фэнтези',\n",
       "       'мультфильм,фэнтези', 'документальный,комедия,история',\n",
       "       'криминал,комедия,боевик', 'фэнтези,приключения,драма',\n",
       "       'музыка,концерт', 'триллер,драма,боевик',\n",
       "       'комедия,криминал,боевик', 'комедия,фантастика,боевик',\n",
       "       'вестерн,приключения,боевик', 'аниме,мультфильм,комедия',\n",
       "       'детектив,криминал,триллер', 'мультфильм,комедия,криминал',\n",
       "       'комедия,приключения,детектив', 'мелодрама,фантастика,драма',\n",
       "       'драма,комедия,семейный', 'приключения,фантастика',\n",
       "       'триллер,детектив,ужасы', 'комедия,приключения,фэнтези',\n",
       "       'фэнтези,триллер,драма', 'мелодрама,приключения,боевик',\n",
       "       'детектив,триллер,криминал', 'фэнтези,семейный,мелодрама',\n",
       "       'военный,драма', 'документальный,приключения,семейный',\n",
       "       'криминал,комедия,драма', 'комедия,фантастика',\n",
       "       'история,биография,драма', 'мелодрама,драма,музыка',\n",
       "       'боевик,мелодрама', 'комедия,криминал,триллер',\n",
       "       'детектив,триллер,боевик', 'комедия,боевик,криминал',\n",
       "       'комедия,вестерн', 'детский,мелодрама,семейный',\n",
       "       'короткометражка,мультфильм', 'комедия,фэнтези',\n",
       "       'фантастика,драма,ужасы', 'триллер,драма,ужасы',\n",
       "       'драма,фэнтези,история', 'комедия,драма,короткометражка',\n",
       "       'фэнтези,триллер,приключения', 'семейный',\n",
       "       'комедия,криминал,драма', 'комедия,фэнтези,ужасы',\n",
       "       'короткометражка,комедия,криминал', 'фантастика',\n",
       "       'триллер,ужасы,драма', 'мелодрама,драма,фэнтези',\n",
       "       'фантастика,приключения,драма', 'боевик,детектив',\n",
       "       'военный,драма,боевик', 'комедия,мелодрама,фэнтези',\n",
       "       'вестерн,криминал,триллер', 'драма,история,триллер',\n",
       "       'мультфильм,фантастика,боевик', 'детектив,драма,криминал',\n",
       "       'приключения,история,драма', 'мультфильм,семейный,детский',\n",
       "       'биография,драма,история', 'триллер,криминал,боевик',\n",
       "       'история,мелодрама', 'приключения,детский',\n",
       "       'музыка,приключения,концерт', 'военный,драма,комедия',\n",
       "       'фэнтези,боевик,военный', 'фантастика,детектив,боевик',\n",
       "       'мультфильм,фэнтези,история', 'биография,мелодрама,драма',\n",
       "       'документальный,биография,спорт', 'фантастика,комедия,детектив',\n",
       "       'музыка,концерт,документальный', 'триллер,боевик,приключения',\n",
       "       'триллер,драма,комедия', 'детектив,криминал',\n",
       "       'мультфильм,приключения,фэнтези', 'мелодрама,приключения',\n",
       "       'комедия,музыка', 'мелодрама,комедия,ужасы',\n",
       "       'драма,криминал,приключения', 'приключения,детектив,мелодрама',\n",
       "       'драма,криминал,фантастика', 'фэнтези,драма,биография',\n",
       "       'детектив,фантастика,криминал', 'триллер,драма,фантастика',\n",
       "       'ужасы,комедия,боевик', 'мелодрама,история', 'триллер,боевик',\n",
       "       'фильм-нуар,триллер,детектив', 'комедия,криминал,приключения',\n",
       "       'ужасы,триллер,мелодрама', 'военный,драма,история',\n",
       "       'драма,спорт,история', 'документальный,драма,история',\n",
       "       'триллер,мелодрама,детектив', 'детский,семейный',\n",
       "       'мюзикл,семейный,драма', 'биография,военный,драма',\n",
       "       'мультфильм,детский', 'боевик,криминал,драма',\n",
       "       'детектив,фэнтези,триллер', 'драма,боевик,приключения',\n",
       "       'драма,мелодрама,фэнтези', 'детектив,история,драма',\n",
       "       'фэнтези,боевик,ужасы', 'ужасы,фэнтези,мелодрама',\n",
       "       'ужасы,приключения', 'боевик,фантастика',\n",
       "       'ужасы,мелодрама,детектив', 'фантастика,триллер,приключения',\n",
       "       'боевик,приключения,история', 'приключения,боевик,триллер',\n",
       "       'детектив,ужасы,криминал', 'семейный,фэнтези', 'мюзикл,мелодрама',\n",
       "       'драма,военный,приключения', 'фантастика,драма,приключения',\n",
       "       'приключения,семейный,драма', 'история,драма,боевик',\n",
       "       'мультфильм,приключения,комедия', 'криминал,драма,комедия',\n",
       "       'ужасы,комедия,драма', 'комедия,семейный,приключения',\n",
       "       'мюзикл,фэнтези,драма', 'драма,вестерн,боевик',\n",
       "       'фантастика,триллер,детектив', 'драма,история,детектив',\n",
       "       'короткометражка,биография', 'мультфильм,приключения,фантастика',\n",
       "       'комедия,триллер', 'мультфильм,приключения,детектив',\n",
       "       'драма,триллер', 'ужасы,триллер,криминал',\n",
       "       'документальный,криминал,военный', 'ужасы,фэнтези,драма',\n",
       "       'фэнтези,комедия', 'ужасы,фэнтези,комедия', 'комедия,музыка,драма',\n",
       "       'мультфильм,приключения,военный', 'мюзикл,фэнтези,комедия',\n",
       "       'боевик,фантастика,приключения', 'триллер,ужасы,криминал',\n",
       "       'ужасы,фантастика,драма', 'фантастика,приключения,семейный',\n",
       "       'короткометражка,музыка', 'мелодрама,детектив,комедия',\n",
       "       'документальный,триллер,биография', 'боевик,фантастика,триллер',\n",
       "       'спорт,драма,комедия', 'фэнтези,мелодрама,приключения',\n",
       "       'триллер,детектив,криминал', 'короткометражка,мелодрама',\n",
       "       'мультфильм,семейный,спорт', 'комедия,фэнтези,мелодрама',\n",
       "       'драма,спорт,комедия', 'история,драма,мелодрама',\n",
       "       'драма,боевик,криминал', 'драма,комедия,триллер',\n",
       "       'аниме,мультфильм', 'документальный,ужасы',\n",
       "       'мультфильм,короткометражка', 'драма,история,военный',\n",
       "       'мультфильм,короткометражка,фэнтези', 'комедия,военный,музыка',\n",
       "       'биография,история,драма', 'ужасы,драма,мелодрама',\n",
       "       'драма,комедия,детектив', 'комедия,семейный,фантастика',\n",
       "       'мультфильм,семейный,комедия', 'история,детектив',\n",
       "       'приключения,мелодрама,детектив', 'мюзикл,комедия,мелодрама',\n",
       "       'драма,фантастика,ужасы', 'мультфильм,ужасы,комедия',\n",
       "       'для взрослых,драма,комедия', 'ужасы,комедия,музыка',\n",
       "       'комедия,история,драма', 'семейный,детектив,детский',\n",
       "       'короткометражка,драма', 'документальный,новости,драма',\n",
       "       'триллер,мелодрама', 'ужасы,драма,вестерн',\n",
       "       'мюзикл,фэнтези,семейный', 'вестерн,драма,триллер',\n",
       "       'приключения,вестерн,боевик', 'семейный,комедия,музыка',\n",
       "       'боевик,драма,вестерн', 'ужасы,драма,триллер',\n",
       "       'фантастика,мелодрама', 'комедия,криминал,биография',\n",
       "       'семейный,мультфильм,комедия', 'комедия,драма,криминал',\n",
       "       'фантастика,боевик,военный', 'приключения,биография,драма',\n",
       "       'приключения,триллер,биография', 'криминал,боевик,триллер',\n",
       "       'боевик,вестерн,приключения', 'история,драма',\n",
       "       'фантастика,фэнтези,комедия', 'мультфильм,детский,комедия',\n",
       "       'мелодрама,комедия,триллер', 'документальный,боевик,приключения',\n",
       "       'драма,приключения', 'мелодрама,военный,драма', 'триллер,фэнтези',\n",
       "       'драма,триллер,биография', 'фэнтези,боевик,семейный',\n",
       "       'фантастика,триллер,комедия', 'документальный,фэнтези',\n",
       "       'комедия,мультфильм,фантастика', 'криминал,биография,комедия',\n",
       "       'биография,спорт,драма', 'приключения,военный',\n",
       "       'мультфильм,семейный,драма', 'документальный,фэнтези,драма',\n",
       "       'комедия,боевик,фантастика', 'семейный,приключения,военный',\n",
       "       'триллер,ужасы,детектив', 'короткометражка',\n",
       "       'мелодрама,триллер,история', 'документальный,история',\n",
       "       'мультфильм,приключения,детский', 'драма,комедия,мультфильм',\n",
       "       'военный,детектив', 'семейный,приключения,документальный',\n",
       "       'детский,фэнтези', 'документальный,комедия', 'комедия,биография',\n",
       "       'криминал,комедия', 'спорт,мелодрама,криминал',\n",
       "       'фантастика,комедия,боевик', 'боевик,приключения,детектив',\n",
       "       'детектив,триллер,драма', 'документальный,фантастика',\n",
       "       'мелодрама,комедия,семейный', 'мультфильм,мелодрама,комедия',\n",
       "       'драма,спорт,семейный', 'фантастика,мелодрама,фэнтези',\n",
       "       'мюзикл,комедия,музыка', 'фантастика,триллер,мелодрама',\n",
       "       'приключения,комедия,фэнтези', 'фэнтези,боевик,детектив',\n",
       "       'фэнтези,боевик,мелодрама', 'комедия,военный',\n",
       "       'драма,спорт,боевик', 'мультфильм,боевик,триллер',\n",
       "       'мелодрама,семейный', 'фантастика,боевик,детектив',\n",
       "       'драма,приключения,история', 'документальный,драма,музыка',\n",
       "       'фантастика,триллер,боевик', 'фэнтези,боевик,вестерн',\n",
       "       'драма,комедия,мелодрама', 'ужасы,фэнтези,приключения',\n",
       "       'триллер,фэнтези,драма', 'мультфильм,мюзикл,мелодрама',\n",
       "       'ужасы,триллер,фантастика', 'триллер,мелодрама,комедия',\n",
       "       'ужасы,комедия,семейный', 'комедия,приключения,музыка',\n",
       "       'документальный,комедия,криминал', 'мелодрама,детектив',\n",
       "       'детский,приключения,фантастика', 'короткометражка,боевик,драма',\n",
       "       'боевик,комедия,семейный', 'фантастика,боевик,мелодрама',\n",
       "       'фэнтези,триллер,мелодрама', 'драма,детектив,история',\n",
       "       'боевик,криминал,детектив', 'мультфильм,фэнтези,мелодрама',\n",
       "       'мелодрама,драма,боевик', 'драма,вестерн,приключения',\n",
       "       'драма,приключения,мелодрама', 'фэнтези,боевик,криминал',\n",
       "       'фантастика,комедия,семейный', 'детский,фэнтези,приключения',\n",
       "       'ужасы,боевик', 'фантастика,мелодрама,комедия',\n",
       "       'семейный,спорт,боевик', 'триллер,биография,драма',\n",
       "       'ужасы,драма,комедия', 'мультфильм,фэнтези,триллер', 'мюзикл',\n",
       "       'боевик,спорт,драма', 'комедия,приключения,вестерн',\n",
       "       'документальный,ужасы,боевик', 'фантастика,боевик,семейный',\n",
       "       'военный,история', 'ужасы,боевик,криминал', 'детектив,триллер',\n",
       "       'драма,семейный,комедия', 'драма,детектив,приключения',\n",
       "       'драма,криминал,история', 'приключения,триллер',\n",
       "       'боевик,драма,биография', 'драма,приключения,триллер',\n",
       "       'комедия,фэнтези,приключения', 'фантастика,боевик,ужасы',\n",
       "       'драма,комедия,фантастика', 'детектив,криминал,драма',\n",
       "       'боевик,триллер,фэнтези', 'приключения,детектив,семейный',\n",
       "       'ужасы,комедия,криминал', 'мультфильм,биография,драма',\n",
       "       'история,боевик,фэнтези', 'детектив,криминал,боевик',\n",
       "       'приключения,фэнтези', 'комедия,приключения,спорт',\n",
       "       'драма,биография,мюзикл', 'комедия,семейный,фэнтези',\n",
       "       'детектив,драма,триллер', 'боевик,приключения,семейный',\n",
       "       'биография,спорт,комедия', 'фантастика,приключения,военный',\n",
       "       'документальный,драма,биография', 'детектив,приключения,драма',\n",
       "       'аниме,мультфильм,приключения', 'семейный,приключения',\n",
       "       'ужасы,фэнтези,детектив', 'семейный,документальный',\n",
       "       'драма,приключения,семейный', 'приключения,история,военный',\n",
       "       'фэнтези,мелодрама', 'фэнтези,триллер,детектив',\n",
       "       'документальный,спорт,биография', 'комедия,триллер,драма',\n",
       "       'драма,ужасы', 'биография,музыка,драма', 'фэнтези,ужасы',\n",
       "       'детектив,мелодрама,фэнтези', 'боевик,военный,история',\n",
       "       'биография,драма,криминал', 'триллер,мелодрама,криминал',\n",
       "       'семейный,мелодрама', 'биография,драма', 'военный,история,драма',\n",
       "       'фантастика,детектив,фэнтези', 'детектив,приключения,триллер',\n",
       "       'фантастика,приключения', 'мультфильм,короткометражка,мюзикл',\n",
       "       'мультфильм,детский,семейный', 'документальный,драма,комедия',\n",
       "       'комедия,приключения,криминал', 'документальный,семейный,музыка',\n",
       "       'мелодрама,музыка,драма', 'детектив,фантастика,триллер',\n",
       "       'драма,мелодрама,триллер', 'биография,драма,военный',\n",
       "       'приключения,фантастика,драма', 'детектив,фильм-нуар,комедия',\n",
       "       'документальный,спорт', 'триллер,фантастика,драма',\n",
       "       'биография,документальный', 'ужасы,фантастика,мелодрама',\n",
       "       'детектив,комедия', 'история,биография,военный',\n",
       "       'криминал,мелодрама', 'драма,криминал,вестерн',\n",
       "       'мелодрама,семейный,приключения', 'триллер,ужасы,мелодрама',\n",
       "       'фэнтези,драма,фильм-нуар', 'детектив,мелодрама',\n",
       "       'комедия,драма,биография', 'драма,военный,боевик',\n",
       "       'драма,комедия,ужасы', 'фантастика,драма,криминал',\n",
       "       'документальный,музыка,биография', 'мультфильм,боевик,приключения',\n",
       "       'короткометражка,фантастика', 'мультфильм,мелодрама,драма',\n",
       "       'боевик,военный,драма', 'фэнтези,семейный,приключения',\n",
       "       'детский,мультфильм,приключения', 'семейный,фэнтези,комедия',\n",
       "       'фэнтези,ужасы,триллер', 'ужасы,триллер,приключения',\n",
       "       'драма,боевик,история', 'фэнтези,комедия,детектив',\n",
       "       'история,приключения', 'аниме,мультфильм,короткометражка',\n",
       "       'драма,военный,триллер', 'биография,криминал,триллер',\n",
       "       'фантастика,фэнтези,детектив', 'вестерн,биография,драма',\n",
       "       'биография,музыка,мюзикл', 'драма,история,биография',\n",
       "       'приключения,драма,фантастика', 'комедия,фэнтези,криминал',\n",
       "       'биография,спорт,история', 'драма,криминал,семейный',\n",
       "       'детектив,боевик,история', 'ужасы,комедия,детектив',\n",
       "       'триллер,приключения,драма', 'фэнтези,комедия,криминал',\n",
       "       'триллер,криминал,приключения', 'комедия,детектив,приключения',\n",
       "       'фэнтези,драма,ужасы', 'ужасы,драма,военный', 'реальное ТВ',\n",
       "       'аниме,мультфильм,детектив', 'приключения,фэнтези,семейный',\n",
       "       'драма,биография,комедия', 'триллер,комедия,ужасы',\n",
       "       'музыка,мелодрама,фэнтези', 'мультфильм,история',\n",
       "       'мультфильм,комедия,фантастика', 'биография,криминал,драма',\n",
       "       'комедия,мелодрама,фантастика', 'криминал,боевик,комедия',\n",
       "       'история,криминал', 'детектив,комедия,драма',\n",
       "       'триллер,фантастика,боевик', 'криминал,боевик',\n",
       "       'комедия,драма,военный', 'драма,триллер,криминал',\n",
       "       'мультфильм,мелодрама,приключения', 'фантастика,фэнтези,триллер',\n",
       "       'короткометражка,драма,триллер', 'военный,боевик,история',\n",
       "       'боевик,драма,триллер', 'документальный,военный,драма',\n",
       "       'драма,криминал,фильм-нуар', 'мультфильм,детский,приключения',\n",
       "       'мелодрама,история,драма'], dtype=object)"
      ]
     },
     "execution_count": 115,
     "metadata": {},
     "output_type": "execute_result"
    }
   ],
   "source": [
    "total_df['genres'].unique()"
   ]
  },
  {
   "cell_type": "markdown",
   "metadata": {},
   "source": [
    "Во всех категориальных столбцах наблюдаются лишние пробелы (в частности в столбце **type** убрали пробелы), разные способы разделения (запятые, тире) все это приводит к хаосу в данных , мешает категоризации и  усложняет работу с ними."
   ]
  },
  {
   "cell_type": "markdown",
   "metadata": {
    "id": "XFSN5lrEgFyR"
   },
   "source": [
    "#### Шаг 2.5. Проверьте количественные значения\n",
    "\n",
    "- Проверьте, обнаружились ли в таких столбцах подозрительные данные. Как с такими данными лучше поступить?\n",
    "\n",
    "<div id=\"accordion\">\n",
    "    <div class=\"card\">\n",
    "        <div class=\"card-header\" id=\"headingThree\">\n",
    "            <button class=\"btn btn-link collapsed\" data-toggle=\"collapse\" data-target=\"#collapseHint_budget\" aria-expanded=\"false\" aria-controls=\"collapseHint_budget\">Подсказка</button>\n",
    "        </div>\n",
    "        <div id=\"collapseHint_budget\" class=\"collapse\" aria-labelledby=\"headingThree\" data-parent=\"#accordion\">\n",
    "            <div class=\"card-body\">\n",
    "Обратите внимание на описание столбца <code>budget</code>. Как этот столбец соотносится с двумя другими: <code>refundable_support</code> и <code>nonrefundable_support</code>?\n",
    "            </div>\n",
    "        </div>\n",
    "    </div>\n",
    "</div>"
   ]
  },
  {
   "cell_type": "code",
   "execution_count": 116,
   "metadata": {},
   "outputs": [],
   "source": [
    "total_df.loc[total_df['budget']==0,'budget']=total_df['nonrefundable_support']+total_df['refundable_support']"
   ]
  },
  {
   "cell_type": "code",
   "execution_count": 117,
   "metadata": {},
   "outputs": [
    {
     "data": {
      "text/html": [
       "<div>\n",
       "<style scoped>\n",
       "    .dataframe tbody tr th:only-of-type {\n",
       "        vertical-align: middle;\n",
       "    }\n",
       "\n",
       "    .dataframe tbody tr th {\n",
       "        vertical-align: top;\n",
       "    }\n",
       "\n",
       "    .dataframe thead th {\n",
       "        text-align: right;\n",
       "    }\n",
       "</style>\n",
       "<table border=\"1\" class=\"dataframe\">\n",
       "  <thead>\n",
       "    <tr style=\"text-align: right;\">\n",
       "      <th></th>\n",
       "      <th>refundable_support</th>\n",
       "      <th>nonrefundable_support</th>\n",
       "      <th>budget</th>\n",
       "    </tr>\n",
       "    <tr>\n",
       "      <th>title</th>\n",
       "      <th></th>\n",
       "      <th></th>\n",
       "      <th></th>\n",
       "    </tr>\n",
       "  </thead>\n",
       "  <tbody>\n",
       "    <tr>\n",
       "      <td>(Не)идеальный мужчина</td>\n",
       "      <td>40000000.00</td>\n",
       "      <td>60000000.00</td>\n",
       "      <td>150147502.00</td>\n",
       "    </tr>\n",
       "    <tr>\n",
       "      <td>12 месяцев. Новая сказка</td>\n",
       "      <td>15000000.00</td>\n",
       "      <td>5000000.00</td>\n",
       "      <td>90120000.00</td>\n",
       "    </tr>\n",
       "    <tr>\n",
       "      <td>14+</td>\n",
       "      <td>0.00</td>\n",
       "      <td>23000000.00</td>\n",
       "      <td>23000000.00</td>\n",
       "    </tr>\n",
       "    <tr>\n",
       "      <td>28 Панфиловцев</td>\n",
       "      <td>0.00</td>\n",
       "      <td>30000000.00</td>\n",
       "      <td>85384000.00</td>\n",
       "    </tr>\n",
       "    <tr>\n",
       "      <td>30 свиданий</td>\n",
       "      <td>5000000.00</td>\n",
       "      <td>20000000.00</td>\n",
       "      <td>48661150.00</td>\n",
       "    </tr>\n",
       "    <tr>\n",
       "      <td>...</td>\n",
       "      <td>...</td>\n",
       "      <td>...</td>\n",
       "      <td>...</td>\n",
       "    </tr>\n",
       "    <tr>\n",
       "      <td>Я свободен</td>\n",
       "      <td>0.00</td>\n",
       "      <td>30000000.00</td>\n",
       "      <td>46154000.00</td>\n",
       "    </tr>\n",
       "    <tr>\n",
       "      <td>Я умею вязать</td>\n",
       "      <td>0.00</td>\n",
       "      <td>4700000.00</td>\n",
       "      <td>14462464.00</td>\n",
       "    </tr>\n",
       "    <tr>\n",
       "      <td>Я худею</td>\n",
       "      <td>0.00</td>\n",
       "      <td>30000000.00</td>\n",
       "      <td>87649127.00</td>\n",
       "    </tr>\n",
       "    <tr>\n",
       "      <td>Я-Учитель</td>\n",
       "      <td>0.00</td>\n",
       "      <td>35000000.00</td>\n",
       "      <td>91000000.00</td>\n",
       "    </tr>\n",
       "    <tr>\n",
       "      <td>Яна + Янко</td>\n",
       "      <td>15000000.00</td>\n",
       "      <td>28500000.00</td>\n",
       "      <td>68809226.00</td>\n",
       "    </tr>\n",
       "  </tbody>\n",
       "</table>\n",
       "<p>332 rows × 3 columns</p>\n",
       "</div>"
      ],
      "text/plain": [
       "                          refundable_support  nonrefundable_support  \\\n",
       "title                                                                 \n",
       "(Не)идеальный мужчина            40000000.00            60000000.00   \n",
       "12 месяцев. Новая сказка         15000000.00             5000000.00   \n",
       "14+                                     0.00            23000000.00   \n",
       "28 Панфиловцев                          0.00            30000000.00   \n",
       "30 свиданий                       5000000.00            20000000.00   \n",
       "...                                      ...                    ...   \n",
       "Я свободен                              0.00            30000000.00   \n",
       "Я умею вязать                           0.00             4700000.00   \n",
       "Я худею                                 0.00            30000000.00   \n",
       "Я-Учитель                               0.00            35000000.00   \n",
       "Яна + Янко                       15000000.00            28500000.00   \n",
       "\n",
       "                               budget  \n",
       "title                                  \n",
       "(Не)идеальный мужчина    150147502.00  \n",
       "12 месяцев. Новая сказка  90120000.00  \n",
       "14+                       23000000.00  \n",
       "28 Панфиловцев            85384000.00  \n",
       "30 свиданий               48661150.00  \n",
       "...                               ...  \n",
       "Я свободен                46154000.00  \n",
       "Я умею вязать             14462464.00  \n",
       "Я худею                   87649127.00  \n",
       "Я-Учитель                 91000000.00  \n",
       "Яна + Янко                68809226.00  \n",
       "\n",
       "[332 rows x 3 columns]"
      ]
     },
     "execution_count": 117,
     "metadata": {},
     "output_type": "execute_result"
    }
   ],
   "source": [
    "gos_bd=total_df.groupby('title')[['refundable_support','nonrefundable_support','budget']].mean()\n",
    "gos_bd=gos_bd.loc[(gos_bd['refundable_support']>0)|(gos_bd['nonrefundable_support']>0)|(gos_bd['budget']>0)]\n",
    "gos_bd"
   ]
  },
  {
   "cell_type": "raw",
   "metadata": {
    "id": "Eu6oWp2CgFyS"
   },
   "source": [
    "#### Шаг 2.6. Добавьте новые столбцы\n",
    "\n",
    "\n",
    "\n"
   ]
  },
  {
   "cell_type": "markdown",
   "metadata": {},
   "source": [
    "Обнаружил пустые значения в столбце **budget** несмотря на наличие гос поддержки. Заполнили значения суммой датаций."
   ]
  },
  {
   "cell_type": "markdown",
   "metadata": {
    "id": "7GgW-UpAgFyS"
   },
   "source": [
    "- Создайте столбец с информацией о годе проката. Выделите год из даты премьеры фильма."
   ]
  },
  {
   "cell_type": "code",
   "execution_count": 118,
   "metadata": {
    "id": "I-yd1DkWgFyT"
   },
   "outputs": [],
   "source": [
    "total_df['year_date']=pd.DatetimeIndex(total_df['show_start_date']).year"
   ]
  },
  {
   "cell_type": "markdown",
   "metadata": {
    "id": "nFTDLDYOgFyT"
   },
   "source": [
    "- Создайте два столбца: с именем и фамилией главного режиссёра и основным жанром фильма. В столбцы войдут первые значения из списка режиссёров и жанров соответственно.\n",
    "\n",
    "<div id=\"accordion\">\n",
    "    <div class=\"card\">\n",
    "        <div class=\"card-header\" id=\"headingThree\">\n",
    "            <button class=\"btn btn-link collapsed\" data-toggle=\"collapse\" data-target=\"#collapseHint_2\" aria-expanded=\"false\" aria-controls=\"collapseHint_2\">Подсказка</button>\n",
    "        </div>\n",
    "        <div id=\"collapseHint_2\" class=\"collapse\" aria-labelledby=\"headingThree\" data-parent=\"#accordion\">\n",
    "            <div class=\"card-body\">\n",
    "Чтобы создать такие столбцы, лучше всего использовать собственную функцию. Эту функцию можно применить к двум столбцам сразу. \n",
    "            </div>\n",
    "        </div>\n",
    "    </div>\n",
    "</div>"
   ]
  },
  {
   "cell_type": "code",
   "execution_count": 119,
   "metadata": {
    "id": "LSbRZKbMgFyU"
   },
   "outputs": [],
   "source": [
    "def upp(var):\n",
    "    z=var.split(',')[0]\n",
    "    return z"
   ]
  },
  {
   "cell_type": "code",
   "execution_count": 120,
   "metadata": {},
   "outputs": [],
   "source": [
    "total_df['main_director']=total_df['director'].apply(upp)"
   ]
  },
  {
   "cell_type": "code",
   "execution_count": 121,
   "metadata": {},
   "outputs": [],
   "source": [
    "total_df['main_genre']=total_df['genres'].apply(upp)"
   ]
  },
  {
   "cell_type": "code",
   "execution_count": 122,
   "metadata": {},
   "outputs": [
    {
     "data": {
      "text/html": [
       "<div>\n",
       "<style scoped>\n",
       "    .dataframe tbody tr th:only-of-type {\n",
       "        vertical-align: middle;\n",
       "    }\n",
       "\n",
       "    .dataframe tbody tr th {\n",
       "        vertical-align: top;\n",
       "    }\n",
       "\n",
       "    .dataframe thead th {\n",
       "        text-align: right;\n",
       "    }\n",
       "</style>\n",
       "<table border=\"1\" class=\"dataframe\">\n",
       "  <thead>\n",
       "    <tr style=\"text-align: right;\">\n",
       "      <th></th>\n",
       "      <th>title</th>\n",
       "      <th>puNumber</th>\n",
       "      <th>show_start_date</th>\n",
       "      <th>type</th>\n",
       "      <th>film_studio</th>\n",
       "      <th>production_country</th>\n",
       "      <th>director</th>\n",
       "      <th>producer</th>\n",
       "      <th>age_restriction</th>\n",
       "      <th>refundable_support</th>\n",
       "      <th>nonrefundable_support</th>\n",
       "      <th>budget</th>\n",
       "      <th>financing_source</th>\n",
       "      <th>ratings</th>\n",
       "      <th>genres</th>\n",
       "      <th>box_office</th>\n",
       "      <th>year_date</th>\n",
       "      <th>main_director</th>\n",
       "      <th>main_genre</th>\n",
       "    </tr>\n",
       "  </thead>\n",
       "  <tbody>\n",
       "    <tr>\n",
       "      <td>0</td>\n",
       "      <td>Открытый простор</td>\n",
       "      <td>221048915</td>\n",
       "      <td>2015-11-27</td>\n",
       "      <td>Художественный</td>\n",
       "      <td>Тачстоун Пикчерз, Кобальт Пикчерз, Бикон Пикче...</td>\n",
       "      <td>США</td>\n",
       "      <td>Кевин Костнер</td>\n",
       "      <td>Дэвид Валдес, Кевин Костнер, Джейк Эбертс</td>\n",
       "      <td>«18+» - запрещено для детей</td>\n",
       "      <td>nan</td>\n",
       "      <td>nan</td>\n",
       "      <td>nan</td>\n",
       "      <td>NaN</td>\n",
       "      <td>7.20</td>\n",
       "      <td>боевик,драма,мелодрама</td>\n",
       "      <td>nan</td>\n",
       "      <td>2015</td>\n",
       "      <td>Кевин Костнер</td>\n",
       "      <td>боевик</td>\n",
       "    </tr>\n",
       "    <tr>\n",
       "      <td>1</td>\n",
       "      <td>Особо важное задание</td>\n",
       "      <td>111013716</td>\n",
       "      <td>2016-09-13</td>\n",
       "      <td>Художественный</td>\n",
       "      <td>Киностудия \"Мосфильм\"</td>\n",
       "      <td>СССР</td>\n",
       "      <td>Е.Матвеев</td>\n",
       "      <td>NaN</td>\n",
       "      <td>«6+» - для детей старше 6 лет</td>\n",
       "      <td>nan</td>\n",
       "      <td>nan</td>\n",
       "      <td>nan</td>\n",
       "      <td>NaN</td>\n",
       "      <td>6.60</td>\n",
       "      <td>драма,военный</td>\n",
       "      <td>nan</td>\n",
       "      <td>2016</td>\n",
       "      <td>Е.Матвеев</td>\n",
       "      <td>драма</td>\n",
       "    </tr>\n",
       "    <tr>\n",
       "      <td>2</td>\n",
       "      <td>Особо опасен</td>\n",
       "      <td>221038416</td>\n",
       "      <td>2016-10-10</td>\n",
       "      <td>Художественный</td>\n",
       "      <td>Юниверсал Пикчерз, Кикстарт Продакшнз, Марк Пл...</td>\n",
       "      <td>США</td>\n",
       "      <td>Тимур Бекмамбетов</td>\n",
       "      <td>Джим Лемли, Джейсон Нетер, Марк Е.Платт, Яйн Смит</td>\n",
       "      <td>«18+» - запрещено для детей</td>\n",
       "      <td>nan</td>\n",
       "      <td>nan</td>\n",
       "      <td>nan</td>\n",
       "      <td>NaN</td>\n",
       "      <td>6.80</td>\n",
       "      <td>фантастика,боевик,триллер</td>\n",
       "      <td>nan</td>\n",
       "      <td>2016</td>\n",
       "      <td>Тимур Бекмамбетов</td>\n",
       "      <td>фантастика</td>\n",
       "    </tr>\n",
       "    <tr>\n",
       "      <td>3</td>\n",
       "      <td>Особо опасен</td>\n",
       "      <td>221026916</td>\n",
       "      <td>2016-06-10</td>\n",
       "      <td>Художественный</td>\n",
       "      <td>Юниверсал Пикчерз, Кикстарт Продакшнз, Марк Пл...</td>\n",
       "      <td>США</td>\n",
       "      <td>Тимур Бекмамбетов</td>\n",
       "      <td>Джим Лемли, Джейсон Нетер, Марк Е.Платт, Яйн Смит</td>\n",
       "      <td>«18+» - запрещено для детей</td>\n",
       "      <td>nan</td>\n",
       "      <td>nan</td>\n",
       "      <td>nan</td>\n",
       "      <td>NaN</td>\n",
       "      <td>6.80</td>\n",
       "      <td>фантастика,боевик,триллер</td>\n",
       "      <td>nan</td>\n",
       "      <td>2016</td>\n",
       "      <td>Тимур Бекмамбетов</td>\n",
       "      <td>фантастика</td>\n",
       "    </tr>\n",
       "    <tr>\n",
       "      <td>4</td>\n",
       "      <td>Особо опасен</td>\n",
       "      <td>221030815</td>\n",
       "      <td>2015-07-29</td>\n",
       "      <td>Художественный</td>\n",
       "      <td>Юниверсал Пикчерз, Кикстарт Продакшнз, Марк Пл...</td>\n",
       "      <td>США</td>\n",
       "      <td>Тимур Бекмамбетов</td>\n",
       "      <td>Джим Лемли, Джейсон Нетер, Марк Е.Платт, Яйн Смит</td>\n",
       "      <td>«18+» - запрещено для детей</td>\n",
       "      <td>nan</td>\n",
       "      <td>nan</td>\n",
       "      <td>nan</td>\n",
       "      <td>NaN</td>\n",
       "      <td>6.80</td>\n",
       "      <td>фантастика,боевик,триллер</td>\n",
       "      <td>nan</td>\n",
       "      <td>2015</td>\n",
       "      <td>Тимур Бекмамбетов</td>\n",
       "      <td>фантастика</td>\n",
       "    </tr>\n",
       "  </tbody>\n",
       "</table>\n",
       "</div>"
      ],
      "text/plain": [
       "                  title   puNumber show_start_date            type  \\\n",
       "0      Открытый простор  221048915      2015-11-27  Художественный   \n",
       "1  Особо важное задание  111013716      2016-09-13  Художественный   \n",
       "2          Особо опасен  221038416      2016-10-10  Художественный   \n",
       "3          Особо опасен  221026916      2016-06-10  Художественный   \n",
       "4          Особо опасен  221030815      2015-07-29  Художественный   \n",
       "\n",
       "                                         film_studio production_country  \\\n",
       "0  Тачстоун Пикчерз, Кобальт Пикчерз, Бикон Пикче...                США   \n",
       "1                              Киностудия \"Мосфильм\"               СССР   \n",
       "2  Юниверсал Пикчерз, Кикстарт Продакшнз, Марк Пл...                США   \n",
       "3  Юниверсал Пикчерз, Кикстарт Продакшнз, Марк Пл...                США   \n",
       "4  Юниверсал Пикчерз, Кикстарт Продакшнз, Марк Пл...                США   \n",
       "\n",
       "            director                                           producer  \\\n",
       "0      Кевин Костнер          Дэвид Валдес, Кевин Костнер, Джейк Эбертс   \n",
       "1          Е.Матвеев                                                NaN   \n",
       "2  Тимур Бекмамбетов  Джим Лемли, Джейсон Нетер, Марк Е.Платт, Яйн Смит   \n",
       "3  Тимур Бекмамбетов  Джим Лемли, Джейсон Нетер, Марк Е.Платт, Яйн Смит   \n",
       "4  Тимур Бекмамбетов  Джим Лемли, Джейсон Нетер, Марк Е.Платт, Яйн Смит   \n",
       "\n",
       "                 age_restriction  refundable_support  nonrefundable_support  \\\n",
       "0    «18+» - запрещено для детей                 nan                    nan   \n",
       "1  «6+» - для детей старше 6 лет                 nan                    nan   \n",
       "2    «18+» - запрещено для детей                 nan                    nan   \n",
       "3    «18+» - запрещено для детей                 nan                    nan   \n",
       "4    «18+» - запрещено для детей                 nan                    nan   \n",
       "\n",
       "   budget financing_source  ratings                     genres  box_office  \\\n",
       "0     nan              NaN     7.20     боевик,драма,мелодрама         nan   \n",
       "1     nan              NaN     6.60              драма,военный         nan   \n",
       "2     nan              NaN     6.80  фантастика,боевик,триллер         nan   \n",
       "3     nan              NaN     6.80  фантастика,боевик,триллер         nan   \n",
       "4     nan              NaN     6.80  фантастика,боевик,триллер         nan   \n",
       "\n",
       "   year_date      main_director  main_genre  \n",
       "0       2015      Кевин Костнер      боевик  \n",
       "1       2016          Е.Матвеев       драма  \n",
       "2       2016  Тимур Бекмамбетов  фантастика  \n",
       "3       2016  Тимур Бекмамбетов  фантастика  \n",
       "4       2015  Тимур Бекмамбетов  фантастика  "
      ]
     },
     "execution_count": 122,
     "metadata": {},
     "output_type": "execute_result"
    }
   ],
   "source": [
    "total_df.head()"
   ]
  },
  {
   "cell_type": "markdown",
   "metadata": {
    "id": "1FsCXHwdgFyU"
   },
   "source": [
    "- Посчитайте, какую долю от общего бюджета фильма составляет государственная поддержка."
   ]
  },
  {
   "cell_type": "code",
   "execution_count": 123,
   "metadata": {
    "id": "LV6qFuZLgFyV"
   },
   "outputs": [],
   "source": [
    "total_df['cut_budget']=(total_df['refundable_support']+total_df['nonrefundable_support'])*100/total_df['budget']"
   ]
  },
  {
   "cell_type": "code",
   "execution_count": 124,
   "metadata": {},
   "outputs": [],
   "source": [
    "total_df['cut_budget']=total_df['cut_budget'].round()"
   ]
  },
  {
   "cell_type": "code",
   "execution_count": 125,
   "metadata": {},
   "outputs": [
    {
     "data": {
      "text/plain": [
       "65.00    26\n",
       "66.00    25\n",
       "70.00    22\n",
       "62.00    18\n",
       "67.00    17\n",
       "         ..\n",
       "13.00     1\n",
       "58.00     1\n",
       "4.00      1\n",
       "7.00      1\n",
       "78.00     1\n",
       "Name: cut_budget, Length: 62, dtype: int64"
      ]
     },
     "execution_count": 125,
     "metadata": {},
     "output_type": "execute_result"
    }
   ],
   "source": [
    "total_df['cut_budget'].value_counts()"
   ]
  },
  {
   "cell_type": "markdown",
   "metadata": {
    "id": "6t4EukPLgFyV"
   },
   "source": [
    "### Шаг 3. Проведите исследовательский анализ данных\n"
   ]
  },
  {
   "cell_type": "markdown",
   "metadata": {
    "id": "vAH8WCzugFyV"
   },
   "source": [
    "- Посмотрите, сколько фильмов выходило в прокат каждый год. Обратите внимание, что данные о прокате в кинотеатрах известны не для всех фильмов. Посчитайте, какую долю составляют фильмы с указанной информацией о прокате в кинотеатрах."
   ]
  },
  {
   "cell_type": "code",
   "execution_count": 126,
   "metadata": {},
   "outputs": [],
   "source": [
    "pu_date=total_df.groupby(['year_date'])['puNumber'].count()"
   ]
  },
  {
   "cell_type": "code",
   "execution_count": 127,
   "metadata": {},
   "outputs": [
    {
     "data": {
      "image/png": "[encoded data removed]",
      "text/plain": [
       "<Figure size 576x432 with 1 Axes>"
      ]
     },
     "metadata": {
      "needs_background": "light"
     },
     "output_type": "display_data"
    }
   ],
   "source": [
    "pu_date.plot(grid=True,kind='line',figsize=(8,6))\n",
    "plt.title('Распределение количества фильмов выходящих в прокат по годам')\n",
    "plt.xlabel('Год')\n",
    "plt.ylabel('Прокат');"
   ]
  },
  {
   "cell_type": "code",
   "execution_count": 128,
   "metadata": {},
   "outputs": [
    {
     "data": {
      "text/plain": [
       "year_date\n",
       "2010    985\n",
       "2011    622\n",
       "2012    593\n",
       "2013    630\n",
       "2014    807\n",
       "2015    705\n",
       "2016    818\n",
       "2017    505\n",
       "2018    891\n",
       "2019    930\n",
       "Name: puNumber, dtype: int64"
      ]
     },
     "execution_count": 128,
     "metadata": {},
     "output_type": "execute_result"
    }
   ],
   "source": [
    "pu_date"
   ]
  },
  {
   "cell_type": "code",
   "execution_count": 129,
   "metadata": {
    "id": "ABeV47y7gFyW"
   },
   "outputs": [],
   "source": [
    "box_date=total_df.groupby(['year_date'])['box_office'].count()"
   ]
  },
  {
   "cell_type": "code",
   "execution_count": 130,
   "metadata": {},
   "outputs": [
    {
     "data": {
      "image/png": "[encoded data removed]",
      "text/plain": [
       "<Figure size 576x432 with 1 Axes>"
      ]
     },
     "metadata": {
      "needs_background": "light"
     },
     "output_type": "display_data"
    }
   ],
   "source": [
    "box_date.plot(grid=True,kind='line',figsize=(8,6))\n",
    "plt.title('Распределение сборов кинолент по годам')\n",
    "plt.xlabel('Год')\n",
    "plt.ylabel('Сборы');"
   ]
  },
  {
   "cell_type": "code",
   "execution_count": 131,
   "metadata": {},
   "outputs": [
    {
     "data": {
      "text/plain": [
       "year_date\n",
       "2010    105\n",
       "2011    109\n",
       "2012    128\n",
       "2013    184\n",
       "2014    279\n",
       "2015    465\n",
       "2016    526\n",
       "2017    357\n",
       "2018    475\n",
       "2019    530\n",
       "Name: box_office, dtype: int64"
      ]
     },
     "execution_count": 131,
     "metadata": {},
     "output_type": "execute_result"
    }
   ],
   "source": [
    "box_date"
   ]
  },
  {
   "cell_type": "code",
   "execution_count": 132,
   "metadata": {},
   "outputs": [],
   "source": [
    "part=total_df['box_office'].count()*100/total_df['puNumber'].count()"
   ]
  },
  {
   "cell_type": "code",
   "execution_count": 133,
   "metadata": {},
   "outputs": [
    {
     "data": {
      "text/plain": [
       "42.0"
      ]
     },
     "execution_count": 133,
     "metadata": {},
     "output_type": "execute_result"
    }
   ],
   "source": [
    "part.round().mean()"
   ]
  },
  {
   "cell_type": "code",
   "execution_count": 134,
   "metadata": {},
   "outputs": [],
   "source": [
    "ppp=pu_date.to_frame()\n"
   ]
  },
  {
   "cell_type": "code",
   "execution_count": 135,
   "metadata": {},
   "outputs": [],
   "source": [
    "ooo=box_date.to_frame()"
   ]
  },
  {
   "cell_type": "code",
   "execution_count": 136,
   "metadata": {},
   "outputs": [],
   "source": [
    "j=ppp.join(ooo,how='outer')"
   ]
  },
  {
   "cell_type": "code",
   "execution_count": 137,
   "metadata": {},
   "outputs": [],
   "source": [
    "j['percent']=j['box_office']*100/j['puNumber']"
   ]
  },
  {
   "cell_type": "code",
   "execution_count": 138,
   "metadata": {},
   "outputs": [
    {
     "data": {
      "text/html": [
       "<div>\n",
       "<style scoped>\n",
       "    .dataframe tbody tr th:only-of-type {\n",
       "        vertical-align: middle;\n",
       "    }\n",
       "\n",
       "    .dataframe tbody tr th {\n",
       "        vertical-align: top;\n",
       "    }\n",
       "\n",
       "    .dataframe thead th {\n",
       "        text-align: right;\n",
       "    }\n",
       "</style>\n",
       "<table border=\"1\" class=\"dataframe\">\n",
       "  <thead>\n",
       "    <tr style=\"text-align: right;\">\n",
       "      <th></th>\n",
       "      <th>puNumber</th>\n",
       "      <th>box_office</th>\n",
       "      <th>percent</th>\n",
       "    </tr>\n",
       "    <tr>\n",
       "      <th>year_date</th>\n",
       "      <th></th>\n",
       "      <th></th>\n",
       "      <th></th>\n",
       "    </tr>\n",
       "  </thead>\n",
       "  <tbody>\n",
       "    <tr>\n",
       "      <td>2010</td>\n",
       "      <td>985</td>\n",
       "      <td>105</td>\n",
       "      <td>10.66</td>\n",
       "    </tr>\n",
       "    <tr>\n",
       "      <td>2011</td>\n",
       "      <td>622</td>\n",
       "      <td>109</td>\n",
       "      <td>17.52</td>\n",
       "    </tr>\n",
       "    <tr>\n",
       "      <td>2012</td>\n",
       "      <td>593</td>\n",
       "      <td>128</td>\n",
       "      <td>21.59</td>\n",
       "    </tr>\n",
       "    <tr>\n",
       "      <td>2013</td>\n",
       "      <td>630</td>\n",
       "      <td>184</td>\n",
       "      <td>29.21</td>\n",
       "    </tr>\n",
       "    <tr>\n",
       "      <td>2014</td>\n",
       "      <td>807</td>\n",
       "      <td>279</td>\n",
       "      <td>34.57</td>\n",
       "    </tr>\n",
       "    <tr>\n",
       "      <td>2015</td>\n",
       "      <td>705</td>\n",
       "      <td>465</td>\n",
       "      <td>65.96</td>\n",
       "    </tr>\n",
       "    <tr>\n",
       "      <td>2016</td>\n",
       "      <td>818</td>\n",
       "      <td>526</td>\n",
       "      <td>64.30</td>\n",
       "    </tr>\n",
       "    <tr>\n",
       "      <td>2017</td>\n",
       "      <td>505</td>\n",
       "      <td>357</td>\n",
       "      <td>70.69</td>\n",
       "    </tr>\n",
       "    <tr>\n",
       "      <td>2018</td>\n",
       "      <td>891</td>\n",
       "      <td>475</td>\n",
       "      <td>53.31</td>\n",
       "    </tr>\n",
       "    <tr>\n",
       "      <td>2019</td>\n",
       "      <td>930</td>\n",
       "      <td>530</td>\n",
       "      <td>56.99</td>\n",
       "    </tr>\n",
       "  </tbody>\n",
       "</table>\n",
       "</div>"
      ],
      "text/plain": [
       "           puNumber  box_office  percent\n",
       "year_date                               \n",
       "2010            985         105    10.66\n",
       "2011            622         109    17.52\n",
       "2012            593         128    21.59\n",
       "2013            630         184    29.21\n",
       "2014            807         279    34.57\n",
       "2015            705         465    65.96\n",
       "2016            818         526    64.30\n",
       "2017            505         357    70.69\n",
       "2018            891         475    53.31\n",
       "2019            930         530    56.99"
      ]
     },
     "execution_count": 138,
     "metadata": {},
     "output_type": "execute_result"
    }
   ],
   "source": [
    "j"
   ]
  },
  {
   "cell_type": "markdown",
   "metadata": {},
   "source": [
    "Примерно у 42 процентов картин имеется полная информация о прокате"
   ]
  },
  {
   "cell_type": "code",
   "execution_count": 139,
   "metadata": {},
   "outputs": [
    {
     "data": {
      "text/html": [
       "<div>\n",
       "<style scoped>\n",
       "    .dataframe tbody tr th:only-of-type {\n",
       "        vertical-align: middle;\n",
       "    }\n",
       "\n",
       "    .dataframe tbody tr th {\n",
       "        vertical-align: top;\n",
       "    }\n",
       "\n",
       "    .dataframe thead th {\n",
       "        text-align: right;\n",
       "    }\n",
       "</style>\n",
       "<table border=\"1\" class=\"dataframe\">\n",
       "  <thead>\n",
       "    <tr style=\"text-align: right;\">\n",
       "      <th></th>\n",
       "      <th>0</th>\n",
       "    </tr>\n",
       "    <tr>\n",
       "      <th>year_date</th>\n",
       "      <th></th>\n",
       "    </tr>\n",
       "  </thead>\n",
       "  <tbody>\n",
       "    <tr>\n",
       "      <td>2010</td>\n",
       "      <td>10.66</td>\n",
       "    </tr>\n",
       "    <tr>\n",
       "      <td>2011</td>\n",
       "      <td>17.52</td>\n",
       "    </tr>\n",
       "    <tr>\n",
       "      <td>2012</td>\n",
       "      <td>21.59</td>\n",
       "    </tr>\n",
       "    <tr>\n",
       "      <td>2013</td>\n",
       "      <td>29.21</td>\n",
       "    </tr>\n",
       "    <tr>\n",
       "      <td>2014</td>\n",
       "      <td>34.57</td>\n",
       "    </tr>\n",
       "    <tr>\n",
       "      <td>2015</td>\n",
       "      <td>65.96</td>\n",
       "    </tr>\n",
       "    <tr>\n",
       "      <td>2016</td>\n",
       "      <td>64.30</td>\n",
       "    </tr>\n",
       "    <tr>\n",
       "      <td>2017</td>\n",
       "      <td>70.69</td>\n",
       "    </tr>\n",
       "    <tr>\n",
       "      <td>2018</td>\n",
       "      <td>53.31</td>\n",
       "    </tr>\n",
       "    <tr>\n",
       "      <td>2019</td>\n",
       "      <td>56.99</td>\n",
       "    </tr>\n",
       "  </tbody>\n",
       "</table>\n",
       "</div>"
      ],
      "text/plain": [
       "              0\n",
       "year_date      \n",
       "2010      10.66\n",
       "2011      17.52\n",
       "2012      21.59\n",
       "2013      29.21\n",
       "2014      34.57\n",
       "2015      65.96\n",
       "2016      64.30\n",
       "2017      70.69\n",
       "2018      53.31\n",
       "2019      56.99"
      ]
     },
     "execution_count": 139,
     "metadata": {},
     "output_type": "execute_result"
    }
   ],
   "source": [
    "# Код ревьюера\n",
    "\n",
    "(total_df[['year_date','box_office']].groupby('year_date').apply(lambda x : x['box_office'].apply(pd.notna).mean()) * 100).to_frame()"
   ]
  },
  {
   "cell_type": "markdown",
   "metadata": {
    "id": "BEOdcIrIgFyW"
   },
   "source": [
    "- Изучите, как менялась динамика проката по годам. В каком году сумма сборов была минимальной? А максимальной?"
   ]
  },
  {
   "cell_type": "code",
   "execution_count": 140,
   "metadata": {
    "id": "tfEhofYvgFyX"
   },
   "outputs": [
    {
     "data": {
      "text/plain": [
       "min    105\n",
       "max    530\n",
       "Name: box_office, dtype: int64"
      ]
     },
     "execution_count": 140,
     "metadata": {},
     "output_type": "execute_result"
    }
   ],
   "source": [
    "box_date.agg(['min','max'])"
   ]
  },
  {
   "cell_type": "markdown",
   "metadata": {
    "id": "G-7qS-N-gFyY"
   },
   "source": [
    "- С помощью сводной таблицы посчитайте среднюю и медианную сумму сборов для каждого года."
   ]
  },
  {
   "cell_type": "code",
   "execution_count": 141,
   "metadata": {
    "id": "jmp-rgg9gFyY"
   },
   "outputs": [
    {
     "data": {
      "text/html": [
       "<div>\n",
       "<style scoped>\n",
       "    .dataframe tbody tr th:only-of-type {\n",
       "        vertical-align: middle;\n",
       "    }\n",
       "\n",
       "    .dataframe tbody tr th {\n",
       "        vertical-align: top;\n",
       "    }\n",
       "\n",
       "    .dataframe thead tr th {\n",
       "        text-align: left;\n",
       "    }\n",
       "</style>\n",
       "<table border=\"1\" class=\"dataframe\">\n",
       "  <thead>\n",
       "    <tr>\n",
       "      <th></th>\n",
       "      <th colspan=\"10\" halign=\"left\">mean</th>\n",
       "      <th colspan=\"10\" halign=\"left\">median</th>\n",
       "    </tr>\n",
       "    <tr>\n",
       "      <th>year_date</th>\n",
       "      <th>2010</th>\n",
       "      <th>2011</th>\n",
       "      <th>2012</th>\n",
       "      <th>2013</th>\n",
       "      <th>2014</th>\n",
       "      <th>2015</th>\n",
       "      <th>2016</th>\n",
       "      <th>2017</th>\n",
       "      <th>2018</th>\n",
       "      <th>2019</th>\n",
       "      <th>2010</th>\n",
       "      <th>2011</th>\n",
       "      <th>2012</th>\n",
       "      <th>2013</th>\n",
       "      <th>2014</th>\n",
       "      <th>2015</th>\n",
       "      <th>2016</th>\n",
       "      <th>2017</th>\n",
       "      <th>2018</th>\n",
       "      <th>2019</th>\n",
       "    </tr>\n",
       "  </thead>\n",
       "  <tbody>\n",
       "    <tr>\n",
       "      <td>box_office</td>\n",
       "      <td>23130.04</td>\n",
       "      <td>129383.17</td>\n",
       "      <td>54339.24</td>\n",
       "      <td>161954.92</td>\n",
       "      <td>26684415.27</td>\n",
       "      <td>84940570.31</td>\n",
       "      <td>91000569.85</td>\n",
       "      <td>136032793.33</td>\n",
       "      <td>104565059.23</td>\n",
       "      <td>91369261.85</td>\n",
       "      <td>1700.00</td>\n",
       "      <td>3000.00</td>\n",
       "      <td>5660.00</td>\n",
       "      <td>3522.50</td>\n",
       "      <td>18160.00</td>\n",
       "      <td>4920933.00</td>\n",
       "      <td>3846679.41</td>\n",
       "      <td>9968340.00</td>\n",
       "      <td>8891102.21</td>\n",
       "      <td>4627798.34</td>\n",
       "    </tr>\n",
       "  </tbody>\n",
       "</table>\n",
       "</div>"
      ],
      "text/plain": [
       "               mean                                                       \\\n",
       "year_date      2010      2011     2012      2013        2014        2015   \n",
       "box_office 23130.04 129383.17 54339.24 161954.92 26684415.27 84940570.31   \n",
       "\n",
       "                                                              median          \\\n",
       "year_date         2016         2017         2018        2019    2010    2011   \n",
       "box_office 91000569.85 136032793.33 104565059.23 91369261.85 1700.00 3000.00   \n",
       "\n",
       "                                                                      \\\n",
       "year_date     2012    2013     2014       2015       2016       2017   \n",
       "box_office 5660.00 3522.50 18160.00 4920933.00 3846679.41 9968340.00   \n",
       "\n",
       "                                  \n",
       "year_date        2018       2019  \n",
       "box_office 8891102.21 4627798.34  "
      ]
     },
     "execution_count": 141,
     "metadata": {},
     "output_type": "execute_result"
    }
   ],
   "source": [
    "piv=pd.pivot_table(total_df,columns='year_date',values='box_office',aggfunc=(['mean','median']))\n",
    "piv"
   ]
  },
  {
   "cell_type": "markdown",
   "metadata": {},
   "source": [
    "В 2017 и 2018 годах сборы были максимально высокими"
   ]
  },
  {
   "cell_type": "markdown",
   "metadata": {
    "id": "Ok89WFwJgFyZ"
   },
   "source": [
    "- Определите, влияет ли возрастное ограничение аудитории («6+», «12+», «16+», «18+» и т. д.) на сборы фильма в прокате в период с 2015 по 2019 год? Фильмы с каким возрастным ограничением собрали больше всего денег в прокате? Меняется ли картина в зависимости от года? Если да, предположите, с чем это может быть связано."
   ]
  },
  {
   "cell_type": "code",
   "execution_count": 142,
   "metadata": {
    "id": "jsSbEqfjgFya"
   },
   "outputs": [],
   "source": [
    "piv=total_df.loc[total_df['year_date']>=2015].pivot_table(index='age_restriction',columns='year_date',values='box_office',aggfunc='sum')\n"
   ]
  },
  {
   "cell_type": "code",
   "execution_count": 143,
   "metadata": {},
   "outputs": [
    {
     "data": {
      "text/html": [
       "<div>\n",
       "<style scoped>\n",
       "    .dataframe tbody tr th:only-of-type {\n",
       "        vertical-align: middle;\n",
       "    }\n",
       "\n",
       "    .dataframe tbody tr th {\n",
       "        vertical-align: top;\n",
       "    }\n",
       "\n",
       "    .dataframe thead th {\n",
       "        text-align: right;\n",
       "    }\n",
       "</style>\n",
       "<table border=\"1\" class=\"dataframe\">\n",
       "  <thead>\n",
       "    <tr style=\"text-align: right;\">\n",
       "      <th>year_date</th>\n",
       "      <th>2015</th>\n",
       "      <th>2016</th>\n",
       "      <th>2017</th>\n",
       "      <th>2018</th>\n",
       "      <th>2019</th>\n",
       "    </tr>\n",
       "    <tr>\n",
       "      <th>age_restriction</th>\n",
       "      <th></th>\n",
       "      <th></th>\n",
       "      <th></th>\n",
       "      <th></th>\n",
       "      <th></th>\n",
       "    </tr>\n",
       "  </thead>\n",
       "  <tbody>\n",
       "    <tr>\n",
       "      <td>«0+» - для любой зрительской аудитории</td>\n",
       "      <td>379054578.37</td>\n",
       "      <td>150228848.67</td>\n",
       "      <td>229598930.00</td>\n",
       "      <td>32449002.11</td>\n",
       "      <td>17746066.82</td>\n",
       "    </tr>\n",
       "    <tr>\n",
       "      <td>«12+» - для детей старше 12 лет</td>\n",
       "      <td>13616082008.91</td>\n",
       "      <td>12204446524.39</td>\n",
       "      <td>7851427660.67</td>\n",
       "      <td>14267291660.69</td>\n",
       "      <td>12680198773.67</td>\n",
       "    </tr>\n",
       "    <tr>\n",
       "      <td>«16+» - для детей старше 16 лет</td>\n",
       "      <td>11368120870.27</td>\n",
       "      <td>16664548541.74</td>\n",
       "      <td>18745042900.06</td>\n",
       "      <td>16503602346.96</td>\n",
       "      <td>12753418984.60</td>\n",
       "    </tr>\n",
       "    <tr>\n",
       "      <td>«18+» - запрещено для детей</td>\n",
       "      <td>5432308367.44</td>\n",
       "      <td>6793929818.87</td>\n",
       "      <td>9651495581.02</td>\n",
       "      <td>8760085501.15</td>\n",
       "      <td>10121796303.64</td>\n",
       "    </tr>\n",
       "    <tr>\n",
       "      <td>«6+» - для детей старше 6 лет</td>\n",
       "      <td>8701799371.41</td>\n",
       "      <td>12053146008.24</td>\n",
       "      <td>12086142145.76</td>\n",
       "      <td>10104974623.41</td>\n",
       "      <td>12852548650.86</td>\n",
       "    </tr>\n",
       "  </tbody>\n",
       "</table>\n",
       "</div>"
      ],
      "text/plain": [
       "year_date                                        2015           2016  \\\n",
       "age_restriction                                                        \n",
       "«0+» - для любой зрительской аудитории   379054578.37   150228848.67   \n",
       "«12+» - для детей старше 12 лет        13616082008.91 12204446524.39   \n",
       "«16+» - для детей старше 16 лет        11368120870.27 16664548541.74   \n",
       "«18+» - запрещено для детей             5432308367.44  6793929818.87   \n",
       "«6+» - для детей старше 6 лет           8701799371.41 12053146008.24   \n",
       "\n",
       "year_date                                        2017           2018  \\\n",
       "age_restriction                                                        \n",
       "«0+» - для любой зрительской аудитории   229598930.00    32449002.11   \n",
       "«12+» - для детей старше 12 лет         7851427660.67 14267291660.69   \n",
       "«16+» - для детей старше 16 лет        18745042900.06 16503602346.96   \n",
       "«18+» - запрещено для детей             9651495581.02  8760085501.15   \n",
       "«6+» - для детей старше 6 лет          12086142145.76 10104974623.41   \n",
       "\n",
       "year_date                                        2019  \n",
       "age_restriction                                        \n",
       "«0+» - для любой зрительской аудитории    17746066.82  \n",
       "«12+» - для детей старше 12 лет        12680198773.67  \n",
       "«16+» - для детей старше 16 лет        12753418984.60  \n",
       "«18+» - запрещено для детей            10121796303.64  \n",
       "«6+» - для детей старше 6 лет          12852548650.86  "
      ]
     },
     "execution_count": 143,
     "metadata": {},
     "output_type": "execute_result"
    }
   ],
   "source": [
    "piv"
   ]
  },
  {
   "cell_type": "code",
   "execution_count": 144,
   "metadata": {},
   "outputs": [
    {
     "data": {
      "image/png": "[encoded data removed]",
      "text/plain": [
       "<Figure size 432x288 with 1 Axes>"
      ]
     },
     "metadata": {
      "needs_background": "light"
     },
     "output_type": "display_data"
    }
   ],
   "source": [
    "piv.plot(kind='bar',stacked=True);"
   ]
  },
  {
   "cell_type": "code",
   "execution_count": 145,
   "metadata": {},
   "outputs": [
    {
     "data": {
      "text/plain": [
       "year_date\n",
       "2015   379054578.37\n",
       "2016   150228848.67\n",
       "2017   229598930.00\n",
       "2018    32449002.11\n",
       "2019    17746066.82\n",
       "dtype: float64"
      ]
     },
     "execution_count": 145,
     "metadata": {},
     "output_type": "execute_result"
    }
   ],
   "source": [
    "piv.min()"
   ]
  },
  {
   "cell_type": "code",
   "execution_count": 146,
   "metadata": {},
   "outputs": [
    {
     "data": {
      "text/plain": [
       "year_date\n",
       "2015   13616082008.91\n",
       "2016   16664548541.74\n",
       "2017   18745042900.06\n",
       "2018   16503602346.96\n",
       "2019   12852548650.86\n",
       "dtype: float64"
      ]
     },
     "execution_count": 146,
     "metadata": {},
     "output_type": "execute_result"
    }
   ],
   "source": [
    "piv.max()"
   ]
  },
  {
   "cell_type": "code",
   "execution_count": 147,
   "metadata": {},
   "outputs": [
    {
     "data": {
      "image/png": "[encoded data removed]",
      "text/plain": [
       "<Figure size 1296x720 with 1 Axes>"
      ]
     },
     "metadata": {
      "needs_background": "light"
     },
     "output_type": "display_data"
    }
   ],
   "source": [
    "piv.plot(figsize=(18,10),grid=True);"
   ]
  },
  {
   "cell_type": "code",
   "execution_count": 148,
   "metadata": {},
   "outputs": [
    {
     "data": {
      "image/png": "[encoded data removed]",
      "text/plain": [
       "<Figure size 1069.38x504 with 1 Axes>"
      ]
     },
     "metadata": {
      "needs_background": "light"
     },
     "output_type": "display_data"
    }
   ],
   "source": [
    "sns.catplot(\n",
    "    x='age_restriction', \n",
    "    y='box_office', \n",
    "    data=total_df, \n",
    "    kind='violin', \n",
    "    hue='year_date', \n",
    "    hue_order=[2015,2016,2017,2018,2019], \n",
    "    split=False,\n",
    "    inner=\"stick\", \n",
    "    palette=\"pastel\",\n",
    "    height=7, \n",
    "    aspect=2); \n",
    "\n"
   ]
  },
  {
   "cell_type": "markdown",
   "metadata": {},
   "source": [
    "В среднем фильмы для детей страше 16 лет сборы были больше. В 2015 году самые большие сборы приносили фильмы для детей 12+ лет. Изменение сборов может быть вызвано взрослением аудитории активно посещающей кинотеатры"
   ]
  },
  {
   "cell_type": "markdown",
   "metadata": {
    "id": "l_Kg6Ku4gFya"
   },
   "source": [
    "### Шаг 4. Исследуйте фильмы, которые получили государственную поддержку\n",
    "\n",
    "На этом этапе нет конкретных инструкций и заданий — поищите интересные закономерности в данных. Посмотрите, сколько выделяют средств на поддержку кино. Проверьте, хорошо ли окупаются такие фильмы, какой у них рейтинг."
   ]
  },
  {
   "cell_type": "code",
   "execution_count": 149,
   "metadata": {
    "id": "W9QKpjUdgFyb"
   },
   "outputs": [],
   "source": [
    "bud=total_df['budget'].sum()"
   ]
  },
  {
   "cell_type": "code",
   "execution_count": 150,
   "metadata": {},
   "outputs": [
    {
     "data": {
      "text/plain": [
       "43632235404.0"
      ]
     },
     "execution_count": 150,
     "metadata": {},
     "output_type": "execute_result"
    }
   ],
   "source": [
    "bud"
   ]
  },
  {
   "cell_type": "code",
   "execution_count": 151,
   "metadata": {},
   "outputs": [],
   "source": [
    "supp=total_df['refundable_support']+total_df['nonrefundable_support']"
   ]
  },
  {
   "cell_type": "code",
   "execution_count": 152,
   "metadata": {},
   "outputs": [
    {
     "data": {
      "text/plain": [
       "20200688312.0"
      ]
     },
     "execution_count": 152,
     "metadata": {},
     "output_type": "execute_result"
    }
   ],
   "source": [
    "supp.sum()"
   ]
  },
  {
   "cell_type": "code",
   "execution_count": 153,
   "metadata": {},
   "outputs": [],
   "source": [
    "t=supp / bud *100"
   ]
  },
  {
   "cell_type": "code",
   "execution_count": 154,
   "metadata": {},
   "outputs": [
    {
     "data": {
      "text/plain": [
       "46.29762405010332"
      ]
     },
     "execution_count": 154,
     "metadata": {},
     "output_type": "execute_result"
    }
   ],
   "source": [
    "t.sum()"
   ]
  },
  {
   "cell_type": "code",
   "execution_count": 155,
   "metadata": {},
   "outputs": [],
   "source": [
    "piv_b=total_df.loc[total_df['budget']>0].pivot_table(columns='ratings',values=(['budget','box_office']),aggfunc='sum')\n"
   ]
  },
  {
   "cell_type": "code",
   "execution_count": 156,
   "metadata": {
    "scrolled": false
   },
   "outputs": [
    {
     "data": {
      "text/html": [
       "<div>\n",
       "<style scoped>\n",
       "    .dataframe tbody tr th:only-of-type {\n",
       "        vertical-align: middle;\n",
       "    }\n",
       "\n",
       "    .dataframe tbody tr th {\n",
       "        vertical-align: top;\n",
       "    }\n",
       "\n",
       "    .dataframe thead th {\n",
       "        text-align: right;\n",
       "    }\n",
       "</style>\n",
       "<table border=\"1\" class=\"dataframe\">\n",
       "  <thead>\n",
       "    <tr style=\"text-align: right;\">\n",
       "      <th>ratings</th>\n",
       "      <th>1.00</th>\n",
       "      <th>2.50</th>\n",
       "      <th>2.80</th>\n",
       "      <th>2.90</th>\n",
       "      <th>3.00</th>\n",
       "      <th>3.10</th>\n",
       "      <th>3.20</th>\n",
       "      <th>3.30</th>\n",
       "      <th>3.50</th>\n",
       "      <th>3.80</th>\n",
       "      <th>...</th>\n",
       "      <th>7.40</th>\n",
       "      <th>7.50</th>\n",
       "      <th>7.60</th>\n",
       "      <th>7.70</th>\n",
       "      <th>7.80</th>\n",
       "      <th>7.90</th>\n",
       "      <th>8.00</th>\n",
       "      <th>8.10</th>\n",
       "      <th>8.20</th>\n",
       "      <th>8.50</th>\n",
       "    </tr>\n",
       "  </thead>\n",
       "  <tbody>\n",
       "    <tr>\n",
       "      <td>box_office</td>\n",
       "      <td>7323648.00</td>\n",
       "      <td>70798668.90</td>\n",
       "      <td>38334497.27</td>\n",
       "      <td>348628257.00</td>\n",
       "      <td>262040254.00</td>\n",
       "      <td>37266709.89</td>\n",
       "      <td>85217234.30</td>\n",
       "      <td>11034433.20</td>\n",
       "      <td>30325879.15</td>\n",
       "      <td>32244810.00</td>\n",
       "      <td>...</td>\n",
       "      <td>832896414.50</td>\n",
       "      <td>4478663081.52</td>\n",
       "      <td>1477185479.21</td>\n",
       "      <td>540037269.23</td>\n",
       "      <td>200288556.40</td>\n",
       "      <td>185619740.34</td>\n",
       "      <td>410058.00</td>\n",
       "      <td>365353.60</td>\n",
       "      <td>408646665.70</td>\n",
       "      <td>477744971.70</td>\n",
       "    </tr>\n",
       "    <tr>\n",
       "      <td>budget</td>\n",
       "      <td>36016269.00</td>\n",
       "      <td>154245687.00</td>\n",
       "      <td>62044646.00</td>\n",
       "      <td>287513841.00</td>\n",
       "      <td>323232109.00</td>\n",
       "      <td>47328000.00</td>\n",
       "      <td>551033852.00</td>\n",
       "      <td>73379554.00</td>\n",
       "      <td>385000000.00</td>\n",
       "      <td>90120000.00</td>\n",
       "      <td>...</td>\n",
       "      <td>857960414.00</td>\n",
       "      <td>1676535799.00</td>\n",
       "      <td>905308867.00</td>\n",
       "      <td>1172699860.00</td>\n",
       "      <td>394937470.00</td>\n",
       "      <td>406360666.00</td>\n",
       "      <td>96170000.00</td>\n",
       "      <td>79411900.00</td>\n",
       "      <td>240041307.00</td>\n",
       "      <td>540588394.00</td>\n",
       "    </tr>\n",
       "  </tbody>\n",
       "</table>\n",
       "<p>2 rows × 53 columns</p>\n",
       "</div>"
      ],
      "text/plain": [
       "ratings           1.00         2.50        2.80         2.90         3.00  \\\n",
       "box_office  7323648.00  70798668.90 38334497.27 348628257.00 262040254.00   \n",
       "budget     36016269.00 154245687.00 62044646.00 287513841.00 323232109.00   \n",
       "\n",
       "ratings           3.10         3.20        3.30         3.50        3.80  ...  \\\n",
       "box_office 37266709.89  85217234.30 11034433.20  30325879.15 32244810.00  ...   \n",
       "budget     47328000.00 551033852.00 73379554.00 385000000.00 90120000.00  ...   \n",
       "\n",
       "ratings            7.40          7.50          7.60          7.70  \\\n",
       "box_office 832896414.50 4478663081.52 1477185479.21  540037269.23   \n",
       "budget     857960414.00 1676535799.00  905308867.00 1172699860.00   \n",
       "\n",
       "ratings            7.80         7.90        8.00        8.10         8.20  \\\n",
       "box_office 200288556.40 185619740.34   410058.00   365353.60 408646665.70   \n",
       "budget     394937470.00 406360666.00 96170000.00 79411900.00 240041307.00   \n",
       "\n",
       "ratings            8.50  \n",
       "box_office 477744971.70  \n",
       "budget     540588394.00  \n",
       "\n",
       "[2 rows x 53 columns]"
      ]
     },
     "execution_count": 156,
     "metadata": {},
     "output_type": "execute_result"
    }
   ],
   "source": [
    "\n",
    "piv_b"
   ]
  },
  {
   "cell_type": "code",
   "execution_count": 157,
   "metadata": {},
   "outputs": [
    {
     "data": {
      "text/html": [
       "<div>\n",
       "<style scoped>\n",
       "    .dataframe tbody tr th:only-of-type {\n",
       "        vertical-align: middle;\n",
       "    }\n",
       "\n",
       "    .dataframe tbody tr th {\n",
       "        vertical-align: top;\n",
       "    }\n",
       "\n",
       "    .dataframe thead tr th {\n",
       "        text-align: left;\n",
       "    }\n",
       "\n",
       "    .dataframe thead tr:last-of-type th {\n",
       "        text-align: right;\n",
       "    }\n",
       "</style>\n",
       "<table border=\"1\" class=\"dataframe\">\n",
       "  <thead>\n",
       "    <tr>\n",
       "      <th></th>\n",
       "      <th colspan=\"10\" halign=\"left\">box_office</th>\n",
       "      <th>...</th>\n",
       "      <th colspan=\"10\" halign=\"left\">budget</th>\n",
       "    </tr>\n",
       "    <tr>\n",
       "      <th>main_director</th>\n",
       "      <th>Р.Асхаев</th>\n",
       "      <th>Т.Саакян</th>\n",
       "      <th>Ёлкин Туйчиев</th>\n",
       "      <th>Ён Сан-хо</th>\n",
       "      <th>А Андрющенко</th>\n",
       "      <th>А. Калюжный</th>\n",
       "      <th>А. Кутерье</th>\n",
       "      <th>А.Аббасов</th>\n",
       "      <th>А.Агаджанян</th>\n",
       "      <th>А.Аксененко</th>\n",
       "      <th>...</th>\n",
       "      <th>Ю.Белюсева</th>\n",
       "      <th>Ю.Быков</th>\n",
       "      <th>Ю.Васильев</th>\n",
       "      <th>Ю.Грымов</th>\n",
       "      <th>Ю.Кара</th>\n",
       "      <th>Ю.Кулаков</th>\n",
       "      <th>Ю.Попович</th>\n",
       "      <th>Ю.Разыков</th>\n",
       "      <th>Ю.Фетинг</th>\n",
       "      <th>Я.Поляруш</th>\n",
       "    </tr>\n",
       "    <tr>\n",
       "      <th>type</th>\n",
       "      <th></th>\n",
       "      <th></th>\n",
       "      <th></th>\n",
       "      <th></th>\n",
       "      <th></th>\n",
       "      <th></th>\n",
       "      <th></th>\n",
       "      <th></th>\n",
       "      <th></th>\n",
       "      <th></th>\n",
       "      <th></th>\n",
       "      <th></th>\n",
       "      <th></th>\n",
       "      <th></th>\n",
       "      <th></th>\n",
       "      <th></th>\n",
       "      <th></th>\n",
       "      <th></th>\n",
       "      <th></th>\n",
       "      <th></th>\n",
       "      <th></th>\n",
       "    </tr>\n",
       "  </thead>\n",
       "  <tbody>\n",
       "    <tr>\n",
       "      <td>Анимационный</td>\n",
       "      <td>nan</td>\n",
       "      <td>nan</td>\n",
       "      <td>nan</td>\n",
       "      <td>nan</td>\n",
       "      <td>nan</td>\n",
       "      <td>nan</td>\n",
       "      <td>3094683.00</td>\n",
       "      <td>nan</td>\n",
       "      <td>nan</td>\n",
       "      <td>nan</td>\n",
       "      <td>...</td>\n",
       "      <td>nan</td>\n",
       "      <td>nan</td>\n",
       "      <td>nan</td>\n",
       "      <td>nan</td>\n",
       "      <td>nan</td>\n",
       "      <td>126932894.00</td>\n",
       "      <td>nan</td>\n",
       "      <td>nan</td>\n",
       "      <td>nan</td>\n",
       "      <td>nan</td>\n",
       "    </tr>\n",
       "    <tr>\n",
       "      <td>Документальный</td>\n",
       "      <td>nan</td>\n",
       "      <td>nan</td>\n",
       "      <td>nan</td>\n",
       "      <td>nan</td>\n",
       "      <td>nan</td>\n",
       "      <td>nan</td>\n",
       "      <td>nan</td>\n",
       "      <td>nan</td>\n",
       "      <td>nan</td>\n",
       "      <td>nan</td>\n",
       "      <td>...</td>\n",
       "      <td>nan</td>\n",
       "      <td>nan</td>\n",
       "      <td>nan</td>\n",
       "      <td>nan</td>\n",
       "      <td>nan</td>\n",
       "      <td>nan</td>\n",
       "      <td>nan</td>\n",
       "      <td>nan</td>\n",
       "      <td>nan</td>\n",
       "      <td>nan</td>\n",
       "    </tr>\n",
       "    <tr>\n",
       "      <td>Музыкально-развлекательный</td>\n",
       "      <td>nan</td>\n",
       "      <td>nan</td>\n",
       "      <td>nan</td>\n",
       "      <td>nan</td>\n",
       "      <td>nan</td>\n",
       "      <td>nan</td>\n",
       "      <td>nan</td>\n",
       "      <td>nan</td>\n",
       "      <td>nan</td>\n",
       "      <td>nan</td>\n",
       "      <td>...</td>\n",
       "      <td>nan</td>\n",
       "      <td>nan</td>\n",
       "      <td>nan</td>\n",
       "      <td>nan</td>\n",
       "      <td>nan</td>\n",
       "      <td>nan</td>\n",
       "      <td>nan</td>\n",
       "      <td>nan</td>\n",
       "      <td>nan</td>\n",
       "      <td>nan</td>\n",
       "    </tr>\n",
       "    <tr>\n",
       "      <td>Научно-популярный</td>\n",
       "      <td>nan</td>\n",
       "      <td>nan</td>\n",
       "      <td>nan</td>\n",
       "      <td>nan</td>\n",
       "      <td>nan</td>\n",
       "      <td>802765.00</td>\n",
       "      <td>nan</td>\n",
       "      <td>nan</td>\n",
       "      <td>nan</td>\n",
       "      <td>nan</td>\n",
       "      <td>...</td>\n",
       "      <td>nan</td>\n",
       "      <td>nan</td>\n",
       "      <td>nan</td>\n",
       "      <td>nan</td>\n",
       "      <td>nan</td>\n",
       "      <td>nan</td>\n",
       "      <td>nan</td>\n",
       "      <td>nan</td>\n",
       "      <td>nan</td>\n",
       "      <td>nan</td>\n",
       "    </tr>\n",
       "    <tr>\n",
       "      <td>Прочие</td>\n",
       "      <td>nan</td>\n",
       "      <td>nan</td>\n",
       "      <td>nan</td>\n",
       "      <td>nan</td>\n",
       "      <td>nan</td>\n",
       "      <td>nan</td>\n",
       "      <td>nan</td>\n",
       "      <td>nan</td>\n",
       "      <td>nan</td>\n",
       "      <td>nan</td>\n",
       "      <td>...</td>\n",
       "      <td>nan</td>\n",
       "      <td>nan</td>\n",
       "      <td>nan</td>\n",
       "      <td>nan</td>\n",
       "      <td>nan</td>\n",
       "      <td>nan</td>\n",
       "      <td>nan</td>\n",
       "      <td>nan</td>\n",
       "      <td>nan</td>\n",
       "      <td>nan</td>\n",
       "    </tr>\n",
       "    <tr>\n",
       "      <td>Художественный</td>\n",
       "      <td>24605374.10</td>\n",
       "      <td>11700861.81</td>\n",
       "      <td>58733.50</td>\n",
       "      <td>8459304.83</td>\n",
       "      <td>137326373.00</td>\n",
       "      <td>nan</td>\n",
       "      <td>nan</td>\n",
       "      <td>32721103.43</td>\n",
       "      <td>350517.00</td>\n",
       "      <td>30624532.09</td>\n",
       "      <td>...</td>\n",
       "      <td>38461538.00</td>\n",
       "      <td>55000000.00</td>\n",
       "      <td>222177790.00</td>\n",
       "      <td>37878787.00</td>\n",
       "      <td>40000000.00</td>\n",
       "      <td>nan</td>\n",
       "      <td>52860000.00</td>\n",
       "      <td>61571449.00</td>\n",
       "      <td>49280496.00</td>\n",
       "      <td>80000000.00</td>\n",
       "    </tr>\n",
       "  </tbody>\n",
       "</table>\n",
       "<p>6 rows × 2678 columns</p>\n",
       "</div>"
      ],
      "text/plain": [
       "                            box_office                                       \\\n",
       "main_director                 Р.Асхаев    Т.Саакян Ёлкин Туйчиев  Ён Сан-хо   \n",
       "type                                                                          \n",
       "Анимационный                       nan         nan           nan        nan   \n",
       "Документальный                     nan         nan           nan        nan   \n",
       "Музыкально-развлекательный         nan         nan           nan        nan   \n",
       "Научно-популярный                  nan         nan           nan        nan   \n",
       "Прочие                             nan         nan           nan        nan   \n",
       "Художественный             24605374.10 11700861.81      58733.50 8459304.83   \n",
       "\n",
       "                                                                            \\\n",
       "main_director              А Андрющенко А. Калюжный А. Кутерье   А.Аббасов   \n",
       "type                                                                         \n",
       "Анимационный                        nan         nan 3094683.00         nan   \n",
       "Документальный                      nan         nan        nan         nan   \n",
       "Музыкально-развлекательный          nan         nan        nan         nan   \n",
       "Научно-популярный                   nan   802765.00        nan         nan   \n",
       "Прочие                              nan         nan        nan         nan   \n",
       "Художественный             137326373.00         nan        nan 32721103.43   \n",
       "\n",
       "                                                    ...      budget  \\\n",
       "main_director              А.Агаджанян А.Аксененко  ...  Ю.Белюсева   \n",
       "type                                                ...               \n",
       "Анимационный                       nan         nan  ...         nan   \n",
       "Документальный                     nan         nan  ...         nan   \n",
       "Музыкально-развлекательный         nan         nan  ...         nan   \n",
       "Научно-популярный                  nan         nan  ...         nan   \n",
       "Прочие                             nan         nan  ...         nan   \n",
       "Художественный               350517.00 30624532.09  ... 38461538.00   \n",
       "\n",
       "                                                                             \\\n",
       "main_director                  Ю.Быков   Ю.Васильев    Ю.Грымов      Ю.Кара   \n",
       "type                                                                          \n",
       "Анимационный                       nan          nan         nan         nan   \n",
       "Документальный                     nan          nan         nan         nan   \n",
       "Музыкально-развлекательный         nan          nan         nan         nan   \n",
       "Научно-популярный                  nan          nan         nan         nan   \n",
       "Прочие                             nan          nan         nan         nan   \n",
       "Художественный             55000000.00 222177790.00 37878787.00 40000000.00   \n",
       "\n",
       "                                                                             \\\n",
       "main_director                 Ю.Кулаков   Ю.Попович   Ю.Разыков    Ю.Фетинг   \n",
       "type                                                                          \n",
       "Анимационный               126932894.00         nan         nan         nan   \n",
       "Документальный                      nan         nan         nan         nan   \n",
       "Музыкально-развлекательный          nan         nan         nan         nan   \n",
       "Научно-популярный                   nan         nan         nan         nan   \n",
       "Прочие                              nan         nan         nan         nan   \n",
       "Художественный                      nan 52860000.00 61571449.00 49280496.00   \n",
       "\n",
       "                                        \n",
       "main_director                Я.Поляруш  \n",
       "type                                    \n",
       "Анимационный                       nan  \n",
       "Документальный                     nan  \n",
       "Музыкально-развлекательный         nan  \n",
       "Научно-популярный                  nan  \n",
       "Прочие                             nan  \n",
       "Художественный             80000000.00  \n",
       "\n",
       "[6 rows x 2678 columns]"
      ]
     },
     "execution_count": 157,
     "metadata": {},
     "output_type": "execute_result"
    }
   ],
   "source": [
    "pd.pivot_table(total_df,index='type',columns='main_director',values=(['budget','box_office']))"
   ]
  },
  {
   "cell_type": "code",
   "execution_count": 158,
   "metadata": {},
   "outputs": [],
   "source": [
    "\n",
    "dir=total_df.groupby(['main_director'])['budget','box_office'].sum()"
   ]
  },
  {
   "cell_type": "code",
   "execution_count": 159,
   "metadata": {},
   "outputs": [],
   "source": [
    "dir=dir.loc[(dir['budget']>0)|(dir['box_office']>0)]"
   ]
  },
  {
   "cell_type": "code",
   "execution_count": 160,
   "metadata": {},
   "outputs": [
    {
     "data": {
      "text/plain": [
       "budget       2305074303.00\n",
       "box_office   4207964001.35\n",
       "dtype: float64"
      ]
     },
     "execution_count": 160,
     "metadata": {},
     "output_type": "execute_result"
    }
   ],
   "source": [
    "dir.max()"
   ]
  },
  {
   "cell_type": "code",
   "execution_count": 161,
   "metadata": {},
   "outputs": [
    {
     "data": {
      "text/html": [
       "<div>\n",
       "<style scoped>\n",
       "    .dataframe tbody tr th:only-of-type {\n",
       "        vertical-align: middle;\n",
       "    }\n",
       "\n",
       "    .dataframe tbody tr th {\n",
       "        vertical-align: top;\n",
       "    }\n",
       "\n",
       "    .dataframe thead th {\n",
       "        text-align: right;\n",
       "    }\n",
       "</style>\n",
       "<table border=\"1\" class=\"dataframe\">\n",
       "  <thead>\n",
       "    <tr style=\"text-align: right;\">\n",
       "      <th></th>\n",
       "      <th>budget</th>\n",
       "      <th>box_office</th>\n",
       "    </tr>\n",
       "    <tr>\n",
       "      <th>main_director</th>\n",
       "      <th></th>\n",
       "      <th></th>\n",
       "    </tr>\n",
       "  </thead>\n",
       "  <tbody>\n",
       "    <tr>\n",
       "      <td>О.Степченко</td>\n",
       "      <td>2305074303.00</td>\n",
       "      <td>333707838.59</td>\n",
       "    </tr>\n",
       "  </tbody>\n",
       "</table>\n",
       "</div>"
      ],
      "text/plain": [
       "                     budget   box_office\n",
       "main_director                           \n",
       "О.Степченко   2305074303.00 333707838.59"
      ]
     },
     "execution_count": 161,
     "metadata": {},
     "output_type": "execute_result"
    }
   ],
   "source": [
    "dir.loc[dir['budget']==2305074303]"
   ]
  },
  {
   "cell_type": "code",
   "execution_count": 162,
   "metadata": {},
   "outputs": [
    {
     "data": {
      "text/html": [
       "<div>\n",
       "<style scoped>\n",
       "    .dataframe tbody tr th:only-of-type {\n",
       "        vertical-align: middle;\n",
       "    }\n",
       "\n",
       "    .dataframe tbody tr th {\n",
       "        vertical-align: top;\n",
       "    }\n",
       "\n",
       "    .dataframe thead th {\n",
       "        text-align: right;\n",
       "    }\n",
       "</style>\n",
       "<table border=\"1\" class=\"dataframe\">\n",
       "  <thead>\n",
       "    <tr style=\"text-align: right;\">\n",
       "      <th></th>\n",
       "      <th>budget</th>\n",
       "      <th>box_office</th>\n",
       "    </tr>\n",
       "    <tr>\n",
       "      <th>main_director</th>\n",
       "      <th></th>\n",
       "      <th></th>\n",
       "    </tr>\n",
       "  </thead>\n",
       "  <tbody>\n",
       "    <tr>\n",
       "      <td>К.Шипенко</td>\n",
       "      <td>704930668.00</td>\n",
       "      <td>4207964001.35</td>\n",
       "    </tr>\n",
       "  </tbody>\n",
       "</table>\n",
       "</div>"
      ],
      "text/plain": [
       "                    budget    box_office\n",
       "main_director                           \n",
       "К.Шипенко     704930668.00 4207964001.35"
      ]
     },
     "execution_count": 162,
     "metadata": {},
     "output_type": "execute_result"
    }
   ],
   "source": [
    "dir.loc[dir['box_office']==4207964001.35]"
   ]
  },
  {
   "cell_type": "code",
   "execution_count": 163,
   "metadata": {},
   "outputs": [],
   "source": [
    "typ=total_df.groupby(['type'])['budget','box_office'].agg(['sum','count'])"
   ]
  },
  {
   "cell_type": "code",
   "execution_count": 164,
   "metadata": {},
   "outputs": [
    {
     "data": {
      "text/html": [
       "<div>\n",
       "<style scoped>\n",
       "    .dataframe tbody tr th:only-of-type {\n",
       "        vertical-align: middle;\n",
       "    }\n",
       "\n",
       "    .dataframe tbody tr th {\n",
       "        vertical-align: top;\n",
       "    }\n",
       "\n",
       "    .dataframe thead tr th {\n",
       "        text-align: left;\n",
       "    }\n",
       "\n",
       "    .dataframe thead tr:last-of-type th {\n",
       "        text-align: right;\n",
       "    }\n",
       "</style>\n",
       "<table border=\"1\" class=\"dataframe\">\n",
       "  <thead>\n",
       "    <tr>\n",
       "      <th></th>\n",
       "      <th colspan=\"2\" halign=\"left\">budget</th>\n",
       "      <th colspan=\"2\" halign=\"left\">box_office</th>\n",
       "    </tr>\n",
       "    <tr>\n",
       "      <th></th>\n",
       "      <th>sum</th>\n",
       "      <th>count</th>\n",
       "      <th>sum</th>\n",
       "      <th>count</th>\n",
       "    </tr>\n",
       "    <tr>\n",
       "      <th>type</th>\n",
       "      <th></th>\n",
       "      <th></th>\n",
       "      <th></th>\n",
       "      <th></th>\n",
       "    </tr>\n",
       "  </thead>\n",
       "  <tbody>\n",
       "    <tr>\n",
       "      <td>Анимационный</td>\n",
       "      <td>5909423882.00</td>\n",
       "      <td>31</td>\n",
       "      <td>43193935737.72</td>\n",
       "      <td>437</td>\n",
       "    </tr>\n",
       "    <tr>\n",
       "      <td>Документальный</td>\n",
       "      <td>33000000.00</td>\n",
       "      <td>1</td>\n",
       "      <td>66266378.30</td>\n",
       "      <td>40</td>\n",
       "    </tr>\n",
       "    <tr>\n",
       "      <td>Музыкально-развлекательный</td>\n",
       "      <td>0.00</td>\n",
       "      <td>0</td>\n",
       "      <td>1416635.00</td>\n",
       "      <td>1</td>\n",
       "    </tr>\n",
       "    <tr>\n",
       "      <td>Научно-популярный</td>\n",
       "      <td>0.00</td>\n",
       "      <td>0</td>\n",
       "      <td>25657603.50</td>\n",
       "      <td>9</td>\n",
       "    </tr>\n",
       "    <tr>\n",
       "      <td>Прочие</td>\n",
       "      <td>0.00</td>\n",
       "      <td>0</td>\n",
       "      <td>303229676.45</td>\n",
       "      <td>155</td>\n",
       "    </tr>\n",
       "    <tr>\n",
       "      <td>Художественный</td>\n",
       "      <td>37689811522.00</td>\n",
       "      <td>300</td>\n",
       "      <td>197929216446.16</td>\n",
       "      <td>2516</td>\n",
       "    </tr>\n",
       "  </tbody>\n",
       "</table>\n",
       "</div>"
      ],
      "text/plain": [
       "                                   budget            box_office      \n",
       "                                      sum count             sum count\n",
       "type                                                                 \n",
       "Анимационный                5909423882.00    31  43193935737.72   437\n",
       "Документальный                33000000.00     1     66266378.30    40\n",
       "Музыкально-развлекательный           0.00     0      1416635.00     1\n",
       "Научно-популярный                    0.00     0     25657603.50     9\n",
       "Прочие                               0.00     0    303229676.45   155\n",
       "Художественный             37689811522.00   300 197929216446.16  2516"
      ]
     },
     "execution_count": 164,
     "metadata": {},
     "output_type": "execute_result"
    }
   ],
   "source": [
    "typ"
   ]
  },
  {
   "cell_type": "markdown",
   "metadata": {
    "id": "V2gYwMcPgFyd"
   },
   "source": [
    "### Шаг 5. Напишите общий вывод"
   ]
  },
  {
   "cell_type": "markdown",
   "metadata": {
    "id": "AYRg3dzXgFye"
   },
   "source": [
    "Исследование показывает, что наличие гос поддержки не оказывает особого влияния на рейтинг фильма, кроме того сборы фильмов оказывались побольшей части меньше бюджеты фильмов. Общая сумма государственной поддержки составила 20200688312 рублей , что составило 46 процентов от общего бюджета картин. Большая часть картин в прокате - художественные фильмы."
   ]
  }
 ],
 "metadata": {
  "ExecuteTimeLog": [
   {
    "duration": 537,
    "start_time": "2021-07-07T10:12:08.634Z"
   },
   {
    "duration": 206,
    "start_time": "2021-07-07T10:12:30.191Z"
   },
   {
    "duration": 227,
    "start_time": "2021-07-07T10:12:33.078Z"
   },
   {
    "duration": 153,
    "start_time": "2021-07-07T10:13:42.146Z"
   },
   {
    "duration": 233,
    "start_time": "2021-07-07T10:30:09.252Z"
   },
   {
    "duration": 19,
    "start_time": "2021-07-07T10:30:15.577Z"
   },
   {
    "duration": 18,
    "start_time": "2021-07-07T10:30:57.348Z"
   },
   {
    "duration": 19,
    "start_time": "2021-07-07T10:31:17.452Z"
   },
   {
    "duration": 21,
    "start_time": "2021-07-07T10:31:32.227Z"
   },
   {
    "duration": 27,
    "start_time": "2021-07-07T10:32:06.588Z"
   },
   {
    "duration": 23,
    "start_time": "2021-07-07T10:32:43.645Z"
   },
   {
    "duration": 24,
    "start_time": "2021-07-07T10:33:06.948Z"
   },
   {
    "duration": 7,
    "start_time": "2021-07-07T10:33:28.558Z"
   },
   {
    "duration": 23,
    "start_time": "2021-07-07T10:33:43.761Z"
   },
   {
    "duration": 28,
    "start_time": "2021-07-07T10:34:13.466Z"
   },
   {
    "duration": 23,
    "start_time": "2021-07-07T10:35:56.187Z"
   },
   {
    "duration": 6,
    "start_time": "2021-07-07T10:36:48.182Z"
   },
   {
    "duration": 14,
    "start_time": "2021-07-07T10:37:49.641Z"
   },
   {
    "duration": 6,
    "start_time": "2021-07-07T10:38:06.694Z"
   },
   {
    "duration": 6,
    "start_time": "2021-07-07T10:38:13.493Z"
   },
   {
    "duration": 19,
    "start_time": "2021-07-07T10:38:44.056Z"
   },
   {
    "duration": 186,
    "start_time": "2021-07-07T10:48:35.618Z"
   },
   {
    "duration": 24,
    "start_time": "2021-07-07T10:48:51.498Z"
   },
   {
    "duration": 20,
    "start_time": "2021-07-07T10:48:59.415Z"
   },
   {
    "duration": 20,
    "start_time": "2021-07-07T10:53:02.195Z"
   },
   {
    "duration": 188,
    "start_time": "2021-07-07T10:54:40.486Z"
   },
   {
    "duration": 115,
    "start_time": "2021-07-07T10:54:52.552Z"
   },
   {
    "duration": 214,
    "start_time": "2021-07-07T10:54:56.354Z"
   },
   {
    "duration": 47,
    "start_time": "2021-07-07T10:54:58.282Z"
   },
   {
    "duration": 217,
    "start_time": "2021-07-07T10:59:16.075Z"
   },
   {
    "duration": 51,
    "start_time": "2021-07-07T10:59:16.243Z"
   },
   {
    "duration": 578,
    "start_time": "2021-07-07T10:59:18.774Z"
   },
   {
    "duration": 161,
    "start_time": "2021-07-07T10:59:21.238Z"
   },
   {
    "duration": 59,
    "start_time": "2021-07-07T10:59:21.453Z"
   },
   {
    "duration": 3,
    "start_time": "2021-07-07T11:02:10.786Z"
   },
   {
    "duration": 13,
    "start_time": "2021-07-07T11:07:07.722Z"
   },
   {
    "duration": 26,
    "start_time": "2021-07-07T11:07:17.958Z"
   },
   {
    "duration": 22,
    "start_time": "2021-07-07T11:08:17.939Z"
   },
   {
    "duration": 212,
    "start_time": "2021-07-07T11:08:19.665Z"
   },
   {
    "duration": 21,
    "start_time": "2021-07-07T11:08:29.945Z"
   },
   {
    "duration": 31,
    "start_time": "2021-07-07T11:08:38.899Z"
   },
   {
    "duration": 23,
    "start_time": "2021-07-07T11:08:54.527Z"
   },
   {
    "duration": 8,
    "start_time": "2021-07-07T11:18:55.974Z"
   },
   {
    "duration": 7,
    "start_time": "2021-07-07T11:19:03.639Z"
   },
   {
    "duration": 7,
    "start_time": "2021-07-07T11:19:06.444Z"
   },
   {
    "duration": 578,
    "start_time": "2021-07-07T12:09:59.576Z"
   },
   {
    "duration": 195,
    "start_time": "2021-07-07T12:10:00.156Z"
   },
   {
    "duration": 115,
    "start_time": "2021-07-07T12:10:00.353Z"
   },
   {
    "duration": 3,
    "start_time": "2021-07-07T12:10:00.470Z"
   },
   {
    "duration": 32,
    "start_time": "2021-07-07T12:10:00.474Z"
   },
   {
    "duration": 23,
    "start_time": "2021-07-07T12:10:00.508Z"
   },
   {
    "duration": 19,
    "start_time": "2021-07-07T12:10:00.533Z"
   },
   {
    "duration": 44,
    "start_time": "2021-07-07T12:10:00.553Z"
   },
   {
    "duration": 7,
    "start_time": "2021-07-07T12:10:00.600Z"
   },
   {
    "duration": 7,
    "start_time": "2021-07-07T12:19:45.761Z"
   },
   {
    "duration": 21,
    "start_time": "2021-07-07T12:21:35.482Z"
   },
   {
    "duration": 21,
    "start_time": "2021-07-07T12:29:23.569Z"
   },
   {
    "duration": 525,
    "start_time": "2021-07-07T12:29:44.542Z"
   },
   {
    "duration": 214,
    "start_time": "2021-07-07T12:29:45.069Z"
   },
   {
    "duration": 92,
    "start_time": "2021-07-07T12:29:45.285Z"
   },
   {
    "duration": 3,
    "start_time": "2021-07-07T12:29:45.379Z"
   },
   {
    "duration": 28,
    "start_time": "2021-07-07T12:29:45.384Z"
   },
   {
    "duration": 23,
    "start_time": "2021-07-07T12:29:45.413Z"
   },
   {
    "duration": 21,
    "start_time": "2021-07-07T12:29:45.437Z"
   },
   {
    "duration": 41,
    "start_time": "2021-07-07T12:29:45.460Z"
   },
   {
    "duration": 7,
    "start_time": "2021-07-07T12:29:45.502Z"
   },
   {
    "duration": 20,
    "start_time": "2021-07-07T12:29:45.511Z"
   },
   {
    "duration": 12,
    "start_time": "2021-07-07T12:34:02.800Z"
   },
   {
    "duration": 7,
    "start_time": "2021-07-07T12:35:10.479Z"
   },
   {
    "duration": 8,
    "start_time": "2021-07-07T12:35:22.440Z"
   },
   {
    "duration": 6,
    "start_time": "2021-07-07T12:35:35.649Z"
   },
   {
    "duration": 6,
    "start_time": "2021-07-07T12:35:43.107Z"
   },
   {
    "duration": 22,
    "start_time": "2021-07-07T12:38:03.029Z"
   },
   {
    "duration": 10,
    "start_time": "2021-07-07T12:38:06.592Z"
   },
   {
    "duration": 563,
    "start_time": "2021-07-07T12:38:46.493Z"
   },
   {
    "duration": 265,
    "start_time": "2021-07-07T12:38:47.058Z"
   },
   {
    "duration": 94,
    "start_time": "2021-07-07T12:38:47.325Z"
   },
   {
    "duration": 3,
    "start_time": "2021-07-07T12:38:47.422Z"
   },
   {
    "duration": 30,
    "start_time": "2021-07-07T12:38:47.427Z"
   },
   {
    "duration": 16,
    "start_time": "2021-07-07T12:38:53.305Z"
   },
   {
    "duration": 10,
    "start_time": "2021-07-07T12:38:53.499Z"
   },
   {
    "duration": 8,
    "start_time": "2021-07-07T12:39:48.161Z"
   },
   {
    "duration": 27,
    "start_time": "2021-07-07T12:41:17.629Z"
   },
   {
    "duration": 17,
    "start_time": "2021-07-07T12:41:17.867Z"
   },
   {
    "duration": 21,
    "start_time": "2021-07-07T12:41:19.310Z"
   },
   {
    "duration": 7,
    "start_time": "2021-07-07T12:41:19.544Z"
   },
   {
    "duration": 20,
    "start_time": "2021-07-07T12:41:20.504Z"
   },
   {
    "duration": 554,
    "start_time": "2021-07-07T12:56:23.696Z"
   },
   {
    "duration": 200,
    "start_time": "2021-07-07T12:56:25.234Z"
   },
   {
    "duration": 119,
    "start_time": "2021-07-07T12:56:25.480Z"
   },
   {
    "duration": 4,
    "start_time": "2021-07-07T12:56:25.762Z"
   },
   {
    "duration": 26,
    "start_time": "2021-07-07T12:56:27.172Z"
   },
   {
    "duration": 12,
    "start_time": "2021-07-07T12:56:29.051Z"
   },
   {
    "duration": 10,
    "start_time": "2021-07-07T12:56:29.291Z"
   },
   {
    "duration": 8,
    "start_time": "2021-07-07T12:56:29.623Z"
   },
   {
    "duration": 28,
    "start_time": "2021-07-07T12:56:32.137Z"
   },
   {
    "duration": 19,
    "start_time": "2021-07-07T12:56:39.785Z"
   },
   {
    "duration": 20,
    "start_time": "2021-07-07T12:56:44.297Z"
   },
   {
    "duration": 7,
    "start_time": "2021-07-07T12:56:45.392Z"
   },
   {
    "duration": 23,
    "start_time": "2021-07-07T12:56:46.615Z"
   },
   {
    "duration": 4,
    "start_time": "2021-07-07T12:57:06.625Z"
   },
   {
    "duration": 32,
    "start_time": "2021-07-07T12:57:36.690Z"
   },
   {
    "duration": 18,
    "start_time": "2021-07-07T12:58:00.149Z"
   },
   {
    "duration": 15,
    "start_time": "2021-07-07T12:59:16.793Z"
   },
   {
    "duration": 7,
    "start_time": "2021-07-07T13:19:22.624Z"
   },
   {
    "duration": 6,
    "start_time": "2021-07-07T14:17:33.527Z"
   },
   {
    "duration": 9,
    "start_time": "2021-07-07T14:17:48.409Z"
   },
   {
    "duration": 8,
    "start_time": "2021-07-07T14:20:13.060Z"
   },
   {
    "duration": 8,
    "start_time": "2021-07-07T14:20:37.957Z"
   },
   {
    "duration": 8,
    "start_time": "2021-07-07T14:20:47.470Z"
   },
   {
    "duration": 9,
    "start_time": "2021-07-07T14:20:54.503Z"
   },
   {
    "duration": 10,
    "start_time": "2021-07-07T14:28:57.763Z"
   },
   {
    "duration": 3,
    "start_time": "2021-07-07T14:30:23.377Z"
   },
   {
    "duration": 3,
    "start_time": "2021-07-07T14:30:36.489Z"
   },
   {
    "duration": 103,
    "start_time": "2021-07-07T14:30:52.351Z"
   },
   {
    "duration": 8,
    "start_time": "2021-07-07T14:30:54.763Z"
   },
   {
    "duration": 8,
    "start_time": "2021-07-07T14:31:29.301Z"
   },
   {
    "duration": 13,
    "start_time": "2021-07-07T14:31:44.516Z"
   },
   {
    "duration": 7,
    "start_time": "2021-07-07T14:33:10.972Z"
   },
   {
    "duration": 11,
    "start_time": "2021-07-07T14:33:27.780Z"
   },
   {
    "duration": 8,
    "start_time": "2021-07-07T14:34:44.588Z"
   },
   {
    "duration": 57,
    "start_time": "2021-07-07T14:35:59.042Z"
   },
   {
    "duration": 3,
    "start_time": "2021-07-07T14:36:28.168Z"
   },
   {
    "duration": 5,
    "start_time": "2021-07-07T14:36:46.254Z"
   },
   {
    "duration": 4,
    "start_time": "2021-07-07T14:36:52.714Z"
   },
   {
    "duration": 3,
    "start_time": "2021-07-07T14:36:56.612Z"
   },
   {
    "duration": 4,
    "start_time": "2021-07-07T14:36:57.049Z"
   },
   {
    "duration": 3,
    "start_time": "2021-07-07T14:39:21.214Z"
   },
   {
    "duration": 7,
    "start_time": "2021-07-07T14:39:52.406Z"
   },
   {
    "duration": 11,
    "start_time": "2021-07-07T14:39:58.576Z"
   },
   {
    "duration": 9,
    "start_time": "2021-07-07T14:40:26.301Z"
   },
   {
    "duration": 10,
    "start_time": "2021-07-07T14:40:31.704Z"
   },
   {
    "duration": 11,
    "start_time": "2021-07-07T14:40:36.249Z"
   },
   {
    "duration": 10,
    "start_time": "2021-07-07T14:40:39.783Z"
   },
   {
    "duration": 9,
    "start_time": "2021-07-07T14:40:48.558Z"
   },
   {
    "duration": 10,
    "start_time": "2021-07-07T14:40:57.143Z"
   },
   {
    "duration": 9,
    "start_time": "2021-07-07T14:41:06.074Z"
   },
   {
    "duration": 4324,
    "start_time": "2021-07-07T14:41:22.004Z"
   },
   {
    "duration": 11,
    "start_time": "2021-07-07T14:41:33.392Z"
   },
   {
    "duration": 9,
    "start_time": "2021-07-07T14:41:39.288Z"
   },
   {
    "duration": 569,
    "start_time": "2021-07-07T14:42:14.387Z"
   },
   {
    "duration": 197,
    "start_time": "2021-07-07T14:42:14.959Z"
   },
   {
    "duration": 84,
    "start_time": "2021-07-07T14:42:16.052Z"
   },
   {
    "duration": 4,
    "start_time": "2021-07-07T14:42:16.900Z"
   },
   {
    "duration": 27,
    "start_time": "2021-07-07T14:42:19.898Z"
   },
   {
    "duration": 12,
    "start_time": "2021-07-07T14:42:21.577Z"
   },
   {
    "duration": 9,
    "start_time": "2021-07-07T14:42:21.813Z"
   },
   {
    "duration": 9,
    "start_time": "2021-07-07T14:42:22.569Z"
   },
   {
    "duration": 29,
    "start_time": "2021-07-07T14:42:25.837Z"
   },
   {
    "duration": 20,
    "start_time": "2021-07-07T14:42:27.003Z"
   },
   {
    "duration": 21,
    "start_time": "2021-07-07T14:42:28.767Z"
   },
   {
    "duration": 7,
    "start_time": "2021-07-07T14:42:29.838Z"
   },
   {
    "duration": 4,
    "start_time": "2021-07-07T14:43:25.493Z"
   },
   {
    "duration": 7,
    "start_time": "2021-07-07T14:43:26.573Z"
   },
   {
    "duration": 10,
    "start_time": "2021-07-07T14:43:31.639Z"
   },
   {
    "duration": 9,
    "start_time": "2021-07-07T14:43:32.046Z"
   },
   {
    "duration": 10,
    "start_time": "2021-07-07T14:43:33.301Z"
   },
   {
    "duration": 12,
    "start_time": "2021-07-07T14:43:33.658Z"
   },
   {
    "duration": 8,
    "start_time": "2021-07-07T14:43:34.552Z"
   },
   {
    "duration": 9,
    "start_time": "2021-07-07T14:43:35.058Z"
   },
   {
    "duration": 12,
    "start_time": "2021-07-07T14:43:35.914Z"
   },
   {
    "duration": 17,
    "start_time": "2021-07-07T14:45:34.368Z"
   },
   {
    "duration": 512,
    "start_time": "2021-07-07T14:51:58.236Z"
   },
   {
    "duration": 223,
    "start_time": "2021-07-07T14:51:58.750Z"
   },
   {
    "duration": 93,
    "start_time": "2021-07-07T14:51:58.977Z"
   },
   {
    "duration": 4,
    "start_time": "2021-07-07T14:51:59.071Z"
   },
   {
    "duration": 37,
    "start_time": "2021-07-07T14:51:59.077Z"
   },
   {
    "duration": 18,
    "start_time": "2021-07-07T14:51:59.116Z"
   },
   {
    "duration": 10,
    "start_time": "2021-07-07T14:51:59.137Z"
   },
   {
    "duration": 8,
    "start_time": "2021-07-07T14:51:59.149Z"
   },
   {
    "duration": 54,
    "start_time": "2021-07-07T14:51:59.158Z"
   },
   {
    "duration": 18,
    "start_time": "2021-07-07T14:51:59.213Z"
   },
   {
    "duration": 22,
    "start_time": "2021-07-07T14:51:59.232Z"
   },
   {
    "duration": 36,
    "start_time": "2021-07-07T14:51:59.255Z"
   },
   {
    "duration": 7,
    "start_time": "2021-07-07T14:51:59.293Z"
   },
   {
    "duration": 10,
    "start_time": "2021-07-07T14:51:59.302Z"
   },
   {
    "duration": 9,
    "start_time": "2021-07-07T14:51:59.313Z"
   },
   {
    "duration": 11,
    "start_time": "2021-07-07T14:51:59.324Z"
   },
   {
    "duration": 8,
    "start_time": "2021-07-07T14:51:59.337Z"
   },
   {
    "duration": 46,
    "start_time": "2021-07-07T14:51:59.347Z"
   },
   {
    "duration": 22,
    "start_time": "2021-07-07T14:51:59.395Z"
   },
   {
    "duration": 24,
    "start_time": "2021-07-07T14:57:32.911Z"
   },
   {
    "duration": 7,
    "start_time": "2021-07-07T14:58:22.070Z"
   },
   {
    "duration": 4,
    "start_time": "2021-07-07T14:59:11.239Z"
   },
   {
    "duration": 25,
    "start_time": "2021-07-07T15:07:22.208Z"
   },
   {
    "duration": 16,
    "start_time": "2021-07-07T15:08:25.560Z"
   },
   {
    "duration": 15,
    "start_time": "2021-07-07T15:08:40.647Z"
   },
   {
    "duration": 14,
    "start_time": "2021-07-07T15:08:46.669Z"
   },
   {
    "duration": 533,
    "start_time": "2021-07-07T15:18:07.440Z"
   },
   {
    "duration": 173,
    "start_time": "2021-07-07T15:18:07.974Z"
   },
   {
    "duration": 84,
    "start_time": "2021-07-07T15:18:08.149Z"
   },
   {
    "duration": 3,
    "start_time": "2021-07-07T15:18:08.235Z"
   },
   {
    "duration": 30,
    "start_time": "2021-07-07T15:18:08.240Z"
   },
   {
    "duration": 22,
    "start_time": "2021-07-07T15:18:08.272Z"
   },
   {
    "duration": 11,
    "start_time": "2021-07-07T15:18:08.295Z"
   },
   {
    "duration": 11,
    "start_time": "2021-07-07T15:18:08.309Z"
   },
   {
    "duration": 40,
    "start_time": "2021-07-07T15:18:08.322Z"
   },
   {
    "duration": 42,
    "start_time": "2021-07-07T15:18:08.364Z"
   },
   {
    "duration": 22,
    "start_time": "2021-07-07T15:18:08.408Z"
   },
   {
    "duration": 5,
    "start_time": "2021-07-07T15:18:08.432Z"
   },
   {
    "duration": 13,
    "start_time": "2021-07-07T15:18:08.439Z"
   },
   {
    "duration": 9,
    "start_time": "2021-07-07T15:18:08.454Z"
   },
   {
    "duration": 32,
    "start_time": "2021-07-07T15:18:08.465Z"
   },
   {
    "duration": 10,
    "start_time": "2021-07-07T15:18:08.501Z"
   },
   {
    "duration": 7,
    "start_time": "2021-07-07T15:18:08.513Z"
   },
   {
    "duration": 11,
    "start_time": "2021-07-07T15:18:08.521Z"
   },
   {
    "duration": 17,
    "start_time": "2021-07-07T15:18:08.534Z"
   },
   {
    "duration": 44,
    "start_time": "2021-07-07T15:18:08.553Z"
   },
   {
    "duration": 22,
    "start_time": "2021-07-07T15:18:08.599Z"
   },
   {
    "duration": 61,
    "start_time": "2021-07-07T15:18:08.622Z"
   },
   {
    "duration": 7,
    "start_time": "2021-07-07T15:18:39.457Z"
   },
   {
    "duration": 5,
    "start_time": "2021-07-07T16:05:17.020Z"
   },
   {
    "duration": 5,
    "start_time": "2021-07-07T16:51:28.794Z"
   },
   {
    "duration": 546,
    "start_time": "2021-07-07T16:52:26.306Z"
   },
   {
    "duration": 203,
    "start_time": "2021-07-07T16:52:27.523Z"
   },
   {
    "duration": 85,
    "start_time": "2021-07-07T16:52:27.736Z"
   },
   {
    "duration": 4,
    "start_time": "2021-07-07T16:52:27.899Z"
   },
   {
    "duration": 25,
    "start_time": "2021-07-07T16:52:28.674Z"
   },
   {
    "duration": 8,
    "start_time": "2021-07-07T16:52:32.956Z"
   },
   {
    "duration": 18,
    "start_time": "2021-07-07T16:52:35.616Z"
   },
   {
    "duration": 6,
    "start_time": "2021-07-07T16:52:36.913Z"
   },
   {
    "duration": 11,
    "start_time": "2021-07-07T16:52:40.258Z"
   },
   {
    "duration": 10,
    "start_time": "2021-07-07T16:52:46.251Z"
   },
   {
    "duration": 8,
    "start_time": "2021-07-07T16:52:47.182Z"
   },
   {
    "duration": 27,
    "start_time": "2021-07-07T16:53:20.391Z"
   },
   {
    "duration": 20,
    "start_time": "2021-07-07T16:53:22.022Z"
   },
   {
    "duration": 23,
    "start_time": "2021-07-07T16:53:23.690Z"
   },
   {
    "duration": 8,
    "start_time": "2021-07-07T16:53:24.261Z"
   },
   {
    "duration": 4,
    "start_time": "2021-07-07T16:53:38.733Z"
   },
   {
    "duration": 7,
    "start_time": "2021-07-07T16:53:40.445Z"
   },
   {
    "duration": 11,
    "start_time": "2021-07-07T16:53:41.348Z"
   },
   {
    "duration": 13,
    "start_time": "2021-07-07T16:53:45.250Z"
   },
   {
    "duration": 12,
    "start_time": "2021-07-07T16:53:45.467Z"
   },
   {
    "duration": 4,
    "start_time": "2021-07-07T16:55:32.704Z"
   },
   {
    "duration": 12,
    "start_time": "2021-07-07T16:55:49.012Z"
   },
   {
    "duration": 18,
    "start_time": "2021-07-07T16:55:49.547Z"
   },
   {
    "duration": 611,
    "start_time": "2021-07-07T16:58:35.156Z"
   },
   {
    "duration": 200,
    "start_time": "2021-07-07T16:58:35.770Z"
   },
   {
    "duration": 86,
    "start_time": "2021-07-07T16:58:35.972Z"
   },
   {
    "duration": 3,
    "start_time": "2021-07-07T16:58:36.060Z"
   },
   {
    "duration": 27,
    "start_time": "2021-07-07T16:58:36.065Z"
   },
   {
    "duration": 8,
    "start_time": "2021-07-07T16:58:36.094Z"
   },
   {
    "duration": 17,
    "start_time": "2021-07-07T16:58:36.103Z"
   },
   {
    "duration": 5,
    "start_time": "2021-07-07T16:58:36.123Z"
   },
   {
    "duration": 11,
    "start_time": "2021-07-07T16:58:36.130Z"
   },
   {
    "duration": 7,
    "start_time": "2021-07-07T16:58:36.143Z"
   },
   {
    "duration": 37,
    "start_time": "2021-07-07T16:58:36.152Z"
   },
   {
    "duration": 27,
    "start_time": "2021-07-07T16:58:36.191Z"
   },
   {
    "duration": 19,
    "start_time": "2021-07-07T16:58:36.219Z"
   },
   {
    "duration": 49,
    "start_time": "2021-07-07T16:58:36.240Z"
   },
   {
    "duration": 6,
    "start_time": "2021-07-07T16:58:36.291Z"
   },
   {
    "duration": 3,
    "start_time": "2021-07-07T16:58:36.299Z"
   },
   {
    "duration": 13,
    "start_time": "2021-07-07T16:58:36.304Z"
   },
   {
    "duration": 10,
    "start_time": "2021-07-07T16:58:36.319Z"
   },
   {
    "duration": 10,
    "start_time": "2021-07-07T16:58:36.331Z"
   },
   {
    "duration": 44,
    "start_time": "2021-07-07T16:58:36.343Z"
   },
   {
    "duration": 4,
    "start_time": "2021-07-07T16:58:36.388Z"
   },
   {
    "duration": 13,
    "start_time": "2021-07-07T16:58:36.394Z"
   },
   {
    "duration": 16,
    "start_time": "2021-07-07T16:58:36.410Z"
   },
   {
    "duration": 8,
    "start_time": "2021-07-07T17:02:31.629Z"
   },
   {
    "duration": 8,
    "start_time": "2021-07-07T17:02:34.308Z"
   },
   {
    "duration": 6,
    "start_time": "2021-07-07T17:05:13.483Z"
   },
   {
    "duration": 17,
    "start_time": "2021-07-07T17:05:20.606Z"
   },
   {
    "duration": 7,
    "start_time": "2021-07-07T17:05:34.638Z"
   },
   {
    "duration": 3,
    "start_time": "2021-07-07T17:06:31.883Z"
   },
   {
    "duration": 570,
    "start_time": "2021-07-07T17:06:37.165Z"
   },
   {
    "duration": 174,
    "start_time": "2021-07-07T17:06:37.737Z"
   },
   {
    "duration": 47,
    "start_time": "2021-07-07T17:06:37.913Z"
   },
   {
    "duration": 3,
    "start_time": "2021-07-07T17:06:37.962Z"
   },
   {
    "duration": 27,
    "start_time": "2021-07-07T17:06:37.967Z"
   },
   {
    "duration": 7,
    "start_time": "2021-07-07T17:06:37.996Z"
   },
   {
    "duration": 16,
    "start_time": "2021-07-07T17:06:38.005Z"
   },
   {
    "duration": 6,
    "start_time": "2021-07-07T17:06:38.024Z"
   },
   {
    "duration": 12,
    "start_time": "2021-07-07T17:06:38.031Z"
   },
   {
    "duration": 41,
    "start_time": "2021-07-07T17:06:38.045Z"
   },
   {
    "duration": 8,
    "start_time": "2021-07-07T17:06:38.088Z"
   },
   {
    "duration": 26,
    "start_time": "2021-07-07T17:06:38.098Z"
   },
   {
    "duration": 17,
    "start_time": "2021-07-07T17:06:38.126Z"
   },
   {
    "duration": 43,
    "start_time": "2021-07-07T17:06:38.144Z"
   },
   {
    "duration": 6,
    "start_time": "2021-07-07T17:06:38.188Z"
   },
   {
    "duration": 5,
    "start_time": "2021-07-07T17:06:38.195Z"
   },
   {
    "duration": 9,
    "start_time": "2021-07-07T17:06:38.201Z"
   },
   {
    "duration": 12,
    "start_time": "2021-07-07T17:06:38.212Z"
   },
   {
    "duration": 11,
    "start_time": "2021-07-07T17:06:38.226Z"
   },
   {
    "duration": 47,
    "start_time": "2021-07-07T17:06:38.239Z"
   },
   {
    "duration": 4,
    "start_time": "2021-07-07T17:06:38.288Z"
   },
   {
    "duration": 13,
    "start_time": "2021-07-07T17:06:38.293Z"
   },
   {
    "duration": 5,
    "start_time": "2021-07-07T17:06:38.309Z"
   },
   {
    "duration": 18,
    "start_time": "2021-07-07T17:06:38.325Z"
   },
   {
    "duration": 20,
    "start_time": "2021-07-07T17:07:02.805Z"
   },
   {
    "duration": 19,
    "start_time": "2021-07-07T17:07:08.527Z"
   },
   {
    "duration": 19,
    "start_time": "2021-07-07T17:07:12.758Z"
   },
   {
    "duration": 22,
    "start_time": "2021-07-07T17:07:17.497Z"
   },
   {
    "duration": 19,
    "start_time": "2021-07-07T17:07:19.645Z"
   },
   {
    "duration": 10,
    "start_time": "2021-07-07T17:07:34.239Z"
   },
   {
    "duration": 17,
    "start_time": "2021-07-07T17:07:54.144Z"
   },
   {
    "duration": 14,
    "start_time": "2021-07-07T17:08:14.357Z"
   },
   {
    "duration": 616,
    "start_time": "2021-07-07T17:08:45.254Z"
   },
   {
    "duration": 178,
    "start_time": "2021-07-07T17:08:45.872Z"
   },
   {
    "duration": 60,
    "start_time": "2021-07-07T17:08:46.054Z"
   },
   {
    "duration": 3,
    "start_time": "2021-07-07T17:08:46.116Z"
   },
   {
    "duration": 26,
    "start_time": "2021-07-07T17:08:46.121Z"
   },
   {
    "duration": 7,
    "start_time": "2021-07-07T17:08:46.149Z"
   },
   {
    "duration": 17,
    "start_time": "2021-07-07T17:08:46.158Z"
   },
   {
    "duration": 14,
    "start_time": "2021-07-07T17:08:46.176Z"
   },
   {
    "duration": 17,
    "start_time": "2021-07-07T17:08:46.193Z"
   },
   {
    "duration": 9,
    "start_time": "2021-07-07T17:08:46.211Z"
   },
   {
    "duration": 21,
    "start_time": "2021-07-07T17:08:46.221Z"
   },
   {
    "duration": 49,
    "start_time": "2021-07-07T17:08:46.244Z"
   },
   {
    "duration": 24,
    "start_time": "2021-07-07T17:08:46.295Z"
   },
   {
    "duration": 22,
    "start_time": "2021-07-07T17:08:46.321Z"
   },
   {
    "duration": 6,
    "start_time": "2021-07-07T17:08:46.345Z"
   },
   {
    "duration": 5,
    "start_time": "2021-07-07T17:08:46.353Z"
   },
   {
    "duration": 13,
    "start_time": "2021-07-07T17:08:46.386Z"
   },
   {
    "duration": 12,
    "start_time": "2021-07-07T17:08:46.402Z"
   },
   {
    "duration": 10,
    "start_time": "2021-07-07T17:08:46.415Z"
   },
   {
    "duration": 7,
    "start_time": "2021-07-07T17:08:46.427Z"
   },
   {
    "duration": 8,
    "start_time": "2021-07-07T17:08:46.435Z"
   },
   {
    "duration": 68,
    "start_time": "2021-07-07T17:08:46.446Z"
   },
   {
    "duration": 13,
    "start_time": "2021-07-07T17:08:46.516Z"
   },
   {
    "duration": 78,
    "start_time": "2021-07-07T17:08:46.530Z"
   },
   {
    "duration": 40,
    "start_time": "2021-07-07T17:09:08.185Z"
   },
   {
    "duration": 16,
    "start_time": "2021-07-07T17:09:19.324Z"
   },
   {
    "duration": 21,
    "start_time": "2021-07-07T17:09:23.290Z"
   },
   {
    "duration": 13,
    "start_time": "2021-07-07T17:09:54.812Z"
   },
   {
    "duration": 13,
    "start_time": "2021-07-07T17:10:02.039Z"
   },
   {
    "duration": 10,
    "start_time": "2021-07-07T17:10:29.632Z"
   },
   {
    "duration": 13,
    "start_time": "2021-07-07T17:10:52.372Z"
   },
   {
    "duration": 13,
    "start_time": "2021-07-07T17:11:17.270Z"
   },
   {
    "duration": 13,
    "start_time": "2021-07-07T17:14:59.284Z"
   },
   {
    "duration": 547,
    "start_time": "2021-07-07T17:18:52.403Z"
   },
   {
    "duration": 163,
    "start_time": "2021-07-07T17:18:52.952Z"
   },
   {
    "duration": 44,
    "start_time": "2021-07-07T17:18:53.117Z"
   },
   {
    "duration": 3,
    "start_time": "2021-07-07T17:18:53.162Z"
   },
   {
    "duration": 26,
    "start_time": "2021-07-07T17:18:53.167Z"
   },
   {
    "duration": 6,
    "start_time": "2021-07-07T17:18:53.195Z"
   },
   {
    "duration": 15,
    "start_time": "2021-07-07T17:18:53.203Z"
   },
   {
    "duration": 5,
    "start_time": "2021-07-07T17:18:53.220Z"
   },
   {
    "duration": 11,
    "start_time": "2021-07-07T17:18:53.228Z"
   },
   {
    "duration": 9,
    "start_time": "2021-07-07T17:18:53.241Z"
   },
   {
    "duration": 41,
    "start_time": "2021-07-07T17:18:53.252Z"
   },
   {
    "duration": 33,
    "start_time": "2021-07-07T17:18:53.295Z"
   },
   {
    "duration": 19,
    "start_time": "2021-07-07T17:18:53.330Z"
   },
   {
    "duration": 49,
    "start_time": "2021-07-07T17:18:53.350Z"
   },
   {
    "duration": 5,
    "start_time": "2021-07-07T17:18:53.401Z"
   },
   {
    "duration": 5,
    "start_time": "2021-07-07T17:18:53.408Z"
   },
   {
    "duration": 11,
    "start_time": "2021-07-07T17:18:53.414Z"
   },
   {
    "duration": 9,
    "start_time": "2021-07-07T17:18:53.427Z"
   },
   {
    "duration": 10,
    "start_time": "2021-07-07T17:18:53.437Z"
   },
   {
    "duration": 39,
    "start_time": "2021-07-07T17:18:53.448Z"
   },
   {
    "duration": 26,
    "start_time": "2021-07-07T17:18:55.799Z"
   },
   {
    "duration": 598,
    "start_time": "2021-07-07T17:20:17.862Z"
   },
   {
    "duration": 161,
    "start_time": "2021-07-07T17:20:18.462Z"
   },
   {
    "duration": 45,
    "start_time": "2021-07-07T17:20:18.626Z"
   },
   {
    "duration": 4,
    "start_time": "2021-07-07T17:20:18.673Z"
   },
   {
    "duration": 38,
    "start_time": "2021-07-07T17:20:26.877Z"
   },
   {
    "duration": 7,
    "start_time": "2021-07-07T17:20:37.405Z"
   },
   {
    "duration": 19,
    "start_time": "2021-07-07T17:20:51.534Z"
   },
   {
    "duration": 5,
    "start_time": "2021-07-07T17:20:57.228Z"
   },
   {
    "duration": 7,
    "start_time": "2021-07-07T17:21:08.235Z"
   },
   {
    "duration": 19,
    "start_time": "2021-07-07T17:21:42.158Z"
   },
   {
    "duration": 14,
    "start_time": "2021-07-07T17:21:50.225Z"
   },
   {
    "duration": 22,
    "start_time": "2021-07-07T17:22:54.104Z"
   },
   {
    "duration": 5,
    "start_time": "2021-07-07T17:22:56.371Z"
   },
   {
    "duration": 14,
    "start_time": "2021-07-07T17:22:58.316Z"
   },
   {
    "duration": 5,
    "start_time": "2021-07-07T17:22:58.493Z"
   },
   {
    "duration": 35,
    "start_time": "2021-07-07T17:22:59.666Z"
   },
   {
    "duration": 6,
    "start_time": "2021-07-07T17:23:02.410Z"
   },
   {
    "duration": 611,
    "start_time": "2021-07-07T17:24:59.664Z"
   },
   {
    "duration": 178,
    "start_time": "2021-07-07T17:25:01.945Z"
   },
   {
    "duration": 47,
    "start_time": "2021-07-07T17:25:02.125Z"
   },
   {
    "duration": 2,
    "start_time": "2021-07-07T17:25:07.903Z"
   },
   {
    "duration": 254,
    "start_time": "2021-07-07T17:25:08.232Z"
   },
   {
    "duration": 182,
    "start_time": "2021-07-07T17:25:08.671Z"
   },
   {
    "duration": 6,
    "start_time": "2021-07-07T17:25:13.104Z"
   },
   {
    "duration": 36,
    "start_time": "2021-07-07T17:25:13.662Z"
   },
   {
    "duration": 7,
    "start_time": "2021-07-07T17:25:14.528Z"
   },
   {
    "duration": 24,
    "start_time": "2021-07-07T17:25:27.982Z"
   },
   {
    "duration": 3,
    "start_time": "2021-07-07T17:25:48.982Z"
   },
   {
    "duration": 165,
    "start_time": "2021-07-07T17:25:48.987Z"
   },
   {
    "duration": 50,
    "start_time": "2021-07-07T17:25:49.154Z"
   },
   {
    "duration": 4,
    "start_time": "2021-07-07T17:25:49.206Z"
   },
   {
    "duration": 26,
    "start_time": "2021-07-07T17:25:49.212Z"
   },
   {
    "duration": 7,
    "start_time": "2021-07-07T17:25:49.240Z"
   },
   {
    "duration": 16,
    "start_time": "2021-07-07T17:25:49.249Z"
   },
   {
    "duration": 22,
    "start_time": "2021-07-07T17:25:49.266Z"
   },
   {
    "duration": 16,
    "start_time": "2021-07-07T17:25:49.291Z"
   },
   {
    "duration": 9,
    "start_time": "2021-07-07T17:25:49.309Z"
   },
   {
    "duration": 7,
    "start_time": "2021-07-07T17:25:49.319Z"
   },
   {
    "duration": 28,
    "start_time": "2021-07-07T17:25:49.328Z"
   },
   {
    "duration": 44,
    "start_time": "2021-07-07T17:25:49.357Z"
   },
   {
    "duration": 22,
    "start_time": "2021-07-07T17:25:49.403Z"
   },
   {
    "duration": 7,
    "start_time": "2021-07-07T17:25:49.427Z"
   },
   {
    "duration": 3,
    "start_time": "2021-07-07T17:25:49.436Z"
   },
   {
    "duration": 44,
    "start_time": "2021-07-07T17:25:49.441Z"
   },
   {
    "duration": 12,
    "start_time": "2021-07-07T17:25:49.488Z"
   },
   {
    "duration": 13,
    "start_time": "2021-07-07T17:25:49.502Z"
   },
   {
    "duration": 10,
    "start_time": "2021-07-07T17:25:49.516Z"
   },
   {
    "duration": 62,
    "start_time": "2021-07-07T17:25:49.527Z"
   },
   {
    "duration": 26,
    "start_time": "2021-07-07T17:26:51.809Z"
   },
   {
    "duration": 26,
    "start_time": "2021-07-07T17:26:55.759Z"
   },
   {
    "duration": 26,
    "start_time": "2021-07-07T17:27:04.501Z"
   },
   {
    "duration": 25,
    "start_time": "2021-07-07T17:28:24.859Z"
   },
   {
    "duration": 21,
    "start_time": "2021-07-07T17:28:55.250Z"
   },
   {
    "duration": 21,
    "start_time": "2021-07-07T17:28:58.885Z"
   },
   {
    "duration": 7,
    "start_time": "2021-07-07T17:45:40.972Z"
   },
   {
    "duration": 13,
    "start_time": "2021-07-07T17:45:42.529Z"
   },
   {
    "duration": 27,
    "start_time": "2021-07-07T17:45:51.026Z"
   },
   {
    "duration": 518,
    "start_time": "2021-07-07T17:46:15.532Z"
   },
   {
    "duration": 235,
    "start_time": "2021-07-07T17:46:16.053Z"
   },
   {
    "duration": 80,
    "start_time": "2021-07-07T17:46:16.292Z"
   },
   {
    "duration": 5,
    "start_time": "2021-07-07T17:46:16.373Z"
   },
   {
    "duration": 26,
    "start_time": "2021-07-07T17:46:16.380Z"
   },
   {
    "duration": 7,
    "start_time": "2021-07-07T17:46:16.408Z"
   },
   {
    "duration": 16,
    "start_time": "2021-07-07T17:46:16.418Z"
   },
   {
    "duration": 5,
    "start_time": "2021-07-07T17:46:16.436Z"
   },
   {
    "duration": 13,
    "start_time": "2021-07-07T17:46:16.442Z"
   },
   {
    "duration": 35,
    "start_time": "2021-07-07T17:46:16.456Z"
   },
   {
    "duration": 8,
    "start_time": "2021-07-07T17:46:16.493Z"
   },
   {
    "duration": 28,
    "start_time": "2021-07-07T17:46:16.502Z"
   },
   {
    "duration": 17,
    "start_time": "2021-07-07T17:46:16.532Z"
   },
   {
    "duration": 44,
    "start_time": "2021-07-07T17:46:16.551Z"
   },
   {
    "duration": 6,
    "start_time": "2021-07-07T17:46:16.597Z"
   },
   {
    "duration": 4,
    "start_time": "2021-07-07T17:46:16.605Z"
   },
   {
    "duration": 9,
    "start_time": "2021-07-07T17:46:16.610Z"
   },
   {
    "duration": 9,
    "start_time": "2021-07-07T17:46:16.621Z"
   },
   {
    "duration": 10,
    "start_time": "2021-07-07T17:46:16.632Z"
   },
   {
    "duration": 43,
    "start_time": "2021-07-07T17:46:16.644Z"
   },
   {
    "duration": 26,
    "start_time": "2021-07-07T17:46:16.689Z"
   },
   {
    "duration": 19,
    "start_time": "2021-07-07T17:46:16.718Z"
   },
   {
    "duration": 8,
    "start_time": "2021-07-07T17:46:16.738Z"
   },
   {
    "duration": 43,
    "start_time": "2021-07-07T17:46:16.747Z"
   },
   {
    "duration": 19,
    "start_time": "2021-07-07T17:46:16.791Z"
   },
   {
    "duration": 9,
    "start_time": "2021-07-07T17:46:16.812Z"
   },
   {
    "duration": 60,
    "start_time": "2021-07-07T17:46:16.822Z"
   },
   {
    "duration": -8,
    "start_time": "2021-07-07T17:46:16.892Z"
   },
   {
    "duration": 12,
    "start_time": "2021-07-07T17:48:47.707Z"
   },
   {
    "duration": 553,
    "start_time": "2021-07-07T18:10:09.350Z"
   },
   {
    "duration": 230,
    "start_time": "2021-07-07T18:10:09.905Z"
   },
   {
    "duration": 97,
    "start_time": "2021-07-07T18:10:10.137Z"
   },
   {
    "duration": 5,
    "start_time": "2021-07-07T18:10:10.236Z"
   },
   {
    "duration": 29,
    "start_time": "2021-07-07T18:10:10.242Z"
   },
   {
    "duration": 7,
    "start_time": "2021-07-07T18:10:10.272Z"
   },
   {
    "duration": 15,
    "start_time": "2021-07-07T18:10:10.281Z"
   },
   {
    "duration": 4,
    "start_time": "2021-07-07T18:10:10.299Z"
   },
   {
    "duration": 14,
    "start_time": "2021-07-07T18:10:10.305Z"
   },
   {
    "duration": 8,
    "start_time": "2021-07-07T18:10:10.321Z"
   },
   {
    "duration": 8,
    "start_time": "2021-07-07T18:10:10.331Z"
   },
   {
    "duration": 56,
    "start_time": "2021-07-07T18:10:10.341Z"
   },
   {
    "duration": 19,
    "start_time": "2021-07-07T18:10:10.399Z"
   },
   {
    "duration": 23,
    "start_time": "2021-07-07T18:10:10.419Z"
   },
   {
    "duration": 6,
    "start_time": "2021-07-07T18:10:10.444Z"
   },
   {
    "duration": 9,
    "start_time": "2021-07-07T18:10:10.451Z"
   },
   {
    "duration": 30,
    "start_time": "2021-07-07T18:10:10.462Z"
   },
   {
    "duration": 9,
    "start_time": "2021-07-07T18:10:10.494Z"
   },
   {
    "duration": 14,
    "start_time": "2021-07-07T18:10:10.505Z"
   },
   {
    "duration": 7,
    "start_time": "2021-07-07T18:10:10.521Z"
   },
   {
    "duration": 26,
    "start_time": "2021-07-07T18:10:10.530Z"
   },
   {
    "duration": 44,
    "start_time": "2021-07-07T18:10:10.558Z"
   },
   {
    "duration": 7,
    "start_time": "2021-07-07T18:10:10.605Z"
   },
   {
    "duration": 11,
    "start_time": "2021-07-07T18:10:10.614Z"
   },
   {
    "duration": 19,
    "start_time": "2021-07-07T18:10:10.626Z"
   },
   {
    "duration": 44,
    "start_time": "2021-07-07T18:10:10.646Z"
   },
   {
    "duration": 516,
    "start_time": "2021-07-07T18:14:00.826Z"
   },
   {
    "duration": 230,
    "start_time": "2021-07-07T18:14:01.344Z"
   },
   {
    "duration": 105,
    "start_time": "2021-07-07T18:14:01.576Z"
   },
   {
    "duration": 5,
    "start_time": "2021-07-07T18:14:01.683Z"
   },
   {
    "duration": 46,
    "start_time": "2021-07-07T18:14:01.690Z"
   },
   {
    "duration": 7,
    "start_time": "2021-07-07T18:14:01.738Z"
   },
   {
    "duration": 20,
    "start_time": "2021-07-07T18:14:01.747Z"
   },
   {
    "duration": 16,
    "start_time": "2021-07-07T18:14:01.769Z"
   },
   {
    "duration": 14,
    "start_time": "2021-07-07T18:14:01.787Z"
   },
   {
    "duration": 15,
    "start_time": "2021-07-07T18:14:01.803Z"
   },
   {
    "duration": 12,
    "start_time": "2021-07-07T18:14:01.820Z"
   },
   {
    "duration": 35,
    "start_time": "2021-07-07T18:14:01.833Z"
   },
   {
    "duration": 31,
    "start_time": "2021-07-07T18:14:01.869Z"
   },
   {
    "duration": 37,
    "start_time": "2021-07-07T18:14:01.902Z"
   },
   {
    "duration": 8,
    "start_time": "2021-07-07T18:14:01.942Z"
   },
   {
    "duration": 16,
    "start_time": "2021-07-07T18:14:01.952Z"
   },
   {
    "duration": 13,
    "start_time": "2021-07-07T18:14:01.970Z"
   },
   {
    "duration": 32,
    "start_time": "2021-07-07T18:14:01.985Z"
   },
   {
    "duration": 11,
    "start_time": "2021-07-07T18:14:02.019Z"
   },
   {
    "duration": 22,
    "start_time": "2021-07-07T18:14:02.031Z"
   },
   {
    "duration": 27,
    "start_time": "2021-07-07T18:14:02.055Z"
   },
   {
    "duration": 18,
    "start_time": "2021-07-07T18:14:02.084Z"
   },
   {
    "duration": 18,
    "start_time": "2021-07-07T18:14:02.106Z"
   },
   {
    "duration": 11,
    "start_time": "2021-07-07T18:14:02.126Z"
   },
   {
    "duration": 21,
    "start_time": "2021-07-07T18:14:02.138Z"
   },
   {
    "duration": 32,
    "start_time": "2021-07-07T18:14:02.161Z"
   },
   {
    "duration": 28,
    "start_time": "2021-07-07T18:14:44.295Z"
   },
   {
    "duration": 6,
    "start_time": "2021-07-07T18:15:05.834Z"
   },
   {
    "duration": 511,
    "start_time": "2021-07-07T18:15:41.541Z"
   },
   {
    "duration": 183,
    "start_time": "2021-07-07T18:15:42.054Z"
   },
   {
    "duration": 50,
    "start_time": "2021-07-07T18:15:42.239Z"
   },
   {
    "duration": 5,
    "start_time": "2021-07-07T18:15:42.291Z"
   },
   {
    "duration": 48,
    "start_time": "2021-07-07T18:15:42.297Z"
   },
   {
    "duration": 8,
    "start_time": "2021-07-07T18:15:42.346Z"
   },
   {
    "duration": 17,
    "start_time": "2021-07-07T18:15:42.356Z"
   },
   {
    "duration": 15,
    "start_time": "2021-07-07T18:15:42.375Z"
   },
   {
    "duration": 12,
    "start_time": "2021-07-07T18:15:42.392Z"
   },
   {
    "duration": 7,
    "start_time": "2021-07-07T18:15:42.406Z"
   },
   {
    "duration": 7,
    "start_time": "2021-07-07T18:15:42.415Z"
   },
   {
    "duration": 29,
    "start_time": "2021-07-07T18:15:42.423Z"
   },
   {
    "duration": 43,
    "start_time": "2021-07-07T18:15:42.453Z"
   },
   {
    "duration": 18,
    "start_time": "2021-07-07T18:15:42.497Z"
   },
   {
    "duration": 6,
    "start_time": "2021-07-07T18:15:42.516Z"
   },
   {
    "duration": 3,
    "start_time": "2021-07-07T18:15:42.523Z"
   },
   {
    "duration": 18,
    "start_time": "2021-07-07T18:15:42.528Z"
   },
   {
    "duration": 10,
    "start_time": "2021-07-07T18:15:42.547Z"
   },
   {
    "duration": 36,
    "start_time": "2021-07-07T18:15:42.559Z"
   },
   {
    "duration": 8,
    "start_time": "2021-07-07T18:15:42.597Z"
   },
   {
    "duration": 28,
    "start_time": "2021-07-07T18:15:42.606Z"
   },
   {
    "duration": 52,
    "start_time": "2021-07-07T18:15:42.635Z"
   },
   {
    "duration": 7,
    "start_time": "2021-07-07T18:15:42.690Z"
   },
   {
    "duration": 10,
    "start_time": "2021-07-07T18:15:42.699Z"
   },
   {
    "duration": 19,
    "start_time": "2021-07-07T18:15:42.711Z"
   },
   {
    "duration": 9,
    "start_time": "2021-07-07T18:15:42.732Z"
   },
   {
    "duration": 5,
    "start_time": "2021-07-07T18:15:42.743Z"
   },
   {
    "duration": 1450,
    "start_time": "2021-07-07T18:15:51.984Z"
   },
   {
    "duration": 161,
    "start_time": "2021-07-07T18:15:53.435Z"
   },
   {
    "duration": 124,
    "start_time": "2021-07-07T18:15:53.598Z"
   },
   {
    "duration": 5,
    "start_time": "2021-07-07T18:15:53.724Z"
   },
   {
    "duration": 34,
    "start_time": "2021-07-07T18:15:53.730Z"
   },
   {
    "duration": 7,
    "start_time": "2021-07-07T18:15:53.765Z"
   },
   {
    "duration": 15,
    "start_time": "2021-07-07T18:15:53.773Z"
   },
   {
    "duration": 5,
    "start_time": "2021-07-07T18:15:53.791Z"
   },
   {
    "duration": 19,
    "start_time": "2021-07-07T18:15:53.798Z"
   },
   {
    "duration": 9,
    "start_time": "2021-07-07T18:15:53.818Z"
   },
   {
    "duration": 19,
    "start_time": "2021-07-07T18:15:53.828Z"
   },
   {
    "duration": 27,
    "start_time": "2021-07-07T18:15:53.848Z"
   },
   {
    "duration": 16,
    "start_time": "2021-07-07T18:15:53.884Z"
   },
   {
    "duration": 29,
    "start_time": "2021-07-07T18:15:53.901Z"
   },
   {
    "duration": 5,
    "start_time": "2021-07-07T18:15:53.932Z"
   },
   {
    "duration": 15,
    "start_time": "2021-07-07T18:15:53.939Z"
   },
   {
    "duration": 13,
    "start_time": "2021-07-07T18:15:53.956Z"
   },
   {
    "duration": 20,
    "start_time": "2021-07-07T18:15:53.971Z"
   },
   {
    "duration": 14,
    "start_time": "2021-07-07T18:15:53.992Z"
   },
   {
    "duration": 9,
    "start_time": "2021-07-07T18:15:54.009Z"
   },
   {
    "duration": 28,
    "start_time": "2021-07-07T18:15:54.020Z"
   },
   {
    "duration": 50,
    "start_time": "2021-07-07T18:15:54.051Z"
   },
   {
    "duration": 8,
    "start_time": "2021-07-07T18:15:54.105Z"
   },
   {
    "duration": 11,
    "start_time": "2021-07-07T18:15:54.115Z"
   },
   {
    "duration": 20,
    "start_time": "2021-07-07T18:15:54.128Z"
   },
   {
    "duration": 13,
    "start_time": "2021-07-07T18:15:54.184Z"
   },
   {
    "duration": 7,
    "start_time": "2021-07-07T18:15:54.199Z"
   },
   {
    "duration": 7,
    "start_time": "2021-07-07T18:17:08.042Z"
   },
   {
    "duration": 8,
    "start_time": "2021-07-07T18:17:21.008Z"
   },
   {
    "duration": 7,
    "start_time": "2021-07-07T18:17:29.003Z"
   },
   {
    "duration": 8,
    "start_time": "2021-07-07T18:17:32.492Z"
   },
   {
    "duration": 9,
    "start_time": "2021-07-07T18:17:41.758Z"
   },
   {
    "duration": 255,
    "start_time": "2021-07-07T18:20:20.897Z"
   },
   {
    "duration": 173,
    "start_time": "2021-07-07T18:20:26.636Z"
   },
   {
    "duration": 7,
    "start_time": "2021-07-07T18:21:47.164Z"
   },
   {
    "duration": 254,
    "start_time": "2021-07-07T18:23:08.703Z"
   },
   {
    "duration": 21,
    "start_time": "2021-07-07T18:23:22.506Z"
   },
   {
    "duration": 315,
    "start_time": "2021-07-07T18:25:54.801Z"
   },
   {
    "duration": 34,
    "start_time": "2021-07-07T18:26:51.817Z"
   },
   {
    "duration": 327,
    "start_time": "2021-07-07T18:26:56.147Z"
   },
   {
    "duration": 342,
    "start_time": "2021-07-07T18:27:15.887Z"
   },
   {
    "duration": 302,
    "start_time": "2021-07-07T18:28:18.569Z"
   },
   {
    "duration": 226,
    "start_time": "2021-07-07T18:29:20.879Z"
   },
   {
    "duration": 207,
    "start_time": "2021-07-07T18:29:58.114Z"
   },
   {
    "duration": 140,
    "start_time": "2021-07-07T18:32:04.372Z"
   },
   {
    "duration": 158,
    "start_time": "2021-07-07T18:32:32.508Z"
   },
   {
    "duration": 145,
    "start_time": "2021-07-07T18:32:41.365Z"
   },
   {
    "duration": 132,
    "start_time": "2021-07-07T18:32:45.199Z"
   },
   {
    "duration": 11,
    "start_time": "2021-07-07T18:35:24.679Z"
   },
   {
    "duration": 268,
    "start_time": "2021-07-07T18:36:16.145Z"
   },
   {
    "duration": 227,
    "start_time": "2021-07-07T18:37:04.918Z"
   },
   {
    "duration": 3,
    "start_time": "2021-07-07T18:37:33.012Z"
   },
   {
    "duration": 671,
    "start_time": "2021-07-07T18:37:38.295Z"
   },
   {
    "duration": 54,
    "start_time": "2021-07-07T18:37:53.406Z"
   },
   {
    "duration": 631,
    "start_time": "2021-07-07T18:37:56.463Z"
   },
   {
    "duration": 19,
    "start_time": "2021-07-07T18:39:40.535Z"
   },
   {
    "duration": 20,
    "start_time": "2021-07-07T18:40:12.236Z"
   },
   {
    "duration": 633,
    "start_time": "2021-07-07T18:42:00.398Z"
   },
   {
    "duration": 218,
    "start_time": "2021-07-07T18:42:01.033Z"
   },
   {
    "duration": 49,
    "start_time": "2021-07-07T18:42:01.253Z"
   },
   {
    "duration": 5,
    "start_time": "2021-07-07T18:42:01.303Z"
   },
   {
    "duration": 27,
    "start_time": "2021-07-07T18:42:01.310Z"
   },
   {
    "duration": 8,
    "start_time": "2021-07-07T18:42:01.339Z"
   },
   {
    "duration": 20,
    "start_time": "2021-07-07T18:42:01.348Z"
   },
   {
    "duration": 6,
    "start_time": "2021-07-07T18:42:01.386Z"
   },
   {
    "duration": 16,
    "start_time": "2021-07-07T18:42:01.394Z"
   },
   {
    "duration": 9,
    "start_time": "2021-07-07T18:42:01.411Z"
   },
   {
    "duration": 11,
    "start_time": "2021-07-07T18:42:01.421Z"
   },
   {
    "duration": 31,
    "start_time": "2021-07-07T18:42:01.434Z"
   },
   {
    "duration": 18,
    "start_time": "2021-07-07T18:42:01.485Z"
   },
   {
    "duration": 23,
    "start_time": "2021-07-07T18:42:01.505Z"
   },
   {
    "duration": 6,
    "start_time": "2021-07-07T18:42:01.530Z"
   },
   {
    "duration": 10,
    "start_time": "2021-07-07T18:42:01.538Z"
   },
   {
    "duration": 13,
    "start_time": "2021-07-07T18:42:01.550Z"
   },
   {
    "duration": 24,
    "start_time": "2021-07-07T18:42:01.564Z"
   },
   {
    "duration": 20,
    "start_time": "2021-07-07T18:42:01.590Z"
   },
   {
    "duration": 8,
    "start_time": "2021-07-07T18:42:01.611Z"
   },
   {
    "duration": 31,
    "start_time": "2021-07-07T18:42:01.620Z"
   },
   {
    "duration": 39,
    "start_time": "2021-07-07T18:42:01.653Z"
   },
   {
    "duration": 8,
    "start_time": "2021-07-07T18:42:01.696Z"
   },
   {
    "duration": 13,
    "start_time": "2021-07-07T18:42:01.705Z"
   },
   {
    "duration": 20,
    "start_time": "2021-07-07T18:42:01.720Z"
   },
   {
    "duration": 12,
    "start_time": "2021-07-07T18:42:01.741Z"
   },
   {
    "duration": 35,
    "start_time": "2021-07-07T18:42:01.755Z"
   },
   {
    "duration": 14,
    "start_time": "2021-07-07T18:42:01.792Z"
   },
   {
    "duration": 188,
    "start_time": "2021-07-07T18:42:01.808Z"
   },
   {
    "duration": 19,
    "start_time": "2021-07-07T18:42:01.998Z"
   },
   {
    "duration": 175,
    "start_time": "2021-07-07T18:42:02.019Z"
   },
   {
    "duration": 134,
    "start_time": "2021-07-07T18:42:02.196Z"
   },
   {
    "duration": 10,
    "start_time": "2021-07-07T18:42:02.331Z"
   },
   {
    "duration": 19,
    "start_time": "2021-07-07T18:42:02.343Z"
   },
   {
    "duration": 628,
    "start_time": "2021-07-07T18:46:30.701Z"
   },
   {
    "duration": 183,
    "start_time": "2021-07-07T18:46:31.331Z"
   },
   {
    "duration": 48,
    "start_time": "2021-07-07T18:46:31.516Z"
   },
   {
    "duration": 5,
    "start_time": "2021-07-07T18:46:31.566Z"
   },
   {
    "duration": 28,
    "start_time": "2021-07-07T18:46:31.572Z"
   },
   {
    "duration": 8,
    "start_time": "2021-07-07T18:46:31.602Z"
   },
   {
    "duration": 19,
    "start_time": "2021-07-07T18:46:31.611Z"
   },
   {
    "duration": 6,
    "start_time": "2021-07-07T18:46:31.633Z"
   },
   {
    "duration": 17,
    "start_time": "2021-07-07T18:46:31.642Z"
   },
   {
    "duration": 10,
    "start_time": "2021-07-07T18:46:31.684Z"
   },
   {
    "duration": 9,
    "start_time": "2021-07-07T18:46:31.695Z"
   },
   {
    "duration": 28,
    "start_time": "2021-07-07T18:46:31.705Z"
   },
   {
    "duration": 18,
    "start_time": "2021-07-07T18:46:31.735Z"
   },
   {
    "duration": 48,
    "start_time": "2021-07-07T18:46:31.755Z"
   },
   {
    "duration": 6,
    "start_time": "2021-07-07T18:46:31.804Z"
   },
   {
    "duration": 4,
    "start_time": "2021-07-07T18:46:31.812Z"
   },
   {
    "duration": 9,
    "start_time": "2021-07-07T18:46:31.817Z"
   },
   {
    "duration": 10,
    "start_time": "2021-07-07T18:46:31.827Z"
   },
   {
    "duration": 12,
    "start_time": "2021-07-07T18:46:31.838Z"
   },
   {
    "duration": 39,
    "start_time": "2021-07-07T18:46:31.851Z"
   },
   {
    "duration": 24,
    "start_time": "2021-07-07T18:46:31.892Z"
   },
   {
    "duration": 15,
    "start_time": "2021-07-07T18:46:31.918Z"
   },
   {
    "duration": 7,
    "start_time": "2021-07-07T18:46:31.936Z"
   },
   {
    "duration": 8,
    "start_time": "2021-07-07T18:46:31.944Z"
   },
   {
    "duration": 19,
    "start_time": "2021-07-07T18:46:31.984Z"
   },
   {
    "duration": 10,
    "start_time": "2021-07-07T18:46:32.004Z"
   },
   {
    "duration": 5,
    "start_time": "2021-07-07T18:46:32.016Z"
   },
   {
    "duration": 9,
    "start_time": "2021-07-07T18:46:32.023Z"
   },
   {
    "duration": 199,
    "start_time": "2021-07-07T18:46:32.033Z"
   },
   {
    "duration": 19,
    "start_time": "2021-07-07T18:46:32.234Z"
   },
   {
    "duration": 159,
    "start_time": "2021-07-07T18:46:32.255Z"
   },
   {
    "duration": 134,
    "start_time": "2021-07-07T18:46:32.416Z"
   },
   {
    "duration": 10,
    "start_time": "2021-07-07T18:46:32.552Z"
   },
   {
    "duration": 34,
    "start_time": "2021-07-07T18:46:32.563Z"
   },
   {
    "duration": 1039,
    "start_time": "2021-07-08T08:41:09.419Z"
   },
   {
    "duration": 333,
    "start_time": "2021-07-08T08:41:10.459Z"
   },
   {
    "duration": 173,
    "start_time": "2021-07-08T08:41:10.794Z"
   },
   {
    "duration": 5,
    "start_time": "2021-07-08T08:41:10.968Z"
   },
   {
    "duration": 25,
    "start_time": "2021-07-08T08:41:10.975Z"
   },
   {
    "duration": 9,
    "start_time": "2021-07-08T08:41:11.002Z"
   },
   {
    "duration": 18,
    "start_time": "2021-07-08T08:41:11.013Z"
   },
   {
    "duration": 6,
    "start_time": "2021-07-08T08:41:11.033Z"
   },
   {
    "duration": 44,
    "start_time": "2021-07-08T08:41:11.042Z"
   },
   {
    "duration": 10,
    "start_time": "2021-07-08T08:41:11.088Z"
   },
   {
    "duration": 9,
    "start_time": "2021-07-08T08:41:11.100Z"
   },
   {
    "duration": 27,
    "start_time": "2021-07-08T08:41:11.111Z"
   },
   {
    "duration": 46,
    "start_time": "2021-07-08T08:41:11.140Z"
   },
   {
    "duration": 17,
    "start_time": "2021-07-08T08:41:11.187Z"
   },
   {
    "duration": 6,
    "start_time": "2021-07-08T08:41:11.206Z"
   },
   {
    "duration": 5,
    "start_time": "2021-07-08T08:41:11.213Z"
   },
   {
    "duration": 10,
    "start_time": "2021-07-08T08:41:11.219Z"
   },
   {
    "duration": 9,
    "start_time": "2021-07-08T08:41:11.230Z"
   },
   {
    "duration": 45,
    "start_time": "2021-07-08T08:41:11.241Z"
   },
   {
    "duration": 7,
    "start_time": "2021-07-08T08:41:11.287Z"
   },
   {
    "duration": 24,
    "start_time": "2021-07-08T08:41:11.296Z"
   },
   {
    "duration": 16,
    "start_time": "2021-07-08T08:41:11.322Z"
   },
   {
    "duration": 7,
    "start_time": "2021-07-08T08:41:11.341Z"
   },
   {
    "duration": 41,
    "start_time": "2021-07-08T08:41:11.349Z"
   },
   {
    "duration": 17,
    "start_time": "2021-07-08T08:41:11.391Z"
   },
   {
    "duration": 9,
    "start_time": "2021-07-08T08:41:11.410Z"
   },
   {
    "duration": 5,
    "start_time": "2021-07-08T08:41:11.421Z"
   },
   {
    "duration": 6,
    "start_time": "2021-07-08T08:41:11.428Z"
   },
   {
    "duration": 198,
    "start_time": "2021-07-08T08:41:11.435Z"
   },
   {
    "duration": 18,
    "start_time": "2021-07-08T08:41:11.635Z"
   },
   {
    "duration": 155,
    "start_time": "2021-07-08T08:41:11.655Z"
   },
   {
    "duration": 138,
    "start_time": "2021-07-08T08:41:11.811Z"
   },
   {
    "duration": 10,
    "start_time": "2021-07-08T08:41:11.950Z"
   },
   {
    "duration": 29,
    "start_time": "2021-07-08T08:41:11.961Z"
   },
   {
    "duration": 171,
    "start_time": "2021-07-08T08:47:44.522Z"
   },
   {
    "duration": 124,
    "start_time": "2021-07-08T08:47:46.872Z"
   },
   {
    "duration": 191,
    "start_time": "2021-07-08T08:47:58.148Z"
   },
   {
    "duration": 191,
    "start_time": "2021-07-08T08:48:07.412Z"
   },
   {
    "duration": 261,
    "start_time": "2021-07-08T08:48:10.385Z"
   },
   {
    "duration": 255,
    "start_time": "2021-07-08T08:48:14.494Z"
   },
   {
    "duration": 219,
    "start_time": "2021-07-08T08:48:22.752Z"
   },
   {
    "duration": 173,
    "start_time": "2021-07-08T08:49:06.395Z"
   },
   {
    "duration": 180,
    "start_time": "2021-07-08T08:49:21.011Z"
   },
   {
    "duration": 6,
    "start_time": "2021-07-08T08:50:31.697Z"
   },
   {
    "duration": 10,
    "start_time": "2021-07-08T08:50:47.394Z"
   },
   {
    "duration": 11,
    "start_time": "2021-07-08T08:53:49.332Z"
   },
   {
    "duration": 171,
    "start_time": "2021-07-08T08:54:28.408Z"
   },
   {
    "duration": 636,
    "start_time": "2021-07-08T09:02:48.385Z"
   },
   {
    "duration": 227,
    "start_time": "2021-07-08T09:02:49.023Z"
   },
   {
    "duration": 104,
    "start_time": "2021-07-08T09:02:49.252Z"
   },
   {
    "duration": 5,
    "start_time": "2021-07-08T09:02:49.358Z"
   },
   {
    "duration": 27,
    "start_time": "2021-07-08T09:02:49.365Z"
   },
   {
    "duration": 8,
    "start_time": "2021-07-08T09:02:49.394Z"
   },
   {
    "duration": 18,
    "start_time": "2021-07-08T09:02:49.404Z"
   },
   {
    "duration": 6,
    "start_time": "2021-07-08T09:02:49.424Z"
   },
   {
    "duration": 11,
    "start_time": "2021-07-08T09:02:49.433Z"
   },
   {
    "duration": 13,
    "start_time": "2021-07-08T09:02:49.485Z"
   },
   {
    "duration": 9,
    "start_time": "2021-07-08T09:02:49.500Z"
   },
   {
    "duration": 38,
    "start_time": "2021-07-08T09:02:49.511Z"
   },
   {
    "duration": 42,
    "start_time": "2021-07-08T09:02:49.551Z"
   },
   {
    "duration": 21,
    "start_time": "2021-07-08T09:02:49.594Z"
   },
   {
    "duration": 6,
    "start_time": "2021-07-08T09:02:49.616Z"
   },
   {
    "duration": 3,
    "start_time": "2021-07-08T09:02:49.623Z"
   },
   {
    "duration": 9,
    "start_time": "2021-07-08T09:02:49.628Z"
   },
   {
    "duration": 52,
    "start_time": "2021-07-08T09:02:49.638Z"
   },
   {
    "duration": 11,
    "start_time": "2021-07-08T09:02:49.692Z"
   },
   {
    "duration": 8,
    "start_time": "2021-07-08T09:02:49.704Z"
   },
   {
    "duration": 27,
    "start_time": "2021-07-08T09:02:49.713Z"
   },
   {
    "duration": 59,
    "start_time": "2021-07-08T09:02:49.741Z"
   },
   {
    "duration": 8,
    "start_time": "2021-07-08T09:02:49.803Z"
   },
   {
    "duration": 14,
    "start_time": "2021-07-08T09:02:49.813Z"
   },
   {
    "duration": 20,
    "start_time": "2021-07-08T09:02:49.829Z"
   },
   {
    "duration": 44,
    "start_time": "2021-07-08T09:02:49.851Z"
   },
   {
    "duration": 14,
    "start_time": "2021-07-08T09:02:49.896Z"
   },
   {
    "duration": 221,
    "start_time": "2021-07-08T09:02:49.912Z"
   },
   {
    "duration": 6,
    "start_time": "2021-07-08T09:02:50.134Z"
   },
   {
    "duration": 206,
    "start_time": "2021-07-08T09:02:50.142Z"
   },
   {
    "duration": 19,
    "start_time": "2021-07-08T09:02:50.350Z"
   },
   {
    "duration": 21,
    "start_time": "2021-07-08T09:02:50.370Z"
   },
   {
    "duration": 20,
    "start_time": "2021-07-08T09:02:50.393Z"
   },
   {
    "duration": 5,
    "start_time": "2021-07-08T09:02:50.414Z"
   },
   {
    "duration": 5,
    "start_time": "2021-07-08T09:03:34.173Z"
   },
   {
    "duration": 6,
    "start_time": "2021-07-08T09:04:49.062Z"
   },
   {
    "duration": 9,
    "start_time": "2021-07-08T09:04:50.118Z"
   },
   {
    "duration": 14,
    "start_time": "2021-07-08T09:04:58.512Z"
   },
   {
    "duration": 9,
    "start_time": "2021-07-08T09:05:10.988Z"
   },
   {
    "duration": 11,
    "start_time": "2021-07-08T09:05:11.743Z"
   },
   {
    "duration": 7,
    "start_time": "2021-07-08T09:05:25.677Z"
   },
   {
    "duration": 13,
    "start_time": "2021-07-08T09:05:47.189Z"
   },
   {
    "duration": 13,
    "start_time": "2021-07-08T09:05:54.755Z"
   },
   {
    "duration": 4,
    "start_time": "2021-07-08T09:06:29.189Z"
   },
   {
    "duration": 244,
    "start_time": "2021-07-08T09:06:29.195Z"
   },
   {
    "duration": 91,
    "start_time": "2021-07-08T09:06:29.441Z"
   },
   {
    "duration": 4,
    "start_time": "2021-07-08T09:06:29.534Z"
   },
   {
    "duration": 28,
    "start_time": "2021-07-08T09:06:29.540Z"
   },
   {
    "duration": 6,
    "start_time": "2021-07-08T09:06:29.570Z"
   },
   {
    "duration": 18,
    "start_time": "2021-07-08T09:06:29.578Z"
   },
   {
    "duration": 5,
    "start_time": "2021-07-08T09:06:29.597Z"
   },
   {
    "duration": 13,
    "start_time": "2021-07-08T09:06:29.605Z"
   },
   {
    "duration": 8,
    "start_time": "2021-07-08T09:06:29.620Z"
   },
   {
    "duration": 7,
    "start_time": "2021-07-08T09:06:29.630Z"
   },
   {
    "duration": 63,
    "start_time": "2021-07-08T09:06:29.639Z"
   },
   {
    "duration": 17,
    "start_time": "2021-07-08T09:06:29.704Z"
   },
   {
    "duration": 20,
    "start_time": "2021-07-08T09:06:29.723Z"
   },
   {
    "duration": 6,
    "start_time": "2021-07-08T09:06:29.745Z"
   },
   {
    "duration": 3,
    "start_time": "2021-07-08T09:06:29.752Z"
   },
   {
    "duration": 7,
    "start_time": "2021-07-08T09:06:29.785Z"
   },
   {
    "duration": 11,
    "start_time": "2021-07-08T09:06:29.794Z"
   },
   {
    "duration": 15,
    "start_time": "2021-07-08T09:06:29.807Z"
   },
   {
    "duration": 8,
    "start_time": "2021-07-08T09:06:29.823Z"
   },
   {
    "duration": 70,
    "start_time": "2021-07-08T09:06:29.832Z"
   },
   {
    "duration": 17,
    "start_time": "2021-07-08T09:06:29.903Z"
   },
   {
    "duration": 9,
    "start_time": "2021-07-08T09:06:29.921Z"
   },
   {
    "duration": 9,
    "start_time": "2021-07-08T09:06:29.932Z"
   },
   {
    "duration": 57,
    "start_time": "2021-07-08T09:06:29.942Z"
   },
   {
    "duration": 11,
    "start_time": "2021-07-08T09:06:30.001Z"
   },
   {
    "duration": 19,
    "start_time": "2021-07-08T09:06:30.016Z"
   },
   {
    "duration": 217,
    "start_time": "2021-07-08T09:06:30.037Z"
   },
   {
    "duration": 6,
    "start_time": "2021-07-08T09:06:30.255Z"
   },
   {
    "duration": 205,
    "start_time": "2021-07-08T09:06:30.263Z"
   },
   {
    "duration": 27,
    "start_time": "2021-07-08T09:06:30.470Z"
   },
   {
    "duration": 11,
    "start_time": "2021-07-08T09:06:30.500Z"
   },
   {
    "duration": 31,
    "start_time": "2021-07-08T09:06:30.513Z"
   },
   {
    "duration": 18,
    "start_time": "2021-07-08T09:06:30.546Z"
   },
   {
    "duration": 11,
    "start_time": "2021-07-08T09:06:30.566Z"
   },
   {
    "duration": 19,
    "start_time": "2021-07-08T09:06:30.579Z"
   },
   {
    "duration": 20,
    "start_time": "2021-07-08T09:06:49.466Z"
   },
   {
    "duration": 9,
    "start_time": "2021-07-08T09:06:51.994Z"
   },
   {
    "duration": 20,
    "start_time": "2021-07-08T09:06:52.273Z"
   },
   {
    "duration": 246,
    "start_time": "2021-07-08T09:10:21.272Z"
   },
   {
    "duration": 84,
    "start_time": "2021-07-08T09:10:21.436Z"
   },
   {
    "duration": 7,
    "start_time": "2021-07-08T09:10:37.608Z"
   },
   {
    "duration": 189,
    "start_time": "2021-07-08T09:10:38.573Z"
   },
   {
    "duration": 185,
    "start_time": "2021-07-08T09:10:53.181Z"
   },
   {
    "duration": 11,
    "start_time": "2021-07-08T09:10:59.549Z"
   },
   {
    "duration": 42,
    "start_time": "2021-07-08T09:10:59.709Z"
   },
   {
    "duration": 12,
    "start_time": "2021-07-08T09:11:02.857Z"
   },
   {
    "duration": 28,
    "start_time": "2021-07-08T09:11:10.062Z"
   },
   {
    "duration": 249,
    "start_time": "2021-07-08T09:11:37.388Z"
   },
   {
    "duration": 232,
    "start_time": "2021-07-08T09:11:49.485Z"
   },
   {
    "duration": 453,
    "start_time": "2021-07-08T09:12:01.546Z"
   },
   {
    "duration": 440,
    "start_time": "2021-07-08T09:12:12.347Z"
   },
   {
    "duration": 213,
    "start_time": "2021-07-08T09:13:32.196Z"
   },
   {
    "duration": 172,
    "start_time": "2021-07-08T09:14:07.400Z"
   },
   {
    "duration": 185,
    "start_time": "2021-07-08T09:14:14.905Z"
   },
   {
    "duration": 209,
    "start_time": "2021-07-08T09:14:40.109Z"
   },
   {
    "duration": 201,
    "start_time": "2021-07-08T09:14:54.506Z"
   },
   {
    "duration": 622,
    "start_time": "2021-07-08T09:18:14.497Z"
   },
   {
    "duration": 220,
    "start_time": "2021-07-08T09:18:15.121Z"
   },
   {
    "duration": 79,
    "start_time": "2021-07-08T09:18:15.343Z"
   },
   {
    "duration": 4,
    "start_time": "2021-07-08T09:18:15.425Z"
   },
   {
    "duration": 24,
    "start_time": "2021-07-08T09:18:15.431Z"
   },
   {
    "duration": 8,
    "start_time": "2021-07-08T09:18:15.457Z"
   },
   {
    "duration": 16,
    "start_time": "2021-07-08T09:18:15.466Z"
   },
   {
    "duration": 5,
    "start_time": "2021-07-08T09:18:15.484Z"
   },
   {
    "duration": 10,
    "start_time": "2021-07-08T09:18:15.493Z"
   },
   {
    "duration": 8,
    "start_time": "2021-07-08T09:18:15.504Z"
   },
   {
    "duration": 7,
    "start_time": "2021-07-08T09:18:15.513Z"
   },
   {
    "duration": 26,
    "start_time": "2021-07-08T09:18:15.522Z"
   },
   {
    "duration": 49,
    "start_time": "2021-07-08T09:18:15.550Z"
   },
   {
    "duration": 21,
    "start_time": "2021-07-08T09:18:15.601Z"
   },
   {
    "duration": 8,
    "start_time": "2021-07-08T09:18:15.624Z"
   },
   {
    "duration": 3,
    "start_time": "2021-07-08T09:18:15.634Z"
   },
   {
    "duration": 8,
    "start_time": "2021-07-08T09:18:15.639Z"
   },
   {
    "duration": 45,
    "start_time": "2021-07-08T09:18:15.649Z"
   },
   {
    "duration": 13,
    "start_time": "2021-07-08T09:18:15.696Z"
   },
   {
    "duration": 10,
    "start_time": "2021-07-08T09:18:15.711Z"
   },
   {
    "duration": 64,
    "start_time": "2021-07-08T09:18:15.722Z"
   },
   {
    "duration": 19,
    "start_time": "2021-07-08T09:18:15.788Z"
   },
   {
    "duration": 9,
    "start_time": "2021-07-08T09:18:15.809Z"
   },
   {
    "duration": 9,
    "start_time": "2021-07-08T09:18:15.820Z"
   },
   {
    "duration": 18,
    "start_time": "2021-07-08T09:18:15.831Z"
   },
   {
    "duration": 43,
    "start_time": "2021-07-08T09:18:15.851Z"
   },
   {
    "duration": 12,
    "start_time": "2021-07-08T09:18:15.897Z"
   },
   {
    "duration": 219,
    "start_time": "2021-07-08T09:18:15.911Z"
   },
   {
    "duration": 8,
    "start_time": "2021-07-08T09:18:16.132Z"
   },
   {
    "duration": 199,
    "start_time": "2021-07-08T09:18:16.141Z"
   },
   {
    "duration": 18,
    "start_time": "2021-07-08T09:18:16.341Z"
   },
   {
    "duration": 24,
    "start_time": "2021-07-08T09:18:16.361Z"
   },
   {
    "duration": 24,
    "start_time": "2021-07-08T09:18:16.387Z"
   },
   {
    "duration": 211,
    "start_time": "2021-07-08T09:18:16.413Z"
   },
   {
    "duration": 18,
    "start_time": "2021-07-08T09:18:16.626Z"
   },
   {
    "duration": 596,
    "start_time": "2021-07-08T10:06:33.623Z"
   },
   {
    "duration": 181,
    "start_time": "2021-07-08T10:06:34.221Z"
   },
   {
    "duration": 176,
    "start_time": "2021-07-08T10:06:34.635Z"
   },
   {
    "duration": 239,
    "start_time": "2021-07-08T10:06:55.572Z"
   },
   {
    "duration": 6,
    "start_time": "2021-07-08T10:06:57.687Z"
   },
   {
    "duration": 4,
    "start_time": "2021-07-08T10:07:03.956Z"
   },
   {
    "duration": 4,
    "start_time": "2021-07-08T10:07:10.376Z"
   },
   {
    "duration": 4,
    "start_time": "2021-07-08T10:17:19.889Z"
   },
   {
    "duration": 3,
    "start_time": "2021-07-08T10:19:19.407Z"
   },
   {
    "duration": 197,
    "start_time": "2021-07-08T10:19:19.412Z"
   },
   {
    "duration": 127,
    "start_time": "2021-07-08T10:19:19.611Z"
   },
   {
    "duration": 4,
    "start_time": "2021-07-08T10:19:19.740Z"
   },
   {
    "duration": 27,
    "start_time": "2021-07-08T10:19:19.746Z"
   },
   {
    "duration": 7,
    "start_time": "2021-07-08T10:19:19.775Z"
   },
   {
    "duration": 30,
    "start_time": "2021-07-08T10:19:19.784Z"
   },
   {
    "duration": 7,
    "start_time": "2021-07-08T10:19:19.817Z"
   },
   {
    "duration": 26,
    "start_time": "2021-07-08T10:19:19.826Z"
   },
   {
    "duration": 18,
    "start_time": "2021-07-08T10:19:19.854Z"
   },
   {
    "duration": 14,
    "start_time": "2021-07-08T10:19:19.874Z"
   },
   {
    "duration": 48,
    "start_time": "2021-07-08T10:19:19.890Z"
   },
   {
    "duration": 17,
    "start_time": "2021-07-08T10:19:19.940Z"
   },
   {
    "duration": 38,
    "start_time": "2021-07-08T10:19:19.959Z"
   },
   {
    "duration": 8,
    "start_time": "2021-07-08T10:19:19.999Z"
   },
   {
    "duration": 15,
    "start_time": "2021-07-08T10:19:20.009Z"
   },
   {
    "duration": 22,
    "start_time": "2021-07-08T10:19:20.026Z"
   },
   {
    "duration": 10,
    "start_time": "2021-07-08T10:19:20.050Z"
   },
   {
    "duration": 10,
    "start_time": "2021-07-08T10:19:20.062Z"
   },
   {
    "duration": 20,
    "start_time": "2021-07-08T10:19:20.073Z"
   },
   {
    "duration": 29,
    "start_time": "2021-07-08T10:19:20.095Z"
   },
   {
    "duration": 17,
    "start_time": "2021-07-08T10:19:20.126Z"
   },
   {
    "duration": 40,
    "start_time": "2021-07-08T10:19:20.146Z"
   },
   {
    "duration": 15,
    "start_time": "2021-07-08T10:19:20.189Z"
   },
   {
    "duration": 19,
    "start_time": "2021-07-08T10:19:20.206Z"
   },
   {
    "duration": 10,
    "start_time": "2021-07-08T10:19:20.226Z"
   },
   {
    "duration": 11,
    "start_time": "2021-07-08T10:19:20.238Z"
   },
   {
    "duration": 297,
    "start_time": "2021-07-08T10:19:20.250Z"
   },
   {
    "duration": 6,
    "start_time": "2021-07-08T10:19:20.549Z"
   },
   {
    "duration": 191,
    "start_time": "2021-07-08T10:19:20.557Z"
   },
   {
    "duration": 19,
    "start_time": "2021-07-08T10:19:20.750Z"
   },
   {
    "duration": 20,
    "start_time": "2021-07-08T10:19:20.771Z"
   },
   {
    "duration": 15,
    "start_time": "2021-07-08T10:19:20.793Z"
   },
   {
    "duration": 222,
    "start_time": "2021-07-08T10:19:20.809Z"
   },
   {
    "duration": 20,
    "start_time": "2021-07-08T10:19:21.033Z"
   },
   {
    "duration": 27,
    "start_time": "2021-07-08T10:45:04.055Z"
   },
   {
    "duration": 8,
    "start_time": "2021-07-08T10:45:08.478Z"
   },
   {
    "duration": 8,
    "start_time": "2021-07-08T10:45:31.982Z"
   },
   {
    "duration": 10,
    "start_time": "2021-07-08T10:46:01.221Z"
   },
   {
    "duration": 17,
    "start_time": "2021-07-08T10:46:40.011Z"
   },
   {
    "duration": 193,
    "start_time": "2021-07-08T10:48:19.471Z"
   },
   {
    "duration": 225,
    "start_time": "2021-07-08T10:49:26.480Z"
   },
   {
    "duration": 204,
    "start_time": "2021-07-08T10:49:59.992Z"
   },
   {
    "duration": 435,
    "start_time": "2021-07-08T10:50:06.779Z"
   },
   {
    "duration": 199,
    "start_time": "2021-07-08T10:50:14.891Z"
   },
   {
    "duration": 204,
    "start_time": "2021-07-08T10:50:18.501Z"
   },
   {
    "duration": 244,
    "start_time": "2021-07-08T10:50:23.359Z"
   },
   {
    "duration": 192,
    "start_time": "2021-07-08T10:50:29.135Z"
   },
   {
    "duration": 218,
    "start_time": "2021-07-08T10:50:33.092Z"
   },
   {
    "duration": 207,
    "start_time": "2021-07-08T10:52:45.381Z"
   },
   {
    "duration": 5,
    "start_time": "2021-07-08T10:53:34.641Z"
   },
   {
    "duration": 196,
    "start_time": "2021-07-08T10:53:41.478Z"
   },
   {
    "duration": 43,
    "start_time": "2021-07-08T10:53:50.335Z"
   },
   {
    "duration": 32,
    "start_time": "2021-07-08T10:53:55.294Z"
   },
   {
    "duration": 55,
    "start_time": "2021-07-08T10:54:09.675Z"
   },
   {
    "duration": 16,
    "start_time": "2021-07-08T10:54:12.260Z"
   },
   {
    "duration": 15,
    "start_time": "2021-07-08T10:54:49.150Z"
   },
   {
    "duration": 20,
    "start_time": "2021-07-08T10:56:07.596Z"
   },
   {
    "duration": 16,
    "start_time": "2021-07-08T10:58:26.276Z"
   },
   {
    "duration": 22,
    "start_time": "2021-07-08T10:59:00.486Z"
   },
   {
    "duration": 18,
    "start_time": "2021-07-08T11:02:09.653Z"
   },
   {
    "duration": 10,
    "start_time": "2021-07-08T11:03:44.331Z"
   },
   {
    "duration": 10,
    "start_time": "2021-07-08T11:03:54.055Z"
   },
   {
    "duration": 12,
    "start_time": "2021-07-08T11:04:41.967Z"
   },
   {
    "duration": 24,
    "start_time": "2021-07-08T11:07:30.732Z"
   },
   {
    "duration": 6,
    "start_time": "2021-07-08T11:07:37.364Z"
   },
   {
    "duration": 16,
    "start_time": "2021-07-08T11:08:01.819Z"
   },
   {
    "duration": 17,
    "start_time": "2021-07-08T11:09:47.488Z"
   },
   {
    "duration": 246,
    "start_time": "2021-07-08T11:10:00.830Z"
   },
   {
    "duration": 18,
    "start_time": "2021-07-08T11:13:55.195Z"
   },
   {
    "duration": 204,
    "start_time": "2021-07-08T11:14:04.951Z"
   },
   {
    "duration": 19,
    "start_time": "2021-07-08T11:15:10.613Z"
   },
   {
    "duration": 680,
    "start_time": "2021-07-08T11:16:25.793Z"
   },
   {
    "duration": 451,
    "start_time": "2021-07-08T11:16:40.313Z"
   },
   {
    "duration": 469,
    "start_time": "2021-07-08T11:17:21.286Z"
   },
   {
    "duration": 20,
    "start_time": "2021-07-08T11:19:12.554Z"
   },
   {
    "duration": 35,
    "start_time": "2021-07-08T11:20:05.484Z"
   },
   {
    "duration": 53,
    "start_time": "2021-07-08T11:21:40.050Z"
   },
   {
    "duration": 13,
    "start_time": "2021-07-08T11:22:26.059Z"
   },
   {
    "duration": 19,
    "start_time": "2021-07-08T11:22:47.419Z"
   },
   {
    "duration": 25,
    "start_time": "2021-07-08T11:23:19.958Z"
   },
   {
    "duration": 29,
    "start_time": "2021-07-08T11:23:25.415Z"
   },
   {
    "duration": 10,
    "start_time": "2021-07-08T11:24:45.138Z"
   },
   {
    "duration": 19,
    "start_time": "2021-07-08T11:24:54.498Z"
   },
   {
    "duration": 12,
    "start_time": "2021-07-08T11:25:32.225Z"
   },
   {
    "duration": 19,
    "start_time": "2021-07-08T11:25:37.092Z"
   },
   {
    "duration": 17,
    "start_time": "2021-07-08T11:25:58.116Z"
   },
   {
    "duration": 15,
    "start_time": "2021-07-08T11:26:02.258Z"
   },
   {
    "duration": 8,
    "start_time": "2021-07-08T11:26:59.682Z"
   },
   {
    "duration": 184,
    "start_time": "2021-07-08T11:27:21.894Z"
   },
   {
    "duration": 8,
    "start_time": "2021-07-08T11:27:23.824Z"
   },
   {
    "duration": 202,
    "start_time": "2021-07-08T11:27:23.962Z"
   },
   {
    "duration": 360,
    "start_time": "2021-07-08T11:28:33.215Z"
   },
   {
    "duration": 231,
    "start_time": "2021-07-08T11:32:05.542Z"
   },
   {
    "duration": 607,
    "start_time": "2021-07-08T11:36:27.854Z"
   },
   {
    "duration": 241,
    "start_time": "2021-07-08T11:36:28.463Z"
   },
   {
    "duration": 67,
    "start_time": "2021-07-08T11:36:28.709Z"
   },
   {
    "duration": 5,
    "start_time": "2021-07-08T11:36:28.778Z"
   },
   {
    "duration": 32,
    "start_time": "2021-07-08T11:36:28.784Z"
   },
   {
    "duration": 11,
    "start_time": "2021-07-08T11:36:28.819Z"
   },
   {
    "duration": 20,
    "start_time": "2021-07-08T11:36:28.834Z"
   },
   {
    "duration": 36,
    "start_time": "2021-07-08T11:36:28.857Z"
   },
   {
    "duration": 16,
    "start_time": "2021-07-08T11:36:28.895Z"
   },
   {
    "duration": 14,
    "start_time": "2021-07-08T11:36:28.913Z"
   },
   {
    "duration": 9,
    "start_time": "2021-07-08T11:36:28.930Z"
   },
   {
    "duration": 55,
    "start_time": "2021-07-08T11:36:28.941Z"
   },
   {
    "duration": 27,
    "start_time": "2021-07-08T11:36:28.999Z"
   },
   {
    "duration": 30,
    "start_time": "2021-07-08T11:36:29.028Z"
   },
   {
    "duration": 31,
    "start_time": "2021-07-08T11:36:29.060Z"
   },
   {
    "duration": 3,
    "start_time": "2021-07-08T11:36:29.093Z"
   },
   {
    "duration": 12,
    "start_time": "2021-07-08T11:36:29.099Z"
   },
   {
    "duration": 11,
    "start_time": "2021-07-08T11:36:29.112Z"
   },
   {
    "duration": 12,
    "start_time": "2021-07-08T11:36:29.125Z"
   },
   {
    "duration": 9,
    "start_time": "2021-07-08T11:36:29.139Z"
   },
   {
    "duration": 31,
    "start_time": "2021-07-08T11:36:29.191Z"
   },
   {
    "duration": 17,
    "start_time": "2021-07-08T11:36:29.226Z"
   },
   {
    "duration": 7,
    "start_time": "2021-07-08T11:36:29.245Z"
   },
   {
    "duration": 10,
    "start_time": "2021-07-08T11:36:29.254Z"
   },
   {
    "duration": 30,
    "start_time": "2021-07-08T11:36:29.292Z"
   },
   {
    "duration": 11,
    "start_time": "2021-07-08T11:36:29.324Z"
   },
   {
    "duration": 11,
    "start_time": "2021-07-08T11:36:29.337Z"
   },
   {
    "duration": 230,
    "start_time": "2021-07-08T11:36:29.349Z"
   },
   {
    "duration": 13,
    "start_time": "2021-07-08T11:36:29.588Z"
   },
   {
    "duration": 205,
    "start_time": "2021-07-08T11:36:29.603Z"
   },
   {
    "duration": 20,
    "start_time": "2021-07-08T11:36:29.810Z"
   },
   {
    "duration": 9,
    "start_time": "2021-07-08T11:36:29.832Z"
   },
   {
    "duration": 16,
    "start_time": "2021-07-08T11:36:29.843Z"
   },
   {
    "duration": 283,
    "start_time": "2021-07-08T11:36:29.861Z"
   },
   {
    "duration": 50,
    "start_time": "2021-07-08T11:36:30.146Z"
   },
   {
    "duration": 14,
    "start_time": "2021-07-08T11:36:30.198Z"
   },
   {
    "duration": 11,
    "start_time": "2021-07-08T11:36:30.214Z"
   },
   {
    "duration": 245,
    "start_time": "2021-07-08T11:36:30.227Z"
   },
   {
    "duration": 439,
    "start_time": "2021-07-08T11:36:30.474Z"
   },
   {
    "duration": 210,
    "start_time": "2021-07-08T11:36:30.915Z"
   },
   {
    "duration": 15,
    "start_time": "2021-07-08T11:36:31.127Z"
   },
   {
    "duration": 17,
    "start_time": "2021-07-08T11:38:20.451Z"
   },
   {
    "duration": 642,
    "start_time": "2021-07-08T11:46:17.881Z"
   },
   {
    "duration": 210,
    "start_time": "2021-07-08T11:46:18.525Z"
   },
   {
    "duration": 104,
    "start_time": "2021-07-08T11:46:18.741Z"
   },
   {
    "duration": 8,
    "start_time": "2021-07-08T11:46:18.847Z"
   },
   {
    "duration": 25,
    "start_time": "2021-07-08T11:46:18.857Z"
   },
   {
    "duration": 14,
    "start_time": "2021-07-08T11:46:18.884Z"
   },
   {
    "duration": 22,
    "start_time": "2021-07-08T11:46:18.900Z"
   },
   {
    "duration": 5,
    "start_time": "2021-07-08T11:46:18.924Z"
   },
   {
    "duration": 13,
    "start_time": "2021-07-08T11:46:18.931Z"
   },
   {
    "duration": 45,
    "start_time": "2021-07-08T11:46:18.946Z"
   },
   {
    "duration": 12,
    "start_time": "2021-07-08T11:46:18.993Z"
   },
   {
    "duration": 38,
    "start_time": "2021-07-08T11:46:19.006Z"
   },
   {
    "duration": 50,
    "start_time": "2021-07-08T11:46:19.046Z"
   },
   {
    "duration": 29,
    "start_time": "2021-07-08T11:46:19.099Z"
   },
   {
    "duration": 7,
    "start_time": "2021-07-08T11:46:19.130Z"
   },
   {
    "duration": 3,
    "start_time": "2021-07-08T11:46:19.139Z"
   },
   {
    "duration": 11,
    "start_time": "2021-07-08T11:46:19.144Z"
   },
   {
    "duration": 40,
    "start_time": "2021-07-08T11:46:19.157Z"
   },
   {
    "duration": 15,
    "start_time": "2021-07-08T11:46:19.199Z"
   },
   {
    "duration": 10,
    "start_time": "2021-07-08T11:46:19.217Z"
   },
   {
    "duration": 68,
    "start_time": "2021-07-08T11:46:19.230Z"
   },
   {
    "duration": 17,
    "start_time": "2021-07-08T11:46:19.301Z"
   },
   {
    "duration": 7,
    "start_time": "2021-07-08T11:46:19.321Z"
   },
   {
    "duration": 11,
    "start_time": "2021-07-08T11:46:19.330Z"
   },
   {
    "duration": 59,
    "start_time": "2021-07-08T11:46:19.343Z"
   },
   {
    "duration": 17,
    "start_time": "2021-07-08T11:46:19.405Z"
   },
   {
    "duration": 16,
    "start_time": "2021-07-08T11:46:19.424Z"
   },
   {
    "duration": 252,
    "start_time": "2021-07-08T11:46:19.443Z"
   },
   {
    "duration": 9,
    "start_time": "2021-07-08T11:46:19.697Z"
   },
   {
    "duration": 224,
    "start_time": "2021-07-08T11:46:19.708Z"
   },
   {
    "duration": 21,
    "start_time": "2021-07-08T11:46:19.934Z"
   },
   {
    "duration": 9,
    "start_time": "2021-07-08T11:46:19.956Z"
   },
   {
    "duration": 32,
    "start_time": "2021-07-08T11:46:19.967Z"
   },
   {
    "duration": 288,
    "start_time": "2021-07-08T11:46:20.004Z"
   },
   {
    "duration": 23,
    "start_time": "2021-07-08T11:46:20.300Z"
   },
   {
    "duration": 11,
    "start_time": "2021-07-08T11:46:20.325Z"
   },
   {
    "duration": 11,
    "start_time": "2021-07-08T11:46:20.339Z"
   },
   {
    "duration": 259,
    "start_time": "2021-07-08T11:46:20.352Z"
   },
   {
    "duration": 438,
    "start_time": "2021-07-08T11:46:20.613Z"
   },
   {
    "duration": 207,
    "start_time": "2021-07-08T11:46:21.054Z"
   },
   {
    "duration": 27,
    "start_time": "2021-07-08T11:46:21.262Z"
   },
   {
    "duration": 19,
    "start_time": "2021-07-08T11:46:21.291Z"
   },
   {
    "duration": 820,
    "start_time": "2021-07-08T11:49:01.655Z"
   },
   {
    "duration": 372,
    "start_time": "2021-07-08T11:49:02.478Z"
   },
   {
    "duration": 98,
    "start_time": "2021-07-08T11:49:02.853Z"
   },
   {
    "duration": 6,
    "start_time": "2021-07-08T11:49:02.953Z"
   },
   {
    "duration": 39,
    "start_time": "2021-07-08T11:49:02.960Z"
   },
   {
    "duration": 9,
    "start_time": "2021-07-08T11:49:03.003Z"
   },
   {
    "duration": 23,
    "start_time": "2021-07-08T11:49:03.014Z"
   },
   {
    "duration": 6,
    "start_time": "2021-07-08T11:49:03.041Z"
   },
   {
    "duration": 20,
    "start_time": "2021-07-08T11:49:03.049Z"
   },
   {
    "duration": 18,
    "start_time": "2021-07-08T11:49:03.084Z"
   },
   {
    "duration": 14,
    "start_time": "2021-07-08T11:49:03.104Z"
   },
   {
    "duration": 39,
    "start_time": "2021-07-08T11:49:03.119Z"
   },
   {
    "duration": 38,
    "start_time": "2021-07-08T11:49:03.160Z"
   },
   {
    "duration": 26,
    "start_time": "2021-07-08T11:49:03.200Z"
   },
   {
    "duration": 7,
    "start_time": "2021-07-08T11:49:03.227Z"
   },
   {
    "duration": 4,
    "start_time": "2021-07-08T11:49:03.236Z"
   },
   {
    "duration": 15,
    "start_time": "2021-07-08T11:49:03.243Z"
   },
   {
    "duration": 21,
    "start_time": "2021-07-08T11:49:03.285Z"
   },
   {
    "duration": 17,
    "start_time": "2021-07-08T11:49:03.309Z"
   },
   {
    "duration": 10,
    "start_time": "2021-07-08T11:49:03.328Z"
   },
   {
    "duration": 65,
    "start_time": "2021-07-08T11:49:03.340Z"
   },
   {
    "duration": 18,
    "start_time": "2021-07-08T11:49:03.407Z"
   },
   {
    "duration": 8,
    "start_time": "2021-07-08T11:49:03.428Z"
   },
   {
    "duration": 15,
    "start_time": "2021-07-08T11:49:03.438Z"
   },
   {
    "duration": 40,
    "start_time": "2021-07-08T11:49:03.455Z"
   },
   {
    "duration": 12,
    "start_time": "2021-07-08T11:49:03.497Z"
   },
   {
    "duration": 29,
    "start_time": "2021-07-08T11:49:03.511Z"
   },
   {
    "duration": 285,
    "start_time": "2021-07-08T11:49:03.542Z"
   },
   {
    "duration": 8,
    "start_time": "2021-07-08T11:49:03.829Z"
   },
   {
    "duration": 227,
    "start_time": "2021-07-08T11:49:03.838Z"
   },
   {
    "duration": 40,
    "start_time": "2021-07-08T11:49:04.066Z"
   },
   {
    "duration": 10,
    "start_time": "2021-07-08T11:49:04.108Z"
   },
   {
    "duration": 26,
    "start_time": "2021-07-08T11:49:04.121Z"
   },
   {
    "duration": 290,
    "start_time": "2021-07-08T11:49:04.149Z"
   },
   {
    "duration": 26,
    "start_time": "2021-07-08T11:49:04.441Z"
   },
   {
    "duration": 31,
    "start_time": "2021-07-08T11:49:04.470Z"
   },
   {
    "duration": 14,
    "start_time": "2021-07-08T11:49:04.503Z"
   },
   {
    "duration": 259,
    "start_time": "2021-07-08T11:49:04.521Z"
   },
   {
    "duration": 480,
    "start_time": "2021-07-08T11:49:04.782Z"
   },
   {
    "duration": 225,
    "start_time": "2021-07-08T11:49:05.264Z"
   },
   {
    "duration": 22,
    "start_time": "2021-07-08T11:49:05.491Z"
   },
   {
    "duration": 24,
    "start_time": "2021-07-08T11:49:05.515Z"
   },
   {
    "duration": 634,
    "start_time": "2021-07-08T11:52:24.960Z"
   },
   {
    "duration": 199,
    "start_time": "2021-07-08T11:52:25.599Z"
   },
   {
    "duration": 106,
    "start_time": "2021-07-08T11:52:25.803Z"
   },
   {
    "duration": 7,
    "start_time": "2021-07-08T11:52:25.911Z"
   },
   {
    "duration": 29,
    "start_time": "2021-07-08T11:52:25.920Z"
   },
   {
    "duration": 7,
    "start_time": "2021-07-08T11:52:25.951Z"
   },
   {
    "duration": 26,
    "start_time": "2021-07-08T11:52:25.961Z"
   },
   {
    "duration": 11,
    "start_time": "2021-07-08T11:52:25.990Z"
   },
   {
    "duration": 29,
    "start_time": "2021-07-08T11:52:26.005Z"
   },
   {
    "duration": 9,
    "start_time": "2021-07-08T11:52:26.036Z"
   },
   {
    "duration": 8,
    "start_time": "2021-07-08T11:52:26.047Z"
   },
   {
    "duration": 63,
    "start_time": "2021-07-08T11:52:26.057Z"
   },
   {
    "duration": 17,
    "start_time": "2021-07-08T11:52:26.122Z"
   },
   {
    "duration": 43,
    "start_time": "2021-07-08T11:52:26.142Z"
   },
   {
    "duration": 17,
    "start_time": "2021-07-08T11:52:26.187Z"
   },
   {
    "duration": 5,
    "start_time": "2021-07-08T11:52:26.206Z"
   },
   {
    "duration": 12,
    "start_time": "2021-07-08T11:52:26.212Z"
   },
   {
    "duration": 11,
    "start_time": "2021-07-08T11:52:26.226Z"
   },
   {
    "duration": 12,
    "start_time": "2021-07-08T11:52:26.238Z"
   },
   {
    "duration": 38,
    "start_time": "2021-07-08T11:52:26.252Z"
   },
   {
    "duration": 40,
    "start_time": "2021-07-08T11:52:26.292Z"
   },
   {
    "duration": 17,
    "start_time": "2021-07-08T11:52:26.336Z"
   },
   {
    "duration": 39,
    "start_time": "2021-07-08T11:52:26.355Z"
   },
   {
    "duration": 11,
    "start_time": "2021-07-08T11:52:26.395Z"
   },
   {
    "duration": 23,
    "start_time": "2021-07-08T11:52:26.408Z"
   },
   {
    "duration": 12,
    "start_time": "2021-07-08T11:52:26.432Z"
   },
   {
    "duration": 41,
    "start_time": "2021-07-08T11:52:26.446Z"
   },
   {
    "duration": 215,
    "start_time": "2021-07-08T11:52:26.493Z"
   },
   {
    "duration": 8,
    "start_time": "2021-07-08T11:52:26.710Z"
   },
   {
    "duration": 228,
    "start_time": "2021-07-08T11:52:26.720Z"
   },
   {
    "duration": 18,
    "start_time": "2021-07-08T11:52:26.950Z"
   },
   {
    "duration": 35,
    "start_time": "2021-07-08T11:52:26.969Z"
   },
   {
    "duration": 23,
    "start_time": "2021-07-08T11:52:27.006Z"
   },
   {
    "duration": 258,
    "start_time": "2021-07-08T11:52:27.030Z"
   },
   {
    "duration": 24,
    "start_time": "2021-07-08T11:52:27.290Z"
   },
   {
    "duration": 12,
    "start_time": "2021-07-08T11:52:27.316Z"
   },
   {
    "duration": 10,
    "start_time": "2021-07-08T11:52:27.329Z"
   },
   {
    "duration": 298,
    "start_time": "2021-07-08T11:52:27.341Z"
   },
   {
    "duration": 436,
    "start_time": "2021-07-08T11:52:27.641Z"
   },
   {
    "duration": 216,
    "start_time": "2021-07-08T11:52:28.079Z"
   },
   {
    "duration": 20,
    "start_time": "2021-07-08T11:52:28.297Z"
   },
   {
    "duration": 17,
    "start_time": "2021-07-08T11:52:28.319Z"
   },
   {
    "duration": 1072,
    "start_time": "2021-08-08T21:31:11.459Z"
   },
   {
    "duration": 212,
    "start_time": "2021-08-08T21:33:37.536Z"
   },
   {
    "duration": 13,
    "start_time": "2021-08-08T21:34:23.892Z"
   },
   {
    "duration": 69,
    "start_time": "2021-08-08T21:35:57.840Z"
   },
   {
    "duration": 7,
    "start_time": "2021-08-08T21:36:22.377Z"
   },
   {
    "duration": 18,
    "start_time": "2021-08-08T21:37:34.356Z"
   },
   {
    "duration": 1278,
    "start_time": "2021-08-08T21:39:02.312Z"
   },
   {
    "duration": 866,
    "start_time": "2021-08-08T21:39:09.315Z"
   },
   {
    "duration": 845,
    "start_time": "2021-08-08T21:39:19.390Z"
   },
   {
    "duration": 1620,
    "start_time": "2021-08-09T07:47:12.470Z"
   },
   {
    "duration": 276,
    "start_time": "2021-08-09T07:47:15.515Z"
   },
   {
    "duration": 536,
    "start_time": "2021-08-09T07:48:56.616Z"
   },
   {
    "duration": 1574,
    "start_time": "2021-08-09T07:50:25.484Z"
   },
   {
    "duration": 1571,
    "start_time": "2021-08-09T07:50:39.408Z"
   },
   {
    "duration": 1567,
    "start_time": "2021-08-09T07:50:50.655Z"
   },
   {
    "duration": 27,
    "start_time": "2021-08-09T07:51:25.867Z"
   },
   {
    "duration": 16,
    "start_time": "2021-08-09T07:52:37.066Z"
   },
   {
    "duration": 4,
    "start_time": "2021-08-09T07:53:28.337Z"
   },
   {
    "duration": 274,
    "start_time": "2021-08-09T07:53:29.672Z"
   },
   {
    "duration": 16,
    "start_time": "2021-08-09T07:53:30.712Z"
   },
   {
    "duration": 442,
    "start_time": "2021-08-09T07:53:31.896Z"
   },
   {
    "duration": 416,
    "start_time": "2021-08-09T07:54:52.546Z"
   },
   {
    "duration": 9,
    "start_time": "2021-08-09T07:55:27.372Z"
   },
   {
    "duration": 7,
    "start_time": "2021-08-09T07:55:54.963Z"
   },
   {
    "duration": 7,
    "start_time": "2021-08-09T07:56:15.778Z"
   },
   {
    "duration": 390,
    "start_time": "2021-08-09T07:56:25.302Z"
   },
   {
    "duration": 58,
    "start_time": "2021-08-09T07:56:37.369Z"
   },
   {
    "duration": 8,
    "start_time": "2021-08-09T07:59:16.100Z"
   },
   {
    "duration": 8,
    "start_time": "2021-08-09T07:59:39.842Z"
   },
   {
    "duration": 807,
    "start_time": "2021-08-09T07:59:40.681Z"
   },
   {
    "duration": 7,
    "start_time": "2021-08-09T07:59:47.470Z"
   },
   {
    "duration": 64,
    "start_time": "2021-08-09T07:59:50.203Z"
   },
   {
    "duration": 7,
    "start_time": "2021-08-09T08:00:11.825Z"
   },
   {
    "duration": 101,
    "start_time": "2021-08-09T08:00:13.120Z"
   },
   {
    "duration": 8,
    "start_time": "2021-08-09T08:00:50.695Z"
   },
   {
    "duration": 821,
    "start_time": "2021-08-09T08:00:52.204Z"
   },
   {
    "duration": 7,
    "start_time": "2021-08-09T08:01:11.395Z"
   },
   {
    "duration": 80,
    "start_time": "2021-08-09T08:01:11.931Z"
   },
   {
    "duration": 7,
    "start_time": "2021-08-09T08:02:09.387Z"
   },
   {
    "duration": 405,
    "start_time": "2021-08-09T08:02:36.722Z"
   },
   {
    "duration": 397,
    "start_time": "2021-08-09T08:02:47.577Z"
   },
   {
    "duration": 102,
    "start_time": "2021-08-09T08:03:00.012Z"
   },
   {
    "duration": 27,
    "start_time": "2021-08-09T08:03:00.919Z"
   },
   {
    "duration": 385,
    "start_time": "2021-08-09T08:04:51.784Z"
   },
   {
    "duration": 390,
    "start_time": "2021-08-09T08:05:10.062Z"
   },
   {
    "duration": 381,
    "start_time": "2021-08-09T08:05:20.452Z"
   },
   {
    "duration": 1512,
    "start_time": "2021-08-09T08:05:36.198Z"
   },
   {
    "duration": 8,
    "start_time": "2021-08-09T08:07:17.874Z"
   },
   {
    "duration": 943,
    "start_time": "2021-08-09T08:07:23.737Z"
   },
   {
    "duration": 7,
    "start_time": "2021-08-09T08:07:34.698Z"
   },
   {
    "duration": 84,
    "start_time": "2021-08-09T08:07:39.234Z"
   },
   {
    "duration": 65,
    "start_time": "2021-08-09T08:07:44.529Z"
   },
   {
    "duration": 28,
    "start_time": "2021-08-09T08:07:44.601Z"
   },
   {
    "duration": 2719,
    "start_time": "2021-08-09T08:08:41.666Z"
   },
   {
    "duration": 3033,
    "start_time": "2021-08-09T08:12:20.067Z"
   },
   {
    "duration": 3186,
    "start_time": "2021-08-09T08:13:07.315Z"
   },
   {
    "duration": 7,
    "start_time": "2021-08-09T08:18:14.897Z"
   },
   {
    "duration": 415,
    "start_time": "2021-08-09T08:19:56.424Z"
   },
   {
    "duration": 622,
    "start_time": "2021-08-09T08:20:06.443Z"
   },
   {
    "duration": 780,
    "start_time": "2021-08-09T08:20:15.262Z"
   },
   {
    "duration": 528,
    "start_time": "2021-08-09T08:20:35.845Z"
   },
   {
    "duration": 758,
    "start_time": "2021-08-09T08:20:44.432Z"
   },
   {
    "duration": 5,
    "start_time": "2021-08-09T08:21:23.145Z"
   },
   {
    "duration": 420,
    "start_time": "2021-08-09T08:21:26.639Z"
   },
   {
    "duration": 60,
    "start_time": "2021-08-09T08:22:28.183Z"
   },
   {
    "duration": 64,
    "start_time": "2021-08-09T08:22:45.157Z"
   },
   {
    "duration": 18,
    "start_time": "2021-08-09T08:24:09.040Z"
   },
   {
    "duration": 96,
    "start_time": "2021-08-09T08:24:39.793Z"
   },
   {
    "duration": 436,
    "start_time": "2021-08-09T08:28:42.271Z"
   },
   {
    "duration": 371,
    "start_time": "2021-08-09T08:28:47.120Z"
   },
   {
    "duration": 371,
    "start_time": "2021-08-09T08:28:55.105Z"
   },
   {
    "duration": 2882,
    "start_time": "2021-08-09T08:30:47.807Z"
   },
   {
    "duration": 13,
    "start_time": "2021-08-09T08:31:03.971Z"
   },
   {
    "duration": 25,
    "start_time": "2021-08-09T08:31:23.451Z"
   },
   {
    "duration": 407,
    "start_time": "2021-08-09T08:31:47.539Z"
   },
   {
    "duration": 16,
    "start_time": "2021-08-09T08:31:50.761Z"
   },
   {
    "duration": 8,
    "start_time": "2021-08-09T08:32:51.581Z"
   },
   {
    "duration": 16,
    "start_time": "2021-08-09T08:32:53.123Z"
   },
   {
    "duration": 34,
    "start_time": "2021-08-09T08:33:00.705Z"
   },
   {
    "duration": 4269,
    "start_time": "2021-08-09T08:35:35.352Z"
   },
   {
    "duration": 7975,
    "start_time": "2021-08-09T08:36:23.282Z"
   },
   {
    "duration": 1186,
    "start_time": "2021-08-09T08:36:39.101Z"
   },
   {
    "duration": 148,
    "start_time": "2021-08-09T08:37:25.024Z"
   },
   {
    "duration": 385,
    "start_time": "2021-08-09T08:37:33.742Z"
   },
   {
    "duration": 398,
    "start_time": "2021-08-09T08:39:12.714Z"
   },
   {
    "duration": 6,
    "start_time": "2021-08-09T08:39:39.656Z"
   },
   {
    "duration": 6,
    "start_time": "2021-08-09T08:40:19.508Z"
   },
   {
    "duration": 50,
    "start_time": "2021-08-09T08:40:51.644Z"
   },
   {
    "duration": 138,
    "start_time": "2021-08-09T08:41:19.370Z"
   },
   {
    "duration": 31,
    "start_time": "2021-08-09T08:41:24.868Z"
   },
   {
    "duration": 142,
    "start_time": "2021-08-09T08:48:32.270Z"
   },
   {
    "duration": 4019,
    "start_time": "2021-08-09T08:49:21.945Z"
   },
   {
    "duration": -34,
    "start_time": "2021-08-09T08:49:26.001Z"
   },
   {
    "duration": 3980,
    "start_time": "2021-08-09T08:50:39.804Z"
   },
   {
    "duration": 1425,
    "start_time": "2021-08-09T08:57:47.411Z"
   },
   {
    "duration": 280,
    "start_time": "2021-08-09T08:57:48.839Z"
   },
   {
    "duration": 16,
    "start_time": "2021-08-09T08:57:49.122Z"
   },
   {
    "duration": 14,
    "start_time": "2021-08-09T08:57:49.140Z"
   },
   {
    "duration": 832,
    "start_time": "2021-08-09T08:57:49.156Z"
   },
   {
    "duration": 94,
    "start_time": "2021-08-09T08:57:49.991Z"
   },
   {
    "duration": 30,
    "start_time": "2021-08-09T08:57:50.088Z"
   },
   {
    "duration": 5,
    "start_time": "2021-08-09T08:57:50.121Z"
   },
   {
    "duration": 21,
    "start_time": "2021-08-09T08:57:58.046Z"
   },
   {
    "duration": 100,
    "start_time": "2021-08-09T08:58:00.389Z"
   },
   {
    "duration": 15,
    "start_time": "2021-08-09T08:58:05.693Z"
   },
   {
    "duration": 10,
    "start_time": "2021-08-09T08:58:34.918Z"
   },
   {
    "duration": 15,
    "start_time": "2021-08-09T08:58:45.573Z"
   },
   {
    "duration": 10,
    "start_time": "2021-08-09T08:59:54.876Z"
   },
   {
    "duration": 517,
    "start_time": "2021-08-09T09:03:19.473Z"
   },
   {
    "duration": 9,
    "start_time": "2021-08-09T09:03:28.958Z"
   },
   {
    "duration": 415,
    "start_time": "2021-08-09T09:03:36.615Z"
   },
   {
    "duration": 9,
    "start_time": "2021-08-09T09:03:46.253Z"
   },
   {
    "duration": 26,
    "start_time": "2021-08-09T09:04:19.814Z"
   },
   {
    "duration": 6019,
    "start_time": "2021-08-09T09:07:40.122Z"
   },
   {
    "duration": 165,
    "start_time": "2021-08-09T09:07:55.117Z"
   },
   {
    "duration": 120,
    "start_time": "2021-08-09T09:08:13.108Z"
   },
   {
    "duration": 8140,
    "start_time": "2021-08-09T09:08:20.520Z"
   },
   {
    "duration": 5,
    "start_time": "2021-08-09T09:12:58.965Z"
   },
   {
    "duration": 2240,
    "start_time": "2021-08-09T09:13:49.056Z"
   },
   {
    "duration": 12,
    "start_time": "2021-08-09T09:15:36.391Z"
   },
   {
    "duration": 10,
    "start_time": "2021-08-09T09:15:36.880Z"
   },
   {
    "duration": 4,
    "start_time": "2021-08-09T09:15:37.322Z"
   },
   {
    "duration": 1956,
    "start_time": "2021-08-09T09:15:38.564Z"
   },
   {
    "duration": 4,
    "start_time": "2021-08-09T09:16:28.082Z"
   },
   {
    "duration": 2117,
    "start_time": "2021-08-09T09:16:28.766Z"
   },
   {
    "duration": 637,
    "start_time": "2021-08-09T09:16:49.660Z"
   },
   {
    "duration": 4,
    "start_time": "2021-08-09T09:16:57.892Z"
   },
   {
    "duration": 4,
    "start_time": "2021-08-09T09:17:32.273Z"
   },
   {
    "duration": 2367,
    "start_time": "2021-08-09T09:17:33.378Z"
   },
   {
    "duration": 3,
    "start_time": "2021-08-09T09:18:02.027Z"
   },
   {
    "duration": 2185,
    "start_time": "2021-08-09T09:18:03.452Z"
   },
   {
    "duration": 4,
    "start_time": "2021-08-09T09:18:41.334Z"
   },
   {
    "duration": 2458,
    "start_time": "2021-08-09T09:18:44.010Z"
   },
   {
    "duration": 5,
    "start_time": "2021-08-09T09:18:58.810Z"
   },
   {
    "duration": 2117,
    "start_time": "2021-08-09T09:18:59.547Z"
   },
   {
    "duration": 5,
    "start_time": "2021-08-09T09:19:10.833Z"
   },
   {
    "duration": 2095,
    "start_time": "2021-08-09T09:19:11.616Z"
   },
   {
    "duration": 443,
    "start_time": "2021-08-09T09:25:35.401Z"
   },
   {
    "duration": 595,
    "start_time": "2021-08-09T09:25:47.272Z"
   },
   {
    "duration": 8,
    "start_time": "2021-08-09T09:25:57.239Z"
   },
   {
    "duration": 11,
    "start_time": "2021-08-09T09:26:07.878Z"
   },
   {
    "duration": 146,
    "start_time": "2021-08-09T09:26:29.694Z"
   },
   {
    "duration": 139,
    "start_time": "2021-08-09T09:26:35.286Z"
   },
   {
    "duration": 11,
    "start_time": "2021-08-09T09:26:37.565Z"
   },
   {
    "duration": 10,
    "start_time": "2021-08-09T09:26:48.729Z"
   },
   {
    "duration": 4,
    "start_time": "2021-08-09T09:27:12.031Z"
   },
   {
    "duration": 4,
    "start_time": "2021-08-09T09:27:30.120Z"
   },
   {
    "duration": 5,
    "start_time": "2021-08-09T09:27:38.212Z"
   },
   {
    "duration": 4,
    "start_time": "2021-08-09T09:28:20.318Z"
   },
   {
    "duration": 5,
    "start_time": "2021-08-09T09:28:27.621Z"
   },
   {
    "duration": 149,
    "start_time": "2021-08-09T09:30:26.728Z"
   },
   {
    "duration": 12,
    "start_time": "2021-08-09T09:31:37.396Z"
   },
   {
    "duration": 11,
    "start_time": "2021-08-09T09:31:49.220Z"
   },
   {
    "duration": 10,
    "start_time": "2021-08-09T09:32:01.454Z"
   },
   {
    "duration": 10,
    "start_time": "2021-08-09T09:32:06.365Z"
   },
   {
    "duration": 126,
    "start_time": "2021-08-09T09:33:26.751Z"
   },
   {
    "duration": 126,
    "start_time": "2021-08-09T09:33:32.442Z"
   },
   {
    "duration": 162,
    "start_time": "2021-08-09T09:33:44.312Z"
   },
   {
    "duration": 607,
    "start_time": "2021-08-09T09:34:01.714Z"
   },
   {
    "duration": 6,
    "start_time": "2021-08-09T09:34:35.088Z"
   },
   {
    "duration": 139,
    "start_time": "2021-08-09T09:36:59.332Z"
   },
   {
    "duration": 11,
    "start_time": "2021-08-09T09:37:04.485Z"
   },
   {
    "duration": 8,
    "start_time": "2021-08-09T09:37:38.273Z"
   },
   {
    "duration": 457,
    "start_time": "2021-08-09T09:37:58.055Z"
   },
   {
    "duration": 137,
    "start_time": "2021-08-09T09:38:53.754Z"
   },
   {
    "duration": 134,
    "start_time": "2021-08-09T09:39:04.159Z"
   },
   {
    "duration": 141,
    "start_time": "2021-08-09T09:39:13.426Z"
   },
   {
    "duration": 15,
    "start_time": "2021-08-09T09:39:24.259Z"
   },
   {
    "duration": 13,
    "start_time": "2021-08-09T09:39:41.491Z"
   },
   {
    "duration": 14,
    "start_time": "2021-08-09T09:39:42.039Z"
   },
   {
    "duration": 461,
    "start_time": "2021-08-09T09:39:45.190Z"
   },
   {
    "duration": 7,
    "start_time": "2021-08-09T09:39:58.571Z"
   },
   {
    "duration": 11,
    "start_time": "2021-08-09T09:40:13.551Z"
   },
   {
    "duration": 1481,
    "start_time": "2021-08-09T09:40:58.680Z"
   },
   {
    "duration": 342,
    "start_time": "2021-08-09T09:41:00.163Z"
   },
   {
    "duration": 14,
    "start_time": "2021-08-09T09:41:00.508Z"
   },
   {
    "duration": 12,
    "start_time": "2021-08-09T09:41:00.525Z"
   },
   {
    "duration": 849,
    "start_time": "2021-08-09T09:41:00.539Z"
   },
   {
    "duration": 155,
    "start_time": "2021-08-09T09:41:01.391Z"
   },
   {
    "duration": 28,
    "start_time": "2021-08-09T09:41:01.549Z"
   },
   {
    "duration": 11,
    "start_time": "2021-08-09T09:41:01.580Z"
   },
   {
    "duration": 38,
    "start_time": "2021-08-09T09:41:01.593Z"
   },
   {
    "duration": 125,
    "start_time": "2021-08-09T09:41:01.634Z"
   },
   {
    "duration": 31,
    "start_time": "2021-08-09T09:41:01.762Z"
   },
   {
    "duration": 11,
    "start_time": "2021-08-09T09:46:47.646Z"
   },
   {
    "duration": 11,
    "start_time": "2021-08-09T09:47:22.671Z"
   },
   {
    "duration": 7,
    "start_time": "2021-08-09T09:47:37.294Z"
   },
   {
    "duration": 6,
    "start_time": "2021-08-09T09:47:46.970Z"
   },
   {
    "duration": 548,
    "start_time": "2021-08-09T09:48:42.174Z"
   },
   {
    "duration": 391,
    "start_time": "2021-08-09T09:49:22.616Z"
   },
   {
    "duration": 383,
    "start_time": "2021-08-09T09:49:26.249Z"
   },
   {
    "duration": 381,
    "start_time": "2021-08-09T09:53:54.380Z"
   },
   {
    "duration": 500,
    "start_time": "2021-08-09T09:58:48.720Z"
   },
   {
    "duration": 391,
    "start_time": "2021-08-09T10:01:57.163Z"
   },
   {
    "duration": 6,
    "start_time": "2021-08-09T10:02:20.524Z"
   },
   {
    "duration": 6,
    "start_time": "2021-08-09T10:02:33.933Z"
   },
   {
    "duration": 5,
    "start_time": "2021-08-09T10:02:40.515Z"
   },
   {
    "duration": 389,
    "start_time": "2021-08-09T10:02:56.986Z"
   },
   {
    "duration": 17,
    "start_time": "2021-08-09T10:06:29.399Z"
   },
   {
    "duration": 1427,
    "start_time": "2021-08-09T10:06:41.534Z"
   },
   {
    "duration": 356,
    "start_time": "2021-08-09T10:06:43.622Z"
   },
   {
    "duration": 18,
    "start_time": "2021-08-09T10:06:44.005Z"
   },
   {
    "duration": 8,
    "start_time": "2021-08-09T10:06:44.307Z"
   },
   {
    "duration": 1059,
    "start_time": "2021-08-09T10:06:44.691Z"
   },
   {
    "duration": 67,
    "start_time": "2021-08-09T10:06:45.753Z"
   },
   {
    "duration": 30,
    "start_time": "2021-08-09T10:06:45.920Z"
   },
   {
    "duration": 5,
    "start_time": "2021-08-09T10:06:46.665Z"
   },
   {
    "duration": 21,
    "start_time": "2021-08-09T10:06:48.492Z"
   },
   {
    "duration": 92,
    "start_time": "2021-08-09T10:06:50.652Z"
   },
   {
    "duration": 15,
    "start_time": "2021-08-09T10:07:26.598Z"
   },
   {
    "duration": 11,
    "start_time": "2021-08-09T10:07:28.079Z"
   },
   {
    "duration": 22,
    "start_time": "2021-08-09T10:09:19.505Z"
   },
   {
    "duration": 97,
    "start_time": "2021-08-09T10:09:22.635Z"
   },
   {
    "duration": 19,
    "start_time": "2021-08-09T10:09:34.459Z"
   },
   {
    "duration": 85,
    "start_time": "2021-08-09T10:09:36.445Z"
   },
   {
    "duration": 8,
    "start_time": "2021-08-09T10:11:55.215Z"
   },
   {
    "duration": 17,
    "start_time": "2021-08-09T10:12:12.772Z"
   },
   {
    "duration": 8,
    "start_time": "2021-08-09T10:13:23.492Z"
   },
   {
    "duration": 7,
    "start_time": "2021-08-09T10:13:37.532Z"
   },
   {
    "duration": 8,
    "start_time": "2021-08-09T10:13:59.629Z"
   },
   {
    "duration": 8,
    "start_time": "2021-08-09T10:15:50.951Z"
   },
   {
    "duration": 17,
    "start_time": "2021-08-09T10:16:02.720Z"
   },
   {
    "duration": 31,
    "start_time": "2021-08-09T10:17:11.684Z"
   },
   {
    "duration": 37,
    "start_time": "2021-08-09T10:17:30.174Z"
   },
   {
    "duration": 545,
    "start_time": "2021-08-09T10:19:32.308Z"
   },
   {
    "duration": 1584,
    "start_time": "2021-08-09T10:19:51.489Z"
   },
   {
    "duration": 17,
    "start_time": "2021-08-09T10:20:20.319Z"
   },
   {
    "duration": 1479,
    "start_time": "2021-08-09T10:23:07.914Z"
   },
   {
    "duration": 329,
    "start_time": "2021-08-09T10:23:09.395Z"
   },
   {
    "duration": 16,
    "start_time": "2021-08-09T10:23:09.727Z"
   },
   {
    "duration": 8,
    "start_time": "2021-08-09T10:23:09.746Z"
   },
   {
    "duration": 1012,
    "start_time": "2021-08-09T10:23:09.757Z"
   },
   {
    "duration": 83,
    "start_time": "2021-08-09T10:23:10.773Z"
   },
   {
    "duration": 46,
    "start_time": "2021-08-09T10:23:10.859Z"
   },
   {
    "duration": 41,
    "start_time": "2021-08-09T10:23:10.908Z"
   },
   {
    "duration": 72,
    "start_time": "2021-08-09T10:23:10.952Z"
   },
   {
    "duration": 115,
    "start_time": "2021-08-09T10:23:11.026Z"
   },
   {
    "duration": 11,
    "start_time": "2021-08-09T10:24:23.018Z"
   },
   {
    "duration": 9,
    "start_time": "2021-08-09T10:24:23.833Z"
   },
   {
    "duration": 11,
    "start_time": "2021-08-09T10:24:29.256Z"
   },
   {
    "duration": 8,
    "start_time": "2021-08-09T10:24:29.690Z"
   },
   {
    "duration": 4,
    "start_time": "2021-08-09T10:24:30.164Z"
   },
   {
    "duration": 319,
    "start_time": "2021-08-09T10:24:48.192Z"
   },
   {
    "duration": 16,
    "start_time": "2021-08-09T10:24:56.119Z"
   },
   {
    "duration": 283,
    "start_time": "2021-08-09T10:25:03.224Z"
   },
   {
    "duration": 549,
    "start_time": "2021-08-09T10:25:23.410Z"
   },
   {
    "duration": 16,
    "start_time": "2021-08-09T10:25:30.349Z"
   },
   {
    "duration": 11,
    "start_time": "2021-08-09T10:26:20.739Z"
   },
   {
    "duration": 9,
    "start_time": "2021-08-09T10:26:45.940Z"
   },
   {
    "duration": 16,
    "start_time": "2021-08-09T10:26:47.846Z"
   },
   {
    "duration": 410,
    "start_time": "2021-08-09T10:27:16.205Z"
   },
   {
    "duration": 7,
    "start_time": "2021-08-09T10:27:29.169Z"
   },
   {
    "duration": 19,
    "start_time": "2021-08-09T10:27:30.398Z"
   },
   {
    "duration": 8,
    "start_time": "2021-08-09T10:27:40.488Z"
   },
   {
    "duration": 16,
    "start_time": "2021-08-09T10:27:41.355Z"
   },
   {
    "duration": 1140,
    "start_time": "2021-08-09T10:28:01.477Z"
   },
   {
    "duration": 1184,
    "start_time": "2021-08-09T10:37:31.278Z"
   },
   {
    "duration": 1577,
    "start_time": "2021-08-09T10:43:46.155Z"
   },
   {
    "duration": 318,
    "start_time": "2021-08-09T10:43:47.735Z"
   },
   {
    "duration": 14,
    "start_time": "2021-08-09T10:43:48.057Z"
   },
   {
    "duration": 23,
    "start_time": "2021-08-09T10:43:48.074Z"
   },
   {
    "duration": 2461,
    "start_time": "2021-08-09T10:43:48.099Z"
   },
   {
    "duration": 92,
    "start_time": "2021-08-09T10:43:50.563Z"
   },
   {
    "duration": 31,
    "start_time": "2021-08-09T10:43:50.658Z"
   },
   {
    "duration": 19,
    "start_time": "2021-08-09T10:43:50.691Z"
   },
   {
    "duration": 36,
    "start_time": "2021-08-09T10:43:50.713Z"
   },
   {
    "duration": 92,
    "start_time": "2021-08-09T10:43:50.751Z"
   },
   {
    "duration": 14,
    "start_time": "2021-08-09T10:43:58.263Z"
   },
   {
    "duration": 11,
    "start_time": "2021-08-09T10:43:58.713Z"
   },
   {
    "duration": 9,
    "start_time": "2021-08-09T10:43:59.156Z"
   },
   {
    "duration": 5,
    "start_time": "2021-08-09T10:44:03.472Z"
   },
   {
    "duration": 301,
    "start_time": "2021-08-09T10:44:07.879Z"
   },
   {
    "duration": 547,
    "start_time": "2021-08-09T10:44:48.623Z"
   },
   {
    "duration": 11,
    "start_time": "2021-08-09T10:46:06.620Z"
   },
   {
    "duration": 11,
    "start_time": "2021-08-09T10:46:20.807Z"
   },
   {
    "duration": 11,
    "start_time": "2021-08-09T10:46:33.532Z"
   },
   {
    "duration": 13,
    "start_time": "2021-08-09T10:47:06.662Z"
   },
   {
    "duration": 7,
    "start_time": "2021-08-09T10:47:17.818Z"
   },
   {
    "duration": 4,
    "start_time": "2021-08-09T10:47:35.909Z"
   },
   {
    "duration": 5,
    "start_time": "2021-08-09T10:47:47.166Z"
   },
   {
    "duration": 9,
    "start_time": "2021-08-09T10:47:56.315Z"
   },
   {
    "duration": 1464,
    "start_time": "2021-08-09T10:48:11.717Z"
   },
   {
    "duration": 298,
    "start_time": "2021-08-09T10:48:13.186Z"
   },
   {
    "duration": 14,
    "start_time": "2021-08-09T10:48:13.487Z"
   },
   {
    "duration": 8,
    "start_time": "2021-08-09T10:48:13.504Z"
   },
   {
    "duration": 1006,
    "start_time": "2021-08-09T10:48:13.514Z"
   },
   {
    "duration": 81,
    "start_time": "2021-08-09T10:48:14.523Z"
   },
   {
    "duration": 31,
    "start_time": "2021-08-09T10:48:14.607Z"
   },
   {
    "duration": 5,
    "start_time": "2021-08-09T10:48:14.642Z"
   },
   {
    "duration": 42,
    "start_time": "2021-08-09T10:48:14.650Z"
   },
   {
    "duration": 117,
    "start_time": "2021-08-09T10:48:14.695Z"
   },
   {
    "duration": 17,
    "start_time": "2021-08-09T10:48:14.815Z"
   },
   {
    "duration": 13,
    "start_time": "2021-08-09T10:48:18.873Z"
   },
   {
    "duration": 10,
    "start_time": "2021-08-09T10:48:19.741Z"
   },
   {
    "duration": 9,
    "start_time": "2021-08-09T10:48:20.177Z"
   },
   {
    "duration": 12,
    "start_time": "2021-08-09T10:48:21.605Z"
   },
   {
    "duration": 10,
    "start_time": "2021-08-09T10:48:46.922Z"
   },
   {
    "duration": 8,
    "start_time": "2021-08-09T10:49:01.461Z"
   },
   {
    "duration": 6,
    "start_time": "2021-08-09T10:49:09.733Z"
   },
   {
    "duration": 7,
    "start_time": "2021-08-09T10:49:13.883Z"
   },
   {
    "duration": 1008,
    "start_time": "2021-08-09T10:51:52.985Z"
   },
   {
    "duration": 506,
    "start_time": "2021-08-09T10:52:01.556Z"
   },
   {
    "duration": 13,
    "start_time": "2021-08-09T10:52:08.874Z"
   },
   {
    "duration": 453,
    "start_time": "2021-08-09T10:52:14.634Z"
   },
   {
    "duration": 16,
    "start_time": "2021-08-09T10:52:39.326Z"
   },
   {
    "duration": 13,
    "start_time": "2021-08-09T10:52:52.070Z"
   },
   {
    "duration": 8,
    "start_time": "2021-08-09T10:53:20.665Z"
   },
   {
    "duration": 15,
    "start_time": "2021-08-09T10:53:24.526Z"
   },
   {
    "duration": 9,
    "start_time": "2021-08-09T10:53:44.542Z"
   },
   {
    "duration": 427,
    "start_time": "2021-08-09T10:53:45.615Z"
   },
   {
    "duration": 15,
    "start_time": "2021-08-09T10:53:46.164Z"
   },
   {
    "duration": 15,
    "start_time": "2021-08-09T10:54:02.413Z"
   },
   {
    "duration": 1548,
    "start_time": "2021-08-09T10:54:39.441Z"
   },
   {
    "duration": 493,
    "start_time": "2021-08-09T10:54:40.991Z"
   },
   {
    "duration": 16,
    "start_time": "2021-08-09T10:54:41.487Z"
   },
   {
    "duration": 10,
    "start_time": "2021-08-09T10:54:41.506Z"
   },
   {
    "duration": 838,
    "start_time": "2021-08-09T10:54:41.518Z"
   },
   {
    "duration": 77,
    "start_time": "2021-08-09T10:54:42.359Z"
   },
   {
    "duration": 30,
    "start_time": "2021-08-09T10:54:42.439Z"
   },
   {
    "duration": 6,
    "start_time": "2021-08-09T10:54:42.473Z"
   },
   {
    "duration": 24,
    "start_time": "2021-08-09T10:54:42.482Z"
   },
   {
    "duration": 103,
    "start_time": "2021-08-09T10:54:42.508Z"
   },
   {
    "duration": 15,
    "start_time": "2021-08-09T10:54:49.202Z"
   },
   {
    "duration": 10,
    "start_time": "2021-08-09T10:54:49.778Z"
   },
   {
    "duration": 8,
    "start_time": "2021-08-09T10:54:51.257Z"
   },
   {
    "duration": 15,
    "start_time": "2021-08-09T10:59:34.916Z"
   },
   {
    "duration": 15,
    "start_time": "2021-08-09T11:00:47.586Z"
   },
   {
    "duration": 537,
    "start_time": "2021-08-09T11:02:34.122Z"
   },
   {
    "duration": 417,
    "start_time": "2021-08-09T11:02:43.174Z"
   },
   {
    "duration": 10,
    "start_time": "2021-08-09T11:04:46.886Z"
   },
   {
    "duration": 14,
    "start_time": "2021-08-09T11:05:34.286Z"
   },
   {
    "duration": 390,
    "start_time": "2021-08-09T11:08:37.603Z"
   },
   {
    "duration": 15,
    "start_time": "2021-08-09T11:11:24.623Z"
   },
   {
    "duration": 8,
    "start_time": "2021-08-09T11:11:45.179Z"
   },
   {
    "duration": 434,
    "start_time": "2021-08-09T11:12:10.740Z"
   },
   {
    "duration": 39,
    "start_time": "2021-08-09T11:12:25.060Z"
   },
   {
    "duration": 29,
    "start_time": "2021-08-09T11:12:37.049Z"
   },
   {
    "duration": 17,
    "start_time": "2021-08-09T11:13:19.080Z"
   },
   {
    "duration": 11,
    "start_time": "2021-08-09T11:13:32.494Z"
   },
   {
    "duration": 27,
    "start_time": "2021-08-09T11:13:58.738Z"
   },
   {
    "duration": 7263,
    "start_time": "2021-08-09T11:17:31.352Z"
   },
   {
    "duration": 9866,
    "start_time": "2021-08-09T11:18:06.702Z"
   },
   {
    "duration": 527,
    "start_time": "2021-08-09T11:18:33.346Z"
   },
   {
    "duration": 130,
    "start_time": "2021-08-09T11:19:09.421Z"
   },
   {
    "duration": 5,
    "start_time": "2021-08-09T11:19:16.704Z"
   },
   {
    "duration": 14,
    "start_time": "2021-08-09T11:19:38.218Z"
   },
   {
    "duration": 8012,
    "start_time": "2021-08-09T11:21:03.961Z"
   },
   {
    "duration": 8388,
    "start_time": "2021-08-09T11:21:46.426Z"
   },
   {
    "duration": 11488,
    "start_time": "2021-08-09T11:22:40.474Z"
   },
   {
    "duration": 10,
    "start_time": "2021-08-09T11:23:07.186Z"
   },
   {
    "duration": 124,
    "start_time": "2021-08-09T11:23:44.018Z"
   },
   {
    "duration": 400,
    "start_time": "2021-08-09T11:23:53.553Z"
   },
   {
    "duration": 400,
    "start_time": "2021-08-09T11:29:44.741Z"
   },
   {
    "duration": 453,
    "start_time": "2021-08-09T11:30:13.650Z"
   },
   {
    "duration": 117,
    "start_time": "2021-08-09T11:30:30.932Z"
   },
   {
    "duration": 588,
    "start_time": "2021-08-09T11:31:19.852Z"
   },
   {
    "duration": 13,
    "start_time": "2021-08-09T11:33:56.886Z"
   },
   {
    "duration": 385,
    "start_time": "2021-08-09T11:34:39.164Z"
   },
   {
    "duration": 415,
    "start_time": "2021-08-09T11:34:46.263Z"
   },
   {
    "duration": 22,
    "start_time": "2021-08-09T11:36:31.915Z"
   },
   {
    "duration": 413,
    "start_time": "2021-08-09T11:36:55.559Z"
   },
   {
    "duration": 30,
    "start_time": "2021-08-09T11:37:10.969Z"
   },
   {
    "duration": 26,
    "start_time": "2021-08-09T11:37:16.733Z"
   },
   {
    "duration": 1445,
    "start_time": "2021-08-09T11:38:22.013Z"
   },
   {
    "duration": 304,
    "start_time": "2021-08-09T11:38:23.461Z"
   },
   {
    "duration": 19,
    "start_time": "2021-08-09T11:38:23.768Z"
   },
   {
    "duration": 8,
    "start_time": "2021-08-09T11:38:23.790Z"
   },
   {
    "duration": 836,
    "start_time": "2021-08-09T11:38:23.800Z"
   },
   {
    "duration": 97,
    "start_time": "2021-08-09T11:38:24.639Z"
   },
   {
    "duration": 31,
    "start_time": "2021-08-09T11:38:24.738Z"
   },
   {
    "duration": 5,
    "start_time": "2021-08-09T11:38:24.772Z"
   },
   {
    "duration": 32,
    "start_time": "2021-08-09T11:38:24.780Z"
   },
   {
    "duration": 96,
    "start_time": "2021-08-09T11:38:24.815Z"
   },
   {
    "duration": 14,
    "start_time": "2021-08-09T11:38:24.913Z"
   },
   {
    "duration": 22,
    "start_time": "2021-08-09T11:38:24.930Z"
   },
   {
    "duration": 22,
    "start_time": "2021-08-09T11:38:24.955Z"
   },
   {
    "duration": 31,
    "start_time": "2021-08-09T11:38:24.979Z"
   },
   {
    "duration": 10,
    "start_time": "2021-08-09T11:38:25.012Z"
   },
   {
    "duration": 544,
    "start_time": "2021-08-09T11:40:21.369Z"
   },
   {
    "duration": -355,
    "start_time": "2021-08-09T11:40:22.270Z"
   },
   {
    "duration": 5,
    "start_time": "2021-08-09T11:42:26.315Z"
   },
   {
    "duration": 260,
    "start_time": "2021-08-09T11:42:26.323Z"
   },
   {
    "duration": 15,
    "start_time": "2021-08-09T11:42:26.586Z"
   },
   {
    "duration": 8,
    "start_time": "2021-08-09T11:42:26.604Z"
   },
   {
    "duration": 121,
    "start_time": "2021-08-09T11:42:26.614Z"
   },
   {
    "duration": 67,
    "start_time": "2021-08-09T11:42:26.738Z"
   },
   {
    "duration": 28,
    "start_time": "2021-08-09T11:42:26.809Z"
   },
   {
    "duration": 4,
    "start_time": "2021-08-09T11:42:26.840Z"
   },
   {
    "duration": 40,
    "start_time": "2021-08-09T11:42:26.846Z"
   },
   {
    "duration": 107,
    "start_time": "2021-08-09T11:42:26.888Z"
   },
   {
    "duration": 15,
    "start_time": "2021-08-09T11:42:26.998Z"
   },
   {
    "duration": 30,
    "start_time": "2021-08-09T11:42:27.015Z"
   },
   {
    "duration": 22,
    "start_time": "2021-08-09T11:42:27.047Z"
   },
   {
    "duration": 17,
    "start_time": "2021-08-09T11:42:33.670Z"
   },
   {
    "duration": 7,
    "start_time": "2021-08-09T11:42:35.574Z"
   },
   {
    "duration": 6,
    "start_time": "2021-08-09T11:42:37.137Z"
   },
   {
    "duration": 14,
    "start_time": "2021-08-09T11:42:38.159Z"
   },
   {
    "duration": 28,
    "start_time": "2021-08-09T11:42:40.624Z"
   },
   {
    "duration": 27,
    "start_time": "2021-08-09T11:42:50.330Z"
   },
   {
    "duration": 33,
    "start_time": "2021-08-09T11:43:10.144Z"
   },
   {
    "duration": 26,
    "start_time": "2021-08-09T11:44:53.137Z"
   },
   {
    "duration": 26,
    "start_time": "2021-08-09T11:45:01.475Z"
   },
   {
    "duration": 9,
    "start_time": "2021-08-09T11:47:58.207Z"
   },
   {
    "duration": 9377,
    "start_time": "2021-08-09T11:48:39.780Z"
   },
   {
    "duration": 10,
    "start_time": "2021-08-09T11:49:12.841Z"
   },
   {
    "duration": 9,
    "start_time": "2021-08-09T11:49:52.891Z"
   },
   {
    "duration": 8,
    "start_time": "2021-08-09T11:51:35.130Z"
   },
   {
    "duration": 9,
    "start_time": "2021-08-09T11:51:48.418Z"
   },
   {
    "duration": 434,
    "start_time": "2021-08-09T11:54:50.762Z"
   },
   {
    "duration": 444,
    "start_time": "2021-08-09T11:55:12.989Z"
   },
   {
    "duration": 8,
    "start_time": "2021-08-09T11:55:20.390Z"
   },
   {
    "duration": 11,
    "start_time": "2021-08-09T11:58:06.106Z"
   },
   {
    "duration": 21,
    "start_time": "2021-08-09T12:05:34.136Z"
   },
   {
    "duration": 1598,
    "start_time": "2021-08-09T12:05:43.688Z"
   },
   {
    "duration": 333,
    "start_time": "2021-08-09T12:05:45.289Z"
   },
   {
    "duration": 15,
    "start_time": "2021-08-09T12:05:45.625Z"
   },
   {
    "duration": 9,
    "start_time": "2021-08-09T12:05:47.157Z"
   },
   {
    "duration": 853,
    "start_time": "2021-08-09T12:05:49.234Z"
   },
   {
    "duration": 124,
    "start_time": "2021-08-09T12:05:51.509Z"
   },
   {
    "duration": 33,
    "start_time": "2021-08-09T12:05:52.474Z"
   },
   {
    "duration": 4,
    "start_time": "2021-08-09T12:06:24.513Z"
   },
   {
    "duration": 25,
    "start_time": "2021-08-09T12:06:26.489Z"
   },
   {
    "duration": 102,
    "start_time": "2021-08-09T12:06:30.958Z"
   },
   {
    "duration": 127,
    "start_time": "2021-08-09T12:09:34.147Z"
   },
   {
    "duration": 124,
    "start_time": "2021-08-09T12:09:49.714Z"
   },
   {
    "duration": 4,
    "start_time": "2021-08-09T12:10:29.926Z"
   },
   {
    "duration": 624,
    "start_time": "2021-08-09T12:10:43.745Z"
   },
   {
    "duration": 5,
    "start_time": "2021-08-09T12:10:48.855Z"
   },
   {
    "duration": 5,
    "start_time": "2021-08-09T12:28:32.314Z"
   },
   {
    "duration": 569,
    "start_time": "2021-08-09T12:28:42.285Z"
   },
   {
    "duration": 17,
    "start_time": "2021-08-09T12:28:46.846Z"
   },
   {
    "duration": 108,
    "start_time": "2021-08-09T12:28:49.730Z"
   },
   {
    "duration": 15,
    "start_time": "2021-08-09T12:29:11.138Z"
   },
   {
    "duration": 10,
    "start_time": "2021-08-09T12:29:11.777Z"
   },
   {
    "duration": 8,
    "start_time": "2021-08-09T12:29:12.307Z"
   },
   {
    "duration": 16,
    "start_time": "2021-08-09T12:29:13.066Z"
   },
   {
    "duration": 6,
    "start_time": "2021-08-09T12:29:33.981Z"
   },
   {
    "duration": 12,
    "start_time": "2021-08-09T12:29:35.237Z"
   },
   {
    "duration": 8,
    "start_time": "2021-08-09T12:32:37.342Z"
   },
   {
    "duration": 42,
    "start_time": "2021-08-09T12:33:53.549Z"
   },
   {
    "duration": 14,
    "start_time": "2021-08-09T12:34:25.644Z"
   },
   {
    "duration": 44,
    "start_time": "2021-08-09T12:34:46.136Z"
   },
   {
    "duration": 9535,
    "start_time": "2021-08-09T12:42:27.691Z"
   },
   {
    "duration": 380,
    "start_time": "2021-08-09T12:43:02.679Z"
   },
   {
    "duration": 129,
    "start_time": "2021-08-09T12:43:23.591Z"
   },
   {
    "duration": 390,
    "start_time": "2021-08-09T12:43:30.031Z"
   },
   {
    "duration": 17,
    "start_time": "2021-08-09T12:43:35.200Z"
   },
   {
    "duration": 29,
    "start_time": "2021-08-09T12:44:23.009Z"
   },
   {
    "duration": 26,
    "start_time": "2021-08-09T12:45:08.053Z"
   },
   {
    "duration": 34,
    "start_time": "2021-08-09T12:45:11.177Z"
   },
   {
    "duration": 22,
    "start_time": "2021-08-09T12:45:25.650Z"
   },
   {
    "duration": 1529,
    "start_time": "2021-08-09T12:45:50.477Z"
   },
   {
    "duration": 22,
    "start_time": "2021-08-09T12:46:07.922Z"
   },
   {
    "duration": 10190,
    "start_time": "2021-08-09T12:46:14.177Z"
   },
   {
    "duration": 23,
    "start_time": "2021-08-09T12:50:30.226Z"
   },
   {
    "duration": 36,
    "start_time": "2021-08-09T12:51:13.931Z"
   },
   {
    "duration": 25,
    "start_time": "2021-08-09T12:51:16.165Z"
   },
   {
    "duration": 17,
    "start_time": "2021-08-09T12:51:33.271Z"
   },
   {
    "duration": 26,
    "start_time": "2021-08-09T12:52:12.771Z"
   },
   {
    "duration": 16,
    "start_time": "2021-08-09T12:52:13.594Z"
   },
   {
    "duration": 1621,
    "start_time": "2021-08-09T12:52:53.336Z"
   },
   {
    "duration": 313,
    "start_time": "2021-08-09T12:52:54.960Z"
   },
   {
    "duration": 15,
    "start_time": "2021-08-09T12:52:55.276Z"
   },
   {
    "duration": 12,
    "start_time": "2021-08-09T12:52:55.295Z"
   },
   {
    "duration": 1026,
    "start_time": "2021-08-09T12:52:55.310Z"
   },
   {
    "duration": 71,
    "start_time": "2021-08-09T12:52:56.338Z"
   },
   {
    "duration": 36,
    "start_time": "2021-08-09T12:52:56.412Z"
   },
   {
    "duration": 9,
    "start_time": "2021-08-09T12:52:56.453Z"
   },
   {
    "duration": 33,
    "start_time": "2021-08-09T12:52:56.464Z"
   },
   {
    "duration": 112,
    "start_time": "2021-08-09T12:52:56.500Z"
   },
   {
    "duration": 15,
    "start_time": "2021-08-09T12:52:56.614Z"
   },
   {
    "duration": 19,
    "start_time": "2021-08-09T12:52:56.631Z"
   },
   {
    "duration": 33,
    "start_time": "2021-08-09T12:52:56.652Z"
   },
   {
    "duration": 29,
    "start_time": "2021-08-09T12:52:56.688Z"
   },
   {
    "duration": 5,
    "start_time": "2021-08-09T12:53:07.474Z"
   },
   {
    "duration": 13,
    "start_time": "2021-08-09T12:53:15.391Z"
   },
   {
    "duration": 29,
    "start_time": "2021-08-09T12:53:17.634Z"
   },
   {
    "duration": 24,
    "start_time": "2021-08-09T12:53:34.578Z"
   },
   {
    "duration": 15,
    "start_time": "2021-08-09T12:53:36.321Z"
   },
   {
    "duration": 24,
    "start_time": "2021-08-09T12:54:23.723Z"
   },
   {
    "duration": 15,
    "start_time": "2021-08-09T12:54:24.625Z"
   },
   {
    "duration": 32,
    "start_time": "2021-08-09T12:54:33.365Z"
   },
   {
    "duration": 15,
    "start_time": "2021-08-09T12:54:41.092Z"
   },
   {
    "duration": 19,
    "start_time": "2021-08-09T12:54:42.683Z"
   },
   {
    "duration": 16,
    "start_time": "2021-08-09T12:56:50.043Z"
   },
   {
    "duration": 17,
    "start_time": "2021-08-09T12:56:51.216Z"
   },
   {
    "duration": 122,
    "start_time": "2021-08-09T12:58:32.763Z"
   },
   {
    "duration": 27,
    "start_time": "2021-08-09T13:01:47.463Z"
   },
   {
    "duration": 9,
    "start_time": "2021-08-09T13:01:59.761Z"
   },
   {
    "duration": 7,
    "start_time": "2021-08-09T13:02:52.026Z"
   },
   {
    "duration": 8,
    "start_time": "2021-08-09T13:02:56.690Z"
   },
   {
    "duration": 6,
    "start_time": "2021-08-09T13:03:16.196Z"
   },
   {
    "duration": 32,
    "start_time": "2021-08-09T13:04:31.965Z"
   },
   {
    "duration": 24,
    "start_time": "2021-08-09T13:04:54.049Z"
   },
   {
    "duration": 146,
    "start_time": "2021-08-09T13:05:52.734Z"
   },
   {
    "duration": 168,
    "start_time": "2021-08-09T13:05:59.448Z"
   },
   {
    "duration": 26,
    "start_time": "2021-08-09T13:06:07.973Z"
   },
   {
    "duration": 7,
    "start_time": "2021-08-09T13:08:52.564Z"
   },
   {
    "duration": 8,
    "start_time": "2021-08-09T13:08:56.384Z"
   },
   {
    "duration": 11,
    "start_time": "2021-08-09T13:09:37.411Z"
   },
   {
    "duration": 12,
    "start_time": "2021-08-09T13:09:57.854Z"
   },
   {
    "duration": 9,
    "start_time": "2021-08-09T13:10:03.002Z"
   },
   {
    "duration": 12,
    "start_time": "2021-08-09T13:10:08.249Z"
   },
   {
    "duration": 14,
    "start_time": "2021-08-09T13:12:50.650Z"
   },
   {
    "duration": 11,
    "start_time": "2021-08-09T13:14:24.639Z"
   },
   {
    "duration": 29,
    "start_time": "2021-08-09T13:17:36.393Z"
   },
   {
    "duration": 558,
    "start_time": "2021-08-09T13:17:59.778Z"
   },
   {
    "duration": 41,
    "start_time": "2021-08-09T13:18:12.356Z"
   },
   {
    "duration": 27,
    "start_time": "2021-08-09T13:18:19.593Z"
   },
   {
    "duration": 124,
    "start_time": "2021-08-09T13:19:22.529Z"
   },
   {
    "duration": 410,
    "start_time": "2021-08-09T13:19:33.714Z"
   },
   {
    "duration": 32,
    "start_time": "2021-08-09T13:19:43.967Z"
   },
   {
    "duration": 21,
    "start_time": "2021-08-09T13:20:30.299Z"
   },
   {
    "duration": 17,
    "start_time": "2021-08-09T13:20:44.462Z"
   },
   {
    "duration": 408,
    "start_time": "2021-08-09T13:21:11.779Z"
   },
   {
    "duration": 400,
    "start_time": "2021-08-09T13:21:21.175Z"
   },
   {
    "duration": 14,
    "start_time": "2021-08-09T13:21:34.843Z"
   },
   {
    "duration": 25,
    "start_time": "2021-08-09T13:21:48.166Z"
   },
   {
    "duration": 20,
    "start_time": "2021-08-09T13:22:14.362Z"
   },
   {
    "duration": 20,
    "start_time": "2021-08-09T13:22:27.404Z"
   },
   {
    "duration": 20,
    "start_time": "2021-08-09T13:22:28.735Z"
   },
   {
    "duration": 15,
    "start_time": "2021-08-09T13:22:39.762Z"
   },
   {
    "duration": 1490,
    "start_time": "2021-08-09T13:23:06.880Z"
   },
   {
    "duration": 299,
    "start_time": "2021-08-09T13:23:08.373Z"
   },
   {
    "duration": 15,
    "start_time": "2021-08-09T13:23:08.675Z"
   },
   {
    "duration": 9,
    "start_time": "2021-08-09T13:23:08.693Z"
   },
   {
    "duration": 2511,
    "start_time": "2021-08-09T13:23:08.704Z"
   },
   {
    "duration": 115,
    "start_time": "2021-08-09T13:23:11.217Z"
   },
   {
    "duration": 29,
    "start_time": "2021-08-09T13:23:11.335Z"
   },
   {
    "duration": 8,
    "start_time": "2021-08-09T13:23:11.368Z"
   },
   {
    "duration": 24,
    "start_time": "2021-08-09T13:23:11.379Z"
   },
   {
    "duration": 105,
    "start_time": "2021-08-09T13:23:11.405Z"
   },
   {
    "duration": 14,
    "start_time": "2021-08-09T13:23:11.512Z"
   },
   {
    "duration": 13,
    "start_time": "2021-08-09T13:23:11.529Z"
   },
   {
    "duration": 11,
    "start_time": "2021-08-09T13:23:11.544Z"
   },
   {
    "duration": 39,
    "start_time": "2021-08-09T13:23:11.557Z"
   },
   {
    "duration": 5,
    "start_time": "2021-08-09T13:23:11.599Z"
   },
   {
    "duration": 15,
    "start_time": "2021-08-09T13:23:11.606Z"
   },
   {
    "duration": 27,
    "start_time": "2021-08-09T13:23:11.624Z"
   },
   {
    "duration": 58,
    "start_time": "2021-08-09T13:23:11.653Z"
   },
   {
    "duration": 7,
    "start_time": "2021-08-09T13:23:11.714Z"
   },
   {
    "duration": 12,
    "start_time": "2021-08-09T13:23:11.723Z"
   },
   {
    "duration": 14,
    "start_time": "2021-08-09T13:23:11.737Z"
   },
   {
    "duration": 11,
    "start_time": "2021-08-09T13:23:11.786Z"
   },
   {
    "duration": 19,
    "start_time": "2021-08-09T13:23:54.444Z"
   },
   {
    "duration": 17,
    "start_time": "2021-08-09T13:23:55.269Z"
   },
   {
    "duration": 21,
    "start_time": "2021-08-09T13:27:01.077Z"
   },
   {
    "duration": 20,
    "start_time": "2021-08-09T13:27:17.333Z"
   },
   {
    "duration": 18,
    "start_time": "2021-08-09T13:28:15.720Z"
   },
   {
    "duration": 21,
    "start_time": "2021-08-09T13:28:16.213Z"
   },
   {
    "duration": 11,
    "start_time": "2021-08-09T13:30:20.568Z"
   },
   {
    "duration": 6,
    "start_time": "2021-08-09T13:31:00.900Z"
   },
   {
    "duration": 19,
    "start_time": "2021-08-09T13:31:19.517Z"
   },
   {
    "duration": 1472,
    "start_time": "2021-08-09T13:32:28.389Z"
   },
   {
    "duration": 362,
    "start_time": "2021-08-09T13:32:29.864Z"
   },
   {
    "duration": 16,
    "start_time": "2021-08-09T13:32:30.229Z"
   },
   {
    "duration": 20,
    "start_time": "2021-08-09T13:32:30.248Z"
   },
   {
    "duration": 846,
    "start_time": "2021-08-09T13:32:30.270Z"
   },
   {
    "duration": 98,
    "start_time": "2021-08-09T13:32:31.119Z"
   },
   {
    "duration": 30,
    "start_time": "2021-08-09T13:32:31.220Z"
   },
   {
    "duration": 19,
    "start_time": "2021-08-09T13:32:31.254Z"
   },
   {
    "duration": 39,
    "start_time": "2021-08-09T13:32:31.277Z"
   },
   {
    "duration": 95,
    "start_time": "2021-08-09T13:32:31.318Z"
   },
   {
    "duration": 15,
    "start_time": "2021-08-09T13:32:31.416Z"
   },
   {
    "duration": 14,
    "start_time": "2021-08-09T13:32:31.434Z"
   },
   {
    "duration": 30,
    "start_time": "2021-08-09T13:32:31.451Z"
   },
   {
    "duration": 22,
    "start_time": "2021-08-09T13:32:31.486Z"
   },
   {
    "duration": 16,
    "start_time": "2021-08-09T13:32:31.511Z"
   },
   {
    "duration": 37,
    "start_time": "2021-08-09T13:32:31.529Z"
   },
   {
    "duration": 65,
    "start_time": "2021-08-09T13:32:31.568Z"
   },
   {
    "duration": 29,
    "start_time": "2021-08-09T13:32:31.636Z"
   },
   {
    "duration": 18,
    "start_time": "2021-08-09T13:32:31.667Z"
   },
   {
    "duration": 27,
    "start_time": "2021-08-09T13:32:31.688Z"
   },
   {
    "duration": 20,
    "start_time": "2021-08-09T13:32:31.718Z"
   },
   {
    "duration": 21,
    "start_time": "2021-08-09T13:32:31.741Z"
   },
   {
    "duration": 17,
    "start_time": "2021-08-09T13:32:43.163Z"
   },
   {
    "duration": 511,
    "start_time": "2021-08-09T13:32:45.653Z"
   },
   {
    "duration": 21,
    "start_time": "2021-08-09T13:33:06.987Z"
   },
   {
    "duration": 6,
    "start_time": "2021-08-09T13:33:12.719Z"
   },
   {
    "duration": 9,
    "start_time": "2021-08-09T13:33:37.679Z"
   },
   {
    "duration": 4,
    "start_time": "2021-08-09T13:33:39.465Z"
   },
   {
    "duration": 16,
    "start_time": "2021-08-09T13:33:40.502Z"
   },
   {
    "duration": 26,
    "start_time": "2021-08-09T13:37:24.378Z"
   },
   {
    "duration": 16,
    "start_time": "2021-08-09T13:37:25.357Z"
   },
   {
    "duration": 17,
    "start_time": "2021-08-09T13:37:31.378Z"
   },
   {
    "duration": 10,
    "start_time": "2021-08-09T13:37:31.937Z"
   },
   {
    "duration": 26,
    "start_time": "2021-08-09T13:37:32.575Z"
   },
   {
    "duration": 18,
    "start_time": "2021-08-09T13:37:33.066Z"
   },
   {
    "duration": 414,
    "start_time": "2021-08-09T13:37:48.504Z"
   },
   {
    "duration": 16,
    "start_time": "2021-08-09T13:37:49.274Z"
   },
   {
    "duration": 12,
    "start_time": "2021-08-09T13:53:26.125Z"
   },
   {
    "duration": 12,
    "start_time": "2021-08-09T13:53:57.524Z"
   },
   {
    "duration": 137,
    "start_time": "2021-08-09T13:54:48.113Z"
   },
   {
    "duration": 144,
    "start_time": "2021-08-09T13:54:54.243Z"
   },
   {
    "duration": 12,
    "start_time": "2021-08-09T13:55:00.416Z"
   },
   {
    "duration": 7,
    "start_time": "2021-08-09T13:55:12.486Z"
   },
   {
    "duration": 9,
    "start_time": "2021-08-09T13:55:20.074Z"
   },
   {
    "duration": 132,
    "start_time": "2021-08-09T13:56:52.266Z"
   },
   {
    "duration": 126,
    "start_time": "2021-08-09T13:57:10.349Z"
   },
   {
    "duration": 380,
    "start_time": "2021-08-09T14:02:05.072Z"
   },
   {
    "duration": 5,
    "start_time": "2021-08-09T14:02:37.349Z"
   },
   {
    "duration": 1507,
    "start_time": "2021-08-09T14:02:46.197Z"
   },
   {
    "duration": 316,
    "start_time": "2021-08-09T14:02:48.332Z"
   },
   {
    "duration": 17,
    "start_time": "2021-08-09T14:02:49.214Z"
   },
   {
    "duration": 7,
    "start_time": "2021-08-09T14:02:49.974Z"
   },
   {
    "duration": 835,
    "start_time": "2021-08-09T14:02:51.063Z"
   },
   {
    "duration": 73,
    "start_time": "2021-08-09T14:02:51.902Z"
   },
   {
    "duration": 32,
    "start_time": "2021-08-09T14:02:52.699Z"
   },
   {
    "duration": 8,
    "start_time": "2021-08-09T14:02:53.461Z"
   },
   {
    "duration": 23,
    "start_time": "2021-08-09T14:02:55.100Z"
   },
   {
    "duration": 113,
    "start_time": "2021-08-09T14:02:56.872Z"
   },
   {
    "duration": 16,
    "start_time": "2021-08-09T14:02:59.385Z"
   },
   {
    "duration": 10,
    "start_time": "2021-08-09T14:03:00.157Z"
   },
   {
    "duration": 8,
    "start_time": "2021-08-09T14:03:00.615Z"
   },
   {
    "duration": 16,
    "start_time": "2021-08-09T14:03:01.285Z"
   },
   {
    "duration": 6,
    "start_time": "2021-08-09T14:03:04.498Z"
   },
   {
    "duration": 31,
    "start_time": "2021-08-09T14:03:05.040Z"
   },
   {
    "duration": 28,
    "start_time": "2021-08-09T14:03:08.091Z"
   },
   {
    "duration": 9,
    "start_time": "2021-08-09T14:03:09.353Z"
   },
   {
    "duration": 9,
    "start_time": "2021-08-09T14:03:10.446Z"
   },
   {
    "duration": 13,
    "start_time": "2021-08-09T14:03:10.831Z"
   },
   {
    "duration": 11,
    "start_time": "2021-08-09T14:03:11.181Z"
   },
   {
    "duration": 20,
    "start_time": "2021-08-09T14:03:15.747Z"
   },
   {
    "duration": 10,
    "start_time": "2021-08-09T14:03:25.904Z"
   },
   {
    "duration": 9,
    "start_time": "2021-08-09T14:05:53.238Z"
   },
   {
    "duration": 7,
    "start_time": "2021-08-09T14:05:55.215Z"
   },
   {
    "duration": 8,
    "start_time": "2021-08-09T14:06:22.902Z"
   },
   {
    "duration": 11,
    "start_time": "2021-08-09T14:07:06.876Z"
   },
   {
    "duration": 13,
    "start_time": "2021-08-09T14:07:16.746Z"
   },
   {
    "duration": 8,
    "start_time": "2021-08-09T14:07:53.392Z"
   },
   {
    "duration": 12,
    "start_time": "2021-08-09T14:07:54.143Z"
   },
   {
    "duration": 17,
    "start_time": "2021-08-09T14:08:01.771Z"
   },
   {
    "duration": 11,
    "start_time": "2021-08-09T14:08:02.271Z"
   },
   {
    "duration": 8,
    "start_time": "2021-08-09T14:08:02.686Z"
   },
   {
    "duration": 13,
    "start_time": "2021-08-09T14:08:03.123Z"
   },
   {
    "duration": 1579,
    "start_time": "2021-08-09T14:08:14.798Z"
   },
   {
    "duration": 273,
    "start_time": "2021-08-09T14:08:16.380Z"
   },
   {
    "duration": 15,
    "start_time": "2021-08-09T14:08:16.655Z"
   },
   {
    "duration": 17,
    "start_time": "2021-08-09T14:08:16.673Z"
   },
   {
    "duration": 851,
    "start_time": "2021-08-09T14:08:16.692Z"
   },
   {
    "duration": 74,
    "start_time": "2021-08-09T14:08:17.546Z"
   },
   {
    "duration": 30,
    "start_time": "2021-08-09T14:08:17.623Z"
   },
   {
    "duration": 8,
    "start_time": "2021-08-09T14:08:17.656Z"
   },
   {
    "duration": 28,
    "start_time": "2021-08-09T14:08:17.667Z"
   },
   {
    "duration": 109,
    "start_time": "2021-08-09T14:08:17.698Z"
   },
   {
    "duration": 15,
    "start_time": "2021-08-09T14:08:17.810Z"
   },
   {
    "duration": 10,
    "start_time": "2021-08-09T14:08:17.827Z"
   },
   {
    "duration": 9,
    "start_time": "2021-08-09T14:08:17.840Z"
   },
   {
    "duration": 45,
    "start_time": "2021-08-09T14:08:17.851Z"
   },
   {
    "duration": 5,
    "start_time": "2021-08-09T14:08:17.899Z"
   },
   {
    "duration": 33,
    "start_time": "2021-08-09T14:08:17.906Z"
   },
   {
    "duration": 59,
    "start_time": "2021-08-09T14:08:17.941Z"
   },
   {
    "duration": 8,
    "start_time": "2021-08-09T14:08:18.002Z"
   },
   {
    "duration": 16,
    "start_time": "2021-08-09T14:08:18.012Z"
   },
   {
    "duration": 15,
    "start_time": "2021-08-09T14:08:18.031Z"
   },
   {
    "duration": 45,
    "start_time": "2021-08-09T14:08:18.049Z"
   },
   {
    "duration": 24,
    "start_time": "2021-08-09T14:08:36.168Z"
   },
   {
    "duration": 14,
    "start_time": "2021-08-09T14:08:46.173Z"
   },
   {
    "duration": 13,
    "start_time": "2021-08-09T14:09:02.815Z"
   },
   {
    "duration": 17,
    "start_time": "2021-08-09T14:09:25.135Z"
   },
   {
    "duration": 10,
    "start_time": "2021-08-09T14:09:26.029Z"
   },
   {
    "duration": 14,
    "start_time": "2021-08-09T14:09:27.376Z"
   },
   {
    "duration": 9,
    "start_time": "2021-08-09T14:09:58.020Z"
   },
   {
    "duration": 13,
    "start_time": "2021-08-09T14:09:58.877Z"
   },
   {
    "duration": 1502,
    "start_time": "2021-08-09T14:10:39.651Z"
   },
   {
    "duration": 272,
    "start_time": "2021-08-09T14:10:41.156Z"
   },
   {
    "duration": 14,
    "start_time": "2021-08-09T14:10:41.431Z"
   },
   {
    "duration": 14,
    "start_time": "2021-08-09T14:10:41.448Z"
   },
   {
    "duration": 862,
    "start_time": "2021-08-09T14:10:41.464Z"
   },
   {
    "duration": 77,
    "start_time": "2021-08-09T14:10:42.329Z"
   },
   {
    "duration": 28,
    "start_time": "2021-08-09T14:10:42.409Z"
   },
   {
    "duration": 8,
    "start_time": "2021-08-09T14:10:42.440Z"
   },
   {
    "duration": 43,
    "start_time": "2021-08-09T14:10:42.453Z"
   },
   {
    "duration": 105,
    "start_time": "2021-08-09T14:10:42.499Z"
   },
   {
    "duration": 15,
    "start_time": "2021-08-09T14:10:42.607Z"
   },
   {
    "duration": 14,
    "start_time": "2021-08-09T14:10:42.624Z"
   },
   {
    "duration": 23,
    "start_time": "2021-08-09T14:10:42.641Z"
   },
   {
    "duration": 29,
    "start_time": "2021-08-09T14:10:42.666Z"
   },
   {
    "duration": 5,
    "start_time": "2021-08-09T14:10:42.698Z"
   },
   {
    "duration": 36,
    "start_time": "2021-08-09T14:10:42.705Z"
   },
   {
    "duration": 58,
    "start_time": "2021-08-09T14:10:42.743Z"
   },
   {
    "duration": 7,
    "start_time": "2021-08-09T14:10:42.804Z"
   },
   {
    "duration": 13,
    "start_time": "2021-08-09T14:10:42.814Z"
   },
   {
    "duration": 20,
    "start_time": "2021-08-09T14:10:42.829Z"
   },
   {
    "duration": 36,
    "start_time": "2021-08-09T14:10:42.852Z"
   },
   {
    "duration": 21,
    "start_time": "2021-08-09T14:10:42.891Z"
   },
   {
    "duration": 9,
    "start_time": "2021-08-09T14:10:42.914Z"
   },
   {
    "duration": 19,
    "start_time": "2021-08-09T14:13:04.086Z"
   },
   {
    "duration": 8,
    "start_time": "2021-08-09T14:13:05.244Z"
   },
   {
    "duration": 13,
    "start_time": "2021-08-09T14:13:07.080Z"
   },
   {
    "duration": 831,
    "start_time": "2021-08-09T14:20:49.693Z"
   },
   {
    "duration": 8,
    "start_time": "2021-08-09T14:21:24.021Z"
   },
   {
    "duration": 36,
    "start_time": "2021-08-09T14:21:40.141Z"
   },
   {
    "duration": 1429,
    "start_time": "2021-08-09T14:26:58.635Z"
   },
   {
    "duration": 297,
    "start_time": "2021-08-09T14:27:00.067Z"
   },
   {
    "duration": 16,
    "start_time": "2021-08-09T14:27:00.367Z"
   },
   {
    "duration": 22,
    "start_time": "2021-08-09T14:27:00.386Z"
   },
   {
    "duration": 824,
    "start_time": "2021-08-09T14:27:00.411Z"
   },
   {
    "duration": 125,
    "start_time": "2021-08-09T14:27:01.238Z"
   },
   {
    "duration": 31,
    "start_time": "2021-08-09T14:27:01.365Z"
   },
   {
    "duration": 8,
    "start_time": "2021-08-09T14:27:01.400Z"
   },
   {
    "duration": 42,
    "start_time": "2021-08-09T14:27:01.411Z"
   },
   {
    "duration": 96,
    "start_time": "2021-08-09T14:27:01.456Z"
   },
   {
    "duration": 39,
    "start_time": "2021-08-09T14:27:01.554Z"
   },
   {
    "duration": 10,
    "start_time": "2021-08-09T14:27:01.596Z"
   },
   {
    "duration": 41,
    "start_time": "2021-08-09T14:27:01.608Z"
   },
   {
    "duration": 32,
    "start_time": "2021-08-09T14:27:01.651Z"
   },
   {
    "duration": 42,
    "start_time": "2021-08-09T14:27:01.686Z"
   },
   {
    "duration": 62,
    "start_time": "2021-08-09T14:27:01.730Z"
   },
   {
    "duration": 52,
    "start_time": "2021-08-09T14:27:01.794Z"
   },
   {
    "duration": 33,
    "start_time": "2021-08-09T14:27:01.848Z"
   },
   {
    "duration": 30,
    "start_time": "2021-08-09T14:27:01.884Z"
   },
   {
    "duration": 26,
    "start_time": "2021-08-09T14:27:01.917Z"
   },
   {
    "duration": 29,
    "start_time": "2021-08-09T14:27:01.946Z"
   },
   {
    "duration": 51,
    "start_time": "2021-08-09T14:27:01.978Z"
   },
   {
    "duration": 3,
    "start_time": "2021-08-09T14:27:02.033Z"
   },
   {
    "duration": 36,
    "start_time": "2021-08-09T14:27:31.743Z"
   },
   {
    "duration": 16,
    "start_time": "2021-08-09T14:28:51.261Z"
   },
   {
    "duration": 22,
    "start_time": "2021-08-09T14:29:19.013Z"
   },
   {
    "duration": 13,
    "start_time": "2021-08-09T14:29:30.826Z"
   },
   {
    "duration": 1550,
    "start_time": "2021-08-09T14:30:44.619Z"
   },
   {
    "duration": 260,
    "start_time": "2021-08-09T14:30:46.172Z"
   },
   {
    "duration": 17,
    "start_time": "2021-08-09T14:30:46.436Z"
   },
   {
    "duration": 8,
    "start_time": "2021-08-09T14:30:46.456Z"
   },
   {
    "duration": 1245,
    "start_time": "2021-08-09T14:30:46.467Z"
   },
   {
    "duration": 84,
    "start_time": "2021-08-09T14:30:47.715Z"
   },
   {
    "duration": 31,
    "start_time": "2021-08-09T14:30:47.802Z"
   },
   {
    "duration": 9,
    "start_time": "2021-08-09T14:30:47.838Z"
   },
   {
    "duration": 49,
    "start_time": "2021-08-09T14:30:47.851Z"
   },
   {
    "duration": 115,
    "start_time": "2021-08-09T14:30:47.903Z"
   },
   {
    "duration": 14,
    "start_time": "2021-08-09T14:30:48.020Z"
   },
   {
    "duration": 14,
    "start_time": "2021-08-09T14:30:48.037Z"
   },
   {
    "duration": 36,
    "start_time": "2021-08-09T14:30:48.054Z"
   },
   {
    "duration": 23,
    "start_time": "2021-08-09T14:30:48.092Z"
   },
   {
    "duration": 6,
    "start_time": "2021-08-09T14:30:48.118Z"
   },
   {
    "duration": 64,
    "start_time": "2021-08-09T14:30:48.127Z"
   },
   {
    "duration": 31,
    "start_time": "2021-08-09T14:30:48.194Z"
   },
   {
    "duration": 9,
    "start_time": "2021-08-09T14:30:48.228Z"
   },
   {
    "duration": 53,
    "start_time": "2021-08-09T14:30:48.240Z"
   },
   {
    "duration": 25,
    "start_time": "2021-08-09T14:30:48.297Z"
   },
   {
    "duration": 17,
    "start_time": "2021-08-09T14:30:48.326Z"
   },
   {
    "duration": 58,
    "start_time": "2021-08-09T14:30:48.347Z"
   },
   {
    "duration": 3,
    "start_time": "2021-08-09T14:30:48.409Z"
   },
   {
    "duration": 9,
    "start_time": "2021-08-09T14:31:49.169Z"
   },
   {
    "duration": 36,
    "start_time": "2021-08-09T14:31:51.159Z"
   },
   {
    "duration": 24,
    "start_time": "2021-08-09T14:32:08.046Z"
   },
   {
    "duration": 14,
    "start_time": "2021-08-09T14:32:10.884Z"
   },
   {
    "duration": 32,
    "start_time": "2021-08-09T14:32:58.175Z"
   },
   {
    "duration": 1489,
    "start_time": "2021-08-09T14:37:06.376Z"
   },
   {
    "duration": 308,
    "start_time": "2021-08-09T14:37:07.867Z"
   },
   {
    "duration": 15,
    "start_time": "2021-08-09T14:37:08.178Z"
   },
   {
    "duration": 10,
    "start_time": "2021-08-09T14:37:08.195Z"
   },
   {
    "duration": 824,
    "start_time": "2021-08-09T14:37:08.207Z"
   },
   {
    "duration": 79,
    "start_time": "2021-08-09T14:37:09.034Z"
   },
   {
    "duration": 28,
    "start_time": "2021-08-09T14:37:09.116Z"
   },
   {
    "duration": 7,
    "start_time": "2021-08-09T14:37:09.146Z"
   },
   {
    "duration": 29,
    "start_time": "2021-08-09T14:37:09.157Z"
   },
   {
    "duration": 111,
    "start_time": "2021-08-09T14:37:09.190Z"
   },
   {
    "duration": 14,
    "start_time": "2021-08-09T14:37:09.304Z"
   },
   {
    "duration": 10,
    "start_time": "2021-08-09T14:37:09.320Z"
   },
   {
    "duration": 13,
    "start_time": "2021-08-09T14:37:09.332Z"
   },
   {
    "duration": 44,
    "start_time": "2021-08-09T14:37:09.347Z"
   },
   {
    "duration": 5,
    "start_time": "2021-08-09T14:37:09.393Z"
   },
   {
    "duration": 41,
    "start_time": "2021-08-09T14:37:09.400Z"
   },
   {
    "duration": 49,
    "start_time": "2021-08-09T14:37:09.444Z"
   },
   {
    "duration": 8,
    "start_time": "2021-08-09T14:37:09.495Z"
   },
   {
    "duration": 15,
    "start_time": "2021-08-09T14:37:09.505Z"
   },
   {
    "duration": 17,
    "start_time": "2021-08-09T14:37:09.523Z"
   },
   {
    "duration": 42,
    "start_time": "2021-08-09T14:37:09.543Z"
   },
   {
    "duration": 8,
    "start_time": "2021-08-09T14:37:15.565Z"
   },
   {
    "duration": 32,
    "start_time": "2021-08-09T14:37:16.273Z"
   },
   {
    "duration": 6,
    "start_time": "2021-08-09T14:37:23.299Z"
   },
   {
    "duration": 5,
    "start_time": "2021-08-09T17:30:46.246Z"
   },
   {
    "duration": 2118,
    "start_time": "2021-08-09T17:31:50.897Z"
   },
   {
    "duration": 15,
    "start_time": "2021-08-09T17:32:32.030Z"
   },
   {
    "duration": 4,
    "start_time": "2021-08-09T17:35:25.492Z"
   },
   {
    "duration": 11,
    "start_time": "2021-08-09T17:35:46.659Z"
   },
   {
    "duration": 9,
    "start_time": "2021-08-09T17:35:56.654Z"
   },
   {
    "duration": 132,
    "start_time": "2021-08-09T17:36:56.273Z"
   },
   {
    "duration": 12,
    "start_time": "2021-08-09T17:37:06.000Z"
   },
   {
    "duration": 1980,
    "start_time": "2021-08-09T17:37:44.822Z"
   },
   {
    "duration": 17,
    "start_time": "2021-08-09T17:39:14.733Z"
   },
   {
    "duration": 519,
    "start_time": "2021-08-09T17:41:30.668Z"
   },
   {
    "duration": 537,
    "start_time": "2021-08-09T17:41:48.659Z"
   },
   {
    "duration": 10,
    "start_time": "2021-08-09T17:41:58.935Z"
   },
   {
    "duration": 9,
    "start_time": "2021-08-09T17:42:09.950Z"
   },
   {
    "duration": 8,
    "start_time": "2021-08-09T17:42:47.334Z"
   },
   {
    "duration": 5,
    "start_time": "2021-08-09T17:42:50.238Z"
   },
   {
    "duration": 19,
    "start_time": "2021-08-09T17:42:51.100Z"
   },
   {
    "duration": 19,
    "start_time": "2021-08-09T17:42:52.117Z"
   },
   {
    "duration": 45,
    "start_time": "2021-08-09T17:43:07.052Z"
   },
   {
    "duration": 1479,
    "start_time": "2021-08-09T17:47:59.289Z"
   },
   {
    "duration": 367,
    "start_time": "2021-08-09T17:48:00.770Z"
   },
   {
    "duration": 18,
    "start_time": "2021-08-09T17:48:01.141Z"
   },
   {
    "duration": 29,
    "start_time": "2021-08-09T17:48:01.162Z"
   },
   {
    "duration": 839,
    "start_time": "2021-08-09T17:48:01.195Z"
   },
   {
    "duration": 176,
    "start_time": "2021-08-09T17:48:02.037Z"
   },
   {
    "duration": 30,
    "start_time": "2021-08-09T17:48:02.215Z"
   },
   {
    "duration": 7,
    "start_time": "2021-08-09T17:48:02.249Z"
   },
   {
    "duration": 34,
    "start_time": "2021-08-09T17:48:02.259Z"
   },
   {
    "duration": 206,
    "start_time": "2021-08-09T17:48:02.296Z"
   },
   {
    "duration": 14,
    "start_time": "2021-08-09T17:48:02.504Z"
   },
   {
    "duration": 23,
    "start_time": "2021-08-09T17:48:02.521Z"
   },
   {
    "duration": 27,
    "start_time": "2021-08-09T17:48:02.546Z"
   },
   {
    "duration": 23,
    "start_time": "2021-08-09T17:48:02.575Z"
   },
   {
    "duration": 6,
    "start_time": "2021-08-09T17:48:02.601Z"
   },
   {
    "duration": 58,
    "start_time": "2021-08-09T17:48:02.610Z"
   },
   {
    "duration": 30,
    "start_time": "2021-08-09T17:48:02.671Z"
   },
   {
    "duration": 10,
    "start_time": "2021-08-09T17:48:02.704Z"
   },
   {
    "duration": 22,
    "start_time": "2021-08-09T17:48:02.717Z"
   },
   {
    "duration": 27,
    "start_time": "2021-08-09T17:48:02.743Z"
   },
   {
    "duration": 11,
    "start_time": "2021-08-09T17:48:02.786Z"
   },
   {
    "duration": 13,
    "start_time": "2021-08-09T17:48:02.800Z"
   },
   {
    "duration": 55,
    "start_time": "2021-08-09T17:48:02.818Z"
   },
   {
    "duration": 14,
    "start_time": "2021-08-09T17:48:02.876Z"
   },
   {
    "duration": 6,
    "start_time": "2021-08-09T17:48:46.282Z"
   },
   {
    "duration": 4,
    "start_time": "2021-08-09T17:48:47.657Z"
   },
   {
    "duration": 15,
    "start_time": "2021-08-09T17:48:48.930Z"
   },
   {
    "duration": 13,
    "start_time": "2021-08-09T17:48:51.621Z"
   },
   {
    "duration": 29,
    "start_time": "2021-08-09T17:48:54.166Z"
   },
   {
    "duration": 4,
    "start_time": "2021-08-09T17:50:13.023Z"
   },
   {
    "duration": 10,
    "start_time": "2021-08-09T17:50:14.772Z"
   },
   {
    "duration": 10,
    "start_time": "2021-08-09T17:50:15.240Z"
   },
   {
    "duration": 27,
    "start_time": "2021-08-09T17:50:16.062Z"
   },
   {
    "duration": 1623,
    "start_time": "2021-08-09T17:51:52.862Z"
   },
   {
    "duration": 306,
    "start_time": "2021-08-09T17:51:54.488Z"
   },
   {
    "duration": 17,
    "start_time": "2021-08-09T17:51:55.490Z"
   },
   {
    "duration": 9,
    "start_time": "2021-08-09T17:51:56.130Z"
   },
   {
    "duration": 854,
    "start_time": "2021-08-09T17:51:56.882Z"
   },
   {
    "duration": 71,
    "start_time": "2021-08-09T17:51:57.739Z"
   },
   {
    "duration": 32,
    "start_time": "2021-08-09T17:51:57.988Z"
   },
   {
    "duration": 8,
    "start_time": "2021-08-09T17:51:58.456Z"
   },
   {
    "duration": 24,
    "start_time": "2021-08-09T17:51:58.812Z"
   },
   {
    "duration": 90,
    "start_time": "2021-08-09T17:51:59.906Z"
   },
   {
    "duration": 15,
    "start_time": "2021-08-09T17:52:00.225Z"
   },
   {
    "duration": 11,
    "start_time": "2021-08-09T17:52:00.536Z"
   },
   {
    "duration": 9,
    "start_time": "2021-08-09T17:52:00.856Z"
   },
   {
    "duration": 16,
    "start_time": "2021-08-09T17:52:01.132Z"
   },
   {
    "duration": 6,
    "start_time": "2021-08-09T17:52:01.801Z"
   },
   {
    "duration": 5,
    "start_time": "2021-08-09T17:52:02.098Z"
   },
   {
    "duration": 28,
    "start_time": "2021-08-09T17:52:03.089Z"
   },
   {
    "duration": 8,
    "start_time": "2021-08-09T17:52:03.550Z"
   },
   {
    "duration": 10,
    "start_time": "2021-08-09T17:52:04.034Z"
   },
   {
    "duration": 15,
    "start_time": "2021-08-09T17:52:05.867Z"
   },
   {
    "duration": 11,
    "start_time": "2021-08-09T17:52:06.246Z"
   },
   {
    "duration": 10,
    "start_time": "2021-08-09T17:52:07.209Z"
   },
   {
    "duration": 34,
    "start_time": "2021-08-09T17:52:07.569Z"
   },
   {
    "duration": 6,
    "start_time": "2021-08-09T17:52:08.964Z"
   },
   {
    "duration": 4,
    "start_time": "2021-08-09T17:52:09.855Z"
   },
   {
    "duration": 4,
    "start_time": "2021-08-09T17:52:58.655Z"
   },
   {
    "duration": 10,
    "start_time": "2021-08-09T17:52:59.649Z"
   },
   {
    "duration": 12,
    "start_time": "2021-08-09T17:53:00.590Z"
   },
   {
    "duration": 28,
    "start_time": "2021-08-09T17:53:03.816Z"
   },
   {
    "duration": 6,
    "start_time": "2021-08-09T18:50:49.903Z"
   },
   {
    "duration": 6,
    "start_time": "2021-08-09T18:51:11.230Z"
   },
   {
    "duration": 43,
    "start_time": "2021-08-09T18:51:22.547Z"
   },
   {
    "duration": 7,
    "start_time": "2021-08-09T18:51:57.098Z"
   },
   {
    "duration": 15,
    "start_time": "2021-08-09T18:52:15.995Z"
   },
   {
    "duration": 553,
    "start_time": "2021-08-09T18:55:12.664Z"
   },
   {
    "duration": 9,
    "start_time": "2021-08-09T19:07:37.585Z"
   },
   {
    "duration": 8,
    "start_time": "2021-08-09T19:07:55.174Z"
   },
   {
    "duration": 8,
    "start_time": "2021-08-09T19:08:07.011Z"
   },
   {
    "duration": 18,
    "start_time": "2021-08-09T19:08:12.100Z"
   },
   {
    "duration": 9,
    "start_time": "2021-08-09T19:08:17.504Z"
   },
   {
    "duration": 7,
    "start_time": "2021-08-09T19:08:28.933Z"
   },
   {
    "duration": 5,
    "start_time": "2021-08-09T19:08:39.428Z"
   },
   {
    "duration": 9,
    "start_time": "2021-08-09T19:08:54.931Z"
   },
   {
    "duration": 11,
    "start_time": "2021-08-09T19:09:05.399Z"
   },
   {
    "duration": 6,
    "start_time": "2021-08-09T19:09:08.383Z"
   },
   {
    "duration": 10,
    "start_time": "2021-08-09T19:09:10.924Z"
   },
   {
    "duration": 5,
    "start_time": "2021-08-09T19:09:41.721Z"
   },
   {
    "duration": 8,
    "start_time": "2021-08-09T19:09:49.992Z"
   },
   {
    "duration": 7,
    "start_time": "2021-08-09T19:09:52.934Z"
   },
   {
    "duration": 391,
    "start_time": "2021-08-09T19:10:47.645Z"
   },
   {
    "duration": 481,
    "start_time": "2021-08-09T19:11:02.041Z"
   },
   {
    "duration": 9,
    "start_time": "2021-08-09T19:11:11.717Z"
   },
   {
    "duration": 10,
    "start_time": "2021-08-09T19:18:12.126Z"
   },
   {
    "duration": 6,
    "start_time": "2021-08-09T19:18:19.614Z"
   },
   {
    "duration": 6,
    "start_time": "2021-08-09T19:18:31.984Z"
   },
   {
    "duration": 7,
    "start_time": "2021-08-09T19:18:32.979Z"
   },
   {
    "duration": 294,
    "start_time": "2021-08-09T19:18:47.811Z"
   },
   {
    "duration": 137,
    "start_time": "2021-08-09T19:20:23.486Z"
   },
   {
    "duration": 181,
    "start_time": "2021-08-09T19:20:28.055Z"
   },
   {
    "duration": 505,
    "start_time": "2021-08-09T19:20:32.838Z"
   },
   {
    "duration": 372,
    "start_time": "2021-08-09T19:23:28.264Z"
   },
   {
    "duration": 384,
    "start_time": "2021-08-09T19:23:35.638Z"
   },
   {
    "duration": 5152,
    "start_time": "2021-08-09T19:28:41.804Z"
   },
   {
    "duration": 410,
    "start_time": "2021-08-09T19:29:07.447Z"
   },
   {
    "duration": 377,
    "start_time": "2021-08-09T19:29:56.027Z"
   },
   {
    "duration": 500,
    "start_time": "2021-08-09T19:30:04.924Z"
   },
   {
    "duration": 383,
    "start_time": "2021-08-09T19:30:26.067Z"
   },
   {
    "duration": 401,
    "start_time": "2021-08-09T19:31:22.067Z"
   },
   {
    "duration": 391,
    "start_time": "2021-08-09T19:31:51.981Z"
   },
   {
    "duration": 992,
    "start_time": "2021-08-09T19:32:02.499Z"
   },
   {
    "duration": 21,
    "start_time": "2021-08-09T19:32:30.082Z"
   },
   {
    "duration": 310,
    "start_time": "2021-08-09T19:33:31.781Z"
   },
   {
    "duration": 378,
    "start_time": "2021-08-09T19:33:42.013Z"
   },
   {
    "duration": 602,
    "start_time": "2021-08-09T19:35:50.063Z"
   },
   {
    "duration": 470,
    "start_time": "2021-08-09T19:35:57.989Z"
   },
   {
    "duration": 219,
    "start_time": "2021-08-09T19:36:13.498Z"
   },
   {
    "duration": 291,
    "start_time": "2021-08-09T19:36:56.682Z"
   },
   {
    "duration": 339,
    "start_time": "2021-08-09T19:38:47.234Z"
   },
   {
    "duration": 187,
    "start_time": "2021-08-09T19:38:55.244Z"
   },
   {
    "duration": 935,
    "start_time": "2021-08-09T19:40:00.082Z"
   },
   {
    "duration": 190,
    "start_time": "2021-08-09T19:40:08.341Z"
   },
   {
    "duration": 343,
    "start_time": "2021-08-09T19:40:46.195Z"
   },
   {
    "duration": 345,
    "start_time": "2021-08-09T19:41:08.410Z"
   },
   {
    "duration": 348,
    "start_time": "2021-08-09T19:41:58.289Z"
   },
   {
    "duration": 715,
    "start_time": "2021-08-09T19:42:32.818Z"
   },
   {
    "duration": 332,
    "start_time": "2021-08-09T19:44:32.700Z"
   },
   {
    "duration": 346,
    "start_time": "2021-08-09T19:44:45.249Z"
   },
   {
    "duration": 6,
    "start_time": "2021-08-09T19:45:13.034Z"
   },
   {
    "duration": 8,
    "start_time": "2021-08-09T19:45:29.555Z"
   },
   {
    "duration": 6,
    "start_time": "2021-08-09T19:46:08.934Z"
   },
   {
    "duration": 343,
    "start_time": "2021-08-09T19:46:10.279Z"
   },
   {
    "duration": 6,
    "start_time": "2021-08-09T19:46:14.744Z"
   },
   {
    "duration": 6,
    "start_time": "2021-08-09T19:48:12.274Z"
   },
   {
    "duration": 352,
    "start_time": "2021-08-09T19:48:12.606Z"
   },
   {
    "duration": 6,
    "start_time": "2021-08-09T19:48:19.421Z"
   },
   {
    "duration": 7,
    "start_time": "2021-08-09T19:48:36.816Z"
   },
   {
    "duration": 344,
    "start_time": "2021-08-09T19:48:47.789Z"
   },
   {
    "duration": 11,
    "start_time": "2021-08-09T19:49:06.687Z"
   },
   {
    "duration": 343,
    "start_time": "2021-08-09T19:49:07.483Z"
   },
   {
    "duration": 6,
    "start_time": "2021-08-09T19:49:24.350Z"
   },
   {
    "duration": 420,
    "start_time": "2021-08-09T19:54:49.279Z"
   },
   {
    "duration": 9,
    "start_time": "2021-08-09T19:55:05.089Z"
   },
   {
    "duration": 418,
    "start_time": "2021-08-09T19:55:14.558Z"
   },
   {
    "duration": 8,
    "start_time": "2021-08-09T19:55:20.968Z"
   },
   {
    "duration": 7,
    "start_time": "2021-08-09T19:55:32.568Z"
   },
   {
    "duration": 291,
    "start_time": "2021-08-09T19:55:59.013Z"
   },
   {
    "duration": 322,
    "start_time": "2021-08-09T19:56:07.878Z"
   },
   {
    "duration": 398,
    "start_time": "2021-08-09T19:56:38.915Z"
   },
   {
    "duration": 10,
    "start_time": "2021-08-09T19:56:58.574Z"
   },
   {
    "duration": 7,
    "start_time": "2021-08-09T19:57:17.492Z"
   },
   {
    "duration": 5,
    "start_time": "2021-08-09T19:58:00.169Z"
   },
   {
    "duration": 6,
    "start_time": "2021-08-09T19:58:01.342Z"
   },
   {
    "duration": 7,
    "start_time": "2021-08-09T19:58:39.302Z"
   },
   {
    "duration": 7,
    "start_time": "2021-08-09T19:58:40.026Z"
   },
   {
    "duration": 6,
    "start_time": "2021-08-09T19:59:00.201Z"
   },
   {
    "duration": 6,
    "start_time": "2021-08-09T19:59:21.575Z"
   },
   {
    "duration": 7,
    "start_time": "2021-08-09T19:59:29.309Z"
   },
   {
    "duration": 6,
    "start_time": "2021-08-09T19:59:32.919Z"
   },
   {
    "duration": 372,
    "start_time": "2021-08-09T19:59:56.286Z"
   },
   {
    "duration": 449,
    "start_time": "2021-08-09T20:00:38.753Z"
   },
   {
    "duration": 7,
    "start_time": "2021-08-09T20:00:50.327Z"
   },
   {
    "duration": 374,
    "start_time": "2021-08-09T20:03:08.384Z"
   },
   {
    "duration": 442,
    "start_time": "2021-08-09T20:03:33.313Z"
   },
   {
    "duration": 87,
    "start_time": "2021-08-09T20:07:25.905Z"
   },
   {
    "duration": 39,
    "start_time": "2021-08-09T20:08:31.464Z"
   },
   {
    "duration": 123,
    "start_time": "2021-08-09T20:09:09.305Z"
   },
   {
    "duration": 40,
    "start_time": "2021-08-09T20:09:12.997Z"
   },
   {
    "duration": 23,
    "start_time": "2021-08-09T20:09:39.328Z"
   },
   {
    "duration": 484,
    "start_time": "2021-08-09T20:09:52.380Z"
   },
   {
    "duration": 4362,
    "start_time": "2021-08-09T20:10:01.604Z"
   },
   {
    "duration": 40,
    "start_time": "2021-08-09T20:10:19.150Z"
   },
   {
    "duration": 35,
    "start_time": "2021-08-09T20:21:26.398Z"
   },
   {
    "duration": 24,
    "start_time": "2021-08-09T20:22:30.355Z"
   },
   {
    "duration": 11,
    "start_time": "2021-08-09T20:22:36.753Z"
   },
   {
    "duration": 8,
    "start_time": "2021-08-09T20:22:53.659Z"
   },
   {
    "duration": 8,
    "start_time": "2021-08-09T20:23:12.371Z"
   },
   {
    "duration": 1052,
    "start_time": "2021-08-09T20:27:14.976Z"
   },
   {
    "duration": 360,
    "start_time": "2021-08-09T20:27:31.113Z"
   },
   {
    "duration": 793,
    "start_time": "2021-08-09T20:28:04.232Z"
   },
   {
    "duration": 462,
    "start_time": "2021-08-09T20:28:14.516Z"
   },
   {
    "duration": 482,
    "start_time": "2021-08-09T20:28:36.014Z"
   },
   {
    "duration": 643,
    "start_time": "2021-08-09T20:28:41.668Z"
   },
   {
    "duration": 801,
    "start_time": "2021-08-09T20:28:47.443Z"
   },
   {
    "duration": 658,
    "start_time": "2021-08-09T20:29:05.886Z"
   },
   {
    "duration": 476,
    "start_time": "2021-08-09T20:35:32.189Z"
   },
   {
    "duration": 2074,
    "start_time": "2021-08-09T20:35:52.622Z"
   },
   {
    "duration": 2481,
    "start_time": "2021-08-09T20:36:12.918Z"
   },
   {
    "duration": 2449,
    "start_time": "2021-08-09T20:36:26.845Z"
   },
   {
    "duration": 3240,
    "start_time": "2021-08-09T20:36:39.316Z"
   },
   {
    "duration": 2403,
    "start_time": "2021-08-09T20:36:49.235Z"
   },
   {
    "duration": 3316,
    "start_time": "2021-08-09T20:37:41.705Z"
   },
   {
    "duration": 2525,
    "start_time": "2021-08-09T20:37:51.563Z"
   },
   {
    "duration": 2156,
    "start_time": "2021-08-09T20:38:02.251Z"
   },
   {
    "duration": 2496,
    "start_time": "2021-08-09T20:38:30.324Z"
   },
   {
    "duration": 2100,
    "start_time": "2021-08-09T20:38:45.152Z"
   },
   {
    "duration": 660,
    "start_time": "2021-08-09T20:39:55.334Z"
   },
   {
    "duration": 129,
    "start_time": "2021-08-09T20:41:18.675Z"
   },
   {
    "duration": 123,
    "start_time": "2021-08-09T20:41:26.671Z"
   },
   {
    "duration": 136,
    "start_time": "2021-08-09T20:41:40.896Z"
   },
   {
    "duration": 12141,
    "start_time": "2021-08-09T20:41:48.385Z"
   },
   {
    "duration": 12247,
    "start_time": "2021-08-09T20:42:20.731Z"
   },
   {
    "duration": 12313,
    "start_time": "2021-08-09T20:42:39.549Z"
   },
   {
    "duration": 13136,
    "start_time": "2021-08-09T20:44:36.307Z"
   },
   {
    "duration": 12456,
    "start_time": "2021-08-09T20:44:56.045Z"
   },
   {
    "duration": 12699,
    "start_time": "2021-08-09T20:45:25.457Z"
   },
   {
    "duration": 13045,
    "start_time": "2021-08-09T20:45:45.540Z"
   },
   {
    "duration": 12654,
    "start_time": "2021-08-09T20:46:09.624Z"
   },
   {
    "duration": 683,
    "start_time": "2021-08-09T20:49:24.670Z"
   },
   {
    "duration": 7,
    "start_time": "2021-08-09T21:07:56.869Z"
   },
   {
    "duration": 12,
    "start_time": "2021-08-09T21:08:02.790Z"
   },
   {
    "duration": 22,
    "start_time": "2021-08-09T21:15:18.785Z"
   },
   {
    "duration": 19,
    "start_time": "2021-08-09T21:15:28.562Z"
   },
   {
    "duration": 7,
    "start_time": "2021-08-09T21:15:52.234Z"
   },
   {
    "duration": 19,
    "start_time": "2021-08-09T21:16:16.709Z"
   },
   {
    "duration": 8,
    "start_time": "2021-08-09T21:16:19.403Z"
   },
   {
    "duration": 27,
    "start_time": "2021-08-09T21:16:35.176Z"
   },
   {
    "duration": 33,
    "start_time": "2021-08-09T21:16:36.218Z"
   },
   {
    "duration": 26,
    "start_time": "2021-08-09T21:17:13.167Z"
   },
   {
    "duration": 29,
    "start_time": "2021-08-09T21:17:15.031Z"
   },
   {
    "duration": 162,
    "start_time": "2021-08-09T21:17:24.154Z"
   },
   {
    "duration": 16,
    "start_time": "2021-08-09T21:17:27.961Z"
   },
   {
    "duration": 19,
    "start_time": "2021-08-09T21:17:29.042Z"
   },
   {
    "duration": 430,
    "start_time": "2021-08-09T21:19:05.697Z"
   },
   {
    "duration": 428,
    "start_time": "2021-08-09T21:25:58.700Z"
   },
   {
    "duration": 4,
    "start_time": "2021-08-09T21:26:07.771Z"
   },
   {
    "duration": 1712,
    "start_time": "2021-08-09T21:30:53.723Z"
   },
   {
    "duration": 2179,
    "start_time": "2021-08-09T21:31:18.727Z"
   },
   {
    "duration": 433,
    "start_time": "2021-08-09T21:32:20.314Z"
   },
   {
    "duration": 405,
    "start_time": "2021-08-09T21:33:14.597Z"
   },
   {
    "duration": 16,
    "start_time": "2021-08-09T21:33:34.412Z"
   },
   {
    "duration": 15,
    "start_time": "2021-08-09T21:34:04.625Z"
   },
   {
    "duration": 1579,
    "start_time": "2021-08-09T21:34:54.347Z"
   },
   {
    "duration": 528,
    "start_time": "2021-08-09T21:35:13.949Z"
   },
   {
    "duration": 5,
    "start_time": "2021-08-09T21:35:45.394Z"
   },
   {
    "duration": 281,
    "start_time": "2021-08-09T21:36:00.708Z"
   },
   {
    "duration": 6,
    "start_time": "2021-08-09T21:37:09.616Z"
   },
   {
    "duration": 283,
    "start_time": "2021-08-09T21:37:10.987Z"
   },
   {
    "duration": 1552,
    "start_time": "2021-08-09T21:37:37.424Z"
   },
   {
    "duration": 357,
    "start_time": "2021-08-09T21:37:38.979Z"
   },
   {
    "duration": 16,
    "start_time": "2021-08-09T21:37:39.340Z"
   },
   {
    "duration": 8,
    "start_time": "2021-08-09T21:37:39.358Z"
   },
   {
    "duration": 899,
    "start_time": "2021-08-09T21:37:39.386Z"
   },
   {
    "duration": 121,
    "start_time": "2021-08-09T21:37:40.289Z"
   },
   {
    "duration": 31,
    "start_time": "2021-08-09T21:37:40.413Z"
   },
   {
    "duration": 7,
    "start_time": "2021-08-09T21:37:40.448Z"
   },
   {
    "duration": 42,
    "start_time": "2021-08-09T21:37:40.458Z"
   },
   {
    "duration": 112,
    "start_time": "2021-08-09T21:37:40.503Z"
   },
   {
    "duration": 15,
    "start_time": "2021-08-09T21:37:40.617Z"
   },
   {
    "duration": 11,
    "start_time": "2021-08-09T21:37:40.634Z"
   },
   {
    "duration": 45,
    "start_time": "2021-08-09T21:37:40.648Z"
   },
   {
    "duration": 16,
    "start_time": "2021-08-09T21:37:40.700Z"
   },
   {
    "duration": 6,
    "start_time": "2021-08-09T21:37:40.719Z"
   },
   {
    "duration": 10,
    "start_time": "2021-08-09T21:37:40.727Z"
   },
   {
    "duration": 49,
    "start_time": "2021-08-09T21:37:40.739Z"
   },
   {
    "duration": 13,
    "start_time": "2021-08-09T21:37:40.791Z"
   },
   {
    "duration": 10,
    "start_time": "2021-08-09T21:37:40.807Z"
   },
   {
    "duration": 17,
    "start_time": "2021-08-09T21:37:40.819Z"
   },
   {
    "duration": 14,
    "start_time": "2021-08-09T21:37:40.838Z"
   },
   {
    "duration": 14,
    "start_time": "2021-08-09T21:37:40.890Z"
   },
   {
    "duration": 34,
    "start_time": "2021-08-09T21:37:40.909Z"
   },
   {
    "duration": 6,
    "start_time": "2021-08-09T21:37:40.947Z"
   },
   {
    "duration": 6,
    "start_time": "2021-08-09T21:37:40.985Z"
   },
   {
    "duration": 23,
    "start_time": "2021-08-09T21:37:40.994Z"
   },
   {
    "duration": 20,
    "start_time": "2021-08-09T21:37:41.020Z"
   },
   {
    "duration": 28,
    "start_time": "2021-08-09T21:37:41.043Z"
   },
   {
    "duration": 19,
    "start_time": "2021-08-09T21:37:41.074Z"
   },
   {
    "duration": 12,
    "start_time": "2021-08-09T21:37:41.095Z"
   },
   {
    "duration": 15,
    "start_time": "2021-08-09T21:37:41.109Z"
   },
   {
    "duration": 13,
    "start_time": "2021-08-09T21:37:41.127Z"
   },
   {
    "duration": 385,
    "start_time": "2021-08-09T21:37:41.142Z"
   },
   {
    "duration": 7,
    "start_time": "2021-08-09T21:37:41.530Z"
   },
   {
    "duration": 9,
    "start_time": "2021-08-09T21:37:41.541Z"
   },
   {
    "duration": 367,
    "start_time": "2021-08-09T21:37:41.553Z"
   },
   {
    "duration": 6,
    "start_time": "2021-08-09T21:37:41.923Z"
   },
   {
    "duration": 9,
    "start_time": "2021-08-09T21:37:41.931Z"
   },
   {
    "duration": 15,
    "start_time": "2021-08-09T21:37:41.942Z"
   },
   {
    "duration": 30,
    "start_time": "2021-08-09T21:37:41.959Z"
   },
   {
    "duration": 55,
    "start_time": "2021-08-09T21:37:41.992Z"
   },
   {
    "duration": 43,
    "start_time": "2021-08-09T21:37:42.049Z"
   },
   {
    "duration": 12,
    "start_time": "2021-08-09T21:37:42.095Z"
   },
   {
    "duration": 10,
    "start_time": "2021-08-09T21:37:42.110Z"
   },
   {
    "duration": 12,
    "start_time": "2021-08-09T21:37:42.122Z"
   },
   {
    "duration": 709,
    "start_time": "2021-08-09T21:37:42.137Z"
   },
   {
    "duration": 13189,
    "start_time": "2021-08-09T21:37:42.849Z"
   },
   {
    "duration": 7,
    "start_time": "2021-08-09T21:37:56.043Z"
   },
   {
    "duration": 303,
    "start_time": "2021-08-09T21:38:03.110Z"
   },
   {
    "duration": 6,
    "start_time": "2021-08-09T21:38:07.619Z"
   },
   {
    "duration": 307,
    "start_time": "2021-08-09T21:38:10.498Z"
   },
   {
    "duration": 559,
    "start_time": "2021-08-09T21:38:30.906Z"
   },
   {
    "duration": 1799,
    "start_time": "2021-08-09T21:38:51.693Z"
   },
   {
    "duration": 1859,
    "start_time": "2021-08-09T21:39:53.553Z"
   },
   {
    "duration": 402,
    "start_time": "2021-08-09T21:40:44.265Z"
   },
   {
    "duration": 37,
    "start_time": "2021-08-09T21:40:59.028Z"
   },
   {
    "duration": 18,
    "start_time": "2021-08-09T21:41:08.442Z"
   },
   {
    "duration": 448,
    "start_time": "2021-08-09T21:42:50.734Z"
   },
   {
    "duration": 5,
    "start_time": "2021-08-09T21:43:04.068Z"
   },
   {
    "duration": 294,
    "start_time": "2021-08-09T21:43:05.623Z"
   },
   {
    "duration": 19,
    "start_time": "2021-08-09T21:43:07.559Z"
   },
   {
    "duration": 1452,
    "start_time": "2021-08-10T18:23:02.591Z"
   },
   {
    "duration": 312,
    "start_time": "2021-08-10T18:23:04.046Z"
   },
   {
    "duration": 14,
    "start_time": "2021-08-10T18:23:04.361Z"
   },
   {
    "duration": 7,
    "start_time": "2021-08-10T18:23:04.378Z"
   },
   {
    "duration": 1116,
    "start_time": "2021-08-10T18:23:04.387Z"
   },
   {
    "duration": 144,
    "start_time": "2021-08-10T18:23:05.505Z"
   },
   {
    "duration": 28,
    "start_time": "2021-08-10T18:23:05.651Z"
   },
   {
    "duration": 7,
    "start_time": "2021-08-10T18:23:05.683Z"
   },
   {
    "duration": 25,
    "start_time": "2021-08-10T18:23:05.693Z"
   },
   {
    "duration": 95,
    "start_time": "2021-08-10T18:23:05.720Z"
   },
   {
    "duration": 18,
    "start_time": "2021-08-10T18:23:05.818Z"
   },
   {
    "duration": 28,
    "start_time": "2021-08-10T18:23:05.839Z"
   },
   {
    "duration": 14,
    "start_time": "2021-08-10T18:23:05.869Z"
   },
   {
    "duration": 27,
    "start_time": "2021-08-10T18:23:05.886Z"
   },
   {
    "duration": 8,
    "start_time": "2021-08-10T18:23:05.966Z"
   },
   {
    "duration": 13,
    "start_time": "2021-08-10T18:23:05.978Z"
   },
   {
    "duration": 84,
    "start_time": "2021-08-10T18:23:05.995Z"
   },
   {
    "duration": 10,
    "start_time": "2021-08-10T18:23:06.082Z"
   },
   {
    "duration": 12,
    "start_time": "2021-08-10T18:23:06.095Z"
   },
   {
    "duration": 72,
    "start_time": "2021-08-10T18:23:06.109Z"
   },
   {
    "duration": 12,
    "start_time": "2021-08-10T18:23:06.184Z"
   },
   {
    "duration": 9,
    "start_time": "2021-08-10T18:23:06.198Z"
   },
   {
    "duration": 58,
    "start_time": "2021-08-10T18:23:06.211Z"
   },
   {
    "duration": 6,
    "start_time": "2021-08-10T18:23:06.271Z"
   },
   {
    "duration": 1340,
    "start_time": "2021-08-10T18:24:58.348Z"
   },
   {
    "duration": 4,
    "start_time": "2021-08-10T18:25:42.638Z"
   },
   {
    "duration": 10,
    "start_time": "2021-08-10T18:25:43.178Z"
   },
   {
    "duration": 5,
    "start_time": "2021-08-10T18:28:40.324Z"
   },
   {
    "duration": 262,
    "start_time": "2021-08-10T18:28:40.334Z"
   },
   {
    "duration": 14,
    "start_time": "2021-08-10T18:28:40.599Z"
   },
   {
    "duration": 8,
    "start_time": "2021-08-10T18:28:40.616Z"
   },
   {
    "duration": 102,
    "start_time": "2021-08-10T18:28:40.627Z"
   },
   {
    "duration": 75,
    "start_time": "2021-08-10T18:28:40.731Z"
   },
   {
    "duration": 26,
    "start_time": "2021-08-10T18:28:40.809Z"
   },
   {
    "duration": 10,
    "start_time": "2021-08-10T18:28:40.837Z"
   },
   {
    "duration": 26,
    "start_time": "2021-08-10T18:28:40.849Z"
   },
   {
    "duration": 105,
    "start_time": "2021-08-10T18:28:40.879Z"
   },
   {
    "duration": 13,
    "start_time": "2021-08-10T18:28:40.988Z"
   },
   {
    "duration": 9,
    "start_time": "2021-08-10T18:28:41.004Z"
   },
   {
    "duration": 9,
    "start_time": "2021-08-10T18:28:41.016Z"
   },
   {
    "duration": 45,
    "start_time": "2021-08-10T18:28:41.027Z"
   },
   {
    "duration": 5,
    "start_time": "2021-08-10T18:28:41.075Z"
   },
   {
    "duration": 8,
    "start_time": "2021-08-10T18:28:41.082Z"
   },
   {
    "duration": 34,
    "start_time": "2021-08-10T18:28:41.093Z"
   },
   {
    "duration": 40,
    "start_time": "2021-08-10T18:28:41.129Z"
   },
   {
    "duration": 15,
    "start_time": "2021-08-10T18:28:41.171Z"
   },
   {
    "duration": 16,
    "start_time": "2021-08-10T18:28:41.189Z"
   },
   {
    "duration": 12,
    "start_time": "2021-08-10T18:28:41.207Z"
   },
   {
    "duration": 8,
    "start_time": "2021-08-10T18:28:41.221Z"
   },
   {
    "duration": 64,
    "start_time": "2021-08-10T18:28:41.231Z"
   },
   {
    "duration": 5,
    "start_time": "2021-08-10T18:28:41.298Z"
   },
   {
    "duration": 6,
    "start_time": "2021-08-10T18:28:41.305Z"
   },
   {
    "duration": 11,
    "start_time": "2021-08-10T18:28:41.313Z"
   },
   {
    "duration": 46,
    "start_time": "2021-08-10T18:28:41.326Z"
   },
   {
    "duration": 24,
    "start_time": "2021-08-10T18:28:41.379Z"
   },
   {
    "duration": 8,
    "start_time": "2021-08-10T18:28:41.406Z"
   },
   {
    "duration": 6,
    "start_time": "2021-08-10T18:28:41.417Z"
   },
   {
    "duration": 47,
    "start_time": "2021-08-10T18:28:41.425Z"
   },
   {
    "duration": 9,
    "start_time": "2021-08-10T18:28:52.933Z"
   },
   {
    "duration": 365,
    "start_time": "2021-08-10T18:28:54.865Z"
   },
   {
    "duration": 355,
    "start_time": "2021-08-10T18:31:40.648Z"
   },
   {
    "duration": 273,
    "start_time": "2021-08-10T18:33:23.706Z"
   },
   {
    "duration": 1480,
    "start_time": "2021-08-10T18:33:42.958Z"
   },
   {
    "duration": 215,
    "start_time": "2021-08-10T18:33:44.441Z"
   },
   {
    "duration": 15,
    "start_time": "2021-08-10T18:33:44.659Z"
   },
   {
    "duration": 8,
    "start_time": "2021-08-10T18:33:44.677Z"
   },
   {
    "duration": 680,
    "start_time": "2021-08-10T18:33:44.687Z"
   },
   {
    "duration": 63,
    "start_time": "2021-08-10T18:33:45.370Z"
   },
   {
    "duration": 29,
    "start_time": "2021-08-10T18:33:45.435Z"
   },
   {
    "duration": 9,
    "start_time": "2021-08-10T18:33:45.469Z"
   },
   {
    "duration": 24,
    "start_time": "2021-08-10T18:33:45.481Z"
   },
   {
    "duration": 121,
    "start_time": "2021-08-10T18:33:45.507Z"
   },
   {
    "duration": 44,
    "start_time": "2021-08-10T18:33:45.630Z"
   },
   {
    "duration": 11,
    "start_time": "2021-08-10T18:33:45.677Z"
   },
   {
    "duration": 12,
    "start_time": "2021-08-10T18:33:45.690Z"
   },
   {
    "duration": 21,
    "start_time": "2021-08-10T18:33:45.704Z"
   },
   {
    "duration": 41,
    "start_time": "2021-08-10T18:33:45.727Z"
   },
   {
    "duration": 8,
    "start_time": "2021-08-10T18:33:45.771Z"
   },
   {
    "duration": 34,
    "start_time": "2021-08-10T18:33:45.782Z"
   },
   {
    "duration": 49,
    "start_time": "2021-08-10T18:33:45.819Z"
   },
   {
    "duration": 10,
    "start_time": "2021-08-10T18:33:45.870Z"
   },
   {
    "duration": 14,
    "start_time": "2021-08-10T18:33:45.883Z"
   },
   {
    "duration": 13,
    "start_time": "2021-08-10T18:33:45.899Z"
   },
   {
    "duration": 58,
    "start_time": "2021-08-10T18:33:45.915Z"
   },
   {
    "duration": 35,
    "start_time": "2021-08-10T18:33:45.978Z"
   },
   {
    "duration": 5,
    "start_time": "2021-08-10T18:33:46.017Z"
   },
   {
    "duration": 45,
    "start_time": "2021-08-10T18:33:46.024Z"
   },
   {
    "duration": 14,
    "start_time": "2021-08-10T18:33:46.071Z"
   },
   {
    "duration": 14,
    "start_time": "2021-08-10T18:33:46.088Z"
   },
   {
    "duration": 35,
    "start_time": "2021-08-10T18:33:46.104Z"
   },
   {
    "duration": 7,
    "start_time": "2021-08-10T18:33:46.166Z"
   },
   {
    "duration": 7,
    "start_time": "2021-08-10T18:33:46.176Z"
   },
   {
    "duration": 10,
    "start_time": "2021-08-10T18:33:46.186Z"
   },
   {
    "duration": 13,
    "start_time": "2021-08-10T18:33:46.198Z"
   },
   {
    "duration": 431,
    "start_time": "2021-08-10T18:33:46.213Z"
   },
   {
    "duration": 20,
    "start_time": "2021-08-10T18:33:46.647Z"
   },
   {
    "duration": 7,
    "start_time": "2021-08-10T18:33:46.670Z"
   },
   {
    "duration": 6,
    "start_time": "2021-08-10T18:33:51.396Z"
   },
   {
    "duration": 349,
    "start_time": "2021-08-10T18:33:51.967Z"
   },
   {
    "duration": 352,
    "start_time": "2021-08-10T18:34:03.815Z"
   },
   {
    "duration": 383,
    "start_time": "2021-08-10T18:34:11.592Z"
   },
   {
    "duration": 429,
    "start_time": "2021-08-10T18:34:23.363Z"
   },
   {
    "duration": 6,
    "start_time": "2021-08-10T18:34:24.612Z"
   },
   {
    "duration": 6,
    "start_time": "2021-08-10T18:34:26.346Z"
   },
   {
    "duration": 355,
    "start_time": "2021-08-10T18:34:27.293Z"
   },
   {
    "duration": 6,
    "start_time": "2021-08-10T18:34:32.651Z"
   },
   {
    "duration": 6,
    "start_time": "2021-08-10T18:34:33.575Z"
   },
   {
    "duration": 6,
    "start_time": "2021-08-10T18:34:34.097Z"
   },
   {
    "duration": 1537,
    "start_time": "2021-08-10T18:36:59.238Z"
   },
   {
    "duration": 240,
    "start_time": "2021-08-10T18:37:00.778Z"
   },
   {
    "duration": 14,
    "start_time": "2021-08-10T18:37:01.021Z"
   },
   {
    "duration": 29,
    "start_time": "2021-08-10T18:37:01.038Z"
   },
   {
    "duration": 655,
    "start_time": "2021-08-10T18:37:01.070Z"
   },
   {
    "duration": 60,
    "start_time": "2021-08-10T18:37:01.728Z"
   },
   {
    "duration": 30,
    "start_time": "2021-08-10T18:37:01.790Z"
   },
   {
    "duration": 8,
    "start_time": "2021-08-10T18:37:01.823Z"
   },
   {
    "duration": 46,
    "start_time": "2021-08-10T18:37:01.834Z"
   },
   {
    "duration": 112,
    "start_time": "2021-08-10T18:37:01.883Z"
   },
   {
    "duration": 15,
    "start_time": "2021-08-10T18:37:01.997Z"
   },
   {
    "duration": 23,
    "start_time": "2021-08-10T18:37:02.014Z"
   },
   {
    "duration": 32,
    "start_time": "2021-08-10T18:37:02.039Z"
   },
   {
    "duration": 56,
    "start_time": "2021-08-10T18:37:02.073Z"
   },
   {
    "duration": 13,
    "start_time": "2021-08-10T18:37:02.132Z"
   },
   {
    "duration": 21,
    "start_time": "2021-08-10T18:37:02.147Z"
   },
   {
    "duration": 41,
    "start_time": "2021-08-10T18:37:02.171Z"
   },
   {
    "duration": 10,
    "start_time": "2021-08-10T18:37:02.214Z"
   },
   {
    "duration": 17,
    "start_time": "2021-08-10T18:37:02.226Z"
   },
   {
    "duration": 29,
    "start_time": "2021-08-10T18:37:02.246Z"
   },
   {
    "duration": 13,
    "start_time": "2021-08-10T18:37:02.277Z"
   },
   {
    "duration": 8,
    "start_time": "2021-08-10T18:37:02.292Z"
   },
   {
    "duration": 78,
    "start_time": "2021-08-10T18:37:02.304Z"
   },
   {
    "duration": 6,
    "start_time": "2021-08-10T18:37:02.384Z"
   },
   {
    "duration": 13,
    "start_time": "2021-08-10T18:37:02.392Z"
   },
   {
    "duration": 13,
    "start_time": "2021-08-10T18:37:02.408Z"
   },
   {
    "duration": 13,
    "start_time": "2021-08-10T18:37:02.423Z"
   },
   {
    "duration": 49,
    "start_time": "2021-08-10T18:37:02.438Z"
   },
   {
    "duration": 5,
    "start_time": "2021-08-10T18:37:02.490Z"
   },
   {
    "duration": 9,
    "start_time": "2021-08-10T18:37:02.497Z"
   },
   {
    "duration": 20,
    "start_time": "2021-08-10T18:37:02.508Z"
   },
   {
    "duration": 39,
    "start_time": "2021-08-10T18:37:02.530Z"
   },
   {
    "duration": 389,
    "start_time": "2021-08-10T18:37:02.572Z"
   },
   {
    "duration": 5,
    "start_time": "2021-08-10T18:37:02.963Z"
   },
   {
    "duration": 8,
    "start_time": "2021-08-10T18:37:02.970Z"
   },
   {
    "duration": 387,
    "start_time": "2021-08-10T18:37:02.980Z"
   },
   {
    "duration": 6,
    "start_time": "2021-08-10T18:37:03.369Z"
   },
   {
    "duration": 15,
    "start_time": "2021-08-10T18:37:03.377Z"
   },
   {
    "duration": 381,
    "start_time": "2021-08-10T18:37:41.291Z"
   },
   {
    "duration": 6,
    "start_time": "2021-08-10T18:38:21.287Z"
   },
   {
    "duration": 5,
    "start_time": "2021-08-10T18:38:21.867Z"
   },
   {
    "duration": 5,
    "start_time": "2021-08-10T18:38:22.695Z"
   },
   {
    "duration": 289,
    "start_time": "2021-08-10T18:38:24.299Z"
   },
   {
    "duration": 7,
    "start_time": "2021-08-10T18:38:36.216Z"
   },
   {
    "duration": 799,
    "start_time": "2021-08-10T18:46:06.708Z"
   },
   {
    "duration": 268,
    "start_time": "2021-08-10T18:46:16.114Z"
   },
   {
    "duration": 6,
    "start_time": "2021-08-10T18:46:53.880Z"
   },
   {
    "duration": 9,
    "start_time": "2021-08-10T18:47:06.674Z"
   },
   {
    "duration": 10,
    "start_time": "2021-08-10T18:47:24.245Z"
   },
   {
    "duration": 320,
    "start_time": "2021-08-10T18:47:34.882Z"
   },
   {
    "duration": 9,
    "start_time": "2021-08-10T18:47:58.404Z"
   },
   {
    "duration": 244,
    "start_time": "2021-08-10T18:48:04.694Z"
   },
   {
    "duration": 218,
    "start_time": "2021-08-10T18:48:21.899Z"
   },
   {
    "duration": 1507,
    "start_time": "2021-08-10T18:49:08.142Z"
   },
   {
    "duration": 242,
    "start_time": "2021-08-10T18:49:09.652Z"
   },
   {
    "duration": 16,
    "start_time": "2021-08-10T18:49:09.897Z"
   },
   {
    "duration": 11,
    "start_time": "2021-08-10T18:49:09.916Z"
   },
   {
    "duration": 797,
    "start_time": "2021-08-10T18:49:09.929Z"
   },
   {
    "duration": 54,
    "start_time": "2021-08-10T18:49:10.729Z"
   },
   {
    "duration": 33,
    "start_time": "2021-08-10T18:49:10.786Z"
   },
   {
    "duration": 7,
    "start_time": "2021-08-10T18:49:10.823Z"
   },
   {
    "duration": 48,
    "start_time": "2021-08-10T18:49:10.833Z"
   },
   {
    "duration": 113,
    "start_time": "2021-08-10T18:49:10.884Z"
   },
   {
    "duration": 14,
    "start_time": "2021-08-10T18:49:10.999Z"
   },
   {
    "duration": 12,
    "start_time": "2021-08-10T18:49:11.015Z"
   },
   {
    "duration": 39,
    "start_time": "2021-08-10T18:49:11.030Z"
   },
   {
    "duration": 21,
    "start_time": "2021-08-10T18:49:11.071Z"
   },
   {
    "duration": 6,
    "start_time": "2021-08-10T18:49:11.094Z"
   },
   {
    "duration": 9,
    "start_time": "2021-08-10T18:49:11.102Z"
   },
   {
    "duration": 65,
    "start_time": "2021-08-10T18:49:11.113Z"
   },
   {
    "duration": 8,
    "start_time": "2021-08-10T18:49:11.180Z"
   },
   {
    "duration": 14,
    "start_time": "2021-08-10T18:49:11.190Z"
   },
   {
    "duration": 14,
    "start_time": "2021-08-10T18:49:11.206Z"
   },
   {
    "duration": 58,
    "start_time": "2021-08-10T18:49:11.223Z"
   },
   {
    "duration": 12,
    "start_time": "2021-08-10T18:49:11.284Z"
   },
   {
    "duration": 74,
    "start_time": "2021-08-10T18:49:11.300Z"
   },
   {
    "duration": 6,
    "start_time": "2021-08-10T18:49:11.376Z"
   },
   {
    "duration": 4,
    "start_time": "2021-08-10T18:49:11.385Z"
   },
   {
    "duration": 12,
    "start_time": "2021-08-10T18:49:11.391Z"
   },
   {
    "duration": 12,
    "start_time": "2021-08-10T18:49:11.405Z"
   },
   {
    "duration": 69,
    "start_time": "2021-08-10T18:49:11.419Z"
   },
   {
    "duration": 5,
    "start_time": "2021-08-10T18:49:11.491Z"
   },
   {
    "duration": 6,
    "start_time": "2021-08-10T18:49:11.499Z"
   },
   {
    "duration": 10,
    "start_time": "2021-08-10T18:49:11.507Z"
   },
   {
    "duration": 48,
    "start_time": "2021-08-10T18:49:11.519Z"
   },
   {
    "duration": 367,
    "start_time": "2021-08-10T18:49:11.570Z"
   },
   {
    "duration": 27,
    "start_time": "2021-08-10T18:49:11.940Z"
   },
   {
    "duration": 7,
    "start_time": "2021-08-10T18:49:11.970Z"
   },
   {
    "duration": 363,
    "start_time": "2021-08-10T18:49:11.980Z"
   },
   {
    "duration": 6,
    "start_time": "2021-08-10T18:49:12.346Z"
   },
   {
    "duration": 6,
    "start_time": "2021-08-10T18:49:14.825Z"
   },
   {
    "duration": 5,
    "start_time": "2021-08-10T18:49:15.912Z"
   },
   {
    "duration": 6,
    "start_time": "2021-08-10T18:49:17.009Z"
   },
   {
    "duration": 9,
    "start_time": "2021-08-10T18:49:19.343Z"
   },
   {
    "duration": 10,
    "start_time": "2021-08-10T18:49:20.330Z"
   },
   {
    "duration": 414,
    "start_time": "2021-08-10T18:49:28.520Z"
   },
   {
    "duration": 234,
    "start_time": "2021-08-10T18:50:09.501Z"
   },
   {
    "duration": 256,
    "start_time": "2021-08-10T18:51:03.691Z"
   },
   {
    "duration": 4,
    "start_time": "2021-08-10T18:51:26.874Z"
   },
   {
    "duration": 5,
    "start_time": "2021-08-10T18:51:31.762Z"
   },
   {
    "duration": 6,
    "start_time": "2021-08-10T18:51:49.027Z"
   },
   {
    "duration": 10,
    "start_time": "2021-08-10T18:51:51.565Z"
   },
   {
    "duration": 6,
    "start_time": "2021-08-10T18:53:17.692Z"
   },
   {
    "duration": 11,
    "start_time": "2021-08-10T18:53:22.186Z"
   },
   {
    "duration": 5,
    "start_time": "2021-08-10T18:54:04.298Z"
   },
   {
    "duration": 10,
    "start_time": "2021-08-10T18:54:05.214Z"
   },
   {
    "duration": 238,
    "start_time": "2021-08-10T18:54:36.420Z"
   },
   {
    "duration": 5,
    "start_time": "2021-08-10T18:54:42.402Z"
   },
   {
    "duration": 5,
    "start_time": "2021-08-10T18:59:16.032Z"
   },
   {
    "duration": 10,
    "start_time": "2021-08-10T18:59:17.691Z"
   },
   {
    "duration": 258,
    "start_time": "2021-08-10T19:03:29.074Z"
   },
   {
    "duration": 73,
    "start_time": "2021-08-10T19:03:47.018Z"
   },
   {
    "duration": 85,
    "start_time": "2021-08-10T19:03:55.036Z"
   },
   {
    "duration": 272,
    "start_time": "2021-08-10T19:03:58.518Z"
   },
   {
    "duration": 5,
    "start_time": "2021-08-10T19:05:32.444Z"
   },
   {
    "duration": 36,
    "start_time": "2021-08-10T19:07:51.785Z"
   },
   {
    "duration": 14,
    "start_time": "2021-08-10T19:08:03.228Z"
   },
   {
    "duration": 33,
    "start_time": "2021-08-10T19:08:48.412Z"
   },
   {
    "duration": 13,
    "start_time": "2021-08-10T19:08:49.667Z"
   },
   {
    "duration": 33,
    "start_time": "2021-08-10T19:09:33.499Z"
   },
   {
    "duration": 13,
    "start_time": "2021-08-10T19:09:34.322Z"
   },
   {
    "duration": 750,
    "start_time": "2021-08-10T19:12:13.748Z"
   },
   {
    "duration": 15,
    "start_time": "2021-08-10T19:12:14.970Z"
   },
   {
    "duration": 26,
    "start_time": "2021-08-10T19:12:27.031Z"
   },
   {
    "duration": 15,
    "start_time": "2021-08-10T19:12:28.277Z"
   },
   {
    "duration": 644,
    "start_time": "2021-08-10T19:13:25.469Z"
   },
   {
    "duration": 34,
    "start_time": "2021-08-10T19:13:44.609Z"
   },
   {
    "duration": 13,
    "start_time": "2021-08-10T19:13:47.734Z"
   },
   {
    "duration": 263,
    "start_time": "2021-08-10T19:15:45.129Z"
   },
   {
    "duration": 87,
    "start_time": "2021-08-10T19:15:50.265Z"
   },
   {
    "duration": 277,
    "start_time": "2021-08-10T19:15:54.395Z"
   },
   {
    "duration": 5,
    "start_time": "2021-08-10T19:16:31.922Z"
   },
   {
    "duration": 10,
    "start_time": "2021-08-10T19:16:37.607Z"
   },
   {
    "duration": 69,
    "start_time": "2021-08-10T19:18:54.426Z"
   },
   {
    "duration": 276,
    "start_time": "2021-08-10T19:19:01.550Z"
   },
   {
    "duration": 270,
    "start_time": "2021-08-10T19:19:45.526Z"
   },
   {
    "duration": 236,
    "start_time": "2021-08-10T19:20:06.096Z"
   },
   {
    "duration": 87,
    "start_time": "2021-08-10T19:20:10.610Z"
   },
   {
    "duration": 242,
    "start_time": "2021-08-10T19:20:13.894Z"
   },
   {
    "duration": 4,
    "start_time": "2021-08-10T19:20:29.165Z"
   },
   {
    "duration": 6,
    "start_time": "2021-08-10T19:20:36.541Z"
   },
   {
    "duration": 6,
    "start_time": "2021-08-10T19:20:56.921Z"
   },
   {
    "duration": 10,
    "start_time": "2021-08-10T19:21:07.855Z"
   },
   {
    "duration": 253,
    "start_time": "2021-08-10T19:25:23.953Z"
   },
   {
    "duration": 1804,
    "start_time": "2021-08-10T19:25:38.544Z"
   },
   {
    "duration": 268,
    "start_time": "2021-08-10T19:25:40.355Z"
   },
   {
    "duration": 15,
    "start_time": "2021-08-10T19:25:40.626Z"
   },
   {
    "duration": 27,
    "start_time": "2021-08-10T19:25:40.644Z"
   },
   {
    "duration": 860,
    "start_time": "2021-08-10T19:25:40.675Z"
   },
   {
    "duration": 90,
    "start_time": "2021-08-10T19:25:41.537Z"
   },
   {
    "duration": 31,
    "start_time": "2021-08-10T19:25:41.629Z"
   },
   {
    "duration": 8,
    "start_time": "2021-08-10T19:25:41.664Z"
   },
   {
    "duration": 26,
    "start_time": "2021-08-10T19:25:41.675Z"
   },
   {
    "duration": 125,
    "start_time": "2021-08-10T19:25:41.703Z"
   },
   {
    "duration": 43,
    "start_time": "2021-08-10T19:25:41.832Z"
   },
   {
    "duration": 14,
    "start_time": "2021-08-10T19:25:41.878Z"
   },
   {
    "duration": 13,
    "start_time": "2021-08-10T19:25:41.895Z"
   },
   {
    "duration": 58,
    "start_time": "2021-08-10T19:25:41.911Z"
   },
   {
    "duration": 6,
    "start_time": "2021-08-10T19:25:41.973Z"
   },
   {
    "duration": 11,
    "start_time": "2021-08-10T19:25:41.982Z"
   },
   {
    "duration": 31,
    "start_time": "2021-08-10T19:25:41.996Z"
   },
   {
    "duration": 10,
    "start_time": "2021-08-10T19:25:42.068Z"
   },
   {
    "duration": 14,
    "start_time": "2021-08-10T19:25:42.081Z"
   },
   {
    "duration": 16,
    "start_time": "2021-08-10T19:25:42.098Z"
   },
   {
    "duration": 63,
    "start_time": "2021-08-10T19:25:42.117Z"
   },
   {
    "duration": 11,
    "start_time": "2021-08-10T19:25:42.183Z"
   },
   {
    "duration": 95,
    "start_time": "2021-08-10T19:25:42.197Z"
   },
   {
    "duration": 6,
    "start_time": "2021-08-10T19:25:42.295Z"
   },
   {
    "duration": 16,
    "start_time": "2021-08-10T19:25:42.303Z"
   },
   {
    "duration": 15,
    "start_time": "2021-08-10T19:25:42.324Z"
   },
   {
    "duration": 42,
    "start_time": "2021-08-10T19:25:42.342Z"
   },
   {
    "duration": 26,
    "start_time": "2021-08-10T19:25:42.387Z"
   },
   {
    "duration": 16,
    "start_time": "2021-08-10T19:25:42.416Z"
   },
   {
    "duration": 33,
    "start_time": "2021-08-10T19:25:42.435Z"
   },
   {
    "duration": 15,
    "start_time": "2021-08-10T19:25:42.470Z"
   },
   {
    "duration": 12,
    "start_time": "2021-08-10T19:25:42.487Z"
   },
   {
    "duration": 422,
    "start_time": "2021-08-10T19:25:42.502Z"
   },
   {
    "duration": 8,
    "start_time": "2021-08-10T19:25:42.927Z"
   },
   {
    "duration": 7,
    "start_time": "2021-08-10T19:25:42.938Z"
   },
   {
    "duration": 386,
    "start_time": "2021-08-10T19:25:42.968Z"
   },
   {
    "duration": 12,
    "start_time": "2021-08-10T19:25:43.356Z"
   },
   {
    "duration": 14,
    "start_time": "2021-08-10T19:25:43.371Z"
   },
   {
    "duration": 18,
    "start_time": "2021-08-10T19:25:43.387Z"
   },
   {
    "duration": 16,
    "start_time": "2021-08-10T19:25:43.408Z"
   },
   {
    "duration": 10,
    "start_time": "2021-08-10T19:25:43.427Z"
   },
   {
    "duration": 10,
    "start_time": "2021-08-10T19:25:43.439Z"
   },
   {
    "duration": 19,
    "start_time": "2021-08-10T19:25:43.451Z"
   },
   {
    "duration": 17,
    "start_time": "2021-08-10T19:25:43.472Z"
   },
   {
    "duration": 16,
    "start_time": "2021-08-10T19:25:43.491Z"
   },
   {
    "duration": 68,
    "start_time": "2021-08-10T19:25:43.509Z"
   },
   {
    "duration": 25,
    "start_time": "2021-08-10T19:25:43.580Z"
   },
   {
    "duration": 23,
    "start_time": "2021-08-10T19:25:55.041Z"
   },
   {
    "duration": 10,
    "start_time": "2021-08-10T19:25:56.056Z"
   },
   {
    "duration": 415,
    "start_time": "2021-08-10T19:25:57.631Z"
   },
   {
    "duration": 411,
    "start_time": "2021-08-10T19:27:18.937Z"
   },
   {
    "duration": 501,
    "start_time": "2021-08-10T19:27:28.425Z"
   },
   {
    "duration": 1500,
    "start_time": "2021-08-10T19:28:54.049Z"
   },
   {
    "duration": 291,
    "start_time": "2021-08-10T19:28:55.552Z"
   },
   {
    "duration": 24,
    "start_time": "2021-08-10T19:28:55.846Z"
   },
   {
    "duration": 8,
    "start_time": "2021-08-10T19:28:55.873Z"
   },
   {
    "duration": 784,
    "start_time": "2021-08-10T19:28:55.883Z"
   },
   {
    "duration": 60,
    "start_time": "2021-08-10T19:28:56.670Z"
   },
   {
    "duration": 28,
    "start_time": "2021-08-10T19:28:56.733Z"
   },
   {
    "duration": 8,
    "start_time": "2021-08-10T19:28:56.766Z"
   },
   {
    "duration": 23,
    "start_time": "2021-08-10T19:28:56.778Z"
   },
   {
    "duration": 126,
    "start_time": "2021-08-10T19:28:56.804Z"
   },
   {
    "duration": 35,
    "start_time": "2021-08-10T19:28:56.933Z"
   },
   {
    "duration": 10,
    "start_time": "2021-08-10T19:28:56.970Z"
   },
   {
    "duration": 8,
    "start_time": "2021-08-10T19:28:56.983Z"
   },
   {
    "duration": 18,
    "start_time": "2021-08-10T19:28:56.993Z"
   },
   {
    "duration": 5,
    "start_time": "2021-08-10T19:28:57.014Z"
   },
   {
    "duration": 46,
    "start_time": "2021-08-10T19:28:57.021Z"
   },
   {
    "duration": 31,
    "start_time": "2021-08-10T19:28:57.070Z"
   },
   {
    "duration": 8,
    "start_time": "2021-08-10T19:28:57.103Z"
   },
   {
    "duration": 58,
    "start_time": "2021-08-10T19:28:57.113Z"
   },
   {
    "duration": 16,
    "start_time": "2021-08-10T19:28:57.173Z"
   },
   {
    "duration": 12,
    "start_time": "2021-08-10T19:28:57.191Z"
   },
   {
    "duration": 8,
    "start_time": "2021-08-10T19:28:57.206Z"
   },
   {
    "duration": 34,
    "start_time": "2021-08-10T19:28:57.267Z"
   },
   {
    "duration": 6,
    "start_time": "2021-08-10T19:28:57.303Z"
   },
   {
    "duration": 4,
    "start_time": "2021-08-10T19:28:57.311Z"
   },
   {
    "duration": 52,
    "start_time": "2021-08-10T19:28:57.317Z"
   },
   {
    "duration": 28,
    "start_time": "2021-08-10T19:28:57.375Z"
   },
   {
    "duration": 26,
    "start_time": "2021-08-10T19:28:57.406Z"
   },
   {
    "duration": 37,
    "start_time": "2021-08-10T19:28:57.434Z"
   },
   {
    "duration": 14,
    "start_time": "2021-08-10T19:28:57.474Z"
   },
   {
    "duration": 12,
    "start_time": "2021-08-10T19:28:57.490Z"
   },
   {
    "duration": 11,
    "start_time": "2021-08-10T19:28:57.505Z"
   },
   {
    "duration": 420,
    "start_time": "2021-08-10T19:28:57.518Z"
   },
   {
    "duration": 6,
    "start_time": "2021-08-10T19:28:57.941Z"
   },
   {
    "duration": 23,
    "start_time": "2021-08-10T19:28:57.949Z"
   },
   {
    "duration": 369,
    "start_time": "2021-08-10T19:28:57.974Z"
   },
   {
    "duration": 5,
    "start_time": "2021-08-10T19:28:58.346Z"
   },
   {
    "duration": 4,
    "start_time": "2021-08-10T19:28:58.368Z"
   },
   {
    "duration": 15,
    "start_time": "2021-08-10T19:28:58.375Z"
   },
   {
    "duration": 14,
    "start_time": "2021-08-10T19:28:58.393Z"
   },
   {
    "duration": 10,
    "start_time": "2021-08-10T19:28:58.410Z"
   },
   {
    "duration": 8,
    "start_time": "2021-08-10T19:28:58.423Z"
   },
   {
    "duration": 34,
    "start_time": "2021-08-10T19:28:58.433Z"
   },
   {
    "duration": 14,
    "start_time": "2021-08-10T19:28:58.469Z"
   },
   {
    "duration": 16,
    "start_time": "2021-08-10T19:28:58.486Z"
   },
   {
    "duration": 76,
    "start_time": "2021-08-10T19:28:58.506Z"
   },
   {
    "duration": 24,
    "start_time": "2021-08-10T19:28:58.584Z"
   },
   {
    "duration": 11,
    "start_time": "2021-08-10T19:28:58.611Z"
   },
   {
    "duration": 443,
    "start_time": "2021-08-10T19:28:58.624Z"
   },
   {
    "duration": 7,
    "start_time": "2021-08-10T19:28:59.069Z"
   },
   {
    "duration": 7,
    "start_time": "2021-08-10T19:28:59.079Z"
   },
   {
    "duration": 698,
    "start_time": "2021-08-10T19:28:59.088Z"
   },
   {
    "duration": 12135,
    "start_time": "2021-08-10T19:28:59.788Z"
   },
   {
    "duration": 5,
    "start_time": "2021-08-10T19:29:11.926Z"
   },
   {
    "duration": 8,
    "start_time": "2021-08-10T19:29:11.933Z"
   },
   {
    "duration": 27,
    "start_time": "2021-08-10T19:29:11.943Z"
   },
   {
    "duration": 9,
    "start_time": "2021-08-10T19:29:11.972Z"
   },
   {
    "duration": 6,
    "start_time": "2021-08-10T19:29:11.984Z"
   },
   {
    "duration": 10,
    "start_time": "2021-08-10T19:29:11.993Z"
   },
   {
    "duration": 65,
    "start_time": "2021-08-10T19:29:12.006Z"
   },
   {
    "duration": 10307,
    "start_time": "2021-08-10T19:29:18.991Z"
   },
   {
    "duration": 3061,
    "start_time": "2021-08-10T19:29:39.910Z"
   },
   {
    "duration": 36,
    "start_time": "2021-08-10T19:30:30.726Z"
   },
   {
    "duration": 379,
    "start_time": "2021-08-10T19:31:37.869Z"
   },
   {
    "duration": 36,
    "start_time": "2021-08-10T19:31:48.912Z"
   },
   {
    "duration": 1276,
    "start_time": "2021-08-10T19:32:21.500Z"
   },
   {
    "duration": 34,
    "start_time": "2021-08-10T19:32:35.160Z"
   },
   {
    "duration": 47,
    "start_time": "2021-08-10T19:34:05.848Z"
   },
   {
    "duration": 3302,
    "start_time": "2021-08-10T19:34:22.875Z"
   },
   {
    "duration": 249,
    "start_time": "2021-08-10T19:34:55.464Z"
   },
   {
    "duration": 271,
    "start_time": "2021-08-10T19:35:15.526Z"
   },
   {
    "duration": 6140,
    "start_time": "2021-08-10T19:35:50.558Z"
   },
   {
    "duration": 6770,
    "start_time": "2021-08-10T19:36:28.822Z"
   },
   {
    "duration": 12,
    "start_time": "2021-08-10T19:36:56.510Z"
   },
   {
    "duration": 268,
    "start_time": "2021-08-10T19:37:45.395Z"
   },
   {
    "duration": 242,
    "start_time": "2021-08-10T19:38:00.735Z"
   },
   {
    "duration": 228,
    "start_time": "2021-08-10T19:38:27.639Z"
   },
   {
    "duration": 6362,
    "start_time": "2021-08-10T19:38:59.172Z"
   },
   {
    "duration": 324,
    "start_time": "2021-08-10T21:15:22.220Z"
   },
   {
    "duration": 1766,
    "start_time": "2021-08-10T21:17:47.686Z"
   },
   {
    "duration": 222,
    "start_time": "2021-08-10T21:17:54.828Z"
   },
   {
    "duration": 15,
    "start_time": "2021-08-10T21:17:55.247Z"
   },
   {
    "duration": 7,
    "start_time": "2021-08-10T21:17:55.961Z"
   },
   {
    "duration": 699,
    "start_time": "2021-08-10T21:17:56.402Z"
   },
   {
    "duration": 108,
    "start_time": "2021-08-10T21:17:57.105Z"
   },
   {
    "duration": 30,
    "start_time": "2021-08-10T21:17:57.216Z"
   },
   {
    "duration": 7,
    "start_time": "2021-08-10T21:17:57.248Z"
   },
   {
    "duration": 19,
    "start_time": "2021-08-10T21:17:57.264Z"
   },
   {
    "duration": 84,
    "start_time": "2021-08-10T21:17:57.775Z"
   },
   {
    "duration": 14,
    "start_time": "2021-08-10T21:17:57.951Z"
   },
   {
    "duration": 10,
    "start_time": "2021-08-10T21:17:58.113Z"
   },
   {
    "duration": 8,
    "start_time": "2021-08-10T21:17:58.281Z"
   },
   {
    "duration": 14,
    "start_time": "2021-08-10T21:17:58.468Z"
   },
   {
    "duration": 6,
    "start_time": "2021-08-10T21:17:58.991Z"
   },
   {
    "duration": 5,
    "start_time": "2021-08-10T21:17:59.185Z"
   },
   {
    "duration": 27,
    "start_time": "2021-08-10T21:17:59.712Z"
   },
   {
    "duration": 9,
    "start_time": "2021-08-10T21:18:00.655Z"
   },
   {
    "duration": 9,
    "start_time": "2021-08-10T21:18:00.739Z"
   },
   {
    "duration": 13,
    "start_time": "2021-08-10T21:18:00.910Z"
   },
   {
    "duration": 11,
    "start_time": "2021-08-10T21:18:01.097Z"
   },
   {
    "duration": 8,
    "start_time": "2021-08-10T21:18:02.203Z"
   },
   {
    "duration": 41,
    "start_time": "2021-08-10T21:18:02.214Z"
   },
   {
    "duration": 6,
    "start_time": "2021-08-10T21:18:02.929Z"
   },
   {
    "duration": 3,
    "start_time": "2021-08-10T21:18:02.996Z"
   },
   {
    "duration": 8,
    "start_time": "2021-08-10T21:18:03.187Z"
   },
   {
    "duration": 9,
    "start_time": "2021-08-10T21:18:03.708Z"
   },
   {
    "duration": 23,
    "start_time": "2021-08-10T21:18:03.860Z"
   },
   {
    "duration": 5,
    "start_time": "2021-08-10T21:18:04.459Z"
   },
   {
    "duration": 11,
    "start_time": "2021-08-10T21:18:04.468Z"
   },
   {
    "duration": 9,
    "start_time": "2021-08-10T21:18:04.510Z"
   },
   {
    "duration": 9,
    "start_time": "2021-08-10T21:18:05.331Z"
   },
   {
    "duration": 345,
    "start_time": "2021-08-10T21:18:05.342Z"
   },
   {
    "duration": 6,
    "start_time": "2021-08-10T21:18:05.690Z"
   },
   {
    "duration": 6,
    "start_time": "2021-08-10T21:18:06.184Z"
   },
   {
    "duration": 330,
    "start_time": "2021-08-10T21:18:06.193Z"
   },
   {
    "duration": 6,
    "start_time": "2021-08-10T21:18:06.526Z"
   },
   {
    "duration": 7,
    "start_time": "2021-08-10T21:18:06.534Z"
   },
   {
    "duration": 9,
    "start_time": "2021-08-10T21:18:06.543Z"
   },
   {
    "duration": 4,
    "start_time": "2021-08-10T21:18:06.742Z"
   },
   {
    "duration": 5,
    "start_time": "2021-08-10T21:18:06.924Z"
   },
   {
    "duration": 6,
    "start_time": "2021-08-10T21:18:07.092Z"
   },
   {
    "duration": 7,
    "start_time": "2021-08-10T21:18:07.284Z"
   },
   {
    "duration": 12,
    "start_time": "2021-08-10T21:18:07.474Z"
   },
   {
    "duration": 8,
    "start_time": "2021-08-10T21:18:08.519Z"
   },
   {
    "duration": 50,
    "start_time": "2021-08-10T21:18:09.433Z"
   },
   {
    "duration": 29,
    "start_time": "2021-08-10T21:18:09.486Z"
   },
   {
    "duration": 13,
    "start_time": "2021-08-10T21:18:09.662Z"
   },
   {
    "duration": 374,
    "start_time": "2021-08-10T21:18:09.783Z"
   },
   {
    "duration": 7,
    "start_time": "2021-08-10T21:18:10.369Z"
   },
   {
    "duration": 7,
    "start_time": "2021-08-10T21:18:10.558Z"
   },
   {
    "duration": 838,
    "start_time": "2021-08-10T21:18:11.229Z"
   },
   {
    "duration": 12202,
    "start_time": "2021-08-10T21:18:12.070Z"
   },
   {
    "duration": 8,
    "start_time": "2021-08-10T21:18:24.275Z"
   },
   {
    "duration": 5,
    "start_time": "2021-08-10T21:18:24.285Z"
   },
   {
    "duration": 5,
    "start_time": "2021-08-10T21:18:24.293Z"
   },
   {
    "duration": 7,
    "start_time": "2021-08-10T21:18:24.300Z"
   },
   {
    "duration": 4,
    "start_time": "2021-08-10T21:18:24.310Z"
   },
   {
    "duration": 9,
    "start_time": "2021-08-10T21:18:24.317Z"
   },
   {
    "duration": 65,
    "start_time": "2021-08-10T21:18:24.329Z"
   },
   {
    "duration": 26,
    "start_time": "2021-08-10T21:18:24.397Z"
   },
   {
    "duration": 21,
    "start_time": "2021-08-10T21:18:24.426Z"
   },
   {
    "duration": 41,
    "start_time": "2021-08-10T21:18:24.449Z"
   },
   {
    "duration": 6908,
    "start_time": "2021-08-10T21:18:24.493Z"
   },
   {
    "duration": 17,
    "start_time": "2021-08-10T21:20:55.181Z"
   },
   {
    "duration": 15,
    "start_time": "2021-08-10T21:20:56.498Z"
   },
   {
    "duration": 7,
    "start_time": "2021-08-10T21:22:17.663Z"
   },
   {
    "duration": 6646,
    "start_time": "2021-08-10T21:22:49.090Z"
   },
   {
    "duration": 13,
    "start_time": "2021-08-10T21:23:28.756Z"
   },
   {
    "duration": 12,
    "start_time": "2021-08-10T21:23:30.743Z"
   },
   {
    "duration": 7,
    "start_time": "2021-08-10T21:26:37.037Z"
   },
   {
    "duration": 15,
    "start_time": "2021-08-10T21:26:48.256Z"
   },
   {
    "duration": 7227,
    "start_time": "2021-08-10T21:28:59.583Z"
   },
   {
    "duration": 9,
    "start_time": "2021-08-10T21:29:39.865Z"
   },
   {
    "duration": 7,
    "start_time": "2021-08-10T21:30:09.510Z"
   },
   {
    "duration": 10,
    "start_time": "2021-08-10T21:30:48.661Z"
   },
   {
    "duration": 51,
    "start_time": "2021-08-10T21:32:39.608Z"
   },
   {
    "duration": 8,
    "start_time": "2021-08-10T21:35:00.172Z"
   },
   {
    "duration": 9,
    "start_time": "2021-08-10T21:35:06.869Z"
   },
   {
    "duration": 99,
    "start_time": "2021-08-10T21:37:15.835Z"
   },
   {
    "duration": 303,
    "start_time": "2021-08-10T21:37:22.235Z"
   },
   {
    "duration": 15,
    "start_time": "2021-08-10T21:37:47.068Z"
   },
   {
    "duration": 12,
    "start_time": "2021-08-10T21:37:47.903Z"
   },
   {
    "duration": 390,
    "start_time": "2021-08-11T09:59:36.623Z"
   },
   {
    "duration": 1538,
    "start_time": "2021-08-11T09:59:39.822Z"
   },
   {
    "duration": 260,
    "start_time": "2021-08-11T09:59:41.363Z"
   },
   {
    "duration": 16,
    "start_time": "2021-08-11T09:59:41.625Z"
   },
   {
    "duration": 8,
    "start_time": "2021-08-11T09:59:41.644Z"
   },
   {
    "duration": 991,
    "start_time": "2021-08-11T09:59:41.668Z"
   },
   {
    "duration": 98,
    "start_time": "2021-08-11T09:59:42.662Z"
   },
   {
    "duration": 35,
    "start_time": "2021-08-11T09:59:42.762Z"
   },
   {
    "duration": 7,
    "start_time": "2021-08-11T09:59:42.801Z"
   },
   {
    "duration": 33,
    "start_time": "2021-08-11T09:59:42.811Z"
   },
   {
    "duration": 131,
    "start_time": "2021-08-11T09:59:42.847Z"
   },
   {
    "duration": 15,
    "start_time": "2021-08-11T09:59:42.980Z"
   },
   {
    "duration": 17,
    "start_time": "2021-08-11T09:59:42.998Z"
   },
   {
    "duration": 22,
    "start_time": "2021-08-11T09:59:43.017Z"
   },
   {
    "duration": 35,
    "start_time": "2021-08-11T09:59:43.041Z"
   },
   {
    "duration": 7,
    "start_time": "2021-08-11T09:59:43.078Z"
   },
   {
    "duration": 11,
    "start_time": "2021-08-11T09:59:43.087Z"
   },
   {
    "duration": 30,
    "start_time": "2021-08-11T09:59:43.100Z"
   },
   {
    "duration": 8,
    "start_time": "2021-08-11T09:59:43.132Z"
   },
   {
    "duration": 41,
    "start_time": "2021-08-11T09:59:43.142Z"
   },
   {
    "duration": 13,
    "start_time": "2021-08-11T09:59:43.186Z"
   },
   {
    "duration": 14,
    "start_time": "2021-08-11T09:59:43.201Z"
   },
   {
    "duration": 8,
    "start_time": "2021-08-11T09:59:43.217Z"
   },
   {
    "duration": 70,
    "start_time": "2021-08-11T09:59:43.232Z"
   },
   {
    "duration": 5,
    "start_time": "2021-08-11T09:59:43.306Z"
   },
   {
    "duration": 18,
    "start_time": "2021-08-11T09:59:43.313Z"
   },
   {
    "duration": 20,
    "start_time": "2021-08-11T09:59:43.333Z"
   },
   {
    "duration": 27,
    "start_time": "2021-08-11T09:59:43.355Z"
   },
   {
    "duration": 27,
    "start_time": "2021-08-11T09:59:43.384Z"
   },
   {
    "duration": 22,
    "start_time": "2021-08-11T09:59:43.413Z"
   },
   {
    "duration": 13,
    "start_time": "2021-08-11T09:59:43.437Z"
   },
   {
    "duration": 21,
    "start_time": "2021-08-11T09:59:43.453Z"
   },
   {
    "duration": 18,
    "start_time": "2021-08-11T09:59:43.477Z"
   },
   {
    "duration": 390,
    "start_time": "2021-08-11T09:59:43.497Z"
   },
   {
    "duration": 6,
    "start_time": "2021-08-11T09:59:43.889Z"
   },
   {
    "duration": 9,
    "start_time": "2021-08-11T09:59:43.897Z"
   },
   {
    "duration": 381,
    "start_time": "2021-08-11T09:59:43.908Z"
   },
   {
    "duration": 7,
    "start_time": "2021-08-11T09:59:44.293Z"
   },
   {
    "duration": 14,
    "start_time": "2021-08-11T09:59:44.303Z"
   },
   {
    "duration": 15,
    "start_time": "2021-08-11T09:59:44.319Z"
   },
   {
    "duration": 34,
    "start_time": "2021-08-11T09:59:44.337Z"
   },
   {
    "duration": 23,
    "start_time": "2021-08-11T09:59:44.373Z"
   },
   {
    "duration": 11,
    "start_time": "2021-08-11T09:59:44.398Z"
   },
   {
    "duration": 17,
    "start_time": "2021-08-11T09:59:44.411Z"
   },
   {
    "duration": 22,
    "start_time": "2021-08-11T09:59:44.430Z"
   },
   {
    "duration": 128,
    "start_time": "2021-08-11T09:59:44.454Z"
   },
   {
    "duration": 40665,
    "start_time": "2021-08-11T09:59:03.919Z"
   },
   {
    "duration": 40664,
    "start_time": "2021-08-11T09:59:03.922Z"
   },
   {
    "duration": 40662,
    "start_time": "2021-08-11T09:59:03.925Z"
   },
   {
    "duration": 40661,
    "start_time": "2021-08-11T09:59:03.928Z"
   },
   {
    "duration": 40650,
    "start_time": "2021-08-11T09:59:03.940Z"
   },
   {
    "duration": 40649,
    "start_time": "2021-08-11T09:59:03.942Z"
   },
   {
    "duration": 40649,
    "start_time": "2021-08-11T09:59:03.944Z"
   },
   {
    "duration": 40643,
    "start_time": "2021-08-11T09:59:03.951Z"
   },
   {
    "duration": 40642,
    "start_time": "2021-08-11T09:59:03.953Z"
   },
   {
    "duration": 40642,
    "start_time": "2021-08-11T09:59:03.955Z"
   },
   {
    "duration": 40642,
    "start_time": "2021-08-11T09:59:03.956Z"
   },
   {
    "duration": 40641,
    "start_time": "2021-08-11T09:59:03.958Z"
   },
   {
    "duration": 40640,
    "start_time": "2021-08-11T09:59:03.960Z"
   },
   {
    "duration": 40634,
    "start_time": "2021-08-11T09:59:03.967Z"
   },
   {
    "duration": 40634,
    "start_time": "2021-08-11T09:59:03.969Z"
   },
   {
    "duration": 40633,
    "start_time": "2021-08-11T09:59:03.971Z"
   },
   {
    "duration": 40632,
    "start_time": "2021-08-11T09:59:03.973Z"
   },
   {
    "duration": 40616,
    "start_time": "2021-08-11T09:59:03.990Z"
   },
   {
    "duration": 40609,
    "start_time": "2021-08-11T09:59:03.998Z"
   },
   {
    "duration": 40608,
    "start_time": "2021-08-11T09:59:04.001Z"
   },
   {
    "duration": 40602,
    "start_time": "2021-08-11T09:59:04.008Z"
   },
   {
    "duration": 40600,
    "start_time": "2021-08-11T09:59:04.011Z"
   },
   {
    "duration": 40597,
    "start_time": "2021-08-11T09:59:04.016Z"
   },
   {
    "duration": 40596,
    "start_time": "2021-08-11T09:59:04.018Z"
   },
   {
    "duration": 40595,
    "start_time": "2021-08-11T09:59:04.020Z"
   },
   {
    "duration": 40595,
    "start_time": "2021-08-11T09:59:04.021Z"
   },
   {
    "duration": 5,
    "start_time": "2021-08-11T09:59:49.275Z"
   },
   {
    "duration": 360,
    "start_time": "2021-08-11T09:59:49.283Z"
   },
   {
    "duration": 23,
    "start_time": "2021-08-11T09:59:49.646Z"
   },
   {
    "duration": 11,
    "start_time": "2021-08-11T09:59:49.672Z"
   },
   {
    "duration": 108,
    "start_time": "2021-08-11T09:59:49.688Z"
   },
   {
    "duration": 57,
    "start_time": "2021-08-11T09:59:49.800Z"
   },
   {
    "duration": 36,
    "start_time": "2021-08-11T09:59:49.860Z"
   },
   {
    "duration": 8,
    "start_time": "2021-08-11T09:59:49.899Z"
   },
   {
    "duration": 34,
    "start_time": "2021-08-11T09:59:49.911Z"
   },
   {
    "duration": 129,
    "start_time": "2021-08-11T09:59:49.949Z"
   },
   {
    "duration": 15,
    "start_time": "2021-08-11T09:59:50.080Z"
   },
   {
    "duration": 15,
    "start_time": "2021-08-11T09:59:50.097Z"
   },
   {
    "duration": 25,
    "start_time": "2021-08-11T09:59:50.114Z"
   },
   {
    "duration": 25,
    "start_time": "2021-08-11T09:59:50.142Z"
   },
   {
    "duration": 9,
    "start_time": "2021-08-11T09:59:50.174Z"
   },
   {
    "duration": 13,
    "start_time": "2021-08-11T09:59:50.185Z"
   },
   {
    "duration": 40,
    "start_time": "2021-08-11T09:59:50.200Z"
   },
   {
    "duration": 8,
    "start_time": "2021-08-11T09:59:50.242Z"
   },
   {
    "duration": 32,
    "start_time": "2021-08-11T09:59:50.252Z"
   },
   {
    "duration": 15,
    "start_time": "2021-08-11T09:59:50.286Z"
   },
   {
    "duration": 16,
    "start_time": "2021-08-11T09:59:50.304Z"
   },
   {
    "duration": 8,
    "start_time": "2021-08-11T09:59:50.322Z"
   },
   {
    "duration": 65,
    "start_time": "2021-08-11T09:59:50.333Z"
   },
   {
    "duration": 6,
    "start_time": "2021-08-11T09:59:50.401Z"
   },
   {
    "duration": 23,
    "start_time": "2021-08-11T09:59:50.409Z"
   },
   {
    "duration": 16,
    "start_time": "2021-08-11T09:59:50.434Z"
   },
   {
    "duration": 13,
    "start_time": "2021-08-11T09:59:50.469Z"
   },
   {
    "duration": 43,
    "start_time": "2021-08-11T09:59:50.485Z"
   },
   {
    "duration": 19,
    "start_time": "2021-08-11T09:59:50.530Z"
   },
   {
    "duration": 15,
    "start_time": "2021-08-11T09:59:50.551Z"
   },
   {
    "duration": 16,
    "start_time": "2021-08-11T09:59:50.569Z"
   },
   {
    "duration": 17,
    "start_time": "2021-08-11T09:59:50.587Z"
   },
   {
    "duration": 386,
    "start_time": "2021-08-11T09:59:50.607Z"
   },
   {
    "duration": 6,
    "start_time": "2021-08-11T09:59:50.995Z"
   },
   {
    "duration": 10,
    "start_time": "2021-08-11T09:59:51.004Z"
   },
   {
    "duration": 377,
    "start_time": "2021-08-11T09:59:51.016Z"
   },
   {
    "duration": 7,
    "start_time": "2021-08-11T09:59:51.395Z"
   },
   {
    "duration": 32,
    "start_time": "2021-08-11T09:59:51.404Z"
   },
   {
    "duration": 19,
    "start_time": "2021-08-11T09:59:51.439Z"
   },
   {
    "duration": 24,
    "start_time": "2021-08-11T09:59:51.461Z"
   },
   {
    "duration": 22,
    "start_time": "2021-08-11T09:59:51.488Z"
   },
   {
    "duration": 23,
    "start_time": "2021-08-11T09:59:51.512Z"
   },
   {
    "duration": 22,
    "start_time": "2021-08-11T09:59:51.538Z"
   },
   {
    "duration": 26,
    "start_time": "2021-08-11T09:59:51.563Z"
   },
   {
    "duration": 459,
    "start_time": "2021-08-11T09:59:51.591Z"
   },
   {
    "duration": 40655,
    "start_time": "2021-08-11T09:59:11.397Z"
   },
   {
    "duration": 40652,
    "start_time": "2021-08-11T09:59:11.401Z"
   },
   {
    "duration": 40649,
    "start_time": "2021-08-11T09:59:11.406Z"
   },
   {
    "duration": 40647,
    "start_time": "2021-08-11T09:59:11.409Z"
   },
   {
    "duration": 40646,
    "start_time": "2021-08-11T09:59:11.411Z"
   },
   {
    "duration": 40645,
    "start_time": "2021-08-11T09:59:11.413Z"
   },
   {
    "duration": 40645,
    "start_time": "2021-08-11T09:59:11.415Z"
   },
   {
    "duration": 40640,
    "start_time": "2021-08-11T09:59:11.421Z"
   },
   {
    "duration": 40639,
    "start_time": "2021-08-11T09:59:11.423Z"
   },
   {
    "duration": 40638,
    "start_time": "2021-08-11T09:59:11.425Z"
   },
   {
    "duration": 40638,
    "start_time": "2021-08-11T09:59:11.427Z"
   },
   {
    "duration": 40638,
    "start_time": "2021-08-11T09:59:11.428Z"
   },
   {
    "duration": 40637,
    "start_time": "2021-08-11T09:59:11.430Z"
   },
   {
    "duration": 40634,
    "start_time": "2021-08-11T09:59:11.434Z"
   },
   {
    "duration": 40632,
    "start_time": "2021-08-11T09:59:11.437Z"
   },
   {
    "duration": 40633,
    "start_time": "2021-08-11T09:59:11.438Z"
   },
   {
    "duration": 40632,
    "start_time": "2021-08-11T09:59:11.440Z"
   },
   {
    "duration": 40631,
    "start_time": "2021-08-11T09:59:11.442Z"
   },
   {
    "duration": 40631,
    "start_time": "2021-08-11T09:59:11.444Z"
   },
   {
    "duration": 40631,
    "start_time": "2021-08-11T09:59:11.446Z"
   },
   {
    "duration": 40631,
    "start_time": "2021-08-11T09:59:11.447Z"
   },
   {
    "duration": 40631,
    "start_time": "2021-08-11T09:59:11.449Z"
   },
   {
    "duration": 40630,
    "start_time": "2021-08-11T09:59:11.451Z"
   },
   {
    "duration": 40630,
    "start_time": "2021-08-11T09:59:11.453Z"
   },
   {
    "duration": 40624,
    "start_time": "2021-08-11T09:59:11.460Z"
   },
   {
    "duration": 387,
    "start_time": "2021-08-11T10:00:02.343Z"
   },
   {
    "duration": 30,
    "start_time": "2021-08-11T10:00:08.365Z"
   },
   {
    "duration": 25,
    "start_time": "2021-08-11T10:00:16.413Z"
   },
   {
    "duration": 6,
    "start_time": "2021-08-11T10:02:07.485Z"
   },
   {
    "duration": 220,
    "start_time": "2021-08-11T10:02:07.494Z"
   },
   {
    "duration": 14,
    "start_time": "2021-08-11T10:02:07.717Z"
   },
   {
    "duration": 102,
    "start_time": "2021-08-11T10:02:07.734Z"
   },
   {
    "duration": 95,
    "start_time": "2021-08-11T10:02:07.839Z"
   },
   {
    "duration": 74,
    "start_time": "2021-08-11T10:02:07.936Z"
   },
   {
    "duration": 30,
    "start_time": "2021-08-11T10:02:08.012Z"
   },
   {
    "duration": 8,
    "start_time": "2021-08-11T10:02:08.044Z"
   },
   {
    "duration": 33,
    "start_time": "2021-08-11T10:02:08.056Z"
   },
   {
    "duration": 113,
    "start_time": "2021-08-11T10:02:08.092Z"
   },
   {
    "duration": 14,
    "start_time": "2021-08-11T10:02:08.207Z"
   },
   {
    "duration": 10,
    "start_time": "2021-08-11T10:02:08.223Z"
   },
   {
    "duration": 40,
    "start_time": "2021-08-11T10:02:08.235Z"
   },
   {
    "duration": 19,
    "start_time": "2021-08-11T10:02:08.279Z"
   },
   {
    "duration": 5,
    "start_time": "2021-08-11T10:02:08.300Z"
   },
   {
    "duration": 10,
    "start_time": "2021-08-11T10:02:08.307Z"
   },
   {
    "duration": 64,
    "start_time": "2021-08-11T10:02:08.320Z"
   },
   {
    "duration": 8,
    "start_time": "2021-08-11T10:02:08.386Z"
   },
   {
    "duration": 16,
    "start_time": "2021-08-11T10:02:08.396Z"
   },
   {
    "duration": 15,
    "start_time": "2021-08-11T10:02:08.414Z"
   },
   {
    "duration": 45,
    "start_time": "2021-08-11T10:02:08.431Z"
   },
   {
    "duration": 9,
    "start_time": "2021-08-11T10:02:08.479Z"
   },
   {
    "duration": 36,
    "start_time": "2021-08-11T10:02:08.491Z"
   },
   {
    "duration": 6,
    "start_time": "2021-08-11T10:02:08.529Z"
   },
   {
    "duration": 33,
    "start_time": "2021-08-11T10:02:08.537Z"
   },
   {
    "duration": 16,
    "start_time": "2021-08-11T10:02:08.573Z"
   },
   {
    "duration": 9,
    "start_time": "2021-08-11T10:02:08.596Z"
   },
   {
    "duration": 27,
    "start_time": "2021-08-11T10:02:08.609Z"
   },
   {
    "duration": 34,
    "start_time": "2021-08-11T10:02:08.638Z"
   },
   {
    "duration": 7,
    "start_time": "2021-08-11T10:02:08.676Z"
   },
   {
    "duration": 10,
    "start_time": "2021-08-11T10:02:08.685Z"
   },
   {
    "duration": 10,
    "start_time": "2021-08-11T10:02:08.697Z"
   },
   {
    "duration": 417,
    "start_time": "2021-08-11T10:02:08.709Z"
   },
   {
    "duration": 7,
    "start_time": "2021-08-11T10:02:09.129Z"
   },
   {
    "duration": 29,
    "start_time": "2021-08-11T10:02:09.139Z"
   },
   {
    "duration": 399,
    "start_time": "2021-08-11T10:02:09.172Z"
   },
   {
    "duration": 7,
    "start_time": "2021-08-11T10:02:09.575Z"
   },
   {
    "duration": 8,
    "start_time": "2021-08-11T10:02:09.585Z"
   },
   {
    "duration": 7,
    "start_time": "2021-08-11T10:02:09.595Z"
   },
   {
    "duration": 6,
    "start_time": "2021-08-11T10:02:09.604Z"
   },
   {
    "duration": 7,
    "start_time": "2021-08-11T10:02:09.612Z"
   },
   {
    "duration": 45,
    "start_time": "2021-08-11T10:02:09.622Z"
   },
   {
    "duration": 12,
    "start_time": "2021-08-11T10:02:09.671Z"
   },
   {
    "duration": 12,
    "start_time": "2021-08-11T10:02:09.686Z"
   },
   {
    "duration": 30,
    "start_time": "2021-08-11T10:02:09.700Z"
   },
   {
    "duration": 35,
    "start_time": "2021-08-11T10:02:09.733Z"
   },
   {
    "duration": 49,
    "start_time": "2021-08-11T10:02:09.771Z"
   },
   {
    "duration": 50,
    "start_time": "2021-08-11T10:02:09.822Z"
   },
   {
    "duration": 14,
    "start_time": "2021-08-11T10:02:09.874Z"
   },
   {
    "duration": 438,
    "start_time": "2021-08-11T10:02:09.890Z"
   },
   {
    "duration": 7,
    "start_time": "2021-08-11T10:02:10.331Z"
   },
   {
    "duration": 29,
    "start_time": "2021-08-11T10:02:10.340Z"
   },
   {
    "duration": 806,
    "start_time": "2021-08-11T10:02:10.374Z"
   },
   {
    "duration": 12134,
    "start_time": "2021-08-11T10:02:11.183Z"
   },
   {
    "duration": 4,
    "start_time": "2021-08-11T10:02:23.320Z"
   },
   {
    "duration": 8,
    "start_time": "2021-08-11T10:02:23.327Z"
   },
   {
    "duration": 5,
    "start_time": "2021-08-11T10:02:23.337Z"
   },
   {
    "duration": 8,
    "start_time": "2021-08-11T10:02:23.368Z"
   },
   {
    "duration": 5,
    "start_time": "2021-08-11T10:02:23.379Z"
   },
   {
    "duration": 7,
    "start_time": "2021-08-11T10:02:23.387Z"
   },
   {
    "duration": 16,
    "start_time": "2021-08-11T10:02:23.397Z"
   },
   {
    "duration": 68,
    "start_time": "2021-08-11T10:02:23.416Z"
   },
   {
    "duration": 57,
    "start_time": "2021-08-11T10:02:23.486Z"
   },
   {
    "duration": 26,
    "start_time": "2021-08-11T10:02:23.545Z"
   },
   {
    "duration": 9,
    "start_time": "2021-08-11T10:02:23.575Z"
   },
   {
    "duration": 7,
    "start_time": "2021-08-11T10:02:23.587Z"
   },
   {
    "duration": 11,
    "start_time": "2021-08-11T10:02:23.596Z"
   },
   {
    "duration": 15,
    "start_time": "2021-08-11T10:02:23.609Z"
   },
   {
    "duration": 19,
    "start_time": "2021-08-11T10:02:23.668Z"
   },
   {
    "duration": 13,
    "start_time": "2021-08-11T10:02:23.689Z"
   }
  ],
  "colab": {
   "name": "DA+. Сборный проект 1. Шаблон (1).ipynb",
   "provenance": []
  },
  "kernelspec": {
   "display_name": "Python 3",
   "language": "python",
   "name": "python3"
  },
  "language_info": {
   "codemirror_mode": {
    "name": "ipython",
    "version": 3
   },
   "file_extension": ".py",
   "mimetype": "text/x-python",
   "name": "python",
   "nbconvert_exporter": "python",
   "pygments_lexer": "ipython3",
   "version": "3.7.8"
  },
  "toc": {
   "base_numbering": 1,
   "nav_menu": {},
   "number_sections": true,
   "sideBar": true,
   "skip_h1_title": true,
   "title_cell": "Table of Contents",
   "title_sidebar": "Contents",
   "toc_cell": false,
   "toc_position": {
    "height": "calc(100% - 180px)",
    "left": "10px",
    "top": "150px",
    "width": "375.391px"
   },
   "toc_section_display": true,
   "toc_window_display": false
  }
 },
 "nbformat": 4,
 "nbformat_minor": 1
}
